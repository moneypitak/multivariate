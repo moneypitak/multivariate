{
  "nbformat": 4,
  "nbformat_minor": 0,
  "metadata": {
    "colab": {
      "name": "Chapter_5_Factor_Analysis.ipynb",
      "provenance": [],
      "toc_visible": true,
      "authorship_tag": "ABX9TyOTqIgmCtwYdqfP6RrMEy5e",
      "include_colab_link": true
    },
    "kernelspec": {
      "name": "python3",
      "display_name": "Python 3"
    },
    "language_info": {
      "name": "python"
    }
  },
  "cells": [
    {
      "cell_type": "markdown",
      "metadata": {
        "id": "view-in-github",
        "colab_type": "text"
      },
      "source": [
        "<a href=\"https://colab.research.google.com/github/moneypitak/multivariate/blob/main/Chapter_5_Factor_Analysis.ipynb\" target=\"_parent\"><img src=\"https://colab.research.google.com/assets/colab-badge.svg\" alt=\"Open In Colab\"/></a>"
      ]
    },
    {
      "cell_type": "code",
      "metadata": {
        "id": "K4-o40wAhCWS"
      },
      "source": [
        "import pandas as pd"
      ],
      "execution_count": 27,
      "outputs": []
    },
    {
      "cell_type": "code",
      "metadata": {
        "colab": {
          "base_uri": "https://localhost:8080/",
          "height": 232
        },
        "id": "0n3DbNUrhPJd",
        "outputId": "0c9ce8eb-e2a1-4db0-f6fc-3c40c85f88b1"
      },
      "source": [
        "bfi_data = pd.read_csv('https://vincentarelbundock.github.io/Rdatasets/csv/psych/bfi.csv')\n",
        "bfi_data.head()"
      ],
      "execution_count": 28,
      "outputs": [
        {
          "output_type": "execute_result",
          "data": {
            "text/html": [
              "<div>\n",
              "<style scoped>\n",
              "    .dataframe tbody tr th:only-of-type {\n",
              "        vertical-align: middle;\n",
              "    }\n",
              "\n",
              "    .dataframe tbody tr th {\n",
              "        vertical-align: top;\n",
              "    }\n",
              "\n",
              "    .dataframe thead th {\n",
              "        text-align: right;\n",
              "    }\n",
              "</style>\n",
              "<table border=\"1\" class=\"dataframe\">\n",
              "  <thead>\n",
              "    <tr style=\"text-align: right;\">\n",
              "      <th></th>\n",
              "      <th>Unnamed: 0</th>\n",
              "      <th>A1</th>\n",
              "      <th>A2</th>\n",
              "      <th>A3</th>\n",
              "      <th>A4</th>\n",
              "      <th>A5</th>\n",
              "      <th>C1</th>\n",
              "      <th>C2</th>\n",
              "      <th>C3</th>\n",
              "      <th>C4</th>\n",
              "      <th>C5</th>\n",
              "      <th>E1</th>\n",
              "      <th>E2</th>\n",
              "      <th>E3</th>\n",
              "      <th>E4</th>\n",
              "      <th>E5</th>\n",
              "      <th>N1</th>\n",
              "      <th>N2</th>\n",
              "      <th>N3</th>\n",
              "      <th>N4</th>\n",
              "      <th>N5</th>\n",
              "      <th>O1</th>\n",
              "      <th>O2</th>\n",
              "      <th>O3</th>\n",
              "      <th>O4</th>\n",
              "      <th>O5</th>\n",
              "      <th>gender</th>\n",
              "      <th>education</th>\n",
              "      <th>age</th>\n",
              "    </tr>\n",
              "  </thead>\n",
              "  <tbody>\n",
              "    <tr>\n",
              "      <th>0</th>\n",
              "      <td>61617</td>\n",
              "      <td>2.0</td>\n",
              "      <td>4.0</td>\n",
              "      <td>3.0</td>\n",
              "      <td>4.0</td>\n",
              "      <td>4.0</td>\n",
              "      <td>2.0</td>\n",
              "      <td>3.0</td>\n",
              "      <td>3.0</td>\n",
              "      <td>4.0</td>\n",
              "      <td>4.0</td>\n",
              "      <td>3.0</td>\n",
              "      <td>3.0</td>\n",
              "      <td>3.0</td>\n",
              "      <td>4.0</td>\n",
              "      <td>4.0</td>\n",
              "      <td>3.0</td>\n",
              "      <td>4.0</td>\n",
              "      <td>2.0</td>\n",
              "      <td>2.0</td>\n",
              "      <td>3.0</td>\n",
              "      <td>3.0</td>\n",
              "      <td>6</td>\n",
              "      <td>3.0</td>\n",
              "      <td>4.0</td>\n",
              "      <td>3.0</td>\n",
              "      <td>1</td>\n",
              "      <td>NaN</td>\n",
              "      <td>16</td>\n",
              "    </tr>\n",
              "    <tr>\n",
              "      <th>1</th>\n",
              "      <td>61618</td>\n",
              "      <td>2.0</td>\n",
              "      <td>4.0</td>\n",
              "      <td>5.0</td>\n",
              "      <td>2.0</td>\n",
              "      <td>5.0</td>\n",
              "      <td>5.0</td>\n",
              "      <td>4.0</td>\n",
              "      <td>4.0</td>\n",
              "      <td>3.0</td>\n",
              "      <td>4.0</td>\n",
              "      <td>1.0</td>\n",
              "      <td>1.0</td>\n",
              "      <td>6.0</td>\n",
              "      <td>4.0</td>\n",
              "      <td>3.0</td>\n",
              "      <td>3.0</td>\n",
              "      <td>3.0</td>\n",
              "      <td>3.0</td>\n",
              "      <td>5.0</td>\n",
              "      <td>5.0</td>\n",
              "      <td>4.0</td>\n",
              "      <td>2</td>\n",
              "      <td>4.0</td>\n",
              "      <td>3.0</td>\n",
              "      <td>3.0</td>\n",
              "      <td>2</td>\n",
              "      <td>NaN</td>\n",
              "      <td>18</td>\n",
              "    </tr>\n",
              "    <tr>\n",
              "      <th>2</th>\n",
              "      <td>61620</td>\n",
              "      <td>5.0</td>\n",
              "      <td>4.0</td>\n",
              "      <td>5.0</td>\n",
              "      <td>4.0</td>\n",
              "      <td>4.0</td>\n",
              "      <td>4.0</td>\n",
              "      <td>5.0</td>\n",
              "      <td>4.0</td>\n",
              "      <td>2.0</td>\n",
              "      <td>5.0</td>\n",
              "      <td>2.0</td>\n",
              "      <td>4.0</td>\n",
              "      <td>4.0</td>\n",
              "      <td>4.0</td>\n",
              "      <td>5.0</td>\n",
              "      <td>4.0</td>\n",
              "      <td>5.0</td>\n",
              "      <td>4.0</td>\n",
              "      <td>2.0</td>\n",
              "      <td>3.0</td>\n",
              "      <td>4.0</td>\n",
              "      <td>2</td>\n",
              "      <td>5.0</td>\n",
              "      <td>5.0</td>\n",
              "      <td>2.0</td>\n",
              "      <td>2</td>\n",
              "      <td>NaN</td>\n",
              "      <td>17</td>\n",
              "    </tr>\n",
              "    <tr>\n",
              "      <th>3</th>\n",
              "      <td>61621</td>\n",
              "      <td>4.0</td>\n",
              "      <td>4.0</td>\n",
              "      <td>6.0</td>\n",
              "      <td>5.0</td>\n",
              "      <td>5.0</td>\n",
              "      <td>4.0</td>\n",
              "      <td>4.0</td>\n",
              "      <td>3.0</td>\n",
              "      <td>5.0</td>\n",
              "      <td>5.0</td>\n",
              "      <td>5.0</td>\n",
              "      <td>3.0</td>\n",
              "      <td>4.0</td>\n",
              "      <td>4.0</td>\n",
              "      <td>4.0</td>\n",
              "      <td>2.0</td>\n",
              "      <td>5.0</td>\n",
              "      <td>2.0</td>\n",
              "      <td>4.0</td>\n",
              "      <td>1.0</td>\n",
              "      <td>3.0</td>\n",
              "      <td>3</td>\n",
              "      <td>4.0</td>\n",
              "      <td>3.0</td>\n",
              "      <td>5.0</td>\n",
              "      <td>2</td>\n",
              "      <td>NaN</td>\n",
              "      <td>17</td>\n",
              "    </tr>\n",
              "    <tr>\n",
              "      <th>4</th>\n",
              "      <td>61622</td>\n",
              "      <td>2.0</td>\n",
              "      <td>3.0</td>\n",
              "      <td>3.0</td>\n",
              "      <td>4.0</td>\n",
              "      <td>5.0</td>\n",
              "      <td>4.0</td>\n",
              "      <td>4.0</td>\n",
              "      <td>5.0</td>\n",
              "      <td>3.0</td>\n",
              "      <td>2.0</td>\n",
              "      <td>2.0</td>\n",
              "      <td>2.0</td>\n",
              "      <td>5.0</td>\n",
              "      <td>4.0</td>\n",
              "      <td>5.0</td>\n",
              "      <td>2.0</td>\n",
              "      <td>3.0</td>\n",
              "      <td>4.0</td>\n",
              "      <td>4.0</td>\n",
              "      <td>3.0</td>\n",
              "      <td>3.0</td>\n",
              "      <td>3</td>\n",
              "      <td>4.0</td>\n",
              "      <td>3.0</td>\n",
              "      <td>3.0</td>\n",
              "      <td>1</td>\n",
              "      <td>NaN</td>\n",
              "      <td>17</td>\n",
              "    </tr>\n",
              "  </tbody>\n",
              "</table>\n",
              "</div>"
            ],
            "text/plain": [
              "   Unnamed: 0   A1   A2   A3   A4   A5  ...   O3   O4   O5  gender  education  age\n",
              "0       61617  2.0  4.0  3.0  4.0  4.0  ...  3.0  4.0  3.0       1        NaN   16\n",
              "1       61618  2.0  4.0  5.0  2.0  5.0  ...  4.0  3.0  3.0       2        NaN   18\n",
              "2       61620  5.0  4.0  5.0  4.0  4.0  ...  5.0  5.0  2.0       2        NaN   17\n",
              "3       61621  4.0  4.0  6.0  5.0  5.0  ...  4.0  3.0  5.0       2        NaN   17\n",
              "4       61622  2.0  3.0  3.0  4.0  5.0  ...  4.0  3.0  3.0       1        NaN   17\n",
              "\n",
              "[5 rows x 29 columns]"
            ]
          },
          "metadata": {
            "tags": []
          },
          "execution_count": 28
        }
      ]
    },
    {
      "cell_type": "markdown",
      "metadata": {
        "id": "ae0uTObahovk"
      },
      "source": [
        "Factor Analysis'\n",
        "\n",
        "Assumptions:\n",
        "\n",
        "ในข้อมูล multivariate ที่มีตัวแปร odserve variables จำนวน n ตัว มีตัวแปร Factor (Latent Variables) จำนวน k ตัว ที่สามารถ อธิบายข้อมูลทั้งหมดได้โดย k< n"
      ]
    },
    {
      "cell_type": "code",
      "metadata": {
        "id": "deQydQcoh0Nc"
      },
      "source": [
        "from factor_analyzer import FactorAnalyzer\n",
        "import matplotlib.pyplot as plt"
      ],
      "execution_count": 29,
      "outputs": []
    },
    {
      "cell_type": "code",
      "metadata": {
        "colab": {
          "base_uri": "https://localhost:8080/"
        },
        "id": "I5wsATvTh3As",
        "outputId": "844aaf99-1228-49fa-a913-cb0078cf0f3c"
      },
      "source": [
        "!pip install factor_analyzer"
      ],
      "execution_count": 30,
      "outputs": [
        {
          "output_type": "stream",
          "text": [
            "Requirement already satisfied: factor_analyzer in /usr/local/lib/python3.7/dist-packages (0.3.2)\n",
            "Requirement already satisfied: pandas in /usr/local/lib/python3.7/dist-packages (from factor_analyzer) (1.1.5)\n",
            "Requirement already satisfied: numpy in /usr/local/lib/python3.7/dist-packages (from factor_analyzer) (1.19.5)\n",
            "Requirement already satisfied: scipy in /usr/local/lib/python3.7/dist-packages (from factor_analyzer) (1.4.1)\n",
            "Requirement already satisfied: scikit-learn in /usr/local/lib/python3.7/dist-packages (from factor_analyzer) (0.22.2.post1)\n",
            "Requirement already satisfied: pytz>=2017.2 in /usr/local/lib/python3.7/dist-packages (from pandas->factor_analyzer) (2018.9)\n",
            "Requirement already satisfied: python-dateutil>=2.7.3 in /usr/local/lib/python3.7/dist-packages (from pandas->factor_analyzer) (2.8.1)\n",
            "Requirement already satisfied: joblib>=0.11 in /usr/local/lib/python3.7/dist-packages (from scikit-learn->factor_analyzer) (1.0.1)\n",
            "Requirement already satisfied: six>=1.5 in /usr/local/lib/python3.7/dist-packages (from python-dateutil>=2.7.3->pandas->factor_analyzer) (1.15.0)\n"
          ],
          "name": "stdout"
        }
      ]
    },
    {
      "cell_type": "markdown",
      "metadata": {
        "id": "_lc7U4Nah5t9"
      },
      "source": [
        "# quiz 5"
      ]
    },
    {
      "cell_type": "code",
      "metadata": {
        "id": "oa8BvGEgh6n8",
        "colab": {
          "base_uri": "https://localhost:8080/",
          "height": 402
        },
        "outputId": "438ec431-dfd4-4bb1-bf60-74f8f7d4a056"
      },
      "source": [
        "bfi_data_dropped = bfi_data.iloc[:,1:-3]\n",
        "bfi_data_dropped"
      ],
      "execution_count": 31,
      "outputs": [
        {
          "output_type": "execute_result",
          "data": {
            "text/html": [
              "<div>\n",
              "<style scoped>\n",
              "    .dataframe tbody tr th:only-of-type {\n",
              "        vertical-align: middle;\n",
              "    }\n",
              "\n",
              "    .dataframe tbody tr th {\n",
              "        vertical-align: top;\n",
              "    }\n",
              "\n",
              "    .dataframe thead th {\n",
              "        text-align: right;\n",
              "    }\n",
              "</style>\n",
              "<table border=\"1\" class=\"dataframe\">\n",
              "  <thead>\n",
              "    <tr style=\"text-align: right;\">\n",
              "      <th></th>\n",
              "      <th>A1</th>\n",
              "      <th>A2</th>\n",
              "      <th>A3</th>\n",
              "      <th>A4</th>\n",
              "      <th>A5</th>\n",
              "      <th>C1</th>\n",
              "      <th>C2</th>\n",
              "      <th>C3</th>\n",
              "      <th>C4</th>\n",
              "      <th>C5</th>\n",
              "      <th>E1</th>\n",
              "      <th>E2</th>\n",
              "      <th>E3</th>\n",
              "      <th>E4</th>\n",
              "      <th>E5</th>\n",
              "      <th>N1</th>\n",
              "      <th>N2</th>\n",
              "      <th>N3</th>\n",
              "      <th>N4</th>\n",
              "      <th>N5</th>\n",
              "      <th>O1</th>\n",
              "      <th>O2</th>\n",
              "      <th>O3</th>\n",
              "      <th>O4</th>\n",
              "      <th>O5</th>\n",
              "    </tr>\n",
              "  </thead>\n",
              "  <tbody>\n",
              "    <tr>\n",
              "      <th>0</th>\n",
              "      <td>2.0</td>\n",
              "      <td>4.0</td>\n",
              "      <td>3.0</td>\n",
              "      <td>4.0</td>\n",
              "      <td>4.0</td>\n",
              "      <td>2.0</td>\n",
              "      <td>3.0</td>\n",
              "      <td>3.0</td>\n",
              "      <td>4.0</td>\n",
              "      <td>4.0</td>\n",
              "      <td>3.0</td>\n",
              "      <td>3.0</td>\n",
              "      <td>3.0</td>\n",
              "      <td>4.0</td>\n",
              "      <td>4.0</td>\n",
              "      <td>3.0</td>\n",
              "      <td>4.0</td>\n",
              "      <td>2.0</td>\n",
              "      <td>2.0</td>\n",
              "      <td>3.0</td>\n",
              "      <td>3.0</td>\n",
              "      <td>6</td>\n",
              "      <td>3.0</td>\n",
              "      <td>4.0</td>\n",
              "      <td>3.0</td>\n",
              "    </tr>\n",
              "    <tr>\n",
              "      <th>1</th>\n",
              "      <td>2.0</td>\n",
              "      <td>4.0</td>\n",
              "      <td>5.0</td>\n",
              "      <td>2.0</td>\n",
              "      <td>5.0</td>\n",
              "      <td>5.0</td>\n",
              "      <td>4.0</td>\n",
              "      <td>4.0</td>\n",
              "      <td>3.0</td>\n",
              "      <td>4.0</td>\n",
              "      <td>1.0</td>\n",
              "      <td>1.0</td>\n",
              "      <td>6.0</td>\n",
              "      <td>4.0</td>\n",
              "      <td>3.0</td>\n",
              "      <td>3.0</td>\n",
              "      <td>3.0</td>\n",
              "      <td>3.0</td>\n",
              "      <td>5.0</td>\n",
              "      <td>5.0</td>\n",
              "      <td>4.0</td>\n",
              "      <td>2</td>\n",
              "      <td>4.0</td>\n",
              "      <td>3.0</td>\n",
              "      <td>3.0</td>\n",
              "    </tr>\n",
              "    <tr>\n",
              "      <th>2</th>\n",
              "      <td>5.0</td>\n",
              "      <td>4.0</td>\n",
              "      <td>5.0</td>\n",
              "      <td>4.0</td>\n",
              "      <td>4.0</td>\n",
              "      <td>4.0</td>\n",
              "      <td>5.0</td>\n",
              "      <td>4.0</td>\n",
              "      <td>2.0</td>\n",
              "      <td>5.0</td>\n",
              "      <td>2.0</td>\n",
              "      <td>4.0</td>\n",
              "      <td>4.0</td>\n",
              "      <td>4.0</td>\n",
              "      <td>5.0</td>\n",
              "      <td>4.0</td>\n",
              "      <td>5.0</td>\n",
              "      <td>4.0</td>\n",
              "      <td>2.0</td>\n",
              "      <td>3.0</td>\n",
              "      <td>4.0</td>\n",
              "      <td>2</td>\n",
              "      <td>5.0</td>\n",
              "      <td>5.0</td>\n",
              "      <td>2.0</td>\n",
              "    </tr>\n",
              "    <tr>\n",
              "      <th>3</th>\n",
              "      <td>4.0</td>\n",
              "      <td>4.0</td>\n",
              "      <td>6.0</td>\n",
              "      <td>5.0</td>\n",
              "      <td>5.0</td>\n",
              "      <td>4.0</td>\n",
              "      <td>4.0</td>\n",
              "      <td>3.0</td>\n",
              "      <td>5.0</td>\n",
              "      <td>5.0</td>\n",
              "      <td>5.0</td>\n",
              "      <td>3.0</td>\n",
              "      <td>4.0</td>\n",
              "      <td>4.0</td>\n",
              "      <td>4.0</td>\n",
              "      <td>2.0</td>\n",
              "      <td>5.0</td>\n",
              "      <td>2.0</td>\n",
              "      <td>4.0</td>\n",
              "      <td>1.0</td>\n",
              "      <td>3.0</td>\n",
              "      <td>3</td>\n",
              "      <td>4.0</td>\n",
              "      <td>3.0</td>\n",
              "      <td>5.0</td>\n",
              "    </tr>\n",
              "    <tr>\n",
              "      <th>4</th>\n",
              "      <td>2.0</td>\n",
              "      <td>3.0</td>\n",
              "      <td>3.0</td>\n",
              "      <td>4.0</td>\n",
              "      <td>5.0</td>\n",
              "      <td>4.0</td>\n",
              "      <td>4.0</td>\n",
              "      <td>5.0</td>\n",
              "      <td>3.0</td>\n",
              "      <td>2.0</td>\n",
              "      <td>2.0</td>\n",
              "      <td>2.0</td>\n",
              "      <td>5.0</td>\n",
              "      <td>4.0</td>\n",
              "      <td>5.0</td>\n",
              "      <td>2.0</td>\n",
              "      <td>3.0</td>\n",
              "      <td>4.0</td>\n",
              "      <td>4.0</td>\n",
              "      <td>3.0</td>\n",
              "      <td>3.0</td>\n",
              "      <td>3</td>\n",
              "      <td>4.0</td>\n",
              "      <td>3.0</td>\n",
              "      <td>3.0</td>\n",
              "    </tr>\n",
              "    <tr>\n",
              "      <th>...</th>\n",
              "      <td>...</td>\n",
              "      <td>...</td>\n",
              "      <td>...</td>\n",
              "      <td>...</td>\n",
              "      <td>...</td>\n",
              "      <td>...</td>\n",
              "      <td>...</td>\n",
              "      <td>...</td>\n",
              "      <td>...</td>\n",
              "      <td>...</td>\n",
              "      <td>...</td>\n",
              "      <td>...</td>\n",
              "      <td>...</td>\n",
              "      <td>...</td>\n",
              "      <td>...</td>\n",
              "      <td>...</td>\n",
              "      <td>...</td>\n",
              "      <td>...</td>\n",
              "      <td>...</td>\n",
              "      <td>...</td>\n",
              "      <td>...</td>\n",
              "      <td>...</td>\n",
              "      <td>...</td>\n",
              "      <td>...</td>\n",
              "      <td>...</td>\n",
              "    </tr>\n",
              "    <tr>\n",
              "      <th>2795</th>\n",
              "      <td>6.0</td>\n",
              "      <td>1.0</td>\n",
              "      <td>3.0</td>\n",
              "      <td>3.0</td>\n",
              "      <td>3.0</td>\n",
              "      <td>6.0</td>\n",
              "      <td>6.0</td>\n",
              "      <td>6.0</td>\n",
              "      <td>1.0</td>\n",
              "      <td>1.0</td>\n",
              "      <td>1.0</td>\n",
              "      <td>4.0</td>\n",
              "      <td>5.0</td>\n",
              "      <td>5.0</td>\n",
              "      <td>6.0</td>\n",
              "      <td>1.0</td>\n",
              "      <td>1.0</td>\n",
              "      <td>1.0</td>\n",
              "      <td>NaN</td>\n",
              "      <td>1.0</td>\n",
              "      <td>6.0</td>\n",
              "      <td>1</td>\n",
              "      <td>6.0</td>\n",
              "      <td>6.0</td>\n",
              "      <td>1.0</td>\n",
              "    </tr>\n",
              "    <tr>\n",
              "      <th>2796</th>\n",
              "      <td>2.0</td>\n",
              "      <td>4.0</td>\n",
              "      <td>4.0</td>\n",
              "      <td>3.0</td>\n",
              "      <td>5.0</td>\n",
              "      <td>2.0</td>\n",
              "      <td>3.0</td>\n",
              "      <td>4.0</td>\n",
              "      <td>4.0</td>\n",
              "      <td>3.0</td>\n",
              "      <td>2.0</td>\n",
              "      <td>2.0</td>\n",
              "      <td>4.0</td>\n",
              "      <td>4.0</td>\n",
              "      <td>3.0</td>\n",
              "      <td>NaN</td>\n",
              "      <td>3.0</td>\n",
              "      <td>2.0</td>\n",
              "      <td>3.0</td>\n",
              "      <td>3.0</td>\n",
              "      <td>6.0</td>\n",
              "      <td>3</td>\n",
              "      <td>5.0</td>\n",
              "      <td>4.0</td>\n",
              "      <td>2.0</td>\n",
              "    </tr>\n",
              "    <tr>\n",
              "      <th>2797</th>\n",
              "      <td>2.0</td>\n",
              "      <td>3.0</td>\n",
              "      <td>5.0</td>\n",
              "      <td>2.0</td>\n",
              "      <td>5.0</td>\n",
              "      <td>5.0</td>\n",
              "      <td>5.0</td>\n",
              "      <td>5.0</td>\n",
              "      <td>1.0</td>\n",
              "      <td>1.0</td>\n",
              "      <td>2.0</td>\n",
              "      <td>2.0</td>\n",
              "      <td>6.0</td>\n",
              "      <td>3.0</td>\n",
              "      <td>6.0</td>\n",
              "      <td>3.0</td>\n",
              "      <td>4.0</td>\n",
              "      <td>3.0</td>\n",
              "      <td>3.0</td>\n",
              "      <td>1.0</td>\n",
              "      <td>5.0</td>\n",
              "      <td>1</td>\n",
              "      <td>6.0</td>\n",
              "      <td>4.0</td>\n",
              "      <td>3.0</td>\n",
              "    </tr>\n",
              "    <tr>\n",
              "      <th>2798</th>\n",
              "      <td>5.0</td>\n",
              "      <td>2.0</td>\n",
              "      <td>2.0</td>\n",
              "      <td>4.0</td>\n",
              "      <td>4.0</td>\n",
              "      <td>5.0</td>\n",
              "      <td>5.0</td>\n",
              "      <td>5.0</td>\n",
              "      <td>2.0</td>\n",
              "      <td>6.0</td>\n",
              "      <td>2.0</td>\n",
              "      <td>2.0</td>\n",
              "      <td>4.0</td>\n",
              "      <td>5.0</td>\n",
              "      <td>4.0</td>\n",
              "      <td>5.0</td>\n",
              "      <td>5.0</td>\n",
              "      <td>6.0</td>\n",
              "      <td>4.0</td>\n",
              "      <td>1.0</td>\n",
              "      <td>5.0</td>\n",
              "      <td>2</td>\n",
              "      <td>5.0</td>\n",
              "      <td>5.0</td>\n",
              "      <td>1.0</td>\n",
              "    </tr>\n",
              "    <tr>\n",
              "      <th>2799</th>\n",
              "      <td>2.0</td>\n",
              "      <td>3.0</td>\n",
              "      <td>1.0</td>\n",
              "      <td>4.0</td>\n",
              "      <td>2.0</td>\n",
              "      <td>5.0</td>\n",
              "      <td>5.0</td>\n",
              "      <td>3.0</td>\n",
              "      <td>3.0</td>\n",
              "      <td>3.0</td>\n",
              "      <td>3.0</td>\n",
              "      <td>3.0</td>\n",
              "      <td>1.0</td>\n",
              "      <td>2.0</td>\n",
              "      <td>2.0</td>\n",
              "      <td>1.0</td>\n",
              "      <td>2.0</td>\n",
              "      <td>2.0</td>\n",
              "      <td>1.0</td>\n",
              "      <td>1.0</td>\n",
              "      <td>3.0</td>\n",
              "      <td>1</td>\n",
              "      <td>3.0</td>\n",
              "      <td>5.0</td>\n",
              "      <td>1.0</td>\n",
              "    </tr>\n",
              "  </tbody>\n",
              "</table>\n",
              "<p>2800 rows × 25 columns</p>\n",
              "</div>"
            ],
            "text/plain": [
              "       A1   A2   A3   A4   A5   C1   C2  ...   N4   N5   O1  O2   O3   O4   O5\n",
              "0     2.0  4.0  3.0  4.0  4.0  2.0  3.0  ...  2.0  3.0  3.0   6  3.0  4.0  3.0\n",
              "1     2.0  4.0  5.0  2.0  5.0  5.0  4.0  ...  5.0  5.0  4.0   2  4.0  3.0  3.0\n",
              "2     5.0  4.0  5.0  4.0  4.0  4.0  5.0  ...  2.0  3.0  4.0   2  5.0  5.0  2.0\n",
              "3     4.0  4.0  6.0  5.0  5.0  4.0  4.0  ...  4.0  1.0  3.0   3  4.0  3.0  5.0\n",
              "4     2.0  3.0  3.0  4.0  5.0  4.0  4.0  ...  4.0  3.0  3.0   3  4.0  3.0  3.0\n",
              "...   ...  ...  ...  ...  ...  ...  ...  ...  ...  ...  ...  ..  ...  ...  ...\n",
              "2795  6.0  1.0  3.0  3.0  3.0  6.0  6.0  ...  NaN  1.0  6.0   1  6.0  6.0  1.0\n",
              "2796  2.0  4.0  4.0  3.0  5.0  2.0  3.0  ...  3.0  3.0  6.0   3  5.0  4.0  2.0\n",
              "2797  2.0  3.0  5.0  2.0  5.0  5.0  5.0  ...  3.0  1.0  5.0   1  6.0  4.0  3.0\n",
              "2798  5.0  2.0  2.0  4.0  4.0  5.0  5.0  ...  4.0  1.0  5.0   2  5.0  5.0  1.0\n",
              "2799  2.0  3.0  1.0  4.0  2.0  5.0  5.0  ...  1.0  1.0  3.0   1  3.0  5.0  1.0\n",
              "\n",
              "[2800 rows x 25 columns]"
            ]
          },
          "metadata": {
            "tags": []
          },
          "execution_count": 31
        }
      ]
    },
    {
      "cell_type": "code",
      "metadata": {
        "id": "tzYp6hQ1Lh1Q"
      },
      "source": [
        "bfi_data_dropped = bfi_data_dropped.dropna()"
      ],
      "execution_count": 32,
      "outputs": []
    },
    {
      "cell_type": "code",
      "metadata": {
        "colab": {
          "base_uri": "https://localhost:8080/"
        },
        "id": "4iyNlTV5LmVN",
        "outputId": "9e13436d-06f3-44ad-f185-7b56f3c56ab5"
      },
      "source": [
        "bfi_data_dropped.shape"
      ],
      "execution_count": 33,
      "outputs": [
        {
          "output_type": "execute_result",
          "data": {
            "text/plain": [
              "(2436, 25)"
            ]
          },
          "metadata": {
            "tags": []
          },
          "execution_count": 33
        }
      ]
    },
    {
      "cell_type": "markdown",
      "metadata": {
        "id": "y8RcVWKBLqkO"
      },
      "source": [
        "\n",
        "# Bartlett’s test\n",
        "\n",
        "p value เข้าใกล้ 0 ดี"
      ]
    },
    {
      "cell_type": "code",
      "metadata": {
        "colab": {
          "base_uri": "https://localhost:8080/"
        },
        "id": "gp9GWiiVLrie",
        "outputId": "e54cf5c4-b7b3-4e99-92d7-5295228471e1"
      },
      "source": [
        "from factor_analyzer.factor_analyzer import calculate_bartlett_sphericity\n",
        "\n",
        "chi_square_value,p_value = calculate_bartlett_sphericity(bfi_data_dropped)\n",
        "\n",
        "chi_square_value, p_value"
      ],
      "execution_count": 34,
      "outputs": [
        {
          "output_type": "execute_result",
          "data": {
            "text/plain": [
              "(18170.966350869243, 0.0)"
            ]
          },
          "metadata": {
            "tags": []
          },
          "execution_count": 34
        }
      ]
    },
    {
      "cell_type": "markdown",
      "metadata": {
        "id": "dWl6dRAIL91v"
      },
      "source": [
        "# Kaiser-Meyer-Olkin (KMO) Test\n",
        "\n",
        "ถ้าค่า KMO model มีค่ามากกว่า 0.6 แปลว่าข้อมูลเหมาะสมที่นำไปทำ Factor Analysis"
      ]
    },
    {
      "cell_type": "code",
      "metadata": {
        "colab": {
          "base_uri": "https://localhost:8080/"
        },
        "id": "7ka7E7cyMEff",
        "outputId": "cf67955e-8bc0-4b0a-b135-bf11c7903e75"
      },
      "source": [
        "from factor_analyzer.factor_analyzer import calculate_kmo\n",
        "\n",
        "kmo_all,kmo_model=calculate_kmo(bfi_data_dropped)\n",
        "\n",
        "kmo_model"
      ],
      "execution_count": 35,
      "outputs": [
        {
          "output_type": "execute_result",
          "data": {
            "text/plain": [
              "0.8485397221949221"
            ]
          },
          "metadata": {
            "tags": []
          },
          "execution_count": 35
        }
      ]
    },
    {
      "cell_type": "markdown",
      "metadata": {
        "id": "AFLh8xlwMRAf"
      },
      "source": [
        "Factor Analysis\n",
        "\n",
        "Import"
      ]
    },
    {
      "cell_type": "code",
      "metadata": {
        "id": "bdRRsK5cMTYZ"
      },
      "source": [
        "from factor_analyzer import FactorAnalyzer"
      ],
      "execution_count": 36,
      "outputs": []
    },
    {
      "cell_type": "markdown",
      "metadata": {
        "id": "toN4Hdj3MVDu"
      },
      "source": [
        "Define"
      ]
    },
    {
      "cell_type": "code",
      "metadata": {
        "id": "iTKaYwTTMWio"
      },
      "source": [
        "fa = FactorAnalyzer(n_factors=20)"
      ],
      "execution_count": 37,
      "outputs": []
    },
    {
      "cell_type": "markdown",
      "metadata": {
        "id": "SheVE0k2MZ0m"
      },
      "source": [
        "Fit-transform"
      ]
    },
    {
      "cell_type": "code",
      "metadata": {
        "id": "S_QseUUtMa9u"
      },
      "source": [
        "data_fa = fa.fit_transform(bfi_data_dropped)"
      ],
      "execution_count": 38,
      "outputs": []
    },
    {
      "cell_type": "code",
      "metadata": {
        "colab": {
          "base_uri": "https://localhost:8080/"
        },
        "id": "rPncuzkFMb0u",
        "outputId": "5b38be91-9284-4eac-dae8-6bb978ff6ac9"
      },
      "source": [
        "data_fa.shape"
      ],
      "execution_count": 39,
      "outputs": [
        {
          "output_type": "execute_result",
          "data": {
            "text/plain": [
              "(2436, 20)"
            ]
          },
          "metadata": {
            "tags": []
          },
          "execution_count": 39
        }
      ]
    },
    {
      "cell_type": "markdown",
      "metadata": {
        "id": "NwlWZu2XMg9O"
      },
      "source": [
        "# วิธีตัดสินว่าเราจะลดเหลือกี่ dimension (มี factors ทั้งหมดกี่ตัว)"
      ]
    },
    {
      "cell_type": "code",
      "metadata": {
        "id": "0L7zVgH3Mgi-"
      },
      "source": [
        "ev,v = fa.get_eigenvalues()"
      ],
      "execution_count": 40,
      "outputs": []
    },
    {
      "cell_type": "code",
      "metadata": {
        "colab": {
          "base_uri": "https://localhost:8080/"
        },
        "id": "4IujdXOoNq3f",
        "outputId": "78384616-e74c-415a-9471-27f2aa1e4bd1"
      },
      "source": [
        "v.shape"
      ],
      "execution_count": 41,
      "outputs": [
        {
          "output_type": "execute_result",
          "data": {
            "text/plain": [
              "(25,)"
            ]
          },
          "metadata": {
            "tags": []
          },
          "execution_count": 41
        }
      ]
    },
    {
      "cell_type": "markdown",
      "metadata": {
        "id": "bFLDZOPoMjzP"
      },
      "source": [
        "ใช้ eigen values"
      ]
    },
    {
      "cell_type": "code",
      "metadata": {
        "colab": {
          "base_uri": "https://localhost:8080/"
        },
        "id": "k4wbEFiUMluW",
        "outputId": "53d66b33-3d4c-4775-edb6-0fee37f6860c"
      },
      "source": [
        "ev"
      ],
      "execution_count": 42,
      "outputs": [
        {
          "output_type": "execute_result",
          "data": {
            "text/plain": [
              "array([5.13431118, 2.75188667, 2.14270195, 1.85232761, 1.54816285,\n",
              "       1.07358247, 0.83953893, 0.79920618, 0.71898919, 0.68808879,\n",
              "       0.67637336, 0.65179984, 0.62325295, 0.59656284, 0.56309083,\n",
              "       0.54330533, 0.51451752, 0.49450315, 0.48263952, 0.448921  ,\n",
              "       0.42336611, 0.40067145, 0.38780448, 0.38185679, 0.26253902])"
            ]
          },
          "metadata": {
            "tags": []
          },
          "execution_count": 42
        }
      ]
    },
    {
      "cell_type": "markdown",
      "metadata": {
        "id": "UGhinJ91Motf"
      },
      "source": [
        "# scree plot"
      ]
    },
    {
      "cell_type": "code",
      "metadata": {
        "colab": {
          "base_uri": "https://localhost:8080/",
          "height": 893
        },
        "id": "RIKzQtKTMq8-",
        "outputId": "a0891777-3ff8-4760-926c-0d9d6871d9bd"
      },
      "source": [
        "# Create scree plot using matplotlib\n",
        "plt.scatter(range(1,bfi_data_dropped.shape[1]+1),ev)\n",
        "plt.plot(range(1,bfi_data_dropped.shape[1]+1),ev)\n",
        "plt.title('Scree Plot')\n",
        "plt.xlabel('Factors')\n",
        "plt.ylabel('Eigenvalue')\n",
        "plt.grid()\n",
        "plt.show()"
      ],
      "execution_count": 43,
      "outputs": [
        {
          "output_type": "display_data",
          "data": {
            "image/png": "[encoded data removed]",
            "text/plain": [
              "<Figure size 1080x1080 with 1 Axes>"
            ]
          },
          "metadata": {
            "tags": [],
            "needs_background": "light"
          }
        }
      ]
    },
    {
      "cell_type": "code",
      "metadata": {
        "colab": {
          "base_uri": "https://localhost:8080/"
        },
        "id": "iQlTvTgdMt--",
        "outputId": "2e6681e6-66e6-4b10-d3df-099e44331264"
      },
      "source": [
        "data_fa[:,:6]"
      ],
      "execution_count": 44,
      "outputs": [
        {
          "output_type": "execute_result",
          "data": {
            "text/plain": [
              "array([[-0.89749661, -0.12809666, -1.22649076,  1.08665889,  0.42476701,\n",
              "         0.03981611],\n",
              "       [ 0.33679356, -0.15018138, -0.04332274, -0.10339328,  0.29665648,\n",
              "        -1.11019718],\n",
              "       [-0.24521029,  0.80409961,  0.39343377, -0.30106518,  0.82703928,\n",
              "        -0.2982022 ],\n",
              "       ...,\n",
              "       [ 0.38724631, -0.02183587,  1.19616826, -1.19357208,  0.79669501,\n",
              "        -0.95295109],\n",
              "       [-0.75695976,  0.94984758,  1.24363484, -1.15230215,  2.2534133 ,\n",
              "        -1.0218667 ],\n",
              "       [-2.35583952, -1.49829856,  0.49436981, -1.64734311,  0.94742323,\n",
              "         0.43462495]])"
            ]
          },
          "metadata": {
            "tags": []
          },
          "execution_count": 44
        }
      ]
    },
    {
      "cell_type": "markdown",
      "metadata": {
        "id": "n3Kk-4HoN8jW"
      },
      "source": [
        "# รัน Factor Analyzer อีกรอบ ด้วย paremeters จำนวน factor เท่ากับ 6"
      ]
    },
    {
      "cell_type": "code",
      "metadata": {
        "id": "fsPm7BiaN-V0"
      },
      "source": [
        "\n",
        "from factor_analyzer import FactorAnalyzer\n",
        "fa2 = FactorAnalyzer(n_factors=6)\n",
        "data_fa = fa2.fit_transform(bfi_data_dropped)"
      ],
      "execution_count": 45,
      "outputs": []
    },
    {
      "cell_type": "code",
      "metadata": {
        "colab": {
          "base_uri": "https://localhost:8080/"
        },
        "id": "TKYufS_NOBXV",
        "outputId": "2166203e-16b3-4e7c-8c8c-a26d12182c4f"
      },
      "source": [
        "fa2.loadings_.shape"
      ],
      "execution_count": 46,
      "outputs": [
        {
          "output_type": "execute_result",
          "data": {
            "text/plain": [
              "(25, 6)"
            ]
          },
          "metadata": {
            "tags": []
          },
          "execution_count": 46
        }
      ]
    },
    {
      "cell_type": "markdown",
      "metadata": {
        "id": "FJtGLmo5OCx1"
      },
      "source": [
        "\n",
        "### Plot factor loadings"
      ]
    },
    {
      "cell_type": "code",
      "metadata": {
        "id": "a6TmQPd1OEwo"
      },
      "source": [
        "from matplotlib import pyplot as plt\n",
        "import numpy as np\n",
        "import matplotlib"
      ],
      "execution_count": 47,
      "outputs": []
    },
    {
      "cell_type": "markdown",
      "metadata": {
        "id": "P7oLsEiiOGHV"
      },
      "source": [
        "## matrix plot\n",
        "\n",
        "confirmatory\n"
      ]
    },
    {
      "cell_type": "code",
      "metadata": {
        "colab": {
          "base_uri": "https://localhost:8080/",
          "height": 0
        },
        "id": "VkkdACwPOHOn",
        "outputId": "4e98b0ae-ebca-4537-9109-a4fa7fe625b4"
      },
      "source": [
        "\n",
        "matplotlib.rcParams['figure.figsize']=[15,15]\n",
        "plt.imshow(np.absolute(fa2.loadings_))"
      ],
      "execution_count": 48,
      "outputs": [
        {
          "output_type": "execute_result",
          "data": {
            "text/plain": [
              "<matplotlib.image.AxesImage at 0x7fc7b1ca6b50>"
            ]
          },
          "metadata": {
            "tags": []
          },
          "execution_count": 48
        },
        {
          "output_type": "display_data",
          "data": {
            "image/png": "[encoded data removed]",
            "text/plain": [
              "<Figure size 1080x1080 with 1 Axes>"
            ]
          },
          "metadata": {
            "tags": [],
            "needs_background": "light"
          }
        }
      ]
    },
    {
      "cell_type": "markdown",
      "metadata": {
        "id": "Sf7XsEqiONSO"
      },
      "source": [
        "### กราฟแท่ง\n",
        "\n",
        "Exploratory"
      ]
    },
    {
      "cell_type": "code",
      "metadata": {
        "colab": {
          "base_uri": "https://localhost:8080/"
        },
        "id": "Janv-n1rOQgX",
        "outputId": "18aa9bb3-1435-49b8-842d-beb98fbe8f83"
      },
      "source": [
        "bfi_data_dropped.columns"
      ],
      "execution_count": 49,
      "outputs": [
        {
          "output_type": "execute_result",
          "data": {
            "text/plain": [
              "Index(['A1', 'A2', 'A3', 'A4', 'A5', 'C1', 'C2', 'C3', 'C4', 'C5', 'E1', 'E2',\n",
              "       'E3', 'E4', 'E5', 'N1', 'N2', 'N3', 'N4', 'N5', 'O1', 'O2', 'O3', 'O4',\n",
              "       'O5'],\n",
              "      dtype='object')"
            ]
          },
          "metadata": {
            "tags": []
          },
          "execution_count": 49
        }
      ]
    },
    {
      "cell_type": "code",
      "metadata": {
        "colab": {
          "base_uri": "https://localhost:8080/",
          "height": 0
        },
        "id": "B-pYgF7fOSiu",
        "outputId": "222fa7cb-8555-4165-bbc9-82178c83fc39"
      },
      "source": [
        "plt.bar(range(25),np.absolute(fa2.loadings_[:,0]),tick_label=bfi_data_dropped.columns)"
      ],
      "execution_count": 50,
      "outputs": [
        {
          "output_type": "execute_result",
          "data": {
            "text/plain": [
              "<BarContainer object of 25 artists>"
            ]
          },
          "metadata": {
            "tags": []
          },
          "execution_count": 50
        },
        {
          "output_type": "display_data",
          "data": {
            "image/png": "[encoded data removed]",
            "text/plain": [
              "<Figure size 1080x1080 with 1 Axes>"
            ]
          },
          "metadata": {
            "tags": [],
            "needs_background": "light"
          }
        }
      ]
    },
    {
      "cell_type": "markdown",
      "metadata": {
        "id": "FJKDwGdBOXN8"
      },
      "source": [
        "# Exam 3\n",
        "\n",
        "ทำ Factor Analysis ข้อมูล Fifa 2018 https://drive.google.com/file/d/1UORRKWMb8GCN455eJE_n9MvBHupnSVwv/view?usp=sharing"
      ]
    },
    {
      "cell_type": "markdown",
      "metadata": {
        "id": "V1WNvgSBP0A6"
      },
      "source": [
        "## 1.ทำการนำข้อมูล fifa เข้า"
      ]
    },
    {
      "cell_type": "code",
      "metadata": {
        "id": "tUpWMJd6OVee",
        "colab": {
          "base_uri": "https://localhost:8080/",
          "height": 808
        },
        "outputId": "6e10a8d4-f702-48bd-beb0-d1a29935e082"
      },
      "source": [
        "fifa = pd.read_csv('/content/FIFA 2018 Statistics.csv')\n",
        "fifa"
      ],
      "execution_count": 51,
      "outputs": [
        {
          "output_type": "execute_result",
          "data": {
            "text/html": [
              "<div>\n",
              "<style scoped>\n",
              "    .dataframe tbody tr th:only-of-type {\n",
              "        vertical-align: middle;\n",
              "    }\n",
              "\n",
              "    .dataframe tbody tr th {\n",
              "        vertical-align: top;\n",
              "    }\n",
              "\n",
              "    .dataframe thead th {\n",
              "        text-align: right;\n",
              "    }\n",
              "</style>\n",
              "<table border=\"1\" class=\"dataframe\">\n",
              "  <thead>\n",
              "    <tr style=\"text-align: right;\">\n",
              "      <th></th>\n",
              "      <th>Date</th>\n",
              "      <th>Team</th>\n",
              "      <th>Opponent</th>\n",
              "      <th>Goal Scored</th>\n",
              "      <th>Ball Possession %</th>\n",
              "      <th>Attempts</th>\n",
              "      <th>On-Target</th>\n",
              "      <th>Off-Target</th>\n",
              "      <th>Blocked</th>\n",
              "      <th>Corners</th>\n",
              "      <th>Offsides</th>\n",
              "      <th>Free Kicks</th>\n",
              "      <th>Saves</th>\n",
              "      <th>Pass Accuracy %</th>\n",
              "      <th>Passes</th>\n",
              "      <th>Distance Covered (Kms)</th>\n",
              "      <th>Fouls Committed</th>\n",
              "      <th>Yellow Card</th>\n",
              "      <th>Yellow &amp; Red</th>\n",
              "      <th>Red</th>\n",
              "      <th>Man of the Match</th>\n",
              "      <th>1st Goal</th>\n",
              "      <th>Round</th>\n",
              "      <th>PSO</th>\n",
              "      <th>Goals in PSO</th>\n",
              "      <th>Own goals</th>\n",
              "      <th>Own goal Time</th>\n",
              "    </tr>\n",
              "  </thead>\n",
              "  <tbody>\n",
              "    <tr>\n",
              "      <th>0</th>\n",
              "      <td>14-06-2018</td>\n",
              "      <td>Russia</td>\n",
              "      <td>Saudi Arabia</td>\n",
              "      <td>5</td>\n",
              "      <td>40</td>\n",
              "      <td>13</td>\n",
              "      <td>7</td>\n",
              "      <td>3</td>\n",
              "      <td>3</td>\n",
              "      <td>6</td>\n",
              "      <td>3</td>\n",
              "      <td>11</td>\n",
              "      <td>0</td>\n",
              "      <td>78</td>\n",
              "      <td>306</td>\n",
              "      <td>118</td>\n",
              "      <td>22</td>\n",
              "      <td>0</td>\n",
              "      <td>0</td>\n",
              "      <td>0</td>\n",
              "      <td>Yes</td>\n",
              "      <td>12.0</td>\n",
              "      <td>Group Stage</td>\n",
              "      <td>No</td>\n",
              "      <td>0</td>\n",
              "      <td>NaN</td>\n",
              "      <td>NaN</td>\n",
              "    </tr>\n",
              "    <tr>\n",
              "      <th>1</th>\n",
              "      <td>14-06-2018</td>\n",
              "      <td>Saudi Arabia</td>\n",
              "      <td>Russia</td>\n",
              "      <td>0</td>\n",
              "      <td>60</td>\n",
              "      <td>6</td>\n",
              "      <td>0</td>\n",
              "      <td>3</td>\n",
              "      <td>3</td>\n",
              "      <td>2</td>\n",
              "      <td>1</td>\n",
              "      <td>25</td>\n",
              "      <td>2</td>\n",
              "      <td>86</td>\n",
              "      <td>511</td>\n",
              "      <td>105</td>\n",
              "      <td>10</td>\n",
              "      <td>0</td>\n",
              "      <td>0</td>\n",
              "      <td>0</td>\n",
              "      <td>No</td>\n",
              "      <td>NaN</td>\n",
              "      <td>Group Stage</td>\n",
              "      <td>No</td>\n",
              "      <td>0</td>\n",
              "      <td>NaN</td>\n",
              "      <td>NaN</td>\n",
              "    </tr>\n",
              "    <tr>\n",
              "      <th>2</th>\n",
              "      <td>15-06-2018</td>\n",
              "      <td>Egypt</td>\n",
              "      <td>Uruguay</td>\n",
              "      <td>0</td>\n",
              "      <td>43</td>\n",
              "      <td>8</td>\n",
              "      <td>3</td>\n",
              "      <td>3</td>\n",
              "      <td>2</td>\n",
              "      <td>0</td>\n",
              "      <td>1</td>\n",
              "      <td>7</td>\n",
              "      <td>3</td>\n",
              "      <td>78</td>\n",
              "      <td>395</td>\n",
              "      <td>112</td>\n",
              "      <td>12</td>\n",
              "      <td>2</td>\n",
              "      <td>0</td>\n",
              "      <td>0</td>\n",
              "      <td>No</td>\n",
              "      <td>NaN</td>\n",
              "      <td>Group Stage</td>\n",
              "      <td>No</td>\n",
              "      <td>0</td>\n",
              "      <td>NaN</td>\n",
              "      <td>NaN</td>\n",
              "    </tr>\n",
              "    <tr>\n",
              "      <th>3</th>\n",
              "      <td>15-06-2018</td>\n",
              "      <td>Uruguay</td>\n",
              "      <td>Egypt</td>\n",
              "      <td>1</td>\n",
              "      <td>57</td>\n",
              "      <td>14</td>\n",
              "      <td>4</td>\n",
              "      <td>6</td>\n",
              "      <td>4</td>\n",
              "      <td>5</td>\n",
              "      <td>1</td>\n",
              "      <td>13</td>\n",
              "      <td>3</td>\n",
              "      <td>86</td>\n",
              "      <td>589</td>\n",
              "      <td>111</td>\n",
              "      <td>6</td>\n",
              "      <td>0</td>\n",
              "      <td>0</td>\n",
              "      <td>0</td>\n",
              "      <td>Yes</td>\n",
              "      <td>89.0</td>\n",
              "      <td>Group Stage</td>\n",
              "      <td>No</td>\n",
              "      <td>0</td>\n",
              "      <td>NaN</td>\n",
              "      <td>NaN</td>\n",
              "    </tr>\n",
              "    <tr>\n",
              "      <th>4</th>\n",
              "      <td>15-06-2018</td>\n",
              "      <td>Morocco</td>\n",
              "      <td>Iran</td>\n",
              "      <td>0</td>\n",
              "      <td>64</td>\n",
              "      <td>13</td>\n",
              "      <td>3</td>\n",
              "      <td>6</td>\n",
              "      <td>4</td>\n",
              "      <td>5</td>\n",
              "      <td>0</td>\n",
              "      <td>14</td>\n",
              "      <td>2</td>\n",
              "      <td>86</td>\n",
              "      <td>433</td>\n",
              "      <td>101</td>\n",
              "      <td>22</td>\n",
              "      <td>1</td>\n",
              "      <td>0</td>\n",
              "      <td>0</td>\n",
              "      <td>No</td>\n",
              "      <td>NaN</td>\n",
              "      <td>Group Stage</td>\n",
              "      <td>No</td>\n",
              "      <td>0</td>\n",
              "      <td>1.0</td>\n",
              "      <td>90.0</td>\n",
              "    </tr>\n",
              "    <tr>\n",
              "      <th>...</th>\n",
              "      <td>...</td>\n",
              "      <td>...</td>\n",
              "      <td>...</td>\n",
              "      <td>...</td>\n",
              "      <td>...</td>\n",
              "      <td>...</td>\n",
              "      <td>...</td>\n",
              "      <td>...</td>\n",
              "      <td>...</td>\n",
              "      <td>...</td>\n",
              "      <td>...</td>\n",
              "      <td>...</td>\n",
              "      <td>...</td>\n",
              "      <td>...</td>\n",
              "      <td>...</td>\n",
              "      <td>...</td>\n",
              "      <td>...</td>\n",
              "      <td>...</td>\n",
              "      <td>...</td>\n",
              "      <td>...</td>\n",
              "      <td>...</td>\n",
              "      <td>...</td>\n",
              "      <td>...</td>\n",
              "      <td>...</td>\n",
              "      <td>...</td>\n",
              "      <td>...</td>\n",
              "      <td>...</td>\n",
              "    </tr>\n",
              "    <tr>\n",
              "      <th>123</th>\n",
              "      <td>11-07-2018</td>\n",
              "      <td>England</td>\n",
              "      <td>Croatia</td>\n",
              "      <td>1</td>\n",
              "      <td>46</td>\n",
              "      <td>11</td>\n",
              "      <td>1</td>\n",
              "      <td>6</td>\n",
              "      <td>4</td>\n",
              "      <td>4</td>\n",
              "      <td>3</td>\n",
              "      <td>24</td>\n",
              "      <td>5</td>\n",
              "      <td>79</td>\n",
              "      <td>479</td>\n",
              "      <td>148</td>\n",
              "      <td>14</td>\n",
              "      <td>1</td>\n",
              "      <td>0</td>\n",
              "      <td>0</td>\n",
              "      <td>No</td>\n",
              "      <td>5.0</td>\n",
              "      <td>Semi- Finals</td>\n",
              "      <td>No</td>\n",
              "      <td>0</td>\n",
              "      <td>NaN</td>\n",
              "      <td>NaN</td>\n",
              "    </tr>\n",
              "    <tr>\n",
              "      <th>124</th>\n",
              "      <td>14-07-2018</td>\n",
              "      <td>Belgium</td>\n",
              "      <td>England</td>\n",
              "      <td>2</td>\n",
              "      <td>43</td>\n",
              "      <td>12</td>\n",
              "      <td>4</td>\n",
              "      <td>3</td>\n",
              "      <td>5</td>\n",
              "      <td>4</td>\n",
              "      <td>1</td>\n",
              "      <td>5</td>\n",
              "      <td>5</td>\n",
              "      <td>88</td>\n",
              "      <td>510</td>\n",
              "      <td>108</td>\n",
              "      <td>11</td>\n",
              "      <td>1</td>\n",
              "      <td>0</td>\n",
              "      <td>0</td>\n",
              "      <td>Yes</td>\n",
              "      <td>4.0</td>\n",
              "      <td>3rd Place</td>\n",
              "      <td>No</td>\n",
              "      <td>0</td>\n",
              "      <td>NaN</td>\n",
              "      <td>NaN</td>\n",
              "    </tr>\n",
              "    <tr>\n",
              "      <th>125</th>\n",
              "      <td>14-07-2018</td>\n",
              "      <td>England</td>\n",
              "      <td>Belgium</td>\n",
              "      <td>0</td>\n",
              "      <td>57</td>\n",
              "      <td>15</td>\n",
              "      <td>5</td>\n",
              "      <td>7</td>\n",
              "      <td>3</td>\n",
              "      <td>5</td>\n",
              "      <td>0</td>\n",
              "      <td>12</td>\n",
              "      <td>2</td>\n",
              "      <td>92</td>\n",
              "      <td>698</td>\n",
              "      <td>110</td>\n",
              "      <td>5</td>\n",
              "      <td>2</td>\n",
              "      <td>0</td>\n",
              "      <td>0</td>\n",
              "      <td>No</td>\n",
              "      <td>NaN</td>\n",
              "      <td>3rd Place</td>\n",
              "      <td>No</td>\n",
              "      <td>0</td>\n",
              "      <td>NaN</td>\n",
              "      <td>NaN</td>\n",
              "    </tr>\n",
              "    <tr>\n",
              "      <th>126</th>\n",
              "      <td>15-07-2018</td>\n",
              "      <td>France</td>\n",
              "      <td>Croatia</td>\n",
              "      <td>4</td>\n",
              "      <td>39</td>\n",
              "      <td>8</td>\n",
              "      <td>6</td>\n",
              "      <td>1</td>\n",
              "      <td>1</td>\n",
              "      <td>2</td>\n",
              "      <td>1</td>\n",
              "      <td>14</td>\n",
              "      <td>1</td>\n",
              "      <td>75</td>\n",
              "      <td>271</td>\n",
              "      <td>99</td>\n",
              "      <td>14</td>\n",
              "      <td>2</td>\n",
              "      <td>0</td>\n",
              "      <td>0</td>\n",
              "      <td>Yes</td>\n",
              "      <td>18.0</td>\n",
              "      <td>Final</td>\n",
              "      <td>No</td>\n",
              "      <td>0</td>\n",
              "      <td>1.0</td>\n",
              "      <td>18.0</td>\n",
              "    </tr>\n",
              "    <tr>\n",
              "      <th>127</th>\n",
              "      <td>15-07-2018</td>\n",
              "      <td>Croatia</td>\n",
              "      <td>France</td>\n",
              "      <td>2</td>\n",
              "      <td>61</td>\n",
              "      <td>15</td>\n",
              "      <td>3</td>\n",
              "      <td>8</td>\n",
              "      <td>4</td>\n",
              "      <td>6</td>\n",
              "      <td>1</td>\n",
              "      <td>15</td>\n",
              "      <td>3</td>\n",
              "      <td>83</td>\n",
              "      <td>547</td>\n",
              "      <td>100</td>\n",
              "      <td>13</td>\n",
              "      <td>1</td>\n",
              "      <td>0</td>\n",
              "      <td>0</td>\n",
              "      <td>No</td>\n",
              "      <td>28.0</td>\n",
              "      <td>Final</td>\n",
              "      <td>No</td>\n",
              "      <td>0</td>\n",
              "      <td>NaN</td>\n",
              "      <td>NaN</td>\n",
              "    </tr>\n",
              "  </tbody>\n",
              "</table>\n",
              "<p>128 rows × 27 columns</p>\n",
              "</div>"
            ],
            "text/plain": [
              "           Date          Team  ... Own goals  Own goal Time\n",
              "0    14-06-2018        Russia  ...       NaN            NaN\n",
              "1    14-06-2018  Saudi Arabia  ...       NaN            NaN\n",
              "2    15-06-2018         Egypt  ...       NaN            NaN\n",
              "3    15-06-2018       Uruguay  ...       NaN            NaN\n",
              "4    15-06-2018       Morocco  ...       1.0           90.0\n",
              "..          ...           ...  ...       ...            ...\n",
              "123  11-07-2018       England  ...       NaN            NaN\n",
              "124  14-07-2018       Belgium  ...       NaN            NaN\n",
              "125  14-07-2018       England  ...       NaN            NaN\n",
              "126  15-07-2018        France  ...       1.0           18.0\n",
              "127  15-07-2018       Croatia  ...       NaN            NaN\n",
              "\n",
              "[128 rows x 27 columns]"
            ]
          },
          "metadata": {
            "tags": []
          },
          "execution_count": 51
        }
      ]
    },
    {
      "cell_type": "markdown",
      "metadata": {
        "id": "Nycd2Jz8QBo8"
      },
      "source": [
        "## 2.เลือกข้อมูล"
      ]
    },
    {
      "cell_type": "code",
      "metadata": {
        "colab": {
          "base_uri": "https://localhost:8080/"
        },
        "id": "vuCGRXj3P4y6",
        "outputId": "584d4231-0d47-45f1-f9ff-67e5b41b4fad"
      },
      "source": [
        "fifa.shape # เลือกเอาข้อมูลที่ต้องการ คือ Goal - scored ถึง red"
      ],
      "execution_count": 52,
      "outputs": [
        {
          "output_type": "execute_result",
          "data": {
            "text/plain": [
              "(128, 27)"
            ]
          },
          "metadata": {
            "tags": []
          },
          "execution_count": 52
        }
      ]
    },
    {
      "cell_type": "code",
      "metadata": {
        "colab": {
          "base_uri": "https://localhost:8080/",
          "height": 455
        },
        "id": "XEUgLN8oQKzz",
        "outputId": "737aaf27-dc5d-4a1c-b566-cc993ad107eb"
      },
      "source": [
        "fifa_drop = fifa.iloc[:,3:20] # ในปีกกาคือกำหนดตัวเลขที่โจทย์ต้องการ\n",
        "fifa_drop"
      ],
      "execution_count": 53,
      "outputs": [
        {
          "output_type": "execute_result",
          "data": {
            "text/html": [
              "<div>\n",
              "<style scoped>\n",
              "    .dataframe tbody tr th:only-of-type {\n",
              "        vertical-align: middle;\n",
              "    }\n",
              "\n",
              "    .dataframe tbody tr th {\n",
              "        vertical-align: top;\n",
              "    }\n",
              "\n",
              "    .dataframe thead th {\n",
              "        text-align: right;\n",
              "    }\n",
              "</style>\n",
              "<table border=\"1\" class=\"dataframe\">\n",
              "  <thead>\n",
              "    <tr style=\"text-align: right;\">\n",
              "      <th></th>\n",
              "      <th>Goal Scored</th>\n",
              "      <th>Ball Possession %</th>\n",
              "      <th>Attempts</th>\n",
              "      <th>On-Target</th>\n",
              "      <th>Off-Target</th>\n",
              "      <th>Blocked</th>\n",
              "      <th>Corners</th>\n",
              "      <th>Offsides</th>\n",
              "      <th>Free Kicks</th>\n",
              "      <th>Saves</th>\n",
              "      <th>Pass Accuracy %</th>\n",
              "      <th>Passes</th>\n",
              "      <th>Distance Covered (Kms)</th>\n",
              "      <th>Fouls Committed</th>\n",
              "      <th>Yellow Card</th>\n",
              "      <th>Yellow &amp; Red</th>\n",
              "      <th>Red</th>\n",
              "    </tr>\n",
              "  </thead>\n",
              "  <tbody>\n",
              "    <tr>\n",
              "      <th>0</th>\n",
              "      <td>5</td>\n",
              "      <td>40</td>\n",
              "      <td>13</td>\n",
              "      <td>7</td>\n",
              "      <td>3</td>\n",
              "      <td>3</td>\n",
              "      <td>6</td>\n",
              "      <td>3</td>\n",
              "      <td>11</td>\n",
              "      <td>0</td>\n",
              "      <td>78</td>\n",
              "      <td>306</td>\n",
              "      <td>118</td>\n",
              "      <td>22</td>\n",
              "      <td>0</td>\n",
              "      <td>0</td>\n",
              "      <td>0</td>\n",
              "    </tr>\n",
              "    <tr>\n",
              "      <th>1</th>\n",
              "      <td>0</td>\n",
              "      <td>60</td>\n",
              "      <td>6</td>\n",
              "      <td>0</td>\n",
              "      <td>3</td>\n",
              "      <td>3</td>\n",
              "      <td>2</td>\n",
              "      <td>1</td>\n",
              "      <td>25</td>\n",
              "      <td>2</td>\n",
              "      <td>86</td>\n",
              "      <td>511</td>\n",
              "      <td>105</td>\n",
              "      <td>10</td>\n",
              "      <td>0</td>\n",
              "      <td>0</td>\n",
              "      <td>0</td>\n",
              "    </tr>\n",
              "    <tr>\n",
              "      <th>2</th>\n",
              "      <td>0</td>\n",
              "      <td>43</td>\n",
              "      <td>8</td>\n",
              "      <td>3</td>\n",
              "      <td>3</td>\n",
              "      <td>2</td>\n",
              "      <td>0</td>\n",
              "      <td>1</td>\n",
              "      <td>7</td>\n",
              "      <td>3</td>\n",
              "      <td>78</td>\n",
              "      <td>395</td>\n",
              "      <td>112</td>\n",
              "      <td>12</td>\n",
              "      <td>2</td>\n",
              "      <td>0</td>\n",
              "      <td>0</td>\n",
              "    </tr>\n",
              "    <tr>\n",
              "      <th>3</th>\n",
              "      <td>1</td>\n",
              "      <td>57</td>\n",
              "      <td>14</td>\n",
              "      <td>4</td>\n",
              "      <td>6</td>\n",
              "      <td>4</td>\n",
              "      <td>5</td>\n",
              "      <td>1</td>\n",
              "      <td>13</td>\n",
              "      <td>3</td>\n",
              "      <td>86</td>\n",
              "      <td>589</td>\n",
              "      <td>111</td>\n",
              "      <td>6</td>\n",
              "      <td>0</td>\n",
              "      <td>0</td>\n",
              "      <td>0</td>\n",
              "    </tr>\n",
              "    <tr>\n",
              "      <th>4</th>\n",
              "      <td>0</td>\n",
              "      <td>64</td>\n",
              "      <td>13</td>\n",
              "      <td>3</td>\n",
              "      <td>6</td>\n",
              "      <td>4</td>\n",
              "      <td>5</td>\n",
              "      <td>0</td>\n",
              "      <td>14</td>\n",
              "      <td>2</td>\n",
              "      <td>86</td>\n",
              "      <td>433</td>\n",
              "      <td>101</td>\n",
              "      <td>22</td>\n",
              "      <td>1</td>\n",
              "      <td>0</td>\n",
              "      <td>0</td>\n",
              "    </tr>\n",
              "    <tr>\n",
              "      <th>...</th>\n",
              "      <td>...</td>\n",
              "      <td>...</td>\n",
              "      <td>...</td>\n",
              "      <td>...</td>\n",
              "      <td>...</td>\n",
              "      <td>...</td>\n",
              "      <td>...</td>\n",
              "      <td>...</td>\n",
              "      <td>...</td>\n",
              "      <td>...</td>\n",
              "      <td>...</td>\n",
              "      <td>...</td>\n",
              "      <td>...</td>\n",
              "      <td>...</td>\n",
              "      <td>...</td>\n",
              "      <td>...</td>\n",
              "      <td>...</td>\n",
              "    </tr>\n",
              "    <tr>\n",
              "      <th>123</th>\n",
              "      <td>1</td>\n",
              "      <td>46</td>\n",
              "      <td>11</td>\n",
              "      <td>1</td>\n",
              "      <td>6</td>\n",
              "      <td>4</td>\n",
              "      <td>4</td>\n",
              "      <td>3</td>\n",
              "      <td>24</td>\n",
              "      <td>5</td>\n",
              "      <td>79</td>\n",
              "      <td>479</td>\n",
              "      <td>148</td>\n",
              "      <td>14</td>\n",
              "      <td>1</td>\n",
              "      <td>0</td>\n",
              "      <td>0</td>\n",
              "    </tr>\n",
              "    <tr>\n",
              "      <th>124</th>\n",
              "      <td>2</td>\n",
              "      <td>43</td>\n",
              "      <td>12</td>\n",
              "      <td>4</td>\n",
              "      <td>3</td>\n",
              "      <td>5</td>\n",
              "      <td>4</td>\n",
              "      <td>1</td>\n",
              "      <td>5</td>\n",
              "      <td>5</td>\n",
              "      <td>88</td>\n",
              "      <td>510</td>\n",
              "      <td>108</td>\n",
              "      <td>11</td>\n",
              "      <td>1</td>\n",
              "      <td>0</td>\n",
              "      <td>0</td>\n",
              "    </tr>\n",
              "    <tr>\n",
              "      <th>125</th>\n",
              "      <td>0</td>\n",
              "      <td>57</td>\n",
              "      <td>15</td>\n",
              "      <td>5</td>\n",
              "      <td>7</td>\n",
              "      <td>3</td>\n",
              "      <td>5</td>\n",
              "      <td>0</td>\n",
              "      <td>12</td>\n",
              "      <td>2</td>\n",
              "      <td>92</td>\n",
              "      <td>698</td>\n",
              "      <td>110</td>\n",
              "      <td>5</td>\n",
              "      <td>2</td>\n",
              "      <td>0</td>\n",
              "      <td>0</td>\n",
              "    </tr>\n",
              "    <tr>\n",
              "      <th>126</th>\n",
              "      <td>4</td>\n",
              "      <td>39</td>\n",
              "      <td>8</td>\n",
              "      <td>6</td>\n",
              "      <td>1</td>\n",
              "      <td>1</td>\n",
              "      <td>2</td>\n",
              "      <td>1</td>\n",
              "      <td>14</td>\n",
              "      <td>1</td>\n",
              "      <td>75</td>\n",
              "      <td>271</td>\n",
              "      <td>99</td>\n",
              "      <td>14</td>\n",
              "      <td>2</td>\n",
              "      <td>0</td>\n",
              "      <td>0</td>\n",
              "    </tr>\n",
              "    <tr>\n",
              "      <th>127</th>\n",
              "      <td>2</td>\n",
              "      <td>61</td>\n",
              "      <td>15</td>\n",
              "      <td>3</td>\n",
              "      <td>8</td>\n",
              "      <td>4</td>\n",
              "      <td>6</td>\n",
              "      <td>1</td>\n",
              "      <td>15</td>\n",
              "      <td>3</td>\n",
              "      <td>83</td>\n",
              "      <td>547</td>\n",
              "      <td>100</td>\n",
              "      <td>13</td>\n",
              "      <td>1</td>\n",
              "      <td>0</td>\n",
              "      <td>0</td>\n",
              "    </tr>\n",
              "  </tbody>\n",
              "</table>\n",
              "<p>128 rows × 17 columns</p>\n",
              "</div>"
            ],
            "text/plain": [
              "     Goal Scored  Ball Possession %  Attempts  ...  Yellow Card  Yellow & Red  Red\n",
              "0              5                 40        13  ...            0             0    0\n",
              "1              0                 60         6  ...            0             0    0\n",
              "2              0                 43         8  ...            2             0    0\n",
              "3              1                 57        14  ...            0             0    0\n",
              "4              0                 64        13  ...            1             0    0\n",
              "..           ...                ...       ...  ...          ...           ...  ...\n",
              "123            1                 46        11  ...            1             0    0\n",
              "124            2                 43        12  ...            1             0    0\n",
              "125            0                 57        15  ...            2             0    0\n",
              "126            4                 39         8  ...            2             0    0\n",
              "127            2                 61        15  ...            1             0    0\n",
              "\n",
              "[128 rows x 17 columns]"
            ]
          },
          "metadata": {
            "tags": []
          },
          "execution_count": 53
        }
      ]
    },
    {
      "cell_type": "markdown",
      "metadata": {
        "id": "2ilN-iNbQWlc"
      },
      "source": [
        "## 3.ดูขนาดของข้อมูล"
      ]
    },
    {
      "cell_type": "code",
      "metadata": {
        "colab": {
          "base_uri": "https://localhost:8080/"
        },
        "id": "qVsBIq6pQaJ4",
        "outputId": "d9016a5d-4fc7-48dc-aa49-ab5af3836ffe"
      },
      "source": [
        "fifa_drop.shape"
      ],
      "execution_count": 54,
      "outputs": [
        {
          "output_type": "execute_result",
          "data": {
            "text/plain": [
              "(128, 17)"
            ]
          },
          "metadata": {
            "tags": []
          },
          "execution_count": 54
        }
      ]
    },
    {
      "cell_type": "markdown",
      "metadata": {
        "id": "mhCyD8TEQhRs"
      },
      "source": [
        "## 4.การใช้ Bartlett's test\n",
        "\n",
        "หากมีค่า p-value เข้าใกล้ 0 จะดี"
      ]
    },
    {
      "cell_type": "code",
      "metadata": {
        "colab": {
          "base_uri": "https://localhost:8080/"
        },
        "id": "xZ25ad2xQcvF",
        "outputId": "c7b9554a-0dbb-4ea2-f09b-2c1a6c7e06dc"
      },
      "source": [
        "from factor_analyzer.factor_analyzer import calculate_bartlett_sphericity\n",
        "\n",
        "chi_square_value,p_value = calculate_bartlett_sphericity(fifa_drop)\n",
        "\n",
        "chi_square_value, p_value"
      ],
      "execution_count": 55,
      "outputs": [
        {
          "output_type": "execute_result",
          "data": {
            "text/plain": [
              "(1299.3697851171412, 2.713580160466225e-189)"
            ]
          },
          "metadata": {
            "tags": []
          },
          "execution_count": 55
        }
      ]
    },
    {
      "cell_type": "markdown",
      "metadata": {
        "id": "8oJvV3ECRHi_"
      },
      "source": [
        "แปลผลจาก output ได้ดังนี้\n",
        "\n",
        "ค่า P-value มีค่า 2.71 x 10^-189 ซึ่งมีค่าเข้าใกล้ 0 มาก"
      ]
    },
    {
      "cell_type": "markdown",
      "metadata": {
        "id": "HGCPh2oEROqh"
      },
      "source": [
        "## 5.ทำการใช้ Kaiser-Meyer-Olkin (KMO) Test\n",
        "\n",
        "ถ้าค่า KMO model มีค่ามากกว่า 0.6 แปลว่าข้อมูลเหมาะสมที่นำไปทำ Factor Analysis"
      ]
    },
    {
      "cell_type": "code",
      "metadata": {
        "colab": {
          "base_uri": "https://localhost:8080/"
        },
        "id": "rGnTSaksRTEg",
        "outputId": "dcc224ef-ef19-460b-c2b9-8179d2b79b7a"
      },
      "source": [
        "from factor_analyzer.factor_analyzer import calculate_kmo\n",
        "\n",
        "kmo_all,kmo_model=calculate_kmo(fifa_drop)\n",
        "\n",
        "kmo_model"
      ],
      "execution_count": 56,
      "outputs": [
        {
          "output_type": "execute_result",
          "data": {
            "text/plain": [
              "0.5594556344508279"
            ]
          },
          "metadata": {
            "tags": []
          },
          "execution_count": 56
        }
      ]
    },
    {
      "cell_type": "markdown",
      "metadata": {
        "id": "mQ7IPddbRWsL"
      },
      "source": [
        "แปลผลจาก Output ได้ดังนี้\n",
        "\n",
        "ค่า KMO จาก model มีค่าประมาณได้ 0.6 แปลว่าเหมาะสมที่นำไปทำ Factor Analysis"
      ]
    },
    {
      "cell_type": "markdown",
      "metadata": {
        "id": "Cnpd3lUVReZb"
      },
      "source": [
        "\n",
        "## 6.ทำการ Factor Analysis"
      ]
    },
    {
      "cell_type": "markdown",
      "metadata": {
        "id": "-DvArajdRggJ"
      },
      "source": [
        "\n",
        "Import"
      ]
    },
    {
      "cell_type": "code",
      "metadata": {
        "id": "1hS1SiYLRU1_"
      },
      "source": [
        "from factor_analyzer import FactorAnalyzer"
      ],
      "execution_count": 57,
      "outputs": []
    },
    {
      "cell_type": "code",
      "metadata": {
        "id": "6fkOTNWLRkR5"
      },
      "source": [
        "\n",
        "fi_fa = FactorAnalyzer(n_factors=13)"
      ],
      "execution_count": 58,
      "outputs": []
    },
    {
      "cell_type": "markdown",
      "metadata": {
        "id": "ekG6KnhiRooM"
      },
      "source": [
        "Fit-transform"
      ]
    },
    {
      "cell_type": "code",
      "metadata": {
        "id": "JdjHRFxGRpD6"
      },
      "source": [
        "newfi_fa = fi_fa.fit_transform(fifa_drop)"
      ],
      "execution_count": 59,
      "outputs": []
    },
    {
      "cell_type": "code",
      "metadata": {
        "colab": {
          "base_uri": "https://localhost:8080/"
        },
        "id": "6NTfnFBzRuOs",
        "outputId": "b856fcd8-5bd6-491f-bb16-a6214335ba68"
      },
      "source": [
        "newfi_fa.shape"
      ],
      "execution_count": 60,
      "outputs": [
        {
          "output_type": "execute_result",
          "data": {
            "text/plain": [
              "(128, 13)"
            ]
          },
          "metadata": {
            "tags": []
          },
          "execution_count": 60
        }
      ]
    },
    {
      "cell_type": "markdown",
      "metadata": {
        "id": "tvQoF-tcR0dj"
      },
      "source": [
        "## 7.ตัดสินว่าเราจะลดเหลือกี่ dimension โดยการใช้ eigen values"
      ]
    },
    {
      "cell_type": "code",
      "metadata": {
        "colab": {
          "base_uri": "https://localhost:8080/"
        },
        "id": "AIWaplLXSCU6",
        "outputId": "a59315df-a6f4-4c79-99c6-ef302eca78d7"
      },
      "source": [
        "\n",
        "ev,v = fi_fa.get_eigenvalues()\n",
        "ev"
      ],
      "execution_count": 61,
      "outputs": [
        {
          "output_type": "execute_result",
          "data": {
            "text/plain": [
              "array([4.93533676, 1.66110682, 1.45898601, 1.31857945, 1.27991548,\n",
              "       1.1607222 , 0.89822418, 0.80740568, 0.78874612, 0.65948826,\n",
              "       0.56563441, 0.48116939, 0.38549929, 0.29659929, 0.22859409,\n",
              "       0.06848785, 0.00550471])"
            ]
          },
          "metadata": {
            "tags": []
          },
          "execution_count": 61
        }
      ]
    },
    {
      "cell_type": "markdown",
      "metadata": {
        "id": "AyRp7VtESFip"
      },
      "source": [
        "\n",
        "## 8.ทำการ scree plot"
      ]
    },
    {
      "cell_type": "code",
      "metadata": {
        "colab": {
          "base_uri": "https://localhost:8080/",
          "height": 893
        },
        "id": "bPy7rhYWSFVp",
        "outputId": "fb176a32-4b64-4e7a-c656-158d24a5cf6b"
      },
      "source": [
        "\n",
        "plt.plot(range(1,fifa_drop.shape[1]+1),ev,'bo-')\n",
        "plt.plot([0,fifa_drop.shape[1]+1],[1,1],'r--')\n",
        "plt.title('Scree Plot ')\n",
        "plt.xlabel('Factors')\n",
        "plt.ylabel('Eigenvalue')\n",
        "plt.grid()\n",
        "plt.show()"
      ],
      "execution_count": 62,
      "outputs": [
        {
          "output_type": "display_data",
          "data": {
            "image/png": "[encoded data removed]",
            "text/plain": [
              "<Figure size 1080x1080 with 1 Axes>"
            ]
          },
          "metadata": {
            "tags": [],
            "needs_background": "light"
          }
        }
      ]
    },
    {
      "cell_type": "code",
      "metadata": {
        "colab": {
          "base_uri": "https://localhost:8080/"
        },
        "id": "sANGbtmeSNSB",
        "outputId": "4f768f0d-fd6e-46bc-eb8d-2ea456e00e32"
      },
      "source": [
        "newfi_fa[:,:6]"
      ],
      "execution_count": 63,
      "outputs": [
        {
          "output_type": "execute_result",
          "data": {
            "text/plain": [
              "array([[-1.18730841e+00,  1.00482579e+00,  3.06571491e+00,\n",
              "        -9.12059814e-02, -1.14811326e+00, -1.58060669e-01],\n",
              "       [ 4.85455399e-01, -1.49046441e-01, -1.10056207e+00,\n",
              "        -1.17283269e-01, -3.02183966e-01, -8.89154843e-01],\n",
              "       [-5.96060405e-01,  4.52438495e-01, -9.83844997e-01,\n",
              "        -1.13497361e-01,  1.42041745e-01,  9.76038426e-02],\n",
              "       [ 8.10309595e-01,  2.75487261e-01, -4.15967141e-01,\n",
              "        -1.50776032e-01,  4.80502000e-02, -1.39333303e+00],\n",
              "       [ 1.28374465e-01, -4.00369208e-01, -8.02365182e-01,\n",
              "        -9.80239077e-02, -2.37110434e-01,  1.95633935e-01],\n",
              "       [-1.39107788e+00, -5.57517865e-01, -6.68057547e-02,\n",
              "        -1.28248662e-01, -2.17058037e-01,  1.04705766e+00],\n",
              "       [-4.88024024e-01, -4.44024082e-01,  1.28042041e+00,\n",
              "        -1.10777888e-01, -2.97388644e-01, -3.01981048e-01],\n",
              "       [ 1.75946928e+00, -4.46588262e-01,  1.14236001e+00,\n",
              "        -1.70282990e-01, -1.38641108e+00, -8.53552639e-01],\n",
              "       [ 1.78701565e-01, -2.92681789e-01,  6.66383596e-01,\n",
              "        -1.21179709e-01, -8.15649366e-01, -1.95660899e-01],\n",
              "       [-4.70804754e-01,  4.00857229e-01, -5.82012025e-02,\n",
              "        -8.60054427e-02,  7.02340286e-01,  1.21667534e+00],\n",
              "       [ 1.90807327e+00, -5.60096799e-01, -3.76691330e-01,\n",
              "        -1.44256196e-01, -4.48875447e-01, -1.34779162e+00],\n",
              "       [-1.99005003e+00, -1.66226160e-02, -2.55140140e-01,\n",
              "        -1.09272044e-01,  1.99134881e+00, -7.29083358e-01],\n",
              "       [ 6.58653734e-03, -3.70525210e-01, -9.04515390e-01,\n",
              "        -1.69099240e-01, -3.63692311e-01, -5.61387829e-01],\n",
              "       [-6.38471892e-01,  2.75251384e-01, -6.38664935e-02,\n",
              "        -9.47607989e-02,  1.57415099e+00,  5.21035252e-01],\n",
              "       [ 5.40716847e-02, -1.70904491e-01,  4.95895148e-01,\n",
              "        -1.17512840e-01, -2.65604793e-01,  5.39286260e-01],\n",
              "       [-3.71825378e-01, -4.35920055e-01, -1.03654357e+00,\n",
              "        -9.86550025e-02, -7.36579311e-01, -1.09188283e-01],\n",
              "       [-2.47804952e-01,  8.57990470e-02, -8.35414395e-01,\n",
              "        -8.14729019e-02, -2.95353941e-01,  5.00459169e-01],\n",
              "       [-3.19534790e-01,  1.74021335e-01, -1.43337820e-01,\n",
              "        -1.20818149e-01,  1.75960749e-01,  3.66737429e-01],\n",
              "       [ 9.58327908e-01,  1.79794049e-01, -8.74791927e-01,\n",
              "        -1.59019510e-01, -9.38566149e-03, -2.64114806e-01],\n",
              "       [-9.07515361e-01, -1.53271433e-01, -1.06465246e-01,\n",
              "        -1.43250593e-01,  2.91748086e+00,  2.50689986e-01],\n",
              "       [ 4.82795749e-01, -3.47995860e-01, -4.18750683e-01,\n",
              "        -1.49886323e-01, -8.19702668e-01, -5.39170054e-01],\n",
              "       [-2.94827838e-01,  1.75348863e-01, -1.25687676e-01,\n",
              "        -1.07506717e-01,  1.77215610e-01,  1.02588430e+00],\n",
              "       [-1.86006776e-01, -3.16619221e-01, -1.05128041e-01,\n",
              "        -9.59550387e-02, -1.19740323e+00,  1.22363532e-01],\n",
              "       [-7.88775523e-01, -1.30033476e-01, -8.51694196e-01,\n",
              "        -4.36351709e-02,  2.49341246e-01,  9.16409210e-01],\n",
              "       [ 7.22514862e-01, -3.90385284e-01,  1.45417282e+00,\n",
              "        -1.28821792e-01, -3.55084757e-01,  8.54455718e-01],\n",
              "       [-8.45604600e-01, -5.30566848e-01, -8.25200436e-01,\n",
              "        -1.06535550e-01, -2.83956120e-01,  2.01828357e+00],\n",
              "       [-7.34437585e-01, -3.37874283e-01, -2.77965958e-01,\n",
              "        -1.13244779e-01,  1.09907354e+00, -7.71945703e-01],\n",
              "       [ 6.21810319e-01, -2.82355317e-01,  6.26715014e-01,\n",
              "        -1.69157659e-01, -1.30163149e+00, -6.59960430e-01],\n",
              "       [-5.85036747e-01, -1.10283202e+00, -2.87234633e-01,\n",
              "         7.70622769e+00,  6.24317995e-01,  3.34579874e-01],\n",
              "       [ 8.56887244e-01, -5.37832819e-01,  5.50378305e-01,\n",
              "        -1.43728980e-01, -4.26625585e-01, -6.93571185e-01],\n",
              "       [ 7.00210812e-01,  1.68042182e-01, -2.46710152e-01,\n",
              "        -1.64315777e-01, -8.52676430e-01, -6.90603450e-01],\n",
              "       [-7.51715567e-01,  1.03654002e-02,  5.08996636e-01,\n",
              "        -1.08974183e-01,  2.22040312e-01,  3.87596080e-01],\n",
              "       [-7.43757808e-01,  8.04014177e-01,  1.14749357e+00,\n",
              "        -8.97249784e-02, -1.15569754e+00, -2.25247573e-01],\n",
              "       [-1.58166274e-01,  3.16154736e-01, -5.28573825e-01,\n",
              "        -1.30648158e-01, -7.06418750e-01, -4.28351561e-01],\n",
              "       [-6.06826532e-01, -1.34716885e-02, -2.11686164e-01,\n",
              "        -7.93685242e-02,  6.39149403e-01,  8.50943460e-02],\n",
              "       [-2.17693722e-01,  1.96595740e-01, -9.38178888e-01,\n",
              "        -1.31650203e-01, -7.97284832e-01,  4.34362524e-02],\n",
              "       [ 4.50540234e-01, -5.68095199e-01, -3.45099137e-01,\n",
              "        -1.69682904e-01,  2.59712117e-02, -1.27007910e+00],\n",
              "       [ 7.97698140e-01, -6.02157049e-01, -1.04205137e+00,\n",
              "        -1.29013273e-01,  9.09644643e-03, -1.19284979e+00],\n",
              "       [-1.82214432e+00,  8.62748387e-02, -1.13015443e+00,\n",
              "        -1.04167482e-01, -2.51997984e-01,  3.46691628e-01],\n",
              "       [ 2.06496527e+00, -1.50526320e-01, -5.45007008e-01,\n",
              "        -1.24234443e-01, -1.33672254e+00, -1.14643080e+00],\n",
              "       [ 9.31893408e-02,  3.12024490e-01, -1.56296635e-01,\n",
              "        -1.58599899e-01,  5.36474258e-01, -2.53371184e-01],\n",
              "       [ 3.35380009e-01,  5.12412957e-01, -3.22316322e-01,\n",
              "        -1.40403657e-01,  9.66809198e-01, -1.41609941e+00],\n",
              "       [-4.79291594e-01, -2.33914523e-01, -2.86256847e-01,\n",
              "        -1.24289429e-01, -3.63468017e-01,  2.60027840e-02],\n",
              "       [ 4.14259505e-01, -3.50743192e-01, -1.10806080e+00,\n",
              "        -1.24964904e-01,  1.07899096e-01,  7.90095507e-02],\n",
              "       [ 3.82444396e-01, -4.37403095e-01, -9.12920170e-01,\n",
              "        -8.82684453e-02, -3.41297160e-01,  8.05398000e-01],\n",
              "       [-5.78683220e-01, -2.03708807e-01,  1.39951238e+00,\n",
              "        -1.19384245e-01,  1.94864222e-01,  1.72880889e+00],\n",
              "       [ 1.80442936e+00, -2.45539448e-01,  5.15110496e-01,\n",
              "        -1.70217003e-01, -1.43068398e+00, -3.78110629e-01],\n",
              "       [-1.33106887e+00,  2.03088524e-01, -1.12578907e+00,\n",
              "        -1.18302199e-01,  2.00233947e+00, -4.09745484e-01],\n",
              "       [ 3.95760936e-01, -6.07908057e-01,  3.64547111e-01,\n",
              "        -1.20029128e-01,  1.44739425e-01, -5.90394374e-01],\n",
              "       [-1.12989733e+00,  2.89895000e-02, -1.02393652e+00,\n",
              "        -1.21563974e-01, -3.12975506e-01, -9.58538399e-01],\n",
              "       [-1.14850625e+00,  8.64353226e-01, -1.48403053e-01,\n",
              "        -1.10268086e-01,  2.43967220e-01,  1.61149471e+00],\n",
              "       [ 6.62479287e-01,  3.56869893e-01,  4.02656924e-01,\n",
              "        -1.41552009e-01, -3.32971202e-01, -4.72474538e-01],\n",
              "       [ 3.23966297e-01, -3.63934904e-01,  3.01841340e+00,\n",
              "        -1.99531638e-01,  1.44988008e-03, -1.10768414e+00],\n",
              "       [ 2.25292474e-01, -4.89904263e-01,  4.53054045e-01,\n",
              "        -1.55902099e-01,  1.44262567e+00, -5.68802438e-01],\n",
              "       [-7.25175271e-01, -5.64163598e-01,  5.08626451e-02,\n",
              "        -3.31701689e-02,  1.91745835e-01,  1.76977201e+00],\n",
              "       [ 6.12261686e-01, -9.06391686e-01,  5.66882792e-01,\n",
              "        -1.65034669e-01,  9.72537764e-01, -1.19348046e+00],\n",
              "       [ 1.68391296e+00,  2.75770718e-01,  5.51710969e-01,\n",
              "        -1.13823121e-01,  1.20261808e+00, -9.96512042e-01],\n",
              "       [-1.65865117e+00,  2.75091850e-01,  1.22167046e-01,\n",
              "        -1.00807809e-01,  5.80043381e-01,  3.27965950e-01],\n",
              "       [ 1.19408990e+00, -8.11912347e-01,  3.63780030e+00,\n",
              "        -1.61858988e-01, -8.40702845e-01, -4.17767834e-01],\n",
              "       [-1.60149799e-01, -1.49214517e+00, -2.69452878e-01,\n",
              "        -1.44881441e-01, -8.03635050e-01,  6.09072516e-01],\n",
              "       [ 1.79090243e-01, -2.27734918e-01,  5.36346104e-01,\n",
              "        -1.17533638e-01,  1.05613217e+00,  9.46989497e-03],\n",
              "       [-5.69112542e-01, -4.20417903e-01,  7.18827510e-01,\n",
              "        -1.25691637e-01, -7.91340906e-01,  7.09228543e-01],\n",
              "       [-4.61865169e-01,  1.33529599e-01, -1.02572633e+00,\n",
              "        -6.70330583e-02, -1.21794071e+00,  2.93476863e-01],\n",
              "       [ 3.36924868e-01,  1.06062857e-01,  1.05836671e+00,\n",
              "        -1.19235101e-01, -3.09915662e-01, -9.75037953e-01],\n",
              "       [ 4.01169011e-01, -4.91105099e-01,  1.46169099e+00,\n",
              "        -1.46807382e-01, -8.11451461e-01, -1.54960068e-01],\n",
              "       [-6.22834515e-01, -6.25786641e-01, -7.70131952e-01,\n",
              "        -8.94665343e-02,  1.29252848e+00,  6.63107230e-02],\n",
              "       [ 1.40293661e+00, -5.76672146e-01,  3.44325677e-01,\n",
              "        -1.99142756e-01, -1.40400915e+00, -1.50203422e+00],\n",
              "       [-6.57803088e-01, -9.77923790e-02, -3.43756622e-01,\n",
              "        -1.35462812e-01,  1.09584824e+00,  2.32803023e-01],\n",
              "       [ 1.99362671e+00, -4.02993454e-01,  1.60774142e-01,\n",
              "        -2.16013384e-01, -9.58748358e-01, -1.68373996e+00],\n",
              "       [-1.41005138e+00,  3.61201138e-01,  7.41075721e-01,\n",
              "        -8.73971757e-02, -6.45427450e-01,  2.68539616e+00],\n",
              "       [-1.57153498e+00, -1.00551856e+00, -3.27823287e-01,\n",
              "        -1.10773218e-01,  1.70116460e-01,  3.21459215e-01],\n",
              "       [ 1.43436299e+00, -1.51772541e+00, -3.13512245e-01,\n",
              "        -1.45259865e-01, -8.52575049e-01,  8.75176484e-01],\n",
              "       [-1.17426283e+00,  3.48258434e-02, -1.09288310e+00,\n",
              "        -7.55566532e-02,  6.19093317e-01, -4.13390192e-01],\n",
              "       [ 1.30478936e+00, -2.78318452e-01, -1.10374372e+00,\n",
              "        -1.74680939e-01, -9.28112295e-01, -1.38306555e+00],\n",
              "       [ 5.79585780e-01, -1.59924119e-01, -1.18291477e+00,\n",
              "        -1.10531713e-01, -7.99095687e-01,  1.01446460e+00],\n",
              "       [-2.36210219e-01, -5.29699151e-01,  6.01407553e-01,\n",
              "        -1.00972103e-01, -3.38214682e-01,  1.82523136e-01],\n",
              "       [-1.46380130e+00, -5.86830748e-01, -1.03743154e-01,\n",
              "        -1.06844523e-01, -2.77258081e-01,  6.21097201e-01],\n",
              "       [ 8.49932852e-01, -4.53513876e-01,  6.56213885e-01,\n",
              "        -1.02434136e-01, -3.40832265e-01,  7.99345909e-01],\n",
              "       [-9.73816812e-01, -1.96659447e-01, -2.50909950e-01,\n",
              "        -1.10775755e-01, -1.27172503e+00,  5.07203015e-01],\n",
              "       [ 6.29233028e-01, -5.12901841e-01,  3.17004992e-01,\n",
              "        -1.40768975e-01,  1.06886186e+00,  1.31895321e-02],\n",
              "       [-1.74167825e+00,  9.97486592e-01,  7.07354595e-01,\n",
              "        -1.01075684e-01,  2.03082241e+00,  1.48246990e+00],\n",
              "       [ 1.66350711e+00,  6.01957777e-01, -1.24555796e+00,\n",
              "        -1.63646364e-01,  1.63385884e-02, -1.48672232e+00],\n",
              "       [ 6.01481510e-01, -9.79685805e-01, -1.14613795e+00,\n",
              "        -1.00622484e-01,  1.82806846e-01,  6.37397099e-01],\n",
              "       [-1.67848492e+00, -2.61247552e-01,  1.22888559e+00,\n",
              "        -1.29293907e-01,  1.71326922e-01,  2.24297600e-01],\n",
              "       [-2.84547061e-01,  6.47878675e-01, -1.18932788e+00,\n",
              "        -9.12805500e-02,  6.11424680e-01,  6.13175467e-01],\n",
              "       [ 1.14504806e+00, -2.62297322e-01,  4.76450517e-01,\n",
              "        -1.30016744e-01, -9.42638317e-01, -1.43241519e+00],\n",
              "       [ 9.98724026e-01, -3.76681064e-01,  3.69686909e-01,\n",
              "        -1.17322178e-01,  1.01336924e+00,  3.62248771e-01],\n",
              "       [-6.85250494e-01, -3.04612652e-01,  6.43779012e-01,\n",
              "        -1.32570968e-01, -7.94144253e-01,  7.02443822e-01],\n",
              "       [ 8.84333028e-01, -2.00731160e+00, -1.13778308e+00,\n",
              "        -1.28592279e-01, -4.57410124e-01, -8.52946054e-01],\n",
              "       [ 2.83956382e-01, -2.22681278e+00, -5.36077454e-01,\n",
              "        -1.24845404e-01,  2.88667857e-02, -1.40779520e+00],\n",
              "       [-9.25814918e-01, -7.81446331e-01, -8.78409529e-01,\n",
              "        -1.29119741e-01, -7.61541939e-01, -1.81555066e-01],\n",
              "       [ 8.57897870e-02, -5.62795388e-01, -1.05095224e-01,\n",
              "        -9.40605020e-02,  1.62105893e-01, -1.48973337e-01],\n",
              "       [-1.06357441e+00, -4.06578341e-01, -5.55724867e-02,\n",
              "        -1.29480262e-01,  1.06055280e+00,  9.45742090e-01],\n",
              "       [ 1.06818842e+00,  2.18777759e-02,  8.02494544e-01,\n",
              "        -1.06628297e-01,  5.20235279e-01,  8.84846874e-01],\n",
              "       [ 1.94930266e-01,  1.13291436e-01, -1.22789883e+00,\n",
              "        -1.35245476e-01,  1.25013774e-01, -1.08517964e+00],\n",
              "       [ 6.00839866e-01, -1.13814281e-01, -2.96974154e-01,\n",
              "        -1.20845275e-01, -8.04087169e-01,  1.05784566e-01],\n",
              "       [-6.21150368e-01, -7.65477684e-01,  2.17346208e+00,\n",
              "        -1.27772013e-01, -7.14020433e-01,  1.20644099e+00],\n",
              "       [ 7.24390196e-01, -8.69612329e-01,  1.37332492e+00,\n",
              "        -7.73882420e-02, -1.22437856e+00,  1.91220083e+00],\n",
              "       [-1.40668125e+00,  7.72830633e-02,  5.43152951e-01,\n",
              "        -8.73633143e-02,  6.36518828e-01, -6.69871250e-01],\n",
              "       [ 6.66683403e-01,  1.12236736e-01, -3.54425650e-01,\n",
              "        -1.29017244e-01, -8.54150951e-01, -4.80882413e-01],\n",
              "       [ 3.44944152e+00,  2.40046626e+00, -4.96611320e-01,\n",
              "        -1.63089617e-01, -1.55462962e+00, -1.35041202e+00],\n",
              "       [-2.09202717e+00,  3.38111781e+00, -1.75575281e-01,\n",
              "        -4.93650324e-02,  3.02390734e+00,  7.31029349e-01],\n",
              "       [ 6.14089239e-01,  2.03206177e+00, -3.97155934e-01,\n",
              "        -1.64065634e-01, -4.32246186e-01, -1.40058872e+00],\n",
              "       [-2.34706037e-01,  2.41276477e+00, -3.56969574e-01,\n",
              "        -1.44528729e-01,  1.97960594e+00, -2.00341729e-01],\n",
              "       [-6.45302441e-02, -1.27123415e+00,  7.00425254e-01,\n",
              "        -1.59733178e-01, -9.34430714e-01, -3.16663681e-01],\n",
              "       [ 1.94911226e-01, -1.51006343e+00, -1.08506810e+00,\n",
              "        -5.39946681e-02,  2.49149299e+00,  1.30880492e+00],\n",
              "       [ 9.68846755e-01,  4.54390615e-02,  1.17677557e+00,\n",
              "        -1.64024091e-01,  6.64159562e-03, -1.22473078e+00],\n",
              "       [-1.18174257e-01,  1.44667043e-01,  4.71316314e-01,\n",
              "        -1.19483283e-01,  1.00095094e+00, -6.05067456e-01],\n",
              "       [-1.26256758e+00, -8.76843686e-02, -3.44473129e-01,\n",
              "        -1.21393997e-01,  6.24632187e-01, -3.89585960e-01],\n",
              "       [ 7.90584570e-01, -1.91491623e-01, -1.20370345e+00,\n",
              "         7.72935105e+00, -3.26856390e-01,  1.52654786e-01],\n",
              "       [-4.04694299e-01,  2.56947144e+00, -1.09816947e-01,\n",
              "        -9.87345400e-02, -6.85745063e-01,  2.85945133e+00],\n",
              "       [ 2.22507767e-02,  3.05329622e+00, -4.19935333e-01,\n",
              "        -1.23604481e-01,  1.92107794e-01,  3.14313380e-01],\n",
              "       [-1.21644952e+00, -7.46740640e-02, -9.49945218e-01,\n",
              "        -9.96088854e-02, -1.24000043e+00,  3.93660013e-01],\n",
              "       [ 4.56759032e-01, -5.88777672e-01,  3.54820218e-01,\n",
              "        -1.33134862e-01,  5.98087329e-01,  1.89919577e-01],\n",
              "       [ 7.99427059e-01, -3.06361835e-01, -9.81050637e-02,\n",
              "        -1.26771600e-01, -4.15746440e-01,  1.14778706e-02],\n",
              "       [-5.26474325e-01, -1.57020686e-01,  6.50696404e-01,\n",
              "        -9.68952229e-02,  2.90599499e+00,  3.67385046e-01],\n",
              "       [-6.89163732e-01,  8.07171280e-02, -1.04269290e+00,\n",
              "        -1.13265875e-01, -1.25074082e+00, -6.67545552e-03],\n",
              "       [ 3.81504313e-01,  2.77147383e-01,  2.32465945e-01,\n",
              "        -9.07404012e-02,  1.61107153e-01, -6.07686366e-01],\n",
              "       [-1.52978492e+00,  3.67771965e+00,  9.05318377e-01,\n",
              "        -6.82488503e-02, -7.24120159e-01,  5.44404139e-01],\n",
              "       [ 1.02069074e+00,  2.79242353e+00,  3.66515721e-01,\n",
              "        -1.16990423e-01,  1.04923409e+00,  1.42195588e+00],\n",
              "       [-4.68025883e-01, -5.10882480e-01, -3.33607198e-01,\n",
              "        -1.64553967e-01,  1.12939372e-01, -2.12749450e-01],\n",
              "       [ 1.11367577e+00, -4.33014354e-01, -9.59773569e-01,\n",
              "        -1.25370122e-01,  5.13208635e-01,  5.09245248e-01],\n",
              "       [ 1.14463189e-01,  3.16230192e+00,  6.08970909e-01,\n",
              "        -1.33929671e-01, -1.23809591e+00,  6.42475257e-01],\n",
              "       [-5.85750431e-01,  3.45848434e+00, -3.32725493e-01,\n",
              "        -1.07201468e-01,  1.15892297e+00, -5.64530494e-03],\n",
              "       [ 2.55073514e-01, -6.31199582e-03,  4.30406922e-01,\n",
              "        -1.19958718e-01,  9.96762628e-01, -6.48567311e-01],\n",
              "       [ 1.41564502e+00,  1.52870756e-01, -1.13121603e+00,\n",
              "        -1.75369370e-01, -5.00492139e-01, -6.21132615e-01],\n",
              "       [-1.14290834e+00, -5.79355012e-01,  2.23631348e+00,\n",
              "        -9.80344098e-02, -7.49520902e-01,  4.24296963e-01],\n",
              "       [ 6.97481203e-01, -5.47630566e-01,  3.12949385e-01,\n",
              "        -1.36415999e-01,  1.22733796e-01, -4.73849009e-01]])"
            ]
          },
          "metadata": {
            "tags": []
          },
          "execution_count": 63
        }
      ]
    },
    {
      "cell_type": "markdown",
      "metadata": {
        "id": "-TkuGHbLSRC4"
      },
      "source": [
        "\n",
        "## 9.Run Factor Analyzer อีกรอบ ด้วย paremeters จำนวน factor เท่ากับ 6"
      ]
    },
    {
      "cell_type": "code",
      "metadata": {
        "id": "2m8qcr4ISOWM"
      },
      "source": [
        "from factor_analyzer import FactorAnalyzer\n",
        "fi_fa2 = FactorAnalyzer(n_factors=6)\n",
        "newfi_fa2 = fi_fa2.fit_transform(fifa_drop)"
      ],
      "execution_count": 64,
      "outputs": []
    },
    {
      "cell_type": "code",
      "metadata": {
        "colab": {
          "base_uri": "https://localhost:8080/"
        },
        "id": "gYl1WDDqSZ1D",
        "outputId": "4494b619-f949-4617-ba27-9b3b0b1d40ee"
      },
      "source": [
        "fi_fa2.loadings_.shape"
      ],
      "execution_count": 65,
      "outputs": [
        {
          "output_type": "execute_result",
          "data": {
            "text/plain": [
              "(17, 6)"
            ]
          },
          "metadata": {
            "tags": []
          },
          "execution_count": 65
        }
      ]
    },
    {
      "cell_type": "markdown",
      "metadata": {
        "id": "2vm9AbA7ScdB"
      },
      "source": [
        "\n",
        "Plot factor loadings"
      ]
    },
    {
      "cell_type": "code",
      "metadata": {
        "id": "USHy7BHmSdeq"
      },
      "source": [
        "from matplotlib import pyplot as plt\n",
        "import numpy as np\n",
        "import matplotlib"
      ],
      "execution_count": 66,
      "outputs": []
    },
    {
      "cell_type": "markdown",
      "metadata": {
        "id": "FOPncSO8SfAU"
      },
      "source": [
        "Matrix plot\n",
        "\n",
        "Confirmatory"
      ]
    },
    {
      "cell_type": "code",
      "metadata": {
        "colab": {
          "base_uri": "https://localhost:8080/",
          "height": 880
        },
        "id": "5PPLiCTISiS8",
        "outputId": "cfe5919d-fcf1-4c00-8f05-d783271b4a63"
      },
      "source": [
        "matplotlib.rcParams['figure.figsize']=[15,15]\n",
        "plt.imshow(np.absolute(fi_fa2.loadings_))"
      ],
      "execution_count": 67,
      "outputs": [
        {
          "output_type": "execute_result",
          "data": {
            "text/plain": [
              "<matplotlib.image.AxesImage at 0x7fc7b1b8eb10>"
            ]
          },
          "metadata": {
            "tags": []
          },
          "execution_count": 67
        },
        {
          "output_type": "display_data",
          "data": {
            "image/png": "[encoded data removed]",
            "text/plain": [
              "<Figure size 1080x1080 with 1 Axes>"
            ]
          },
          "metadata": {
            "tags": [],
            "needs_background": "light"
          }
        }
      ]
    },
    {
      "cell_type": "markdown",
      "metadata": {
        "id": "lHWcFZULSmyB"
      },
      "source": [
        "ทำกราฟแท่ง\n",
        "\n",
        "Exploratory"
      ]
    },
    {
      "cell_type": "code",
      "metadata": {
        "colab": {
          "base_uri": "https://localhost:8080/"
        },
        "id": "SqQjrY4hSpRj",
        "outputId": "8efe405f-22c3-4a62-8ad4-c61578a2c7ef"
      },
      "source": [
        "fifa_drop.columns"
      ],
      "execution_count": 68,
      "outputs": [
        {
          "output_type": "execute_result",
          "data": {
            "text/plain": [
              "Index(['Goal Scored', 'Ball Possession %', 'Attempts', 'On-Target',\n",
              "       'Off-Target', 'Blocked', 'Corners', 'Offsides', 'Free Kicks', 'Saves',\n",
              "       'Pass Accuracy %', 'Passes', 'Distance Covered (Kms)',\n",
              "       'Fouls Committed', 'Yellow Card', 'Yellow & Red', 'Red'],\n",
              "      dtype='object')"
            ]
          },
          "metadata": {
            "tags": []
          },
          "execution_count": 68
        }
      ]
    },
    {
      "cell_type": "code",
      "metadata": {
        "colab": {
          "base_uri": "https://localhost:8080/",
          "height": 880
        },
        "id": "rNmFXkpjSs_K",
        "outputId": "488f1b03-83cd-4645-c7a1-95c8e5b4f4fb"
      },
      "source": [
        "plt.bar(range(17),np.absolute(fi_fa2.loadings_[:,0]),tick_label=fifa_drop.columns)"
      ],
      "execution_count": 69,
      "outputs": [
        {
          "output_type": "execute_result",
          "data": {
            "text/plain": [
              "<BarContainer object of 17 artists>"
            ]
          },
          "metadata": {
            "tags": []
          },
          "execution_count": 69
        },
        {
          "output_type": "display_data",
          "data": {
            "image/png": "[encoded data removed]",
            "text/plain": [
              "<Figure size 1080x1080 with 1 Axes>"
            ]
          },
          "metadata": {
            "tags": [],
            "needs_background": "light"
          }
        }
      ]
    },
    {
      "cell_type": "markdown",
      "metadata": {
        "id": "CG7XpkvMS6zE"
      },
      "source": [
        "## จากการวิเคราะห์ผล\n",
        "\n",
        "มีตัวแปรอิสระ 6 ตัวแปร ที่สามารถอธิบายข้อมูลทั้งหมดและสามารถที่จะวิเคราะห์ตัวองค์ประกอบเชิงสำรวจ(Exporatory Factor As) และ วิเคราะห์ตัวองค์ประกอบเชิงยืนยัน (Confirmatory As) ได้"
      ]
    },
    {
      "cell_type": "code",
      "metadata": {
        "id": "Zia3kjcRS1fb"
      },
      "source": [
        ""
      ],
      "execution_count": 69,
      "outputs": []
    }
  ]
}