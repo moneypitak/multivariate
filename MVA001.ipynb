{
  "nbformat": 4,
  "nbformat_minor": 0,
  "metadata": {
    "colab": {
      "name": "MVA001.ipynb",
      "provenance": [],
      "toc_visible": true,
      "authorship_tag": "ABX9TyPpFbanGmbSFZn6wSriKQ5e",
      "include_colab_link": true
    },
    "kernelspec": {
      "name": "python3",
      "display_name": "Python 3"
    }
  },
  "cells": [
    {
      "cell_type": "markdown",
      "metadata": {
        "id": "view-in-github",
        "colab_type": "text"
      },
      "source": [
        "<a href=\"https://colab.research.google.com/github/moneypitak/multivariate/blob/main/MVA001.ipynb\" target=\"_parent\"><img src=\"https://colab.research.google.com/assets/colab-badge.svg\" alt=\"Open In Colab\"/></a>"
      ]
    },
    {
      "cell_type": "markdown",
      "metadata": {
        "id": "VRg-7SHPTB-8"
      },
      "source": [
        "Scalar, Vector, Matrix"
      ]
    },
    {
      "cell_type": "code",
      "metadata": {
        "id": "Lao1usIrT3rD"
      },
      "source": [
        "import numpy as np"
      ],
      "execution_count": 2,
      "outputs": []
    },
    {
      "cell_type": "code",
      "metadata": {
        "colab": {
          "base_uri": "https://localhost:8080/"
        },
        "id": "TQHki-_RSpzl",
        "outputId": "923ceac2-e818-4b48-c0f2-991c0db9afd2"
      },
      "source": [
        "scalar_a = 10 \r\n",
        "print(scalar_a)"
      ],
      "execution_count": 3,
      "outputs": [
        {
          "output_type": "stream",
          "text": [
            "10\n"
          ],
          "name": "stdout"
        }
      ]
    },
    {
      "cell_type": "code",
      "metadata": {
        "colab": {
          "base_uri": "https://localhost:8080/"
        },
        "id": "rPtsqn4DTYJb",
        "outputId": "dc122732-086c-401a-a48e-1bfb66c8cf19"
      },
      "source": [
        "vector_b = np.zeros([2,1])\r\n",
        "vector_b[0,0] = 2\r\n",
        "vector_b[1,0] = 3\r\n",
        "print(vector_b)\r\n",
        "print(vector_b.shape)"
      ],
      "execution_count": 4,
      "outputs": [
        {
          "output_type": "stream",
          "text": [
            "[[2.]\n",
            " [3.]]\n",
            "(2, 1)\n"
          ],
          "name": "stdout"
        }
      ]
    },
    {
      "cell_type": "code",
      "metadata": {
        "colab": {
          "base_uri": "https://localhost:8080/"
        },
        "id": "7hJor16-UJu0",
        "outputId": "47b07fba-9972-4755-9412-ea796f7b55fd"
      },
      "source": [
        "vector_c = np.array([[1],[2]])\r\n",
        "print(vector_c)\r\n",
        "print(vector_c.shape)"
      ],
      "execution_count": 5,
      "outputs": [
        {
          "output_type": "stream",
          "text": [
            "[[1]\n",
            " [2]]\n",
            "(2, 1)\n"
          ],
          "name": "stdout"
        }
      ]
    },
    {
      "cell_type": "code",
      "metadata": {
        "id": "pOsDKRzxU0J-"
      },
      "source": [
        "from matplotlib import pyplot as plt"
      ],
      "execution_count": 6,
      "outputs": []
    },
    {
      "cell_type": "code",
      "metadata": {
        "colab": {
          "base_uri": "https://localhost:8080/",
          "height": 283
        },
        "id": "k3i_8GJoVK8a",
        "outputId": "6de685af-0f2a-43f2-c420-7f2094c9e13e"
      },
      "source": [
        "plt.plot(vector_b[0,0],vector_b[1,0],'or')"
      ],
      "execution_count": 7,
      "outputs": [
        {
          "output_type": "execute_result",
          "data": {
            "text/plain": [
              "[<matplotlib.lines.Line2D at 0x7f86ad553978>]"
            ]
          },
          "metadata": {
            "tags": []
          },
          "execution_count": 7
        },
        {
          "output_type": "display_data",
          "data": {
            "image/png": "[encoded data removed]",
            "text/plain": [
              "<Figure size 432x288 with 1 Axes>"
            ]
          },
          "metadata": {
            "tags": [],
            "needs_background": "light"
          }
        }
      ]
    },
    {
      "cell_type": "code",
      "metadata": {
        "colab": {
          "base_uri": "https://localhost:8080/",
          "height": 283
        },
        "id": "_9yQ0FrlVmH0",
        "outputId": "9f6a1e12-6c32-4a95-93c4-3d095be434a1"
      },
      "source": [
        "plt.quiver(0,0,vector_b[0,0],vector_b[1,0])"
      ],
      "execution_count": 8,
      "outputs": [
        {
          "output_type": "execute_result",
          "data": {
            "text/plain": [
              "<matplotlib.quiver.Quiver at 0x7f86ad5397f0>"
            ]
          },
          "metadata": {
            "tags": []
          },
          "execution_count": 8
        },
        {
          "output_type": "display_data",
          "data": {
            "image/png": "[encoded data removed]",
            "text/plain": [
              "<Figure size 432x288 with 1 Axes>"
            ]
          },
          "metadata": {
            "tags": [],
            "needs_background": "light"
          }
        }
      ]
    },
    {
      "cell_type": "markdown",
      "metadata": {
        "id": "Pq9UPj9KXxd8"
      },
      "source": [
        "ขนาดของ vector คำนวณได้โดย พิธากอรัส\r\n"
      ]
    },
    {
      "cell_type": "code",
      "metadata": {
        "colab": {
          "base_uri": "https://localhost:8080/"
        },
        "id": "dKnWiLlaWp2V",
        "outputId": "cda6890f-5fe5-4545-f9d3-ff02e157d10f"
      },
      "source": [
        "vector_b_size = ((vector_b[0,0]**2) + (vector_b[1,0]**2))**0.5\r\n",
        "print(vector_b_size)"
      ],
      "execution_count": 9,
      "outputs": [
        {
          "output_type": "stream",
          "text": [
            "3.605551275463989\n"
          ],
          "name": "stdout"
        }
      ]
    },
    {
      "cell_type": "markdown",
      "metadata": {
        "id": "n2Eq3IQpZEca"
      },
      "source": [
        "# Matrix"
      ]
    },
    {
      "cell_type": "code",
      "metadata": {
        "colab": {
          "base_uri": "https://localhost:8080/"
        },
        "id": "TOrFoOClYazh",
        "outputId": "76e3b7a0-74ca-4902-9e80-c9c1acbbab0e"
      },
      "source": [
        "matrix_d = np.array([[2,3],[1,4],[-1,1]])\r\n",
        "print(matrix_d)"
      ],
      "execution_count": 10,
      "outputs": [
        {
          "output_type": "stream",
          "text": [
            "[[ 2  3]\n",
            " [ 1  4]\n",
            " [-1  1]]\n"
          ],
          "name": "stdout"
        }
      ]
    },
    {
      "cell_type": "code",
      "metadata": {
        "colab": {
          "base_uri": "https://localhost:8080/"
        },
        "id": "yJPoRsoWaK7c",
        "outputId": "8e3134e3-4e60-46d0-dba0-508232e14224"
      },
      "source": [
        "matrix_d = matrix_d.T\r\n",
        "print(matrix_d)"
      ],
      "execution_count": 11,
      "outputs": [
        {
          "output_type": "stream",
          "text": [
            "[[ 2  1 -1]\n",
            " [ 3  4  1]]\n"
          ],
          "name": "stdout"
        }
      ]
    },
    {
      "cell_type": "code",
      "metadata": {
        "colab": {
          "base_uri": "https://localhost:8080/",
          "height": 283
        },
        "id": "oMTEAiizaZmN",
        "outputId": "2b3825a8-13be-435c-919b-913a665879ac"
      },
      "source": [
        "plt.plot(matrix_d[0,:],matrix_d[1,:],'or') ## plot(ค่าx,ค่าy,หน้าตาของจุด)\r\n",
        "plt.plot(0,0,'.b') ## plot(ค่าx,ค่าy,หน้าตาของจุด)\r\n",
        "plt.plot([0,0],[-1,5],'--b')\r\n",
        "plt.plot([-1.5,2.5],[0,0],'--b')"
      ],
      "execution_count": 12,
      "outputs": [
        {
          "output_type": "execute_result",
          "data": {
            "text/plain": [
              "[<matplotlib.lines.Line2D at 0x7f86a4815400>]"
            ]
          },
          "metadata": {
            "tags": []
          },
          "execution_count": 12
        },
        {
          "output_type": "display_data",
          "data": {
            "image/png": "[encoded data removed]",
            "text/plain": [
              "<Figure size 432x288 with 1 Axes>"
            ]
          },
          "metadata": {
            "tags": [],
            "needs_background": "light"
          }
        }
      ]
    },
    {
      "cell_type": "markdown",
      "metadata": {
        "id": "Ts2h6swgkMm6"
      },
      "source": [
        "# Transpose"
      ]
    },
    {
      "cell_type": "code",
      "metadata": {
        "colab": {
          "base_uri": "https://localhost:8080/"
        },
        "id": "YVLosp1skaDJ",
        "outputId": "f682eac7-46df-4a5d-975c-23d2c63be252"
      },
      "source": [
        "A = np.array([[3,-1,2],[1,5,4]])\r\n",
        "print(A)"
      ],
      "execution_count": 13,
      "outputs": [
        {
          "output_type": "stream",
          "text": [
            "[[ 3 -1  2]\n",
            " [ 1  5  4]]\n"
          ],
          "name": "stdout"
        }
      ]
    },
    {
      "cell_type": "code",
      "metadata": {
        "colab": {
          "base_uri": "https://localhost:8080/"
        },
        "id": "fwhPmgVVlgQA",
        "outputId": "1a84e415-58ea-4233-eba2-43037ac52ca5"
      },
      "source": [
        "A.T"
      ],
      "execution_count": 14,
      "outputs": [
        {
          "output_type": "execute_result",
          "data": {
            "text/plain": [
              "array([[ 3,  1],\n",
              "       [-1,  5],\n",
              "       [ 2,  4]])"
            ]
          },
          "metadata": {
            "tags": []
          },
          "execution_count": 14
        }
      ]
    },
    {
      "cell_type": "markdown",
      "metadata": {
        "id": "n-aAFsAFllIr"
      },
      "source": [
        "## Matrix Multiply\r\n",
        "B = A*A'"
      ]
    },
    {
      "cell_type": "code",
      "metadata": {
        "colab": {
          "base_uri": "https://localhost:8080/"
        },
        "id": "uH9vpOBtlg6A",
        "outputId": "4efb198e-02ee-46ea-c01a-c67685ff04a2"
      },
      "source": [
        "B = np.dot(A,A.T)\r\n",
        "print(B)"
      ],
      "execution_count": 15,
      "outputs": [
        {
          "output_type": "stream",
          "text": [
            "[[14  6]\n",
            " [ 6 42]]\n"
          ],
          "name": "stdout"
        }
      ]
    },
    {
      "cell_type": "markdown",
      "metadata": {
        "id": "E5NwJq5BmCyB"
      },
      "source": [
        "## Determinant\r\n",
        "$Det$($ฺB$)"
      ]
    },
    {
      "cell_type": "code",
      "metadata": {
        "colab": {
          "base_uri": "https://localhost:8080/"
        },
        "id": "Uq1J3WCLl_2U",
        "outputId": "650516ee-10e5-4832-e60c-0bcef3116dd7"
      },
      "source": [
        "np.linalg.det(B)"
      ],
      "execution_count": 16,
      "outputs": [
        {
          "output_type": "execute_result",
          "data": {
            "text/plain": [
              "551.9999999999998"
            ]
          },
          "metadata": {
            "tags": []
          },
          "execution_count": 16
        }
      ]
    },
    {
      "cell_type": "markdown",
      "metadata": {
        "id": "vchhpY8OsYg2"
      },
      "source": [
        "linalg\r\n",
        " = linear algebra"
      ]
    },
    {
      "cell_type": "markdown",
      "metadata": {
        "id": "vbyPnb1ltRiL"
      },
      "source": [
        "matrix algebra เพิ่มเติม"
      ]
    },
    {
      "cell_type": "code",
      "metadata": {
        "id": "GktGThAAmq_j",
        "colab": {
          "base_uri": "https://localhost:8080/",
          "height": 0
        },
        "outputId": "597c32ea-5d65-4db6-fa71-dc68825e7493"
      },
      "source": [
        "plt.plot([0,2**0.5],[0,2**0.5],'-r') ## plot(ค่าx,ค่าy,หน้าตาของจุด)\r\n",
        "plt.plot(0,0,'.b') ## plot(ค่าx,ค่าy,หน้าตาของจุด)\r\n",
        "plt.plot([0,0],[-1,5],'--b')\r\n",
        "plt.plot([-1.5,2.5],[0,0],'--b')"
      ],
      "execution_count": 17,
      "outputs": [
        {
          "output_type": "execute_result",
          "data": {
            "text/plain": [
              "[<matplotlib.lines.Line2D at 0x7f86a4789e48>]"
            ]
          },
          "metadata": {
            "tags": []
          },
          "execution_count": 17
        },
        {
          "output_type": "display_data",
          "data": {
            "image/png": "[encoded data removed]",
            "text/plain": [
              "<Figure size 432x288 with 1 Axes>"
            ]
          },
          "metadata": {
            "tags": [],
            "needs_background": "light"
          }
        }
      ]
    },
    {
      "cell_type": "code",
      "metadata": {
        "colab": {
          "base_uri": "https://localhost:8080/"
        },
        "id": "kqN7LFulthjO",
        "outputId": "36c06871-bf21-42a5-e0da-def79cd88109"
      },
      "source": [
        "B = np.array([[1,2],[3,4]])\r\n",
        "B\r\n"
      ],
      "execution_count": 18,
      "outputs": [
        {
          "output_type": "execute_result",
          "data": {
            "text/plain": [
              "array([[1, 2],\n",
              "       [3, 4]])"
            ]
          },
          "metadata": {
            "tags": []
          },
          "execution_count": 18
        }
      ]
    },
    {
      "cell_type": "markdown",
      "metadata": {
        "id": "Yh9X3OexvyCd"
      },
      "source": [
        "การคูณ Matrix ($B.v$) คือการ linear transformation\r\n"
      ]
    },
    {
      "cell_type": "code",
      "metadata": {
        "colab": {
          "base_uri": "https://localhost:8080/"
        },
        "id": "qqLduXZ-u1uK",
        "outputId": "faa0481c-49a3-4ba2-fe67-d3f2e175f249"
      },
      "source": [
        "Bv = np.dot(B,np.array([[1],[1]]))\r\n",
        "Bv"
      ],
      "execution_count": 19,
      "outputs": [
        {
          "output_type": "execute_result",
          "data": {
            "text/plain": [
              "array([[3],\n",
              "       [7]])"
            ]
          },
          "metadata": {
            "tags": []
          },
          "execution_count": 19
        }
      ]
    },
    {
      "cell_type": "code",
      "metadata": {
        "colab": {
          "base_uri": "https://localhost:8080/",
          "height": 0
        },
        "id": "icPgJgeDvBgg",
        "outputId": "07c941dd-1ab6-460a-baee-07ae010674db"
      },
      "source": [
        "plt.plot([0,Bv[0,0]],[0,Bv[1,0]],'-g') # vector [1,1]\r\n",
        "plt.plot([0,1],[0,1],'-r') \r\n",
        "plt.plot(0,0,'.k')\r\n",
        "plt.plot([0,0],[-1,5],'^:b')\r\n",
        "plt.plot([-2,2.5],[0,0],'>:b')"
      ],
      "execution_count": 20,
      "outputs": [
        {
          "output_type": "execute_result",
          "data": {
            "text/plain": [
              "[<matplotlib.lines.Line2D at 0x7f86a4700a90>]"
            ]
          },
          "metadata": {
            "tags": []
          },
          "execution_count": 20
        },
        {
          "output_type": "display_data",
          "data": {
            "image/png": "[encoded data removed]",
            "text/plain": [
              "<Figure size 432x288 with 1 Axes>"
            ]
          },
          "metadata": {
            "tags": [],
            "needs_background": "light"
          }
        }
      ]
    },
    {
      "cell_type": "markdown",
      "metadata": {
        "id": "pPXv7qKZv9Vi"
      },
      "source": [
        "Determinant ของ  Matrix ($Det(B)$) คือการ พื้นที่ของ unit \r\n",
        "vector ที่ถูกเปลี่ยนไป โดย Matrix นั้นๆ"
      ]
    },
    {
      "cell_type": "code",
      "metadata": {
        "colab": {
          "base_uri": "https://localhost:8080/",
          "height": 0
        },
        "id": "swKOePhcvudF",
        "outputId": "85c3062a-cbc8-48cd-eced-821a76542830"
      },
      "source": [
        "plt.plot([0,Bv[0,0]],[0,Bv[1,0]],'-g') # vector [1,1]\r\n",
        "plt.plot([3,3],[7,0],':g') # วาดจุดไข่ปลา พื้นที่ของ Bv\r\n",
        "plt.plot([3,0],[7,7],':g') # วาดจุดไข่ปลา พื้นที่ของ Bv\r\n",
        "plt.plot([0,1],[0,1],'-r') \r\n",
        "plt.plot([1,1],[1,0],':r') # วาดจุดไข่ปลา พื้นที่ของ v\r\n",
        "plt.plot([1,0],[1,1],':r') # วาดจุดไข่ปลา พื้นที่ของ v\r\n",
        "plt.plot(0,0,'.k')\r\n",
        "plt.plot([0,0],[-1,5],'^:b')\r\n",
        "plt.plot([-2,2.5],[0,0],'>:b')"
      ],
      "execution_count": 21,
      "outputs": [
        {
          "output_type": "execute_result",
          "data": {
            "text/plain": [
              "[<matplotlib.lines.Line2D at 0x7f86a4684a58>]"
            ]
          },
          "metadata": {
            "tags": []
          },
          "execution_count": 21
        },
        {
          "output_type": "display_data",
          "data": {
            "image/png": "[encoded data removed]",
            "text/plain": [
              "<Figure size 432x288 with 1 Axes>"
            ]
          },
          "metadata": {
            "tags": [],
            "needs_background": "light"
          }
        }
      ]
    },
    {
      "cell_type": "markdown",
      "metadata": {
        "id": "uNwGnbJ91TA8"
      },
      "source": [
        "Identity matrix (I)\r\n",
        "\r\n",
        "$BI = B = IB$"
      ]
    },
    {
      "cell_type": "code",
      "metadata": {
        "id": "S9NnrAlUy-Un"
      },
      "source": [
        "iden2 = np.identity(2)"
      ],
      "execution_count": 22,
      "outputs": []
    },
    {
      "cell_type": "code",
      "metadata": {
        "colab": {
          "base_uri": "https://localhost:8080/"
        },
        "id": "AcPADUYi2Ngy",
        "outputId": "b2e60552-f4fd-4996-ff80-cd374cfcca27"
      },
      "source": [
        "B"
      ],
      "execution_count": 23,
      "outputs": [
        {
          "output_type": "execute_result",
          "data": {
            "text/plain": [
              "array([[1, 2],\n",
              "       [3, 4]])"
            ]
          },
          "metadata": {
            "tags": []
          },
          "execution_count": 23
        }
      ]
    },
    {
      "cell_type": "code",
      "metadata": {
        "colab": {
          "base_uri": "https://localhost:8080/"
        },
        "id": "Loo1OB0V2Olq",
        "outputId": "f1111888-cb92-4533-bca7-6eb27afdaaaa"
      },
      "source": [
        "np.dot(B,iden2)"
      ],
      "execution_count": 24,
      "outputs": [
        {
          "output_type": "execute_result",
          "data": {
            "text/plain": [
              "array([[1., 2.],\n",
              "       [3., 4.]])"
            ]
          },
          "metadata": {
            "tags": []
          },
          "execution_count": 24
        }
      ]
    },
    {
      "cell_type": "code",
      "metadata": {
        "colab": {
          "base_uri": "https://localhost:8080/"
        },
        "id": "GfC4S_zx2Smx",
        "outputId": "082bfa6c-8d2b-4e86-ee97-089cabd7a7db"
      },
      "source": [
        "C = np.array([[-1,2],[2,4]])\r\n",
        "C"
      ],
      "execution_count": 25,
      "outputs": [
        {
          "output_type": "execute_result",
          "data": {
            "text/plain": [
              "array([[-1,  2],\n",
              "       [ 2,  4]])"
            ]
          },
          "metadata": {
            "tags": []
          },
          "execution_count": 25
        }
      ]
    },
    {
      "cell_type": "code",
      "metadata": {
        "colab": {
          "base_uri": "https://localhost:8080/"
        },
        "id": "VsQsa-QW2zy6",
        "outputId": "91ef0d15-bd93-4f13-aea6-228629445c53"
      },
      "source": [
        "np.dot(B,C)"
      ],
      "execution_count": 26,
      "outputs": [
        {
          "output_type": "execute_result",
          "data": {
            "text/plain": [
              "array([[ 3, 10],\n",
              "       [ 5, 22]])"
            ]
          },
          "metadata": {
            "tags": []
          },
          "execution_count": 26
        }
      ]
    },
    {
      "cell_type": "code",
      "metadata": {
        "colab": {
          "base_uri": "https://localhost:8080/"
        },
        "id": "tiVS44jt22nw",
        "outputId": "73b19e8a-6019-4bf7-eb0b-b78385b4e4fd"
      },
      "source": [
        "np.dot(C,B)"
      ],
      "execution_count": 27,
      "outputs": [
        {
          "output_type": "execute_result",
          "data": {
            "text/plain": [
              "array([[ 5,  6],\n",
              "       [14, 20]])"
            ]
          },
          "metadata": {
            "tags": []
          },
          "execution_count": 27
        }
      ]
    },
    {
      "cell_type": "code",
      "metadata": {
        "colab": {
          "base_uri": "https://localhost:8080/"
        },
        "id": "uN59Qn0n24k3",
        "outputId": "fed2c48e-2969-4b51-c044-36eefa57bab6"
      },
      "source": [
        "ex = np.array([[3,1,6],[7,4,5],[2,-7,1]])\r\n",
        "ex"
      ],
      "execution_count": 28,
      "outputs": [
        {
          "output_type": "execute_result",
          "data": {
            "text/plain": [
              "array([[ 3,  1,  6],\n",
              "       [ 7,  4,  5],\n",
              "       [ 2, -7,  1]])"
            ]
          },
          "metadata": {
            "tags": []
          },
          "execution_count": 28
        }
      ]
    },
    {
      "cell_type": "code",
      "metadata": {
        "colab": {
          "base_uri": "https://localhost:8080/"
        },
        "id": "xDPie1_o4Bym",
        "outputId": "67cd3fba-1150-4016-c048-3a6247863c63"
      },
      "source": [
        "np.linalg.det(ex)"
      ],
      "execution_count": 29,
      "outputs": [
        {
          "output_type": "execute_result",
          "data": {
            "text/plain": [
              "-221.99999999999997"
            ]
          },
          "metadata": {
            "tags": []
          },
          "execution_count": 29
        }
      ]
    },
    {
      "cell_type": "markdown",
      "metadata": {
        "id": "e2ZPLd7N7BW0"
      },
      "source": [
        "Eigen value กับ Eigen vector\r\n",
        "\r\n",
        "- Eigen value ($\\lambda$) -> $|A-\\lambda I|$ = $0$ ## $latex$\r\n",
        "- Eigen vector($x$) -> $Ax = \\lambda x$  "
      ]
    },
    {
      "cell_type": "markdown",
      "metadata": {
        "id": "h0vWQIBF-FLj"
      },
      "source": [
        "# HW 5 หา Eigen value กับ Eigen vector"
      ]
    },
    {
      "cell_type": "code",
      "metadata": {
        "id": "NICEJWLf8ZM9",
        "colab": {
          "base_uri": "https://localhost:8080/"
        },
        "outputId": "bcf12975-1260-44ef-b86b-175dee641f94"
      },
      "source": [
        "hw = np.array([[1,0],[1,3]])\r\n",
        "hw"
      ],
      "execution_count": 30,
      "outputs": [
        {
          "output_type": "execute_result",
          "data": {
            "text/plain": [
              "array([[1, 0],\n",
              "       [1, 3]])"
            ]
          },
          "metadata": {
            "tags": []
          },
          "execution_count": 30
        }
      ]
    },
    {
      "cell_type": "markdown",
      "metadata": {
        "id": "QzpLqufq7RFn"
      },
      "source": [
        "\r\n",
        "Eigen vector"
      ]
    },
    {
      "cell_type": "code",
      "metadata": {
        "id": "DCgDQkFt7Odi",
        "colab": {
          "base_uri": "https://localhost:8080/"
        },
        "outputId": "72af2d3e-819b-426e-9ed1-91961558facc"
      },
      "source": [
        "hw_vector = np.array([[1,0],[1,3]])\r\n",
        "np.linalg.eig(hw_vector)"
      ],
      "execution_count": 34,
      "outputs": [
        {
          "output_type": "execute_result",
          "data": {
            "text/plain": [
              "(array([3., 1.]), array([[ 0.        ,  0.89442719],\n",
              "        [ 1.        , -0.4472136 ]]))"
            ]
          },
          "metadata": {
            "tags": []
          },
          "execution_count": 34
        }
      ]
    },
    {
      "cell_type": "markdown",
      "metadata": {
        "id": "Szf7E6KA7sLX"
      },
      "source": [
        "\r\n",
        "Eigen value"
      ]
    },
    {
      "cell_type": "code",
      "metadata": {
        "colab": {
          "base_uri": "https://localhost:8080/"
        },
        "id": "izBpVav47f6b",
        "outputId": "70d40302-8540-405b-ae13-277cb1c311d3"
      },
      "source": [
        "hw_value = np.array([[1,0], [1,3]])\r\n",
        "np.linalg.eigvals(hw_value)"
      ],
      "execution_count": 33,
      "outputs": [
        {
          "output_type": "execute_result",
          "data": {
            "text/plain": [
              "array([3., 1.])"
            ]
          },
          "metadata": {
            "tags": []
          },
          "execution_count": 33
        }
      ]
    },
    {
      "cell_type": "markdown",
      "metadata": {
        "id": "FOwoxa2sbEdk"
      },
      "source": [
        "eigen vector and eigen values of covarience matrix of data\r\n",
        "- มีจุดข้อมูล 16 จุดและมี attribute 2 มิติ "
      ]
    },
    {
      "cell_type": "code",
      "metadata": {
        "id": "ANdAquZh71B0",
        "colab": {
          "base_uri": "https://localhost:8080/"
        },
        "outputId": "dbabc916-2fe5-4568-8bf0-00a1d6d9e2c7"
      },
      "source": [
        "x = np.array([[1,2,-3,4],[4,5,-3,2]])\r\n",
        "print(x)\r\n",
        "c_x = np.cov(x)\r\n",
        "print(c_x)"
      ],
      "execution_count": 35,
      "outputs": [
        {
          "output_type": "stream",
          "text": [
            "[[ 1  2 -3  4]\n",
            " [ 4  5 -3  2]]\n",
            "[[ 8.66666667  7.66666667]\n",
            " [ 7.66666667 12.66666667]]\n"
          ],
          "name": "stdout"
        }
      ]
    },
    {
      "cell_type": "markdown",
      "metadata": {
        "id": "ZzYQP8G9d1nb"
      },
      "source": [
        "data x = \r\n",
        "\r\n",
        "[[ 8.66666667  7.66666667]\r\n",
        " [ 7.66666667 12.66666667]]"
      ]
    },
    {
      "cell_type": "code",
      "metadata": {
        "id": "g7VYfmVCdxwE"
      },
      "source": [
        "w,v = np.linalg.eig(c_x)"
      ],
      "execution_count": 37,
      "outputs": []
    },
    {
      "cell_type": "code",
      "metadata": {
        "colab": {
          "base_uri": "https://localhost:8080/"
        },
        "id": "OmOm9ezpeZl6",
        "outputId": "20452b14-3abb-4404-f2b3-60050cfc4d77"
      },
      "source": [
        "print(w[1])\r\n",
        "print(v[:,1])"
      ],
      "execution_count": 40,
      "outputs": [
        {
          "output_type": "stream",
          "text": [
            "18.589909549336475\n",
            "[-0.6113829  -0.79133492]\n"
          ],
          "name": "stdout"
        }
      ]
    },
    {
      "cell_type": "code",
      "metadata": {
        "colab": {
          "base_uri": "https://localhost:8080/",
          "height": 283
        },
        "id": "2JdhhPqpeuN_",
        "outputId": "fd0895df-7696-4dbf-a563-42de288d27e3"
      },
      "source": [
        "plt.plot(x[0,:],x[1,:],'or')\r\n",
        "plt.plot([0,3*v[0,1]],[0,3*v[1,1]],'<-b')"
      ],
      "execution_count": 47,
      "outputs": [
        {
          "output_type": "execute_result",
          "data": {
            "text/plain": [
              "[<matplotlib.lines.Line2D at 0x7f869c275b38>]"
            ]
          },
          "metadata": {
            "tags": []
          },
          "execution_count": 47
        },
        {
          "output_type": "display_data",
          "data": {
            "image/png": "[encoded data removed]",
            "text/plain": [
              "<Figure size 432x288 with 1 Axes>"
            ]
          },
          "metadata": {
            "tags": [],
            "needs_background": "light"
          }
        }
      ]
    },
    {
      "cell_type": "markdown",
      "metadata": {
        "id": "VmLX92HOfmCa"
      },
      "source": [
        "### Inverse matrix\r\n",
        "inverse ของ $A$ เขียน $A^-1 นิยาม A * A^-1 = I = A^-1 * A$\r\n"
      ]
    },
    {
      "cell_type": "code",
      "metadata": {
        "colab": {
          "base_uri": "https://localhost:8080/"
        },
        "id": "G07b6G9le5t0",
        "outputId": "1aede1cc-e554-4146-e502-04f316b4d22d"
      },
      "source": [
        "c_x"
      ],
      "execution_count": 48,
      "outputs": [
        {
          "output_type": "execute_result",
          "data": {
            "text/plain": [
              "array([[ 8.66666667,  7.66666667],\n",
              "       [ 7.66666667, 12.66666667]])"
            ]
          },
          "metadata": {
            "tags": []
          },
          "execution_count": 48
        }
      ]
    },
    {
      "cell_type": "code",
      "metadata": {
        "colab": {
          "base_uri": "https://localhost:8080/"
        },
        "id": "Oat641WCj8xX",
        "outputId": "80af1dff-f35b-4dff-cf3a-c6ed29ab0706"
      },
      "source": [
        "inv_c_x = np.linalg.inv(c_x)\r\n",
        "print(inv_c_x)"
      ],
      "execution_count": 49,
      "outputs": [
        {
          "output_type": "stream",
          "text": [
            "[[ 0.24836601 -0.1503268 ]\n",
            " [-0.1503268   0.16993464]]\n"
          ],
          "name": "stdout"
        }
      ]
    },
    {
      "cell_type": "markdown",
      "metadata": {
        "id": "LzugbUCBkVmC"
      },
      "source": [
        "ตรวจสอบ"
      ]
    },
    {
      "cell_type": "code",
      "metadata": {
        "colab": {
          "base_uri": "https://localhost:8080/"
        },
        "id": "2TSTLqlEkEyN",
        "outputId": "86424d26-d302-438d-fea6-ddb337f0a77f"
      },
      "source": [
        "np.dot(c_x,inv_c_x)"
      ],
      "execution_count": 53,
      "outputs": [
        {
          "output_type": "execute_result",
          "data": {
            "text/plain": [
              "array([[1.00000000e+00, 2.23193529e-16],\n",
              "       [1.26018779e-16, 1.00000000e+00]])"
            ]
          },
          "metadata": {
            "tags": []
          },
          "execution_count": 53
        }
      ]
    },
    {
      "cell_type": "code",
      "metadata": {
        "colab": {
          "base_uri": "https://localhost:8080/"
        },
        "id": "GCHznjuuk7hY",
        "outputId": "1d23b6f2-4d2c-43e8-d3f9-2fcc346e85bc"
      },
      "source": [
        "np.dot(inv_c_x,c_x)"
      ],
      "execution_count": 56,
      "outputs": [
        {
          "output_type": "execute_result",
          "data": {
            "text/plain": [
              "array([[1.00000000e+00, 1.26018779e-16],\n",
              "       [2.23193529e-16, 1.00000000e+00]])"
            ]
          },
          "metadata": {
            "tags": []
          },
          "execution_count": 56
        }
      ]
    },
    {
      "cell_type": "code",
      "metadata": {
        "id": "904_jZCElGxE"
      },
      "source": [
        "import pandas as pd\r\n"
      ],
      "execution_count": 57,
      "outputs": []
    },
    {
      "cell_type": "code",
      "metadata": {
        "colab": {
          "base_uri": "https://localhost:8080/",
          "height": 1000
        },
        "id": "gNsc50SEl86m",
        "outputId": "335598dc-0155-4265-cc51-302ce9fbaffe"
      },
      "source": [
        "pollution_data = pd.read_csv('/content/tet.txt',sep='\\t+') #\\t ใช้ tab แบ่งข้อมูล \\s+ คือใช้ space แบ่งข้อมูล\r\n",
        "pollution_data"
      ],
      "execution_count": 61,
      "outputs": [
        {
          "output_type": "stream",
          "text": [
            "/usr/local/lib/python3.6/dist-packages/ipykernel_launcher.py:1: ParserWarning: Falling back to the 'python' engine because the 'c' engine does not support regex separators (separators > 1 char and different from '\\s+' are interpreted as regex); you can avoid this warning by specifying engine='python'.\n",
            "  \"\"\"Entry point for launching an IPython kernel.\n"
          ],
          "name": "stderr"
        },
        {
          "output_type": "execute_result",
          "data": {
            "text/html": [
              "<div>\n",
              "<style scoped>\n",
              "    .dataframe tbody tr th:only-of-type {\n",
              "        vertical-align: middle;\n",
              "    }\n",
              "\n",
              "    .dataframe tbody tr th {\n",
              "        vertical-align: top;\n",
              "    }\n",
              "\n",
              "    .dataframe thead th {\n",
              "        text-align: right;\n",
              "    }\n",
              "</style>\n",
              "<table border=\"1\" class=\"dataframe\">\n",
              "  <thead>\n",
              "    <tr style=\"text-align: right;\">\n",
              "      <th></th>\n",
              "      <th>City</th>\n",
              "      <th>SO2</th>\n",
              "      <th>Temp</th>\n",
              "      <th>Man</th>\n",
              "      <th>Pop</th>\n",
              "      <th>Wind</th>\n",
              "      <th>Rain</th>\n",
              "      <th>RainDays</th>\n",
              "    </tr>\n",
              "  </thead>\n",
              "  <tbody>\n",
              "    <tr>\n",
              "      <th>0</th>\n",
              "      <td>Phoenix</td>\n",
              "      <td>10</td>\n",
              "      <td>70.3</td>\n",
              "      <td>213</td>\n",
              "      <td>582</td>\n",
              "      <td>6.0</td>\n",
              "      <td>7.05</td>\n",
              "      <td>36</td>\n",
              "    </tr>\n",
              "    <tr>\n",
              "      <th>1</th>\n",
              "      <td>Little Rock</td>\n",
              "      <td>13</td>\n",
              "      <td>61.0</td>\n",
              "      <td>91</td>\n",
              "      <td>132</td>\n",
              "      <td>8.2</td>\n",
              "      <td>48.52</td>\n",
              "      <td>100</td>\n",
              "    </tr>\n",
              "    <tr>\n",
              "      <th>2</th>\n",
              "      <td>San Francisco</td>\n",
              "      <td>12</td>\n",
              "      <td>56.7</td>\n",
              "      <td>453</td>\n",
              "      <td>716</td>\n",
              "      <td>8.7</td>\n",
              "      <td>20.66</td>\n",
              "      <td>67</td>\n",
              "    </tr>\n",
              "    <tr>\n",
              "      <th>3</th>\n",
              "      <td>Denver</td>\n",
              "      <td>17</td>\n",
              "      <td>51.9</td>\n",
              "      <td>454</td>\n",
              "      <td>515</td>\n",
              "      <td>9.0</td>\n",
              "      <td>12.95</td>\n",
              "      <td>86</td>\n",
              "    </tr>\n",
              "    <tr>\n",
              "      <th>4</th>\n",
              "      <td>Hartford</td>\n",
              "      <td>56</td>\n",
              "      <td>49.1</td>\n",
              "      <td>412</td>\n",
              "      <td>158</td>\n",
              "      <td>9.0</td>\n",
              "      <td>43.37</td>\n",
              "      <td>127</td>\n",
              "    </tr>\n",
              "    <tr>\n",
              "      <th>5</th>\n",
              "      <td>Wilmington</td>\n",
              "      <td>36</td>\n",
              "      <td>54.0</td>\n",
              "      <td>80</td>\n",
              "      <td>80</td>\n",
              "      <td>9.0</td>\n",
              "      <td>40.25</td>\n",
              "      <td>114</td>\n",
              "    </tr>\n",
              "    <tr>\n",
              "      <th>6</th>\n",
              "      <td>Washington</td>\n",
              "      <td>29</td>\n",
              "      <td>57.3</td>\n",
              "      <td>434</td>\n",
              "      <td>757</td>\n",
              "      <td>9.3</td>\n",
              "      <td>38.89</td>\n",
              "      <td>111</td>\n",
              "    </tr>\n",
              "    <tr>\n",
              "      <th>7</th>\n",
              "      <td>Jacksonville</td>\n",
              "      <td>14</td>\n",
              "      <td>68.4</td>\n",
              "      <td>136</td>\n",
              "      <td>529</td>\n",
              "      <td>8.8</td>\n",
              "      <td>54.47</td>\n",
              "      <td>116</td>\n",
              "    </tr>\n",
              "    <tr>\n",
              "      <th>8</th>\n",
              "      <td>Miami</td>\n",
              "      <td>10</td>\n",
              "      <td>75.5</td>\n",
              "      <td>207</td>\n",
              "      <td>335</td>\n",
              "      <td>9.0</td>\n",
              "      <td>59.80</td>\n",
              "      <td>128</td>\n",
              "    </tr>\n",
              "    <tr>\n",
              "      <th>9</th>\n",
              "      <td>Atlanta</td>\n",
              "      <td>24</td>\n",
              "      <td>61.5</td>\n",
              "      <td>368</td>\n",
              "      <td>497</td>\n",
              "      <td>9.1</td>\n",
              "      <td>48.34</td>\n",
              "      <td>115</td>\n",
              "    </tr>\n",
              "    <tr>\n",
              "      <th>10</th>\n",
              "      <td>Chicago</td>\n",
              "      <td>110</td>\n",
              "      <td>50.6</td>\n",
              "      <td>3344</td>\n",
              "      <td>3369</td>\n",
              "      <td>10.4</td>\n",
              "      <td>34.44</td>\n",
              "      <td>122</td>\n",
              "    </tr>\n",
              "    <tr>\n",
              "      <th>11</th>\n",
              "      <td>Indianapolis</td>\n",
              "      <td>28</td>\n",
              "      <td>52.3</td>\n",
              "      <td>361</td>\n",
              "      <td>746</td>\n",
              "      <td>9.7</td>\n",
              "      <td>38.74</td>\n",
              "      <td>121</td>\n",
              "    </tr>\n",
              "    <tr>\n",
              "      <th>12</th>\n",
              "      <td>Des Moines</td>\n",
              "      <td>17</td>\n",
              "      <td>49.0</td>\n",
              "      <td>104</td>\n",
              "      <td>201</td>\n",
              "      <td>11.2</td>\n",
              "      <td>30.85</td>\n",
              "      <td>103</td>\n",
              "    </tr>\n",
              "    <tr>\n",
              "      <th>13</th>\n",
              "      <td>Wichita</td>\n",
              "      <td>8</td>\n",
              "      <td>56.6</td>\n",
              "      <td>125</td>\n",
              "      <td>277</td>\n",
              "      <td>12.7</td>\n",
              "      <td>30.58</td>\n",
              "      <td>82</td>\n",
              "    </tr>\n",
              "    <tr>\n",
              "      <th>14</th>\n",
              "      <td>Louisville</td>\n",
              "      <td>30</td>\n",
              "      <td>55.6</td>\n",
              "      <td>291</td>\n",
              "      <td>593</td>\n",
              "      <td>8.3</td>\n",
              "      <td>43.11</td>\n",
              "      <td>123</td>\n",
              "    </tr>\n",
              "    <tr>\n",
              "      <th>15</th>\n",
              "      <td>New Orleans</td>\n",
              "      <td>9</td>\n",
              "      <td>68.3</td>\n",
              "      <td>204</td>\n",
              "      <td>361</td>\n",
              "      <td>8.4</td>\n",
              "      <td>56.77</td>\n",
              "      <td>113</td>\n",
              "    </tr>\n",
              "    <tr>\n",
              "      <th>16</th>\n",
              "      <td>Baltimore</td>\n",
              "      <td>47</td>\n",
              "      <td>55.0</td>\n",
              "      <td>625</td>\n",
              "      <td>905</td>\n",
              "      <td>9.6</td>\n",
              "      <td>41.31</td>\n",
              "      <td>111</td>\n",
              "    </tr>\n",
              "    <tr>\n",
              "      <th>17</th>\n",
              "      <td>Detroit</td>\n",
              "      <td>35</td>\n",
              "      <td>49.9</td>\n",
              "      <td>1064</td>\n",
              "      <td>1513</td>\n",
              "      <td>10.1</td>\n",
              "      <td>30.96</td>\n",
              "      <td>129</td>\n",
              "    </tr>\n",
              "    <tr>\n",
              "      <th>18</th>\n",
              "      <td>Minn-St. Paul</td>\n",
              "      <td>29</td>\n",
              "      <td>43.5</td>\n",
              "      <td>699</td>\n",
              "      <td>744</td>\n",
              "      <td>10.6</td>\n",
              "      <td>25.94</td>\n",
              "      <td>137</td>\n",
              "    </tr>\n",
              "    <tr>\n",
              "      <th>19</th>\n",
              "      <td>Kansas City</td>\n",
              "      <td>14</td>\n",
              "      <td>54.5</td>\n",
              "      <td>381</td>\n",
              "      <td>507</td>\n",
              "      <td>10.0</td>\n",
              "      <td>37.00</td>\n",
              "      <td>99</td>\n",
              "    </tr>\n",
              "    <tr>\n",
              "      <th>20</th>\n",
              "      <td>St. Louis</td>\n",
              "      <td>56</td>\n",
              "      <td>55.9</td>\n",
              "      <td>775</td>\n",
              "      <td>622</td>\n",
              "      <td>9.5</td>\n",
              "      <td>35.89</td>\n",
              "      <td>105</td>\n",
              "    </tr>\n",
              "    <tr>\n",
              "      <th>21</th>\n",
              "      <td>Omaha</td>\n",
              "      <td>14</td>\n",
              "      <td>51.5</td>\n",
              "      <td>181</td>\n",
              "      <td>347</td>\n",
              "      <td>10.9</td>\n",
              "      <td>30.18</td>\n",
              "      <td>98</td>\n",
              "    </tr>\n",
              "    <tr>\n",
              "      <th>22</th>\n",
              "      <td>Albuquerque</td>\n",
              "      <td>11</td>\n",
              "      <td>56.8</td>\n",
              "      <td>46</td>\n",
              "      <td>244</td>\n",
              "      <td>8.9</td>\n",
              "      <td>7.77</td>\n",
              "      <td>58</td>\n",
              "    </tr>\n",
              "    <tr>\n",
              "      <th>23</th>\n",
              "      <td>Albany</td>\n",
              "      <td>46</td>\n",
              "      <td>47.6</td>\n",
              "      <td>44</td>\n",
              "      <td>116</td>\n",
              "      <td>8.8</td>\n",
              "      <td>33.36</td>\n",
              "      <td>135</td>\n",
              "    </tr>\n",
              "    <tr>\n",
              "      <th>24</th>\n",
              "      <td>Buffalo</td>\n",
              "      <td>11</td>\n",
              "      <td>47.1</td>\n",
              "      <td>391</td>\n",
              "      <td>463</td>\n",
              "      <td>12.4</td>\n",
              "      <td>36.11</td>\n",
              "      <td>166</td>\n",
              "    </tr>\n",
              "    <tr>\n",
              "      <th>25</th>\n",
              "      <td>Cincinnati</td>\n",
              "      <td>23</td>\n",
              "      <td>54.0</td>\n",
              "      <td>462</td>\n",
              "      <td>453</td>\n",
              "      <td>7.1</td>\n",
              "      <td>39.04</td>\n",
              "      <td>132</td>\n",
              "    </tr>\n",
              "    <tr>\n",
              "      <th>26</th>\n",
              "      <td>Cleveland</td>\n",
              "      <td>65</td>\n",
              "      <td>49.7</td>\n",
              "      <td>1007</td>\n",
              "      <td>751</td>\n",
              "      <td>10.9</td>\n",
              "      <td>34.99</td>\n",
              "      <td>155</td>\n",
              "    </tr>\n",
              "    <tr>\n",
              "      <th>27</th>\n",
              "      <td>Columbus</td>\n",
              "      <td>26</td>\n",
              "      <td>51.5</td>\n",
              "      <td>266</td>\n",
              "      <td>540</td>\n",
              "      <td>8.6</td>\n",
              "      <td>37.01</td>\n",
              "      <td>134</td>\n",
              "    </tr>\n",
              "    <tr>\n",
              "      <th>28</th>\n",
              "      <td>Philadelphia</td>\n",
              "      <td>69</td>\n",
              "      <td>54.6</td>\n",
              "      <td>1692</td>\n",
              "      <td>1950</td>\n",
              "      <td>9.6</td>\n",
              "      <td>39.93</td>\n",
              "      <td>115</td>\n",
              "    </tr>\n",
              "    <tr>\n",
              "      <th>29</th>\n",
              "      <td>Pittsburgh</td>\n",
              "      <td>61</td>\n",
              "      <td>50.4</td>\n",
              "      <td>347</td>\n",
              "      <td>520</td>\n",
              "      <td>9.4</td>\n",
              "      <td>36.22</td>\n",
              "      <td>147</td>\n",
              "    </tr>\n",
              "    <tr>\n",
              "      <th>30</th>\n",
              "      <td>Providence</td>\n",
              "      <td>94</td>\n",
              "      <td>50.0</td>\n",
              "      <td>343</td>\n",
              "      <td>179</td>\n",
              "      <td>10.6</td>\n",
              "      <td>42.75</td>\n",
              "      <td>125</td>\n",
              "    </tr>\n",
              "    <tr>\n",
              "      <th>31</th>\n",
              "      <td>Memphis</td>\n",
              "      <td>10</td>\n",
              "      <td>61.6</td>\n",
              "      <td>337</td>\n",
              "      <td>624</td>\n",
              "      <td>9.2</td>\n",
              "      <td>49.10</td>\n",
              "      <td>105</td>\n",
              "    </tr>\n",
              "    <tr>\n",
              "      <th>32</th>\n",
              "      <td>Nashville</td>\n",
              "      <td>18</td>\n",
              "      <td>59.4</td>\n",
              "      <td>275</td>\n",
              "      <td>448</td>\n",
              "      <td>7.9</td>\n",
              "      <td>46.00</td>\n",
              "      <td>119</td>\n",
              "    </tr>\n",
              "    <tr>\n",
              "      <th>33</th>\n",
              "      <td>Dallas</td>\n",
              "      <td>9</td>\n",
              "      <td>66.2</td>\n",
              "      <td>641</td>\n",
              "      <td>844</td>\n",
              "      <td>10.9</td>\n",
              "      <td>35.94</td>\n",
              "      <td>78</td>\n",
              "    </tr>\n",
              "    <tr>\n",
              "      <th>34</th>\n",
              "      <td>Houston</td>\n",
              "      <td>10</td>\n",
              "      <td>68.9</td>\n",
              "      <td>721</td>\n",
              "      <td>1233</td>\n",
              "      <td>10.8</td>\n",
              "      <td>48.19</td>\n",
              "      <td>103</td>\n",
              "    </tr>\n",
              "    <tr>\n",
              "      <th>35</th>\n",
              "      <td>Salt Lake City</td>\n",
              "      <td>28</td>\n",
              "      <td>51.0</td>\n",
              "      <td>137</td>\n",
              "      <td>176</td>\n",
              "      <td>8.7</td>\n",
              "      <td>15.17</td>\n",
              "      <td>89</td>\n",
              "    </tr>\n",
              "    <tr>\n",
              "      <th>36</th>\n",
              "      <td>Norfolk</td>\n",
              "      <td>31</td>\n",
              "      <td>59.3</td>\n",
              "      <td>96</td>\n",
              "      <td>308</td>\n",
              "      <td>10.6</td>\n",
              "      <td>44.68</td>\n",
              "      <td>116</td>\n",
              "    </tr>\n",
              "    <tr>\n",
              "      <th>37</th>\n",
              "      <td>Richmond</td>\n",
              "      <td>26</td>\n",
              "      <td>57.8</td>\n",
              "      <td>197</td>\n",
              "      <td>299</td>\n",
              "      <td>7.6</td>\n",
              "      <td>42.59</td>\n",
              "      <td>115</td>\n",
              "    </tr>\n",
              "    <tr>\n",
              "      <th>38</th>\n",
              "      <td>Seattle</td>\n",
              "      <td>29</td>\n",
              "      <td>51.1</td>\n",
              "      <td>379</td>\n",
              "      <td>531</td>\n",
              "      <td>9.4</td>\n",
              "      <td>38.79</td>\n",
              "      <td>164</td>\n",
              "    </tr>\n",
              "    <tr>\n",
              "      <th>39</th>\n",
              "      <td>Charleston</td>\n",
              "      <td>31</td>\n",
              "      <td>55.2</td>\n",
              "      <td>35</td>\n",
              "      <td>71</td>\n",
              "      <td>6.5</td>\n",
              "      <td>40.75</td>\n",
              "      <td>148</td>\n",
              "    </tr>\n",
              "    <tr>\n",
              "      <th>40</th>\n",
              "      <td>Milwaukee</td>\n",
              "      <td>16</td>\n",
              "      <td>45.7</td>\n",
              "      <td>569</td>\n",
              "      <td>717</td>\n",
              "      <td>11.8</td>\n",
              "      <td>29.07</td>\n",
              "      <td>123</td>\n",
              "    </tr>\n",
              "  </tbody>\n",
              "</table>\n",
              "</div>"
            ],
            "text/plain": [
              "              City  SO2  Temp   Man   Pop  Wind   Rain  RainDays\n",
              "0          Phoenix   10  70.3   213   582   6.0   7.05        36\n",
              "1      Little Rock   13  61.0    91   132   8.2  48.52       100\n",
              "2    San Francisco   12  56.7   453   716   8.7  20.66        67\n",
              "3           Denver   17  51.9   454   515   9.0  12.95        86\n",
              "4         Hartford   56  49.1   412   158   9.0  43.37       127\n",
              "5       Wilmington   36  54.0    80    80   9.0  40.25       114\n",
              "6       Washington   29  57.3   434   757   9.3  38.89       111\n",
              "7     Jacksonville   14  68.4   136   529   8.8  54.47       116\n",
              "8            Miami   10  75.5   207   335   9.0  59.80       128\n",
              "9          Atlanta   24  61.5   368   497   9.1  48.34       115\n",
              "10         Chicago  110  50.6  3344  3369  10.4  34.44       122\n",
              "11    Indianapolis   28  52.3   361   746   9.7  38.74       121\n",
              "12      Des Moines   17  49.0   104   201  11.2  30.85       103\n",
              "13         Wichita    8  56.6   125   277  12.7  30.58        82\n",
              "14      Louisville   30  55.6   291   593   8.3  43.11       123\n",
              "15     New Orleans    9  68.3   204   361   8.4  56.77       113\n",
              "16       Baltimore   47  55.0   625   905   9.6  41.31       111\n",
              "17         Detroit   35  49.9  1064  1513  10.1  30.96       129\n",
              "18   Minn-St. Paul   29  43.5   699   744  10.6  25.94       137\n",
              "19     Kansas City   14  54.5   381   507  10.0  37.00        99\n",
              "20       St. Louis   56  55.9   775   622   9.5  35.89       105\n",
              "21           Omaha   14  51.5   181   347  10.9  30.18        98\n",
              "22     Albuquerque   11  56.8    46   244   8.9   7.77        58\n",
              "23          Albany   46  47.6    44   116   8.8  33.36       135\n",
              "24         Buffalo   11  47.1   391   463  12.4  36.11       166\n",
              "25      Cincinnati   23  54.0   462   453   7.1  39.04       132\n",
              "26       Cleveland   65  49.7  1007   751  10.9  34.99       155\n",
              "27        Columbus   26  51.5   266   540   8.6  37.01       134\n",
              "28    Philadelphia   69  54.6  1692  1950   9.6  39.93       115\n",
              "29      Pittsburgh   61  50.4   347   520   9.4  36.22       147\n",
              "30      Providence   94  50.0   343   179  10.6  42.75       125\n",
              "31         Memphis   10  61.6   337   624   9.2  49.10       105\n",
              "32       Nashville   18  59.4   275   448   7.9  46.00       119\n",
              "33          Dallas    9  66.2   641   844  10.9  35.94        78\n",
              "34         Houston   10  68.9   721  1233  10.8  48.19       103\n",
              "35  Salt Lake City   28  51.0   137   176   8.7  15.17        89\n",
              "36         Norfolk   31  59.3    96   308  10.6  44.68       116\n",
              "37        Richmond   26  57.8   197   299   7.6  42.59       115\n",
              "38         Seattle   29  51.1   379   531   9.4  38.79       164\n",
              "39      Charleston   31  55.2    35    71   6.5  40.75       148\n",
              "40       Milwaukee   16  45.7   569   717  11.8  29.07       123"
            ]
          },
          "metadata": {
            "tags": []
          },
          "execution_count": 61
        }
      ]
    },
    {
      "cell_type": "code",
      "metadata": {
        "id": "xUhZMDPSnLzD"
      },
      "source": [
        ""
      ],
      "execution_count": null,
      "outputs": []
    }
  ]
}