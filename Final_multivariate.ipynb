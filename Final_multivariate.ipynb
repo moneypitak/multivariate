{
  "nbformat": 4,
  "nbformat_minor": 0,
  "metadata": {
    "colab": {
      "name": "Final multivariate",
      "provenance": [],
      "authorship_tag": "ABX9TyPXd29zefioqFkpzzd55fAu",
      "include_colab_link": true
    },
    "kernelspec": {
      "name": "python3",
      "display_name": "Python 3"
    },
    "language_info": {
      "name": "python"
    }
  },
  "cells": [
    {
      "cell_type": "markdown",
      "metadata": {
        "id": "view-in-github",
        "colab_type": "text"
      },
      "source": [
        "<a href=\"https://colab.research.google.com/github/moneypitak/multivariate/blob/main/Final_multivariate.ipynb\" target=\"_parent\"><img src=\"https://colab.research.google.com/assets/colab-badge.svg\" alt=\"Open In Colab\"/></a>"
      ]
    },
    {
      "cell_type": "markdown",
      "metadata": {
        "id": "5uHBEy601lEe"
      },
      "source": [
        "\n",
        "ให้นักศึกษาทำข้อสอบใน Colab Notebook นี้โดยกรอกข้อมูลของตัวเองใน cell ที่ 2 แล้วรัน cell ที่ 1 - 5 และเริ่มทำข้อสอบใน cell ที่ 6 เป็นต้นไป\n",
        "\n",
        "โดยโจทย์คือ\n",
        "\n",
        "1.ข้อมูลโจทย์ อยู่ใน ตัวแปร Data\n",
        "\n",
        "2.ทำ clustering แล้วทำ visualize ข้อมูลแบบ 2 มิติ\n",
        "\n",
        "3.ลด Dimension ของข้อมูลเหลือ 2 มิติ แล้วทำ clustering แล้ว visualize ข้อมูลแบบ \n",
        "2 มิติ\n",
        "\n",
        "4.เปรียบเทียบความแตกต่างของผลข้อ 2. กับ ข้อ 3.\n",
        "\n",
        "5.เขียน comments อธิบายทุกขั้นตอน\n",
        "\n",
        "6.อัด video อธิบาย code ทุกๆขั้นตอนรวมถึงผลแล้วอัพลง youtube ในรูปแบบ unlist\n",
        "\n",
        "7.commit โดยใช้ชื่อ commit เป็น link youtube ที่อธิบาย code ในข้อ 6.\n",
        "\n",
        "กำหนดส่งวันที่ 2 พฤษภาคม 2564 (โดยให้มากรอกวันที่ commit ครั้งสุดท้ายใน sheet: https://docs.google.com/spreadsheets/d/1_qJwLDJVtOW1HxBcf_FHVc6UT4J_SOonuR6o3EEnVzw/edit?usp=sharing ช่อง Final)"
      ]
    },
    {
      "cell_type": "code",
      "metadata": {
        "id": "ylxTdhQ1HxI-"
      },
      "source": [
        "from sklearn.datasets import make_blobs\n",
        "import random,math\n",
        "import numpy as np\n",
        "import pandas"
      ],
      "execution_count": 124,
      "outputs": []
    },
    {
      "cell_type": "code",
      "metadata": {
        "id": "nt5lDeXjH4xN"
      },
      "source": [
        "\n",
        "Name = 'นายมันนี่ พิทักษ์'\n",
        "ID = '623020532-3'"
      ],
      "execution_count": 125,
      "outputs": []
    },
    {
      "cell_type": "code",
      "metadata": {
        "id": "wFXuMYIxH_Mk"
      },
      "source": [
        "def DataGenerator(name,id):\n",
        "    random.seed(int(id[3:6]))\n",
        "    numfeat = random.randint(20,30)\n",
        "    ct = random.randint(len(name)-6,len(name))\n",
        "    \n",
        "    X, y = make_blobs(n_samples=10000, centers=ct, n_features=numfeat , random_state=int(id[3:6]))\n",
        "\n",
        "    print(f'{id[3:6]}:{numfeat}:{ct}')\n",
        "    X_t = (X[:,1]*2)+int(id[3])\n",
        "    X_t2 = (X[:,-1]*5)+int(id[4])\n",
        "\n",
        "    DT = np.append(X,X_t.reshape([10000,1]),axis=1)\n",
        "    DT = np.append(DT,X_t2.reshape([10000,1]),axis=1)\n",
        "    \n",
        "    return pandas.DataFrame(DT)"
      ],
      "execution_count": 126,
      "outputs": []
    },
    {
      "cell_type": "code",
      "metadata": {
        "colab": {
          "base_uri": "https://localhost:8080/"
        },
        "id": "Al-DGCVjIAt9",
        "outputId": "cf0346c8-6f52-4d88-a68a-2a22ecfd13b3"
      },
      "source": [
        "Data = DataGenerator(Name,ID)"
      ],
      "execution_count": 127,
      "outputs": [
        {
          "output_type": "stream",
          "text": [
            "020:30:17\n"
          ],
          "name": "stdout"
        }
      ]
    },
    {
      "cell_type": "code",
      "metadata": {
        "colab": {
          "base_uri": "https://localhost:8080/",
          "height": 422
        },
        "id": "LpPIV9btIDDl",
        "outputId": "63fe3192-e3af-4d60-b2ff-d5743ecd759d"
      },
      "source": [
        "Data"
      ],
      "execution_count": 128,
      "outputs": [
        {
          "output_type": "execute_result",
          "data": {
            "text/html": [
              "<div>\n",
              "<style scoped>\n",
              "    .dataframe tbody tr th:only-of-type {\n",
              "        vertical-align: middle;\n",
              "    }\n",
              "\n",
              "    .dataframe tbody tr th {\n",
              "        vertical-align: top;\n",
              "    }\n",
              "\n",
              "    .dataframe thead th {\n",
              "        text-align: right;\n",
              "    }\n",
              "</style>\n",
              "<table border=\"1\" class=\"dataframe\">\n",
              "  <thead>\n",
              "    <tr style=\"text-align: right;\">\n",
              "      <th></th>\n",
              "      <th>0</th>\n",
              "      <th>1</th>\n",
              "      <th>2</th>\n",
              "      <th>3</th>\n",
              "      <th>4</th>\n",
              "      <th>5</th>\n",
              "      <th>6</th>\n",
              "      <th>7</th>\n",
              "      <th>8</th>\n",
              "      <th>9</th>\n",
              "      <th>10</th>\n",
              "      <th>11</th>\n",
              "      <th>12</th>\n",
              "      <th>13</th>\n",
              "      <th>14</th>\n",
              "      <th>15</th>\n",
              "      <th>16</th>\n",
              "      <th>17</th>\n",
              "      <th>18</th>\n",
              "      <th>19</th>\n",
              "      <th>20</th>\n",
              "      <th>21</th>\n",
              "      <th>22</th>\n",
              "      <th>23</th>\n",
              "      <th>24</th>\n",
              "      <th>25</th>\n",
              "      <th>26</th>\n",
              "      <th>27</th>\n",
              "      <th>28</th>\n",
              "      <th>29</th>\n",
              "      <th>30</th>\n",
              "      <th>31</th>\n",
              "    </tr>\n",
              "  </thead>\n",
              "  <tbody>\n",
              "    <tr>\n",
              "      <th>0</th>\n",
              "      <td>1.158735</td>\n",
              "      <td>5.690950</td>\n",
              "      <td>4.721809</td>\n",
              "      <td>6.845420</td>\n",
              "      <td>-8.818586</td>\n",
              "      <td>8.674218</td>\n",
              "      <td>9.817295</td>\n",
              "      <td>-3.479546</td>\n",
              "      <td>4.282967</td>\n",
              "      <td>-0.384355</td>\n",
              "      <td>-0.777516</td>\n",
              "      <td>3.675601</td>\n",
              "      <td>8.829940</td>\n",
              "      <td>6.405371</td>\n",
              "      <td>9.966592</td>\n",
              "      <td>3.992198</td>\n",
              "      <td>-8.064268</td>\n",
              "      <td>6.985899</td>\n",
              "      <td>-3.773405</td>\n",
              "      <td>4.839581</td>\n",
              "      <td>8.553680</td>\n",
              "      <td>-0.406223</td>\n",
              "      <td>6.176259</td>\n",
              "      <td>9.658190</td>\n",
              "      <td>9.726215</td>\n",
              "      <td>-4.928476</td>\n",
              "      <td>-5.672280</td>\n",
              "      <td>-6.643199</td>\n",
              "      <td>0.836293</td>\n",
              "      <td>7.008406</td>\n",
              "      <td>11.381901</td>\n",
              "      <td>37.042030</td>\n",
              "    </tr>\n",
              "    <tr>\n",
              "      <th>1</th>\n",
              "      <td>0.237897</td>\n",
              "      <td>-8.708843</td>\n",
              "      <td>4.091957</td>\n",
              "      <td>3.514153</td>\n",
              "      <td>6.757265</td>\n",
              "      <td>-0.806308</td>\n",
              "      <td>-1.606048</td>\n",
              "      <td>-3.883340</td>\n",
              "      <td>0.978578</td>\n",
              "      <td>-9.646735</td>\n",
              "      <td>4.007047</td>\n",
              "      <td>8.824369</td>\n",
              "      <td>6.750778</td>\n",
              "      <td>8.379198</td>\n",
              "      <td>-0.776645</td>\n",
              "      <td>4.366767</td>\n",
              "      <td>1.098278</td>\n",
              "      <td>2.232916</td>\n",
              "      <td>-4.627907</td>\n",
              "      <td>0.760617</td>\n",
              "      <td>-9.299746</td>\n",
              "      <td>4.265117</td>\n",
              "      <td>-3.998633</td>\n",
              "      <td>-6.232224</td>\n",
              "      <td>-1.240039</td>\n",
              "      <td>-6.886413</td>\n",
              "      <td>9.749203</td>\n",
              "      <td>-4.989181</td>\n",
              "      <td>-7.989723</td>\n",
              "      <td>-10.218368</td>\n",
              "      <td>-17.417686</td>\n",
              "      <td>-49.091842</td>\n",
              "    </tr>\n",
              "    <tr>\n",
              "      <th>2</th>\n",
              "      <td>4.866806</td>\n",
              "      <td>8.418990</td>\n",
              "      <td>6.767935</td>\n",
              "      <td>-4.984544</td>\n",
              "      <td>-5.275355</td>\n",
              "      <td>-6.295832</td>\n",
              "      <td>9.327885</td>\n",
              "      <td>2.584479</td>\n",
              "      <td>7.280811</td>\n",
              "      <td>-9.761366</td>\n",
              "      <td>6.611680</td>\n",
              "      <td>-8.269010</td>\n",
              "      <td>-9.359300</td>\n",
              "      <td>-10.273204</td>\n",
              "      <td>-5.067568</td>\n",
              "      <td>-3.883400</td>\n",
              "      <td>10.641632</td>\n",
              "      <td>7.974038</td>\n",
              "      <td>0.926677</td>\n",
              "      <td>6.703359</td>\n",
              "      <td>-10.701040</td>\n",
              "      <td>6.126352</td>\n",
              "      <td>-7.227058</td>\n",
              "      <td>-5.668466</td>\n",
              "      <td>7.041791</td>\n",
              "      <td>-4.571509</td>\n",
              "      <td>6.746427</td>\n",
              "      <td>0.297157</td>\n",
              "      <td>2.435627</td>\n",
              "      <td>3.658404</td>\n",
              "      <td>16.837979</td>\n",
              "      <td>20.292018</td>\n",
              "    </tr>\n",
              "    <tr>\n",
              "      <th>3</th>\n",
              "      <td>-1.136705</td>\n",
              "      <td>-2.714385</td>\n",
              "      <td>-2.648603</td>\n",
              "      <td>4.901242</td>\n",
              "      <td>4.248367</td>\n",
              "      <td>9.549578</td>\n",
              "      <td>2.664071</td>\n",
              "      <td>-1.139723</td>\n",
              "      <td>-9.963553</td>\n",
              "      <td>0.056283</td>\n",
              "      <td>-0.660017</td>\n",
              "      <td>-5.262655</td>\n",
              "      <td>5.093533</td>\n",
              "      <td>8.513628</td>\n",
              "      <td>1.656745</td>\n",
              "      <td>0.155172</td>\n",
              "      <td>3.220070</td>\n",
              "      <td>9.470969</td>\n",
              "      <td>6.852573</td>\n",
              "      <td>5.513243</td>\n",
              "      <td>-5.219937</td>\n",
              "      <td>-3.391028</td>\n",
              "      <td>8.758440</td>\n",
              "      <td>-0.903553</td>\n",
              "      <td>-0.506274</td>\n",
              "      <td>3.940649</td>\n",
              "      <td>3.097257</td>\n",
              "      <td>5.860868</td>\n",
              "      <td>0.052261</td>\n",
              "      <td>8.228941</td>\n",
              "      <td>-5.428770</td>\n",
              "      <td>43.144703</td>\n",
              "    </tr>\n",
              "    <tr>\n",
              "      <th>4</th>\n",
              "      <td>-1.028214</td>\n",
              "      <td>5.195002</td>\n",
              "      <td>-3.857438</td>\n",
              "      <td>-2.639887</td>\n",
              "      <td>6.097272</td>\n",
              "      <td>-8.246678</td>\n",
              "      <td>-5.101791</td>\n",
              "      <td>-7.036203</td>\n",
              "      <td>-5.091693</td>\n",
              "      <td>2.806334</td>\n",
              "      <td>-6.786280</td>\n",
              "      <td>-0.792682</td>\n",
              "      <td>1.195364</td>\n",
              "      <td>-2.886659</td>\n",
              "      <td>-4.176513</td>\n",
              "      <td>2.327837</td>\n",
              "      <td>5.258050</td>\n",
              "      <td>-1.951416</td>\n",
              "      <td>-10.641730</td>\n",
              "      <td>7.965830</td>\n",
              "      <td>7.361706</td>\n",
              "      <td>-4.149267</td>\n",
              "      <td>3.340338</td>\n",
              "      <td>-2.176383</td>\n",
              "      <td>4.450684</td>\n",
              "      <td>-8.114877</td>\n",
              "      <td>-7.508209</td>\n",
              "      <td>11.146235</td>\n",
              "      <td>7.814902</td>\n",
              "      <td>-4.331333</td>\n",
              "      <td>10.390004</td>\n",
              "      <td>-19.656667</td>\n",
              "    </tr>\n",
              "    <tr>\n",
              "      <th>...</th>\n",
              "      <td>...</td>\n",
              "      <td>...</td>\n",
              "      <td>...</td>\n",
              "      <td>...</td>\n",
              "      <td>...</td>\n",
              "      <td>...</td>\n",
              "      <td>...</td>\n",
              "      <td>...</td>\n",
              "      <td>...</td>\n",
              "      <td>...</td>\n",
              "      <td>...</td>\n",
              "      <td>...</td>\n",
              "      <td>...</td>\n",
              "      <td>...</td>\n",
              "      <td>...</td>\n",
              "      <td>...</td>\n",
              "      <td>...</td>\n",
              "      <td>...</td>\n",
              "      <td>...</td>\n",
              "      <td>...</td>\n",
              "      <td>...</td>\n",
              "      <td>...</td>\n",
              "      <td>...</td>\n",
              "      <td>...</td>\n",
              "      <td>...</td>\n",
              "      <td>...</td>\n",
              "      <td>...</td>\n",
              "      <td>...</td>\n",
              "      <td>...</td>\n",
              "      <td>...</td>\n",
              "      <td>...</td>\n",
              "      <td>...</td>\n",
              "    </tr>\n",
              "    <tr>\n",
              "      <th>9995</th>\n",
              "      <td>0.209858</td>\n",
              "      <td>-2.107553</td>\n",
              "      <td>-4.876959</td>\n",
              "      <td>10.332166</td>\n",
              "      <td>0.019237</td>\n",
              "      <td>4.050258</td>\n",
              "      <td>-7.719833</td>\n",
              "      <td>5.508394</td>\n",
              "      <td>3.089267</td>\n",
              "      <td>5.008145</td>\n",
              "      <td>6.739258</td>\n",
              "      <td>5.463149</td>\n",
              "      <td>-1.630533</td>\n",
              "      <td>7.428161</td>\n",
              "      <td>-10.264293</td>\n",
              "      <td>7.334081</td>\n",
              "      <td>5.689646</td>\n",
              "      <td>-0.106500</td>\n",
              "      <td>2.801250</td>\n",
              "      <td>10.591213</td>\n",
              "      <td>-1.641509</td>\n",
              "      <td>-0.452060</td>\n",
              "      <td>-0.190323</td>\n",
              "      <td>5.139647</td>\n",
              "      <td>-9.441470</td>\n",
              "      <td>-8.238742</td>\n",
              "      <td>-8.528449</td>\n",
              "      <td>7.575231</td>\n",
              "      <td>-3.882827</td>\n",
              "      <td>2.627791</td>\n",
              "      <td>-4.215105</td>\n",
              "      <td>15.138955</td>\n",
              "    </tr>\n",
              "    <tr>\n",
              "      <th>9996</th>\n",
              "      <td>0.820607</td>\n",
              "      <td>3.711509</td>\n",
              "      <td>-4.954779</td>\n",
              "      <td>-3.238819</td>\n",
              "      <td>5.206296</td>\n",
              "      <td>-8.180974</td>\n",
              "      <td>-4.673332</td>\n",
              "      <td>-6.915658</td>\n",
              "      <td>-4.080469</td>\n",
              "      <td>3.522967</td>\n",
              "      <td>-8.631682</td>\n",
              "      <td>-1.238047</td>\n",
              "      <td>2.032672</td>\n",
              "      <td>-0.882564</td>\n",
              "      <td>-3.215082</td>\n",
              "      <td>3.016409</td>\n",
              "      <td>7.209913</td>\n",
              "      <td>-1.716118</td>\n",
              "      <td>-9.207724</td>\n",
              "      <td>8.560131</td>\n",
              "      <td>6.654362</td>\n",
              "      <td>-3.806772</td>\n",
              "      <td>4.960512</td>\n",
              "      <td>0.399443</td>\n",
              "      <td>4.292408</td>\n",
              "      <td>-9.222095</td>\n",
              "      <td>-9.273189</td>\n",
              "      <td>10.454157</td>\n",
              "      <td>7.079641</td>\n",
              "      <td>-7.743286</td>\n",
              "      <td>7.423018</td>\n",
              "      <td>-36.716428</td>\n",
              "    </tr>\n",
              "    <tr>\n",
              "      <th>9997</th>\n",
              "      <td>-10.583808</td>\n",
              "      <td>4.730278</td>\n",
              "      <td>-1.744426</td>\n",
              "      <td>-9.567553</td>\n",
              "      <td>-4.061406</td>\n",
              "      <td>7.446723</td>\n",
              "      <td>-5.974800</td>\n",
              "      <td>-7.825554</td>\n",
              "      <td>-4.524337</td>\n",
              "      <td>9.447843</td>\n",
              "      <td>3.253149</td>\n",
              "      <td>1.498652</td>\n",
              "      <td>1.186343</td>\n",
              "      <td>6.623139</td>\n",
              "      <td>-0.089589</td>\n",
              "      <td>3.669097</td>\n",
              "      <td>5.374887</td>\n",
              "      <td>8.916595</td>\n",
              "      <td>-9.863856</td>\n",
              "      <td>-5.804452</td>\n",
              "      <td>4.260478</td>\n",
              "      <td>3.077116</td>\n",
              "      <td>-4.209442</td>\n",
              "      <td>3.385056</td>\n",
              "      <td>2.103282</td>\n",
              "      <td>-5.786865</td>\n",
              "      <td>5.315729</td>\n",
              "      <td>-6.066785</td>\n",
              "      <td>8.830470</td>\n",
              "      <td>-11.027183</td>\n",
              "      <td>9.460556</td>\n",
              "      <td>-53.135914</td>\n",
              "    </tr>\n",
              "    <tr>\n",
              "      <th>9998</th>\n",
              "      <td>1.642318</td>\n",
              "      <td>2.744377</td>\n",
              "      <td>2.768039</td>\n",
              "      <td>7.493199</td>\n",
              "      <td>-3.545052</td>\n",
              "      <td>-9.842654</td>\n",
              "      <td>7.303738</td>\n",
              "      <td>6.927084</td>\n",
              "      <td>-0.353955</td>\n",
              "      <td>7.699033</td>\n",
              "      <td>-2.400825</td>\n",
              "      <td>8.442161</td>\n",
              "      <td>3.262577</td>\n",
              "      <td>1.571756</td>\n",
              "      <td>10.392827</td>\n",
              "      <td>9.759724</td>\n",
              "      <td>8.022491</td>\n",
              "      <td>-3.123120</td>\n",
              "      <td>-10.138046</td>\n",
              "      <td>9.233163</td>\n",
              "      <td>-8.774336</td>\n",
              "      <td>-3.707826</td>\n",
              "      <td>-3.129864</td>\n",
              "      <td>9.677015</td>\n",
              "      <td>-7.495096</td>\n",
              "      <td>-4.406123</td>\n",
              "      <td>-1.974531</td>\n",
              "      <td>-7.448938</td>\n",
              "      <td>1.370353</td>\n",
              "      <td>-8.520655</td>\n",
              "      <td>5.488755</td>\n",
              "      <td>-40.603276</td>\n",
              "    </tr>\n",
              "    <tr>\n",
              "      <th>9999</th>\n",
              "      <td>4.133710</td>\n",
              "      <td>7.231400</td>\n",
              "      <td>-10.363063</td>\n",
              "      <td>-7.070742</td>\n",
              "      <td>9.935305</td>\n",
              "      <td>-0.591464</td>\n",
              "      <td>9.917823</td>\n",
              "      <td>-0.356532</td>\n",
              "      <td>5.891302</td>\n",
              "      <td>-2.092037</td>\n",
              "      <td>6.564597</td>\n",
              "      <td>-1.235174</td>\n",
              "      <td>-2.704093</td>\n",
              "      <td>-1.985483</td>\n",
              "      <td>-3.111058</td>\n",
              "      <td>7.788065</td>\n",
              "      <td>-2.184742</td>\n",
              "      <td>-3.161014</td>\n",
              "      <td>-1.950195</td>\n",
              "      <td>-2.080074</td>\n",
              "      <td>4.018851</td>\n",
              "      <td>-6.087222</td>\n",
              "      <td>3.299164</td>\n",
              "      <td>-5.158462</td>\n",
              "      <td>9.325723</td>\n",
              "      <td>-9.005577</td>\n",
              "      <td>6.977379</td>\n",
              "      <td>-2.979642</td>\n",
              "      <td>-9.131887</td>\n",
              "      <td>5.809806</td>\n",
              "      <td>14.462801</td>\n",
              "      <td>31.049030</td>\n",
              "    </tr>\n",
              "  </tbody>\n",
              "</table>\n",
              "<p>10000 rows × 32 columns</p>\n",
              "</div>"
            ],
            "text/plain": [
              "             0         1          2   ...         29         30         31\n",
              "0      1.158735  5.690950   4.721809  ...   7.008406  11.381901  37.042030\n",
              "1      0.237897 -8.708843   4.091957  ... -10.218368 -17.417686 -49.091842\n",
              "2      4.866806  8.418990   6.767935  ...   3.658404  16.837979  20.292018\n",
              "3     -1.136705 -2.714385  -2.648603  ...   8.228941  -5.428770  43.144703\n",
              "4     -1.028214  5.195002  -3.857438  ...  -4.331333  10.390004 -19.656667\n",
              "...         ...       ...        ...  ...        ...        ...        ...\n",
              "9995   0.209858 -2.107553  -4.876959  ...   2.627791  -4.215105  15.138955\n",
              "9996   0.820607  3.711509  -4.954779  ...  -7.743286   7.423018 -36.716428\n",
              "9997 -10.583808  4.730278  -1.744426  ... -11.027183   9.460556 -53.135914\n",
              "9998   1.642318  2.744377   2.768039  ...  -8.520655   5.488755 -40.603276\n",
              "9999   4.133710  7.231400 -10.363063  ...   5.809806  14.462801  31.049030\n",
              "\n",
              "[10000 rows x 32 columns]"
            ]
          },
          "metadata": {
            "tags": []
          },
          "execution_count": 128
        }
      ]
    },
    {
      "cell_type": "markdown",
      "metadata": {
        "id": "AAHQj2z-xNbl"
      },
      "source": [
        "ข้อมูลที่ได้มามี 10000 แถวและ 32 คอลัมน์"
      ]
    },
    {
      "cell_type": "code",
      "metadata": {
        "colab": {
          "base_uri": "https://localhost:8080/"
        },
        "id": "lT6YewSoxHlY",
        "outputId": "827b8223-227c-416d-91fe-055e18038f89"
      },
      "source": [
        "Data.shape"
      ],
      "execution_count": 129,
      "outputs": [
        {
          "output_type": "execute_result",
          "data": {
            "text/plain": [
              "(10000, 32)"
            ]
          },
          "metadata": {
            "tags": []
          },
          "execution_count": 129
        }
      ]
    },
    {
      "cell_type": "markdown",
      "metadata": {
        "id": "KpLsmw6Axy5R"
      },
      "source": [
        "ดูขนาดของ Correlation coeficient จากข้อมูล"
      ]
    },
    {
      "cell_type": "code",
      "metadata": {
        "colab": {
          "base_uri": "https://localhost:8080/"
        },
        "id": "6xNh5ionx6X3",
        "outputId": "abdf8471-eab6-4d0b-8d1a-df84f8f9158f"
      },
      "source": [
        "corr = np.corrcoef(Data.to_numpy().T)\n",
        "corr.shape"
      ],
      "execution_count": 130,
      "outputs": [
        {
          "output_type": "execute_result",
          "data": {
            "text/plain": [
              "(32, 32)"
            ]
          },
          "metadata": {
            "tags": []
          },
          "execution_count": 130
        }
      ]
    },
    {
      "cell_type": "markdown",
      "metadata": {
        "id": "L_R-cX_2yArQ"
      },
      "source": [
        "ทำการวนลูปหาค่าสัมประสิทธิ์ความสัมพันธ์ (Correlation)ที่ซ้ำกัดเพื่อขจัดข้อมูลนั้นออกไป"
      ]
    },
    {
      "cell_type": "code",
      "metadata": {
        "colab": {
          "base_uri": "https://localhost:8080/"
        },
        "id": "wb0WGMVUyJ53",
        "outputId": "bfc25800-aa55-4c9e-c36a-0f5c6a311502"
      },
      "source": [
        "for i in range(corr.shape[0]):\n",
        "    for j in range(corr.shape[1]):\n",
        "        if (i !=j) and (corr[i,j] == 1.):\n",
        "            print(f'row = {i} column = {j} corrcoef = {corr[i,j]}')"
      ],
      "execution_count": 131,
      "outputs": [
        {
          "output_type": "stream",
          "text": [
            "row = 29 column = 31 corrcoef = 1.0\n",
            "row = 31 column = 29 corrcoef = 1.0\n"
          ],
          "name": "stdout"
        }
      ]
    },
    {
      "cell_type": "code",
      "metadata": {
        "colab": {
          "base_uri": "https://localhost:8080/",
          "height": 422
        },
        "id": "jBIY5iKLyZj3",
        "outputId": "ee802fd1-7fc4-4103-ea13-af94eb8ea846"
      },
      "source": [
        "new_data = Data.iloc[:,1:30]\n",
        "new_data"
      ],
      "execution_count": 132,
      "outputs": [
        {
          "output_type": "execute_result",
          "data": {
            "text/html": [
              "<div>\n",
              "<style scoped>\n",
              "    .dataframe tbody tr th:only-of-type {\n",
              "        vertical-align: middle;\n",
              "    }\n",
              "\n",
              "    .dataframe tbody tr th {\n",
              "        vertical-align: top;\n",
              "    }\n",
              "\n",
              "    .dataframe thead th {\n",
              "        text-align: right;\n",
              "    }\n",
              "</style>\n",
              "<table border=\"1\" class=\"dataframe\">\n",
              "  <thead>\n",
              "    <tr style=\"text-align: right;\">\n",
              "      <th></th>\n",
              "      <th>1</th>\n",
              "      <th>2</th>\n",
              "      <th>3</th>\n",
              "      <th>4</th>\n",
              "      <th>5</th>\n",
              "      <th>6</th>\n",
              "      <th>7</th>\n",
              "      <th>8</th>\n",
              "      <th>9</th>\n",
              "      <th>10</th>\n",
              "      <th>11</th>\n",
              "      <th>12</th>\n",
              "      <th>13</th>\n",
              "      <th>14</th>\n",
              "      <th>15</th>\n",
              "      <th>16</th>\n",
              "      <th>17</th>\n",
              "      <th>18</th>\n",
              "      <th>19</th>\n",
              "      <th>20</th>\n",
              "      <th>21</th>\n",
              "      <th>22</th>\n",
              "      <th>23</th>\n",
              "      <th>24</th>\n",
              "      <th>25</th>\n",
              "      <th>26</th>\n",
              "      <th>27</th>\n",
              "      <th>28</th>\n",
              "      <th>29</th>\n",
              "    </tr>\n",
              "  </thead>\n",
              "  <tbody>\n",
              "    <tr>\n",
              "      <th>0</th>\n",
              "      <td>5.690950</td>\n",
              "      <td>4.721809</td>\n",
              "      <td>6.845420</td>\n",
              "      <td>-8.818586</td>\n",
              "      <td>8.674218</td>\n",
              "      <td>9.817295</td>\n",
              "      <td>-3.479546</td>\n",
              "      <td>4.282967</td>\n",
              "      <td>-0.384355</td>\n",
              "      <td>-0.777516</td>\n",
              "      <td>3.675601</td>\n",
              "      <td>8.829940</td>\n",
              "      <td>6.405371</td>\n",
              "      <td>9.966592</td>\n",
              "      <td>3.992198</td>\n",
              "      <td>-8.064268</td>\n",
              "      <td>6.985899</td>\n",
              "      <td>-3.773405</td>\n",
              "      <td>4.839581</td>\n",
              "      <td>8.553680</td>\n",
              "      <td>-0.406223</td>\n",
              "      <td>6.176259</td>\n",
              "      <td>9.658190</td>\n",
              "      <td>9.726215</td>\n",
              "      <td>-4.928476</td>\n",
              "      <td>-5.672280</td>\n",
              "      <td>-6.643199</td>\n",
              "      <td>0.836293</td>\n",
              "      <td>7.008406</td>\n",
              "    </tr>\n",
              "    <tr>\n",
              "      <th>1</th>\n",
              "      <td>-8.708843</td>\n",
              "      <td>4.091957</td>\n",
              "      <td>3.514153</td>\n",
              "      <td>6.757265</td>\n",
              "      <td>-0.806308</td>\n",
              "      <td>-1.606048</td>\n",
              "      <td>-3.883340</td>\n",
              "      <td>0.978578</td>\n",
              "      <td>-9.646735</td>\n",
              "      <td>4.007047</td>\n",
              "      <td>8.824369</td>\n",
              "      <td>6.750778</td>\n",
              "      <td>8.379198</td>\n",
              "      <td>-0.776645</td>\n",
              "      <td>4.366767</td>\n",
              "      <td>1.098278</td>\n",
              "      <td>2.232916</td>\n",
              "      <td>-4.627907</td>\n",
              "      <td>0.760617</td>\n",
              "      <td>-9.299746</td>\n",
              "      <td>4.265117</td>\n",
              "      <td>-3.998633</td>\n",
              "      <td>-6.232224</td>\n",
              "      <td>-1.240039</td>\n",
              "      <td>-6.886413</td>\n",
              "      <td>9.749203</td>\n",
              "      <td>-4.989181</td>\n",
              "      <td>-7.989723</td>\n",
              "      <td>-10.218368</td>\n",
              "    </tr>\n",
              "    <tr>\n",
              "      <th>2</th>\n",
              "      <td>8.418990</td>\n",
              "      <td>6.767935</td>\n",
              "      <td>-4.984544</td>\n",
              "      <td>-5.275355</td>\n",
              "      <td>-6.295832</td>\n",
              "      <td>9.327885</td>\n",
              "      <td>2.584479</td>\n",
              "      <td>7.280811</td>\n",
              "      <td>-9.761366</td>\n",
              "      <td>6.611680</td>\n",
              "      <td>-8.269010</td>\n",
              "      <td>-9.359300</td>\n",
              "      <td>-10.273204</td>\n",
              "      <td>-5.067568</td>\n",
              "      <td>-3.883400</td>\n",
              "      <td>10.641632</td>\n",
              "      <td>7.974038</td>\n",
              "      <td>0.926677</td>\n",
              "      <td>6.703359</td>\n",
              "      <td>-10.701040</td>\n",
              "      <td>6.126352</td>\n",
              "      <td>-7.227058</td>\n",
              "      <td>-5.668466</td>\n",
              "      <td>7.041791</td>\n",
              "      <td>-4.571509</td>\n",
              "      <td>6.746427</td>\n",
              "      <td>0.297157</td>\n",
              "      <td>2.435627</td>\n",
              "      <td>3.658404</td>\n",
              "    </tr>\n",
              "    <tr>\n",
              "      <th>3</th>\n",
              "      <td>-2.714385</td>\n",
              "      <td>-2.648603</td>\n",
              "      <td>4.901242</td>\n",
              "      <td>4.248367</td>\n",
              "      <td>9.549578</td>\n",
              "      <td>2.664071</td>\n",
              "      <td>-1.139723</td>\n",
              "      <td>-9.963553</td>\n",
              "      <td>0.056283</td>\n",
              "      <td>-0.660017</td>\n",
              "      <td>-5.262655</td>\n",
              "      <td>5.093533</td>\n",
              "      <td>8.513628</td>\n",
              "      <td>1.656745</td>\n",
              "      <td>0.155172</td>\n",
              "      <td>3.220070</td>\n",
              "      <td>9.470969</td>\n",
              "      <td>6.852573</td>\n",
              "      <td>5.513243</td>\n",
              "      <td>-5.219937</td>\n",
              "      <td>-3.391028</td>\n",
              "      <td>8.758440</td>\n",
              "      <td>-0.903553</td>\n",
              "      <td>-0.506274</td>\n",
              "      <td>3.940649</td>\n",
              "      <td>3.097257</td>\n",
              "      <td>5.860868</td>\n",
              "      <td>0.052261</td>\n",
              "      <td>8.228941</td>\n",
              "    </tr>\n",
              "    <tr>\n",
              "      <th>4</th>\n",
              "      <td>5.195002</td>\n",
              "      <td>-3.857438</td>\n",
              "      <td>-2.639887</td>\n",
              "      <td>6.097272</td>\n",
              "      <td>-8.246678</td>\n",
              "      <td>-5.101791</td>\n",
              "      <td>-7.036203</td>\n",
              "      <td>-5.091693</td>\n",
              "      <td>2.806334</td>\n",
              "      <td>-6.786280</td>\n",
              "      <td>-0.792682</td>\n",
              "      <td>1.195364</td>\n",
              "      <td>-2.886659</td>\n",
              "      <td>-4.176513</td>\n",
              "      <td>2.327837</td>\n",
              "      <td>5.258050</td>\n",
              "      <td>-1.951416</td>\n",
              "      <td>-10.641730</td>\n",
              "      <td>7.965830</td>\n",
              "      <td>7.361706</td>\n",
              "      <td>-4.149267</td>\n",
              "      <td>3.340338</td>\n",
              "      <td>-2.176383</td>\n",
              "      <td>4.450684</td>\n",
              "      <td>-8.114877</td>\n",
              "      <td>-7.508209</td>\n",
              "      <td>11.146235</td>\n",
              "      <td>7.814902</td>\n",
              "      <td>-4.331333</td>\n",
              "    </tr>\n",
              "    <tr>\n",
              "      <th>...</th>\n",
              "      <td>...</td>\n",
              "      <td>...</td>\n",
              "      <td>...</td>\n",
              "      <td>...</td>\n",
              "      <td>...</td>\n",
              "      <td>...</td>\n",
              "      <td>...</td>\n",
              "      <td>...</td>\n",
              "      <td>...</td>\n",
              "      <td>...</td>\n",
              "      <td>...</td>\n",
              "      <td>...</td>\n",
              "      <td>...</td>\n",
              "      <td>...</td>\n",
              "      <td>...</td>\n",
              "      <td>...</td>\n",
              "      <td>...</td>\n",
              "      <td>...</td>\n",
              "      <td>...</td>\n",
              "      <td>...</td>\n",
              "      <td>...</td>\n",
              "      <td>...</td>\n",
              "      <td>...</td>\n",
              "      <td>...</td>\n",
              "      <td>...</td>\n",
              "      <td>...</td>\n",
              "      <td>...</td>\n",
              "      <td>...</td>\n",
              "      <td>...</td>\n",
              "    </tr>\n",
              "    <tr>\n",
              "      <th>9995</th>\n",
              "      <td>-2.107553</td>\n",
              "      <td>-4.876959</td>\n",
              "      <td>10.332166</td>\n",
              "      <td>0.019237</td>\n",
              "      <td>4.050258</td>\n",
              "      <td>-7.719833</td>\n",
              "      <td>5.508394</td>\n",
              "      <td>3.089267</td>\n",
              "      <td>5.008145</td>\n",
              "      <td>6.739258</td>\n",
              "      <td>5.463149</td>\n",
              "      <td>-1.630533</td>\n",
              "      <td>7.428161</td>\n",
              "      <td>-10.264293</td>\n",
              "      <td>7.334081</td>\n",
              "      <td>5.689646</td>\n",
              "      <td>-0.106500</td>\n",
              "      <td>2.801250</td>\n",
              "      <td>10.591213</td>\n",
              "      <td>-1.641509</td>\n",
              "      <td>-0.452060</td>\n",
              "      <td>-0.190323</td>\n",
              "      <td>5.139647</td>\n",
              "      <td>-9.441470</td>\n",
              "      <td>-8.238742</td>\n",
              "      <td>-8.528449</td>\n",
              "      <td>7.575231</td>\n",
              "      <td>-3.882827</td>\n",
              "      <td>2.627791</td>\n",
              "    </tr>\n",
              "    <tr>\n",
              "      <th>9996</th>\n",
              "      <td>3.711509</td>\n",
              "      <td>-4.954779</td>\n",
              "      <td>-3.238819</td>\n",
              "      <td>5.206296</td>\n",
              "      <td>-8.180974</td>\n",
              "      <td>-4.673332</td>\n",
              "      <td>-6.915658</td>\n",
              "      <td>-4.080469</td>\n",
              "      <td>3.522967</td>\n",
              "      <td>-8.631682</td>\n",
              "      <td>-1.238047</td>\n",
              "      <td>2.032672</td>\n",
              "      <td>-0.882564</td>\n",
              "      <td>-3.215082</td>\n",
              "      <td>3.016409</td>\n",
              "      <td>7.209913</td>\n",
              "      <td>-1.716118</td>\n",
              "      <td>-9.207724</td>\n",
              "      <td>8.560131</td>\n",
              "      <td>6.654362</td>\n",
              "      <td>-3.806772</td>\n",
              "      <td>4.960512</td>\n",
              "      <td>0.399443</td>\n",
              "      <td>4.292408</td>\n",
              "      <td>-9.222095</td>\n",
              "      <td>-9.273189</td>\n",
              "      <td>10.454157</td>\n",
              "      <td>7.079641</td>\n",
              "      <td>-7.743286</td>\n",
              "    </tr>\n",
              "    <tr>\n",
              "      <th>9997</th>\n",
              "      <td>4.730278</td>\n",
              "      <td>-1.744426</td>\n",
              "      <td>-9.567553</td>\n",
              "      <td>-4.061406</td>\n",
              "      <td>7.446723</td>\n",
              "      <td>-5.974800</td>\n",
              "      <td>-7.825554</td>\n",
              "      <td>-4.524337</td>\n",
              "      <td>9.447843</td>\n",
              "      <td>3.253149</td>\n",
              "      <td>1.498652</td>\n",
              "      <td>1.186343</td>\n",
              "      <td>6.623139</td>\n",
              "      <td>-0.089589</td>\n",
              "      <td>3.669097</td>\n",
              "      <td>5.374887</td>\n",
              "      <td>8.916595</td>\n",
              "      <td>-9.863856</td>\n",
              "      <td>-5.804452</td>\n",
              "      <td>4.260478</td>\n",
              "      <td>3.077116</td>\n",
              "      <td>-4.209442</td>\n",
              "      <td>3.385056</td>\n",
              "      <td>2.103282</td>\n",
              "      <td>-5.786865</td>\n",
              "      <td>5.315729</td>\n",
              "      <td>-6.066785</td>\n",
              "      <td>8.830470</td>\n",
              "      <td>-11.027183</td>\n",
              "    </tr>\n",
              "    <tr>\n",
              "      <th>9998</th>\n",
              "      <td>2.744377</td>\n",
              "      <td>2.768039</td>\n",
              "      <td>7.493199</td>\n",
              "      <td>-3.545052</td>\n",
              "      <td>-9.842654</td>\n",
              "      <td>7.303738</td>\n",
              "      <td>6.927084</td>\n",
              "      <td>-0.353955</td>\n",
              "      <td>7.699033</td>\n",
              "      <td>-2.400825</td>\n",
              "      <td>8.442161</td>\n",
              "      <td>3.262577</td>\n",
              "      <td>1.571756</td>\n",
              "      <td>10.392827</td>\n",
              "      <td>9.759724</td>\n",
              "      <td>8.022491</td>\n",
              "      <td>-3.123120</td>\n",
              "      <td>-10.138046</td>\n",
              "      <td>9.233163</td>\n",
              "      <td>-8.774336</td>\n",
              "      <td>-3.707826</td>\n",
              "      <td>-3.129864</td>\n",
              "      <td>9.677015</td>\n",
              "      <td>-7.495096</td>\n",
              "      <td>-4.406123</td>\n",
              "      <td>-1.974531</td>\n",
              "      <td>-7.448938</td>\n",
              "      <td>1.370353</td>\n",
              "      <td>-8.520655</td>\n",
              "    </tr>\n",
              "    <tr>\n",
              "      <th>9999</th>\n",
              "      <td>7.231400</td>\n",
              "      <td>-10.363063</td>\n",
              "      <td>-7.070742</td>\n",
              "      <td>9.935305</td>\n",
              "      <td>-0.591464</td>\n",
              "      <td>9.917823</td>\n",
              "      <td>-0.356532</td>\n",
              "      <td>5.891302</td>\n",
              "      <td>-2.092037</td>\n",
              "      <td>6.564597</td>\n",
              "      <td>-1.235174</td>\n",
              "      <td>-2.704093</td>\n",
              "      <td>-1.985483</td>\n",
              "      <td>-3.111058</td>\n",
              "      <td>7.788065</td>\n",
              "      <td>-2.184742</td>\n",
              "      <td>-3.161014</td>\n",
              "      <td>-1.950195</td>\n",
              "      <td>-2.080074</td>\n",
              "      <td>4.018851</td>\n",
              "      <td>-6.087222</td>\n",
              "      <td>3.299164</td>\n",
              "      <td>-5.158462</td>\n",
              "      <td>9.325723</td>\n",
              "      <td>-9.005577</td>\n",
              "      <td>6.977379</td>\n",
              "      <td>-2.979642</td>\n",
              "      <td>-9.131887</td>\n",
              "      <td>5.809806</td>\n",
              "    </tr>\n",
              "  </tbody>\n",
              "</table>\n",
              "<p>10000 rows × 29 columns</p>\n",
              "</div>"
            ],
            "text/plain": [
              "            1          2          3   ...         27        28         29\n",
              "0     5.690950   4.721809   6.845420  ...  -6.643199  0.836293   7.008406\n",
              "1    -8.708843   4.091957   3.514153  ...  -4.989181 -7.989723 -10.218368\n",
              "2     8.418990   6.767935  -4.984544  ...   0.297157  2.435627   3.658404\n",
              "3    -2.714385  -2.648603   4.901242  ...   5.860868  0.052261   8.228941\n",
              "4     5.195002  -3.857438  -2.639887  ...  11.146235  7.814902  -4.331333\n",
              "...        ...        ...        ...  ...        ...       ...        ...\n",
              "9995 -2.107553  -4.876959  10.332166  ...   7.575231 -3.882827   2.627791\n",
              "9996  3.711509  -4.954779  -3.238819  ...  10.454157  7.079641  -7.743286\n",
              "9997  4.730278  -1.744426  -9.567553  ...  -6.066785  8.830470 -11.027183\n",
              "9998  2.744377   2.768039   7.493199  ...  -7.448938  1.370353  -8.520655\n",
              "9999  7.231400 -10.363063  -7.070742  ...  -2.979642 -9.131887   5.809806\n",
              "\n",
              "[10000 rows x 29 columns]"
            ]
          },
          "metadata": {
            "tags": []
          },
          "execution_count": 132
        }
      ]
    },
    {
      "cell_type": "markdown",
      "metadata": {
        "id": "fZSR4HNf24Rc"
      },
      "source": [
        "import\n"
      ]
    },
    {
      "cell_type": "code",
      "metadata": {
        "id": "qto6jNHq2mdi"
      },
      "source": [
        "\n",
        "from sklearn.cluster import KMeans"
      ],
      "execution_count": 133,
      "outputs": []
    },
    {
      "cell_type": "markdown",
      "metadata": {
        "id": "1NMCIf8s29ts"
      },
      "source": [
        "Define"
      ]
    },
    {
      "cell_type": "code",
      "metadata": {
        "id": "QKgszxSC2_IC"
      },
      "source": [
        "kmeans = KMeans(n_clusters=8, random_state=2021)"
      ],
      "execution_count": 134,
      "outputs": []
    },
    {
      "cell_type": "markdown",
      "metadata": {
        "id": "d-EI0deS3LxE"
      },
      "source": [
        "เริ่มทำการคำนวณ"
      ]
    },
    {
      "cell_type": "code",
      "metadata": {
        "colab": {
          "base_uri": "https://localhost:8080/"
        },
        "id": "OZxKaEDI3Pht",
        "outputId": "82fb48ac-4001-4c9f-aa03-0e82a5a85f2e"
      },
      "source": [
        "kmeans.fit(new_data)"
      ],
      "execution_count": 135,
      "outputs": [
        {
          "output_type": "execute_result",
          "data": {
            "text/plain": [
              "KMeans(algorithm='auto', copy_x=True, init='k-means++', max_iter=300,\n",
              "       n_clusters=8, n_init=10, n_jobs=None, precompute_distances='auto',\n",
              "       random_state=2021, tol=0.0001, verbose=0)"
            ]
          },
          "metadata": {
            "tags": []
          },
          "execution_count": 135
        }
      ]
    },
    {
      "cell_type": "markdown",
      "metadata": {
        "id": "CH9sJfxg3uDV"
      },
      "source": [
        "แสดง จุด cluster centers ที่คำนวณออกมาได้"
      ]
    },
    {
      "cell_type": "code",
      "metadata": {
        "colab": {
          "base_uri": "https://localhost:8080/"
        },
        "id": "46zg2Z0d3Wrk",
        "outputId": "7aebbc0e-e1dd-4024-b204-12b4c4e5b3ee"
      },
      "source": [
        "kmeans.cluster_centers_"
      ],
      "execution_count": 136,
      "outputs": [
        {
          "output_type": "execute_result",
          "data": {
            "text/plain": [
              "array([[ 6.88587776e+00,  7.17865897e+00,  6.32258722e+00,\n",
              "        -9.05504787e+00,  5.80221119e+00,  3.31059524e+00,\n",
              "        -2.63445280e+00,  4.33167159e+00, -3.86624225e+00,\n",
              "        -2.62959838e+00,  3.98340654e+00,  7.09716845e+00,\n",
              "         7.07468567e+00,  7.31355219e+00, -3.26841996e+00,\n",
              "        -8.13537577e+00,  6.24076867e+00, -3.99548429e+00,\n",
              "        -1.09431515e+00,  7.67136382e+00,  4.53433853e+00,\n",
              "         4.16435817e+00,  1.75787357e+00,  7.68140907e+00,\n",
              "        -2.09197786e+00, -1.15931194e+00,  5.79773017e-01,\n",
              "        -7.37432435e-01,  3.68755189e+00],\n",
              "       [-1.09516775e+00, -5.39084335e+00, -3.37696274e+00,\n",
              "         5.82951052e+00,  4.69044851e+00,  4.22899302e+00,\n",
              "         8.20194567e-01, -1.92899927e+00, -1.59090025e+00,\n",
              "         2.76424497e+00, -3.84254352e-01,  1.14929818e-01,\n",
              "         5.25857180e-01,  1.32585339e+00,  3.94743306e+00,\n",
              "        -2.75772708e+00,  2.84889478e+00,  4.77776748e+00,\n",
              "        -3.12725677e+00, -1.02603302e+00, -7.10612094e-01,\n",
              "         6.24130788e+00,  1.52890629e+00,  5.17992105e+00,\n",
              "        -2.00646852e+00,  1.32042074e+00,  2.58914551e+00,\n",
              "        -2.85972149e+00,  4.78332726e+00],\n",
              "       [-7.19458321e+00,  1.83607329e+00,  7.06315125e+00,\n",
              "         8.50245528e-01,  1.79234460e+00, -3.69967411e+00,\n",
              "         2.25182991e+00, -1.17908859e+00,  1.88510230e+00,\n",
              "         6.03324679e+00,  5.13936607e+00,  2.87796700e+00,\n",
              "         7.35385051e+00, -4.16935447e+00,  2.00893226e+00,\n",
              "         2.90473175e-01,  2.89739167e+00,  5.75736380e-01,\n",
              "         4.07189355e+00, -9.23310288e-01, -1.36477202e-01,\n",
              "        -2.79698262e+00, -2.15806481e+00, -5.32006492e+00,\n",
              "        -3.86226393e+00, -2.21941054e+00,  1.71015832e+00,\n",
              "        -2.60459234e+00, -5.01118426e+00],\n",
              "       [ 9.22052562e+00,  6.57441831e+00, -5.59985866e+00,\n",
              "        -5.26001564e+00, -3.80565246e+00,  9.47580742e+00,\n",
              "         2.76982391e+00,  8.12884341e+00, -9.79206542e+00,\n",
              "         5.35036053e+00, -9.97736203e+00, -9.12595167e+00,\n",
              "        -9.90204178e+00, -5.86458877e+00, -3.45106625e+00,\n",
              "         9.16145420e+00,  8.23434737e+00,  1.62892241e+00,\n",
              "         6.27984659e+00, -9.37006767e+00,  5.13584199e+00,\n",
              "        -8.32760162e+00, -6.44824198e+00,  8.57125546e+00,\n",
              "        -4.77684972e+00,  6.02263126e+00,  5.81723276e-01,\n",
              "         3.92620518e+00,  3.84653883e+00],\n",
              "       [ 3.11320166e+00,  3.23525803e+00,  6.05899123e+00,\n",
              "        -3.34406050e+00, -9.77888432e+00,  7.08028360e+00,\n",
              "         5.90547647e+00,  2.32431289e-01,  7.37556244e+00,\n",
              "        -1.89881602e+00,  6.85089134e+00,  4.55702516e+00,\n",
              "         2.49918121e+00,  9.57914833e+00,  9.67657845e+00,\n",
              "         7.32915259e+00, -2.74987043e+00, -9.63454218e+00,\n",
              "         7.65872328e+00, -9.12459849e+00, -3.00287161e+00,\n",
              "        -4.51354824e+00,  9.96535674e+00, -5.52243051e+00,\n",
              "        -4.43378955e+00, -2.83798706e+00, -8.38445041e+00,\n",
              "         1.05624553e+00, -8.66620911e+00],\n",
              "       [ 5.30386862e-03, -4.88875922e+00,  4.27840892e+00,\n",
              "         5.72786378e+00, -8.18570991e+00,  2.91864941e+00,\n",
              "        -2.04683658e-01,  2.40937341e+00,  1.33811388e+00,\n",
              "        -6.87652622e+00, -1.35045062e+00,  1.64196550e+00,\n",
              "        -4.45491199e+00, -4.91446205e+00, -8.39049185e-01,\n",
              "         2.39215183e+00, -9.86337360e-01, -8.26823329e-01,\n",
              "        -2.48735883e+00,  3.73262517e+00, -5.28459180e+00,\n",
              "        -9.88485799e-01, -2.95280974e+00,  4.08952590e+00,\n",
              "        -3.21241246e+00, -4.99691208e+00,  3.11302747e+00,\n",
              "         9.08164781e+00, -4.26245587e-01],\n",
              "       [-2.25742021e+00, -3.30760490e+00, -8.39807639e+00,\n",
              "        -5.06735160e+00,  4.85603001e+00, -7.75589059e+00,\n",
              "        -8.76695952e+00, -1.62864457e+00,  6.05997559e+00,\n",
              "        -6.94994644e-01, -7.98307529e-01,  1.04328458e+00,\n",
              "         2.56953402e+00, -3.42197227e+00,  6.47453910e+00,\n",
              "         7.25822360e+00,  8.00536987e+00, -9.40988953e+00,\n",
              "        -6.39459703e+00, -1.40607830e+00,  1.69850221e+00,\n",
              "         1.30323654e-02,  4.41385762e+00,  3.42676186e+00,\n",
              "         6.16798308e-01, -1.71881820e+00, -2.29805246e+00,\n",
              "         5.79816256e+00, -7.06615355e+00],\n",
              "       [-5.67482793e+00, -1.62875855e-01,  8.55336903e+00,\n",
              "        -7.70427396e+00, -2.27144632e+00, -2.08091232e+00,\n",
              "        -3.84331721e+00, -8.91116564e+00, -5.73744167e+00,\n",
              "         8.78642892e+00, -5.16381340e+00, -9.71133814e+00,\n",
              "        -1.49423058e+00,  2.39781638e+00, -2.75956638e+00,\n",
              "         9.21550402e+00, -6.87898188e+00,  8.98790883e+00,\n",
              "        -4.00489032e-01,  6.15171249e+00,  2.68092619e+00,\n",
              "        -6.48555691e+00, -9.30109143e+00,  9.02159087e+00,\n",
              "         7.80450553e+00,  4.71141037e+00, -8.16001020e-01,\n",
              "        -1.57636121e+00,  6.81948769e+00]])"
            ]
          },
          "metadata": {
            "tags": []
          },
          "execution_count": 136
        }
      ]
    },
    {
      "cell_type": "markdown",
      "metadata": {
        "id": "4S9JtYUK31PF"
      },
      "source": [
        "ทดสอบการจัดกลุ่มของ Data"
      ]
    },
    {
      "cell_type": "code",
      "metadata": {
        "colab": {
          "base_uri": "https://localhost:8080/"
        },
        "id": "XOLKmTVe35I0",
        "outputId": "b5c9c607-b090-4f24-97a0-e72aa01bb03d"
      },
      "source": [
        "km = kmeans.predict(new_data)\n",
        "km"
      ],
      "execution_count": 137,
      "outputs": [
        {
          "output_type": "execute_result",
          "data": {
            "text/plain": [
              "array([0, 2, 3, ..., 6, 4, 1], dtype=int32)"
            ]
          },
          "metadata": {
            "tags": []
          },
          "execution_count": 137
        }
      ]
    },
    {
      "cell_type": "markdown",
      "metadata": {
        "id": "lWKJK6BK4JH8"
      },
      "source": [
        "ทำ PCA ลด DN\n"
      ]
    },
    {
      "cell_type": "code",
      "metadata": {
        "id": "8isdvVeU389w"
      },
      "source": [
        "\n",
        "from sklearn.decomposition import PCA\n",
        "from matplotlib import pyplot as plt\n",
        "pca = PCA(n_components=2)\n",
        "new_pca = pca.fit_transform(new_data)"
      ],
      "execution_count": 138,
      "outputs": []
    },
    {
      "cell_type": "code",
      "metadata": {
        "id": "dVOR09bPHw-8"
      },
      "source": [
        "matplotlib.rcParams['figure.figsize']=[5,5]"
      ],
      "execution_count": 143,
      "outputs": []
    },
    {
      "cell_type": "code",
      "metadata": {
        "colab": {
          "base_uri": "https://localhost:8080/",
          "height": 337
        },
        "id": "rel5yOw5IClD",
        "outputId": "5a47a362-8a58-4e08-8a36-6c4275cd6b5b"
      },
      "source": [
        "kmeans = KMeans(n_clusters=8, random_state=2021)\n",
        "kmeans.fit(new_data)\n",
        "y = kmeans.predict(new_data)\n",
        "plt.scatter(new_pca[:,0],new_pca[:,1],c=y)"
      ],
      "execution_count": 144,
      "outputs": [
        {
          "output_type": "execute_result",
          "data": {
            "text/plain": [
              "<matplotlib.collections.PathCollection at 0x7f37c2b38790>"
            ]
          },
          "metadata": {
            "tags": []
          },
          "execution_count": 144
        },
        {
          "output_type": "display_data",
          "data": {
            "image/png": "[encoded data removed]",
            "text/plain": [
              "<Figure size 360x360 with 1 Axes>"
            ]
          },
          "metadata": {
            "tags": [],
            "needs_background": "light"
          }
        }
      ]
    },
    {
      "cell_type": "markdown",
      "metadata": {
        "id": "E7EzpGfBI9lc"
      },
      "source": [
        "จากนั้นทำการหาจำนวนกลุ่มที่เหมาะสมต่อการแบ่งกลุ่มโดยการหาค่า k ที่เหมาะสมของข้อมูลด้วยวิธี The Elbow Method\n",
        "\n",
        "ทำการหาค่า SSE (Sum of Squared error) ของข้อมูล"
      ]
    },
    {
      "cell_type": "markdown",
      "metadata": {
        "id": "jXUOiHObhvLq"
      },
      "source": [
        "วิธีการหาค่า k ด้วยวิธี The elbow method"
      ]
    },
    {
      "cell_type": "code",
      "metadata": {
        "colab": {
          "base_uri": "https://localhost:8080/"
        },
        "id": "lPoT8n8HJCdi",
        "outputId": "0c38f82b-284f-4252-9198-5baf67013ae9"
      },
      "source": [
        "kmeans.inertia_  #ค่าของ SSE Sum of Squared error"
      ],
      "execution_count": 145,
      "outputs": [
        {
          "output_type": "execute_result",
          "data": {
            "text/plain": [
              "4076534.514372877"
            ]
          },
          "metadata": {
            "tags": []
          },
          "execution_count": 145
        }
      ]
    },
    {
      "cell_type": "code",
      "metadata": {
        "id": "p3C7KOkqJE_6"
      },
      "source": [
        "SSE = list()\n",
        "for k in [1,2,3,4,5,6,7,8]:\n",
        "    kmeans = KMeans(n_clusters = k , random_state = 2021)\n",
        "    m = kmeans.fit(new_data)\n",
        "    SSE.append(kmeans.inertia_)"
      ],
      "execution_count": 155,
      "outputs": []
    },
    {
      "cell_type": "code",
      "metadata": {
        "colab": {
          "base_uri": "https://localhost:8080/"
        },
        "id": "iYeWmGVDJbpO",
        "outputId": "de6ef097-95b7-4f50-c8aa-033ae0b3b7ce"
      },
      "source": [
        "SSE"
      ],
      "execution_count": 156,
      "outputs": [
        {
          "output_type": "execute_result",
          "data": {
            "text/plain": [
              "[9967039.355089583,\n",
              " 8688726.566733709,\n",
              " 7802210.613899883,\n",
              " 6823585.4253423065,\n",
              " 6055532.652808431,\n",
              " 5436631.432854717,\n",
              " 4665134.174692608,\n",
              " 4076534.514372877]"
            ]
          },
          "metadata": {
            "tags": []
          },
          "execution_count": 156
        }
      ]
    },
    {
      "cell_type": "code",
      "metadata": {
        "id": "UMjoJJbTJdtD"
      },
      "source": [
        "matplotlib.rcParams['figure.figsize']=[5,5]"
      ],
      "execution_count": 157,
      "outputs": []
    },
    {
      "cell_type": "code",
      "metadata": {
        "colab": {
          "base_uri": "https://localhost:8080/",
          "height": 345
        },
        "id": "lzKGsvkeJR7j",
        "outputId": "5f4b3a4f-cf2c-4f89-be5d-82496da5341f"
      },
      "source": [
        "plt.plot([1,2,3,4,5,6,7,8],SSE,'o-r')\n",
        "plt.xlabel('k')\n",
        "plt.ylabel('SSE');"
      ],
      "execution_count": 158,
      "outputs": [
        {
          "output_type": "display_data",
          "data": {
            "image/png": "[encoded data removed]",
            "text/plain": [
              "<Figure size 360x360 with 1 Axes>"
            ]
          },
          "metadata": {
            "tags": [],
            "needs_background": "light"
          }
        }
      ]
    },
    {
      "cell_type": "code",
      "metadata": {
        "colab": {
          "base_uri": "https://localhost:8080/",
          "height": 350
        },
        "id": "mQoxyUFGJsAi",
        "outputId": "3bff483e-e964-4739-f6bf-833f9aa53cc2"
      },
      "source": [
        "kmeans = KMeans(n_clusters = 8,random_state=2021)\n",
        "kmeans.fit(new_data)\n",
        "km = kmeans.predict(new_data)\n",
        "plt.scatter(new_pca[:,0],new_pca[:,1],c=t,alpha=0.7)\n",
        "plt.title('DataGenerator') \n",
        "plt.xlabel('X') \n",
        "plt.ylabel('Y');"
      ],
      "execution_count": 160,
      "outputs": [
        {
          "output_type": "display_data",
          "data": {
            "image/png": "[encoded data removed]",
            "text/plain": [
              "<Figure size 360x360 with 1 Axes>"
            ]
          },
          "metadata": {
            "tags": [],
            "needs_background": "light"
          }
        }
      ]
    },
    {
      "cell_type": "markdown",
      "metadata": {
        "id": "i8VQe9gPJ1XB"
      },
      "source": [
        "จากกราฟ หลังจากที่ได้ทำการจัดกลุ่ม k เท่ากับ 8 กลุ่ม"
      ]
    },
    {
      "cell_type": "markdown",
      "metadata": {
        "id": "etryHw9zLT77"
      },
      "source": [
        "3.ลด Dimension ของข้อมูลเหลือ 2 มิติ แล้วทำ clustering แล้ว visualize ข้อมูลแบบ 2 มิติ\n",
        "\n",
        "จากกราฟข้างต้น เนื่องจากมีการทับซ้อนของข้อมูล ดังนั้นจะเป็ฯการลด Dimension\n",
        "\n",
        "*วิธี MDS*"
      ]
    },
    {
      "cell_type": "markdown",
      "metadata": {
        "id": "fJD_PFSXLZB7"
      },
      "source": [
        "Import"
      ]
    },
    {
      "cell_type": "code",
      "metadata": {
        "id": "jz_P3RHdJ1KL"
      },
      "source": [
        "from sklearn.manifold import MDS"
      ],
      "execution_count": 161,
      "outputs": []
    },
    {
      "cell_type": "markdown",
      "metadata": {
        "id": "AOxGY65nLbzq"
      },
      "source": [
        "Define"
      ]
    },
    {
      "cell_type": "code",
      "metadata": {
        "id": "U4LITxguLdkx"
      },
      "source": [
        "mds = MDS(n_components=2)"
      ],
      "execution_count": 162,
      "outputs": []
    },
    {
      "cell_type": "markdown",
      "metadata": {
        "id": "gze8vLIYLk-L"
      },
      "source": [
        "fit transform\n"
      ]
    },
    {
      "cell_type": "code",
      "metadata": {
        "id": "W93T-X_DLiDr"
      },
      "source": [
        "new_mds = mds.fit_transform(new_data)"
      ],
      "execution_count": 164,
      "outputs": []
    },
    {
      "cell_type": "markdown",
      "metadata": {
        "id": "8Bupzb5wXaeJ"
      },
      "source": [
        "ทำการจัดกลุ่มจากการวัดระยะห่างในการจัดกลุ่ม ระหว่างจุดข้อมูล"
      ]
    },
    {
      "cell_type": "code",
      "metadata": {
        "id": "oB85EYHPLq6u"
      },
      "source": [
        "kmeans_23 = KMeans(n_clusters=8,random_state=2021)\n",
        "kmeans_23.fit(new_data)\n",
        "g = kmeans_23.predict(new_data)"
      ],
      "execution_count": 166,
      "outputs": []
    },
    {
      "cell_type": "code",
      "metadata": {
        "colab": {
          "base_uri": "https://localhost:8080/",
          "height": 350
        },
        "id": "NyKJm9MJXds1",
        "outputId": "b5e1fb65-eae4-4a82-a700-482a3f1d9fe5"
      },
      "source": [
        "plt.scatter(new_mds[:,0],new_mds[:,1],c=g,alpha=0.7)\n",
        "plt.title('DataGenerator') \n",
        "plt.xlabel('X') \n",
        "plt.ylabel('Y');"
      ],
      "execution_count": 167,
      "outputs": [
        {
          "output_type": "display_data",
          "data": {
            "image/png": "[encoded data removed]",
            "text/plain": [
              "<Figure size 360x360 with 1 Axes>"
            ]
          },
          "metadata": {
            "tags": [],
            "needs_background": "light"
          }
        }
      ]
    },
    {
      "cell_type": "markdown",
      "metadata": {
        "id": "a-y55Bj8Xqnx"
      },
      "source": [
        "# เปรียบเทียบความแตกต่างของผลข้อ 2. กับ ข้อ 3."
      ]
    },
    {
      "cell_type": "markdown",
      "metadata": {
        "id": "eFjrnPcPXs9L"
      },
      "source": [
        "กราฟที่ 1 กราฟ PCA"
      ]
    },
    {
      "cell_type": "code",
      "metadata": {
        "colab": {
          "base_uri": "https://localhost:8080/",
          "height": 350
        },
        "id": "8Y-J-rSQXsbH",
        "outputId": "f2677a37-c701-4bd1-8485-09949278fc78"
      },
      "source": [
        "plt.scatter(new_pca[:,0],new_pca[:,1],c=t,alpha=0.7)\n",
        "plt.title('DataGenerator') \n",
        "plt.xlabel('X') \n",
        "plt.ylabel('Y');"
      ],
      "execution_count": 168,
      "outputs": [
        {
          "output_type": "display_data",
          "data": {
            "image/png": "[encoded data removed]",
            "text/plain": [
              "<Figure size 360x360 with 1 Axes>"
            ]
          },
          "metadata": {
            "tags": [],
            "needs_background": "light"
          }
        }
      ]
    },
    {
      "cell_type": "markdown",
      "metadata": {
        "id": "2fAWp9tBX5cw"
      },
      "source": [
        "\n",
        "กราฟที่ 2 กราฟ MDS"
      ]
    },
    {
      "cell_type": "code",
      "metadata": {
        "colab": {
          "base_uri": "https://localhost:8080/",
          "height": 350
        },
        "id": "PfqYtY8sX7jo",
        "outputId": "c4d7f469-9370-4567-c270-7aa93941b9b1"
      },
      "source": [
        "plt.scatter(new_mds[:,0],new_mds[:,1],c=g,alpha=0.7)\n",
        "plt.title('DataGenerator') \n",
        "plt.xlabel('X') \n",
        "plt.ylabel('Y');"
      ],
      "execution_count": 169,
      "outputs": [
        {
          "output_type": "display_data",
          "data": {
            "image/png": "[encoded data removed]",
            "text/plain": [
              "<Figure size 360x360 with 1 Axes>"
            ]
          },
          "metadata": {
            "tags": [],
            "needs_background": "light"
          }
        }
      ]
    },
    {
      "cell_type": "markdown",
      "metadata": {
        "id": "Q07aNJnuYCiQ"
      },
      "source": [
        "จากการเปรียบเทียบกราฟที่ 1 กราฟ PCA และ กราฟที่ 2 กราฟ MDS จะเห็นการกระจายของข้อมูลที่แตกต่างกันส่วนกราฟที่ 1 ข้อมูลส่วนมากไม่มีการกระจายของข้อมูล"
      ]
    }
  ]
}