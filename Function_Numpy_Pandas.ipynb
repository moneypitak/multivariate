{
  "nbformat": 4,
  "nbformat_minor": 0,
  "metadata": {
    "colab": {
      "name": "Function_Numpy_Pandas.ipynb",
      "provenance": [],
      "authorship_tag": "ABX9TyM0MguQTMYoy/kLzoXr/Pzo",
      "include_colab_link": true
    },
    "kernelspec": {
      "name": "python3",
      "display_name": "Python 3"
    }
  },
  "cells": [
    {
      "cell_type": "markdown",
      "metadata": {
        "id": "view-in-github",
        "colab_type": "text"
      },
      "source": [
        "<a href=\"https://colab.research.google.com/github/moneypitak/multivariate/blob/main/Function_Numpy_Pandas.ipynb\" target=\"_parent\"><img src=\"https://colab.research.google.com/assets/colab-badge.svg\" alt=\"Open In Colab\"/></a>"
      ]
    },
    {
      "cell_type": "markdown",
      "metadata": {
        "id": "CgaQczbLSPC4"
      },
      "source": [
        "# **Function**"
      ]
    },
    {
      "cell_type": "markdown",
      "metadata": {
        "id": "jmpV1_EaeBTd"
      },
      "source": [
        "def function name(input) :\r\n",
        "\r\n",
        "  do_something with  Input to produce Output\r\n",
        "\r\n",
        "  return Output"
      ]
    },
    {
      "cell_type": "markdown",
      "metadata": {
        "id": "g1GIBq6_TKSu"
      },
      "source": [
        "### function มีส่วนสำคัญทั้งหมด 4 ส่วน\r\n",
        "\r\n",
        "1 บอก python ว่าเราเขียนฟังก์ชั่น ชื่อะไร def function_name():(ขาดไม่ได้)\r\n",
        "\r\n",
        "2.กำหนดตัวแปรที่จะเป็น input output (ขาดได้)\r\n",
        "\r\n",
        "3.ส่วนประมวลผล do_something with input to get output (ขาดไม่ได้)\r\n",
        "\r\n",
        "4.ส่วน output return output(ขาดได้)"
      ]
    },
    {
      "cell_type": "code",
      "metadata": {
        "id": "tV5nFTesUbsc"
      },
      "source": [
        "def print_name(name,surname,ID) : \r\n",
        "  st = f'ชื่อ {name}นามสกุล {surname} ID{ID}'\r\n",
        "  return st\r\n",
        "  print('outside function')"
      ],
      "execution_count": 61,
      "outputs": []
    },
    {
      "cell_type": "code",
      "metadata": {
        "colab": {
          "base_uri": "https://localhost:8080/",
          "height": 35
        },
        "id": "ywedVCozUnCu",
        "outputId": "67123677-f8c5-409a-8572-24660baa5736"
      },
      "source": [
        "print_name('มันนี่ ','พิทักษ์',' 623020532-3')"
      ],
      "execution_count": 62,
      "outputs": [
        {
          "output_type": "execute_result",
          "data": {
            "application/vnd.google.colaboratory.intrinsic+json": {
              "type": "string"
            },
            "text/plain": [
              "'ชื่อ มันนี่ นามสกุล พิทักษ์ ID 623020532-3'"
            ]
          },
          "metadata": {
            "tags": []
          },
          "execution_count": 62
        }
      ]
    },
    {
      "cell_type": "code",
      "metadata": {
        "colab": {
          "base_uri": "https://localhost:8080/"
        },
        "id": "Rcf5hr8NVeJV",
        "outputId": "66cf0dc7-50c7-44d7-ec47-f7f58754c0c3"
      },
      "source": [
        "output_string = print_name('มันนี่ ','พิทักษ์',' 623020532-3')\r\n",
        "print(output_string)"
      ],
      "execution_count": 63,
      "outputs": [
        {
          "output_type": "stream",
          "text": [
            "ชื่อ มันนี่ นามสกุล พิทักษ์ ID 623020532-3\n"
          ],
          "name": "stdout"
        }
      ]
    },
    {
      "cell_type": "markdown",
      "metadata": {
        "id": "j6obisG_XY6e"
      },
      "source": [
        "ฟังก์ชั่นไม่จำเป็นต้องมี output"
      ]
    },
    {
      "cell_type": "code",
      "metadata": {
        "id": "Fg-DvGn8XKJQ"
      },
      "source": [
        "def print_name2(surname,name,ID) : \r\n",
        "  st = f'ชื่อ {name}นามสกุล {surname} ID{ID}'\r\n",
        "  return st\r\n",
        "  print(st)"
      ],
      "execution_count": 64,
      "outputs": []
    },
    {
      "cell_type": "code",
      "metadata": {
        "colab": {
          "base_uri": "https://localhost:8080/",
          "height": 35
        },
        "id": "7nvWxHzwXt6u",
        "outputId": "ab7b5a81-6c8a-4592-bf80-e0f192c37359"
      },
      "source": [
        "print_name2('มันนี่ ','พิทักษ์',' 623020532-3')"
      ],
      "execution_count": 65,
      "outputs": [
        {
          "output_type": "execute_result",
          "data": {
            "application/vnd.google.colaboratory.intrinsic+json": {
              "type": "string"
            },
            "text/plain": [
              "'ชื่อ พิทักษ์นามสกุล มันนี่  ID 623020532-3'"
            ]
          },
          "metadata": {
            "tags": []
          },
          "execution_count": 65
        }
      ]
    },
    {
      "cell_type": "code",
      "metadata": {
        "id": "IbH9-6ihYC8v"
      },
      "source": [
        "op2 = print_name2('มันนี่ ','พิทักษ์',' 623020532-3')"
      ],
      "execution_count": 66,
      "outputs": []
    },
    {
      "cell_type": "code",
      "metadata": {
        "colab": {
          "base_uri": "https://localhost:8080/"
        },
        "id": "BAQxBpxiYXSg",
        "outputId": "0753eb77-bbad-4bd0-9507-8b4c78dbdc54"
      },
      "source": [
        "print(op2)"
      ],
      "execution_count": 67,
      "outputs": [
        {
          "output_type": "stream",
          "text": [
            "ชื่อ พิทักษ์นามสกุล มันนี่  ID 623020532-3\n"
          ],
          "name": "stdout"
        }
      ]
    },
    {
      "cell_type": "markdown",
      "metadata": {
        "id": "jmloX3AgZIkG"
      },
      "source": [
        "ฟังก์ชั่นไม่จำเป็นต้องมี input\r\n"
      ]
    },
    {
      "cell_type": "code",
      "metadata": {
        "id": "ANzCBtW9ZM_a"
      },
      "source": [
        "def pi():\r\n",
        "  return 3.14159265359"
      ],
      "execution_count": 68,
      "outputs": []
    },
    {
      "cell_type": "code",
      "metadata": {
        "colab": {
          "base_uri": "https://localhost:8080/"
        },
        "id": "G3n-QAqmZTSg",
        "outputId": "5f0a3894-3af3-4161-936a-3505b211b867"
      },
      "source": [
        "#คำนวนพื้นที่วงกลมที่มีขนาดศูนย์กลางเท่ากับ 3\r\n",
        "pi()*(1.5**2)"
      ],
      "execution_count": 69,
      "outputs": [
        {
          "output_type": "execute_result",
          "data": {
            "text/plain": [
              "7.0685834705775"
            ]
          },
          "metadata": {
            "tags": []
          },
          "execution_count": 69
        }
      ]
    },
    {
      "cell_type": "code",
      "metadata": {
        "id": "PHaTXRTWZidP"
      },
      "source": [
        "def print_my_name():\r\n",
        "  print('มันนี่ พิทักษ์ 623020532-3')"
      ],
      "execution_count": 70,
      "outputs": []
    },
    {
      "cell_type": "code",
      "metadata": {
        "colab": {
          "base_uri": "https://localhost:8080/"
        },
        "id": "U6EBuwrUZuux",
        "outputId": "0a9ab7c0-fa92-489a-d87e-64b9c81b27ef"
      },
      "source": [
        "print_my_name()"
      ],
      "execution_count": 71,
      "outputs": [
        {
          "output_type": "stream",
          "text": [
            "มันนี่ พิทักษ์ 623020532-3\n"
          ],
          "name": "stdout"
        }
      ]
    },
    {
      "cell_type": "markdown",
      "metadata": {
        "id": "gEFeZ1jGawSs"
      },
      "source": [
        "input ของ function ใน python มีสองแบบ input ที่จำเป็นต้องใส่ กับ input ที่ไม่จำเป็นต้องใส่ (มีค่า default)\r\n",
        "\r\n",
        "เราต้องเรียง input ที่จำเป็นต้องใส่ขึ้นก่อน"
      ]
    },
    {
      "cell_type": "code",
      "metadata": {
        "id": "J4i3dcKLZyZT"
      },
      "source": [
        "def print_2lines_default(name, surname, ID, grade='F'):\r\n",
        "  st = f'ชื่อ {name} นามสกุล {surname} รหัส {ID}'\r\n",
        "  print(st)\r\n",
        "  st2=f'เกรดวิชา Mutivariate >>> {grade}'\r\n",
        "  print(st2)"
      ],
      "execution_count": 72,
      "outputs": []
    },
    {
      "cell_type": "code",
      "metadata": {
        "colab": {
          "base_uri": "https://localhost:8080/"
        },
        "id": "gO-pk97Nb5cx",
        "outputId": "c661104c-d99b-4fef-c757-faa702c9931f"
      },
      "source": [
        "print_2lines_default('มันนี่ ',' พิทักษ์ ','623020532-3')"
      ],
      "execution_count": 73,
      "outputs": [
        {
          "output_type": "stream",
          "text": [
            "ชื่อ มันนี่  นามสกุล  พิทักษ์  รหัส 623020532-3\n",
            "เกรดวิชา Mutivariate >>> F\n"
          ],
          "name": "stdout"
        }
      ]
    },
    {
      "cell_type": "code",
      "metadata": {
        "colab": {
          "base_uri": "https://localhost:8080/"
        },
        "id": "2XeM1S-ncVG0",
        "outputId": "0b2eb26e-9c18-4506-f21d-b20f8dcce33d"
      },
      "source": [
        "print_2lines_default('มันนี่ ',' พิทักษ์ ','623020532-3','A')"
      ],
      "execution_count": 74,
      "outputs": [
        {
          "output_type": "stream",
          "text": [
            "ชื่อ มันนี่  นามสกุล  พิทักษ์  รหัส 623020532-3\n",
            "เกรดวิชา Mutivariate >>> A\n"
          ],
          "name": "stdout"
        }
      ]
    },
    {
      "cell_type": "markdown",
      "metadata": {
        "id": "5oHwhjUfciWg"
      },
      "source": [
        "เราสามารถเรียกฟังก์ชั่นโดยใช้ชื่อตัวแปรของฟังก์ชั่นช่วยได้"
      ]
    },
    {
      "cell_type": "code",
      "metadata": {
        "colab": {
          "base_uri": "https://localhost:8080/",
          "height": 35
        },
        "id": "PcWWtm__cdrJ",
        "outputId": "8e5b829f-25e2-4497-f8bd-de884d08f02c"
      },
      "source": [
        "print_name2(name='มันนี่ ',surname='พิทักษ์',ID='623020532-3')"
      ],
      "execution_count": 75,
      "outputs": [
        {
          "output_type": "execute_result",
          "data": {
            "application/vnd.google.colaboratory.intrinsic+json": {
              "type": "string"
            },
            "text/plain": [
              "'ชื่อ มันนี่ นามสกุล พิทักษ์ ID623020532-3'"
            ]
          },
          "metadata": {
            "tags": []
          },
          "execution_count": 75
        }
      ]
    },
    {
      "cell_type": "markdown",
      "metadata": {
        "id": "g0ycLMlGc17V"
      },
      "source": [
        "HW ให้เขียน function คำนวณจำนวนวินาทีจาก เวลาต่อไปนี้\r\n",
        "\r\n",
        "'14-15-31'\r\n",
        "\r\n",
        "'13-00-01'\r\n",
        "\r\n",
        "'05-49-44'\r\n",
        "\r\n",
        "'00-00-16'\r\n",
        "\r\n",
        "และ print ให้สวยงาม"
      ]
    },
    {
      "cell_type": "code",
      "metadata": {
        "id": "tAHaJ5neczuf"
      },
      "source": [
        ""
      ],
      "execution_count": 75,
      "outputs": []
    }
  ]
}