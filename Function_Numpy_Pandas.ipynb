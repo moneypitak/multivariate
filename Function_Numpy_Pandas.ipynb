{
  "nbformat": 4,
  "nbformat_minor": 0,
  "metadata": {
    "colab": {
      "name": "Function_Numpy_Pandas.ipynb",
      "provenance": [],
      "authorship_tag": "ABX9TyOhpPHNErFArWHvAOaMR1ix",
      "include_colab_link": true
    },
    "kernelspec": {
      "display_name": "Python 3",
      "name": "python3"
    }
  },
  "cells": [
    {
      "cell_type": "markdown",
      "metadata": {
        "id": "view-in-github",
        "colab_type": "text"
      },
      "source": [
        "<a href=\"https://colab.research.google.com/github/moneypitak/multivariate/blob/main/Function_Numpy_Pandas.ipynb\" target=\"_parent\"><img src=\"https://colab.research.google.com/assets/colab-badge.svg\" alt=\"Open In Colab\"/></a>"
      ]
    },
    {
      "cell_type": "markdown",
      "metadata": {
        "id": "CgaQczbLSPC4"
      },
      "source": [
        "# **Function**"
      ]
    },
    {
      "cell_type": "markdown",
      "metadata": {
        "id": "jmpV1_EaeBTd"
      },
      "source": [
        "```python\r\n",
        "def function name(input) :\r\n",
        "\r\n",
        "  do_something with  Input to produce Output\r\n",
        "\r\n",
        "  return Output\r\n",
        "  ```"
      ]
    },
    {
      "cell_type": "markdown",
      "metadata": {
        "id": "g1GIBq6_TKSu"
      },
      "source": [
        "### function มีส่วนสำคัญทั้งหมด 4 ส่วน\r\n",
        "\r\n",
        "1 บอก python ว่าเราเขียนฟังก์ชั่น ชื่อะไร def function_name():(ขาดไม่ได้)\r\n",
        "\r\n",
        "2.กำหนดตัวแปรที่จะเป็น input output (ขาดได้)\r\n",
        "\r\n",
        "3.ส่วนประมวลผล do_something with input to get output (ขาดไม่ได้)\r\n",
        "\r\n",
        "4.ส่วน output return output(ขาดได้)"
      ]
    },
    {
      "cell_type": "code",
      "metadata": {
        "id": "tV5nFTesUbsc"
      },
      "source": [
        "def print_name(name,surname,ID) : \r\n",
        "  st = f'ชื่อ {name}นามสกุล {surname} ID{ID}'\r\n",
        "  return st\r\n",
        "  print('outside function')"
      ],
      "execution_count": 62,
      "outputs": []
    },
    {
      "cell_type": "code",
      "metadata": {
        "colab": {
          "base_uri": "https://localhost:8080/",
          "height": 35
        },
        "id": "ywedVCozUnCu",
        "outputId": "940b10a9-3728-482a-98bd-a0bedc247a30"
      },
      "source": [
        "print_name('มันนี่ ','พิทักษ์',' 623020532-3')"
      ],
      "execution_count": 63,
      "outputs": [
        {
          "output_type": "execute_result",
          "data": {
            "application/vnd.google.colaboratory.intrinsic+json": {
              "type": "string"
            },
            "text/plain": [
              "'ชื่อ มันนี่ นามสกุล พิทักษ์ ID 623020532-3'"
            ]
          },
          "metadata": {
            "tags": []
          },
          "execution_count": 63
        }
      ]
    },
    {
      "cell_type": "code",
      "metadata": {
        "colab": {
          "base_uri": "https://localhost:8080/"
        },
        "id": "Rcf5hr8NVeJV",
        "outputId": "eb654a49-66c2-4809-f14c-e606ef2e0a69"
      },
      "source": [
        "output_string = print_name('มันนี่ ','พิทักษ์',' 623020532-3')\r\n",
        "print(output_string)"
      ],
      "execution_count": 64,
      "outputs": [
        {
          "output_type": "stream",
          "text": [
            "ชื่อ มันนี่ นามสกุล พิทักษ์ ID 623020532-3\n"
          ],
          "name": "stdout"
        }
      ]
    },
    {
      "cell_type": "markdown",
      "metadata": {
        "id": "j6obisG_XY6e"
      },
      "source": [
        "ฟังก์ชั่นไม่จำเป็นต้องมี output"
      ]
    },
    {
      "cell_type": "code",
      "metadata": {
        "id": "Fg-DvGn8XKJQ"
      },
      "source": [
        "def print_name2(surname,name,ID) : \r\n",
        "  st = f'ชื่อ {name}นามสกุล {surname} ID{ID}'\r\n",
        "  return st\r\n",
        "  print(st)"
      ],
      "execution_count": 65,
      "outputs": []
    },
    {
      "cell_type": "code",
      "metadata": {
        "colab": {
          "base_uri": "https://localhost:8080/",
          "height": 35
        },
        "id": "7nvWxHzwXt6u",
        "outputId": "766b230a-64cb-4db2-e392-1fbefc2c73f3"
      },
      "source": [
        "print_name2('มันนี่ ','พิทักษ์',' 623020532-3')"
      ],
      "execution_count": 66,
      "outputs": [
        {
          "output_type": "execute_result",
          "data": {
            "application/vnd.google.colaboratory.intrinsic+json": {
              "type": "string"
            },
            "text/plain": [
              "'ชื่อ พิทักษ์นามสกุล มันนี่  ID 623020532-3'"
            ]
          },
          "metadata": {
            "tags": []
          },
          "execution_count": 66
        }
      ]
    },
    {
      "cell_type": "code",
      "metadata": {
        "id": "IbH9-6ihYC8v"
      },
      "source": [
        "op2 = print_name2('มันนี่ ','พิทักษ์',' 623020532-3')"
      ],
      "execution_count": 67,
      "outputs": []
    },
    {
      "cell_type": "code",
      "metadata": {
        "colab": {
          "base_uri": "https://localhost:8080/"
        },
        "id": "BAQxBpxiYXSg",
        "outputId": "f26e965e-05bc-4f1e-d537-f79cb481edb3"
      },
      "source": [
        "print(op2)"
      ],
      "execution_count": 68,
      "outputs": [
        {
          "output_type": "stream",
          "text": [
            "ชื่อ พิทักษ์นามสกุล มันนี่  ID 623020532-3\n"
          ],
          "name": "stdout"
        }
      ]
    },
    {
      "cell_type": "markdown",
      "metadata": {
        "id": "jmloX3AgZIkG"
      },
      "source": [
        "ฟังก์ชั่นไม่จำเป็นต้องมี input\r\n"
      ]
    },
    {
      "cell_type": "code",
      "metadata": {
        "id": "ANzCBtW9ZM_a"
      },
      "source": [
        "def pi():\r\n",
        "  return 3.14159265359"
      ],
      "execution_count": 69,
      "outputs": []
    },
    {
      "cell_type": "code",
      "metadata": {
        "colab": {
          "base_uri": "https://localhost:8080/"
        },
        "id": "G3n-QAqmZTSg",
        "outputId": "1dd79ad4-1db1-4f63-f417-14bf05a3b2d5"
      },
      "source": [
        "#คำนวนพื้นที่วงกลมที่มีขนาดศูนย์กลางเท่ากับ 3\r\n",
        "pi()*(1.5**2)"
      ],
      "execution_count": 70,
      "outputs": [
        {
          "output_type": "execute_result",
          "data": {
            "text/plain": [
              "7.0685834705775"
            ]
          },
          "metadata": {
            "tags": []
          },
          "execution_count": 70
        }
      ]
    },
    {
      "cell_type": "code",
      "metadata": {
        "id": "PHaTXRTWZidP"
      },
      "source": [
        "def print_my_name():\r\n",
        "  print('มันนี่ พิทักษ์ 623020532-3')"
      ],
      "execution_count": 71,
      "outputs": []
    },
    {
      "cell_type": "code",
      "metadata": {
        "colab": {
          "base_uri": "https://localhost:8080/"
        },
        "id": "U6EBuwrUZuux",
        "outputId": "ffc4f5d7-02de-45d5-e7bc-c0bd7d2cbe94"
      },
      "source": [
        "print_my_name()"
      ],
      "execution_count": 72,
      "outputs": [
        {
          "output_type": "stream",
          "text": [
            "มันนี่ พิทักษ์ 623020532-3\n"
          ],
          "name": "stdout"
        }
      ]
    },
    {
      "cell_type": "markdown",
      "metadata": {
        "id": "gEFeZ1jGawSs"
      },
      "source": [
        "input ของ function ใน python มีสองแบบ input ที่จำเป็นต้องใส่ กับ input ที่ไม่จำเป็นต้องใส่ (มีค่า default)\r\n",
        "\r\n",
        "เราต้องเรียง input ที่จำเป็นต้องใส่ขึ้นก่อน"
      ]
    },
    {
      "cell_type": "code",
      "metadata": {
        "id": "J4i3dcKLZyZT"
      },
      "source": [
        "def print_2lines_default(name, surname, ID, grade='F'):\r\n",
        "  st = f'ชื่อ {name} นามสกุล {surname} รหัส {ID}'\r\n",
        "  print(st)\r\n",
        "  st2=f'เกรดวิชา Mutivariate >>> {grade}'\r\n",
        "  print(st2)"
      ],
      "execution_count": 73,
      "outputs": []
    },
    {
      "cell_type": "code",
      "metadata": {
        "colab": {
          "base_uri": "https://localhost:8080/"
        },
        "id": "gO-pk97Nb5cx",
        "outputId": "94caed18-6cca-4445-9836-84cff86bf347"
      },
      "source": [
        "print_2lines_default('มันนี่ ',' พิทักษ์ ','623020532-3')"
      ],
      "execution_count": 74,
      "outputs": [
        {
          "output_type": "stream",
          "text": [
            "ชื่อ มันนี่  นามสกุล  พิทักษ์  รหัส 623020532-3\n",
            "เกรดวิชา Mutivariate >>> F\n"
          ],
          "name": "stdout"
        }
      ]
    },
    {
      "cell_type": "code",
      "metadata": {
        "colab": {
          "base_uri": "https://localhost:8080/"
        },
        "id": "2XeM1S-ncVG0",
        "outputId": "f405983a-2e35-423e-988c-aa8999fb4576"
      },
      "source": [
        "print_2lines_default('มันนี่ ',' พิทักษ์ ','623020532-3','A')"
      ],
      "execution_count": 75,
      "outputs": [
        {
          "output_type": "stream",
          "text": [
            "ชื่อ มันนี่  นามสกุล  พิทักษ์  รหัส 623020532-3\n",
            "เกรดวิชา Mutivariate >>> A\n"
          ],
          "name": "stdout"
        }
      ]
    },
    {
      "cell_type": "markdown",
      "metadata": {
        "id": "5oHwhjUfciWg"
      },
      "source": [
        "เราสามารถเรียกฟังก์ชั่นโดยใช้ชื่อตัวแปรของฟังก์ชั่นช่วยได้"
      ]
    },
    {
      "cell_type": "code",
      "metadata": {
        "colab": {
          "base_uri": "https://localhost:8080/",
          "height": 35
        },
        "id": "PcWWtm__cdrJ",
        "outputId": "00c4b0f3-cdb1-4943-c063-17d5cb0349b2"
      },
      "source": [
        "print_name2(name='มันนี่ ',surname='พิทักษ์',ID='623020532-3')"
      ],
      "execution_count": 76,
      "outputs": [
        {
          "output_type": "execute_result",
          "data": {
            "application/vnd.google.colaboratory.intrinsic+json": {
              "type": "string"
            },
            "text/plain": [
              "'ชื่อ มันนี่ นามสกุล พิทักษ์ ID623020532-3'"
            ]
          },
          "metadata": {
            "tags": []
          },
          "execution_count": 76
        }
      ]
    },
    {
      "cell_type": "markdown",
      "metadata": {
        "id": "g0ycLMlGc17V"
      },
      "source": [
        "HW ให้เขียน function คำนวณจำนวนวินาทีจาก เวลาต่อไปนี้\r\n",
        "\r\n",
        "'14-15-31'\r\n",
        "\r\n",
        "'13-00-01'\r\n",
        "\r\n",
        "'05-49-44'\r\n",
        "\r\n",
        "'00-00-16'\r\n",
        "\r\n",
        "และ print ให้สวยงาม"
      ]
    },
    {
      "cell_type": "code",
      "metadata": {
        "id": "tAHaJ5neczuf"
      },
      "source": [
        "def time(money):\r\n",
        "  h =  int (money.split('-')[0])*3600\r\n",
        "  m = int (money.split('-')[1])*60\r\n",
        "  s = int (money.split('-')[2])\r\n",
        "  total = h+m+s\r\n",
        "  print('แปลงเวลาทั้งหมดได้ =' ,total, 'วินาที')\r\n"
      ],
      "execution_count": 77,
      "outputs": []
    },
    {
      "cell_type": "code",
      "metadata": {
        "colab": {
          "base_uri": "https://localhost:8080/"
        },
        "id": "AWEga1j7pdd8",
        "outputId": "ed0c9e51-5bd4-4e76-e2d5-61c0a401ab26"
      },
      "source": [
        "time('14-15-31') "
      ],
      "execution_count": 78,
      "outputs": [
        {
          "output_type": "stream",
          "text": [
            "แปลงเวลาทั้งหมดได้ = 51331 วินาที\n"
          ],
          "name": "stdout"
        }
      ]
    },
    {
      "cell_type": "code",
      "metadata": {
        "id": "rkeDbN2epi_B",
        "colab": {
          "base_uri": "https://localhost:8080/"
        },
        "outputId": "7095593e-fc17-4261-e613-a9b443ca62fc"
      },
      "source": [
        "time('13-00-01') "
      ],
      "execution_count": 79,
      "outputs": [
        {
          "output_type": "stream",
          "text": [
            "แปลงเวลาทั้งหมดได้ = 46801 วินาที\n"
          ],
          "name": "stdout"
        }
      ]
    },
    {
      "cell_type": "code",
      "metadata": {
        "colab": {
          "base_uri": "https://localhost:8080/"
        },
        "id": "BODSN4J2rApB",
        "outputId": "5bcdb71f-699c-4e7b-c983-05ce19bc180e"
      },
      "source": [
        "time('05-49-44') "
      ],
      "execution_count": 80,
      "outputs": [
        {
          "output_type": "stream",
          "text": [
            "แปลงเวลาทั้งหมดได้ = 20984 วินาที\n"
          ],
          "name": "stdout"
        }
      ]
    },
    {
      "cell_type": "code",
      "metadata": {
        "colab": {
          "base_uri": "https://localhost:8080/"
        },
        "id": "_tpfpGX0rDGE",
        "outputId": "19b504b2-5864-438e-86c6-1075f56b32e4"
      },
      "source": [
        "time('00-00-16') "
      ],
      "execution_count": 81,
      "outputs": [
        {
          "output_type": "stream",
          "text": [
            "แปลงเวลาทั้งหมดได้ = 16 วินาที\n"
          ],
          "name": "stdout"
        }
      ]
    },
    {
      "cell_type": "code",
      "metadata": {
        "id": "dsOCMfd-rFw6"
      },
      "source": [
        ""
      ],
      "execution_count": 81,
      "outputs": []
    }
  ]
}