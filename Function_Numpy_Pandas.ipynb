{
  "nbformat": 4,
  "nbformat_minor": 0,
  "metadata": {
    "colab": {
      "name": "Function_Numpy_Pandas.ipynb",
      "provenance": [],
      "authorship_tag": "ABX9TyPLEsyY8lJ16IwJE/ltPpYL",
      "include_colab_link": true
    },
    "kernelspec": {
      "display_name": "Python 3",
      "name": "python3"
    }
  },
  "cells": [
    {
      "cell_type": "markdown",
      "metadata": {
        "id": "view-in-github",
        "colab_type": "text"
      },
      "source": [
        "<a href=\"https://colab.research.google.com/github/moneypitak/multivariate/blob/main/Function_Numpy_Pandas.ipynb\" target=\"_parent\"><img src=\"https://colab.research.google.com/assets/colab-badge.svg\" alt=\"Open In Colab\"/></a>"
      ]
    },
    {
      "cell_type": "markdown",
      "metadata": {
        "id": "CgaQczbLSPC4"
      },
      "source": [
        "# **Function**"
      ]
    },
    {
      "cell_type": "markdown",
      "metadata": {
        "id": "jmpV1_EaeBTd"
      },
      "source": [
        "```python\r\n",
        "def function name(input) :\r\n",
        "\r\n",
        "  do_something with  Input to produce Output\r\n",
        "\r\n",
        "  return Output\r\n",
        "  ```"
      ]
    },
    {
      "cell_type": "markdown",
      "metadata": {
        "id": "g1GIBq6_TKSu"
      },
      "source": [
        "### function มีส่วนสำคัญทั้งหมด 4 ส่วน\r\n",
        "\r\n",
        "1 บอก python ว่าเราเขียนฟังก์ชั่น ชื่อะไร def function_name():(ขาดไม่ได้)\r\n",
        "\r\n",
        "2.กำหนดตัวแปรที่จะเป็น input output (ขาดได้)\r\n",
        "\r\n",
        "3.ส่วนประมวลผล do_something with input to get output (ขาดไม่ได้)\r\n",
        "\r\n",
        "4.ส่วน output return output(ขาดได้)"
      ]
    },
    {
      "cell_type": "code",
      "metadata": {
        "id": "tV5nFTesUbsc"
      },
      "source": [
        "def print_name(name,surname,ID) : \r\n",
        "  st = f'ชื่อ {name}นามสกุล {surname} ID{ID}'\r\n",
        "  return st\r\n",
        "  print('outside function')"
      ],
      "execution_count": null,
      "outputs": []
    },
    {
      "cell_type": "code",
      "metadata": {
        "colab": {
          "base_uri": "https://localhost:8080/",
          "height": 35
        },
        "id": "ywedVCozUnCu",
        "outputId": "940b10a9-3728-482a-98bd-a0bedc247a30"
      },
      "source": [
        "print_name('มันนี่ ','พิทักษ์',' 623020532-3')"
      ],
      "execution_count": null,
      "outputs": [
        {
          "output_type": "execute_result",
          "data": {
            "application/vnd.google.colaboratory.intrinsic+json": {
              "type": "string"
            },
            "text/plain": [
              "'ชื่อ มันนี่ นามสกุล พิทักษ์ ID 623020532-3'"
            ]
          },
          "metadata": {
            "tags": []
          },
          "execution_count": 63
        }
      ]
    },
    {
      "cell_type": "code",
      "metadata": {
        "colab": {
          "base_uri": "https://localhost:8080/"
        },
        "id": "Rcf5hr8NVeJV",
        "outputId": "eb654a49-66c2-4809-f14c-e606ef2e0a69"
      },
      "source": [
        "output_string = print_name('มันนี่ ','พิทักษ์',' 623020532-3')\r\n",
        "print(output_string)"
      ],
      "execution_count": null,
      "outputs": [
        {
          "output_type": "stream",
          "text": [
            "ชื่อ มันนี่ นามสกุล พิทักษ์ ID 623020532-3\n"
          ],
          "name": "stdout"
        }
      ]
    },
    {
      "cell_type": "markdown",
      "metadata": {
        "id": "j6obisG_XY6e"
      },
      "source": [
        "ฟังก์ชั่นไม่จำเป็นต้องมี output"
      ]
    },
    {
      "cell_type": "code",
      "metadata": {
        "id": "Fg-DvGn8XKJQ"
      },
      "source": [
        "def print_name2(surname,name,ID) : \r\n",
        "  st = f'ชื่อ {name}นามสกุล {surname} ID{ID}'\r\n",
        "  return st\r\n",
        "  print(st)"
      ],
      "execution_count": null,
      "outputs": []
    },
    {
      "cell_type": "code",
      "metadata": {
        "colab": {
          "base_uri": "https://localhost:8080/",
          "height": 35
        },
        "id": "7nvWxHzwXt6u",
        "outputId": "766b230a-64cb-4db2-e392-1fbefc2c73f3"
      },
      "source": [
        "print_name2('มันนี่ ','พิทักษ์',' 623020532-3')"
      ],
      "execution_count": null,
      "outputs": [
        {
          "output_type": "execute_result",
          "data": {
            "application/vnd.google.colaboratory.intrinsic+json": {
              "type": "string"
            },
            "text/plain": [
              "'ชื่อ พิทักษ์นามสกุล มันนี่  ID 623020532-3'"
            ]
          },
          "metadata": {
            "tags": []
          },
          "execution_count": 66
        }
      ]
    },
    {
      "cell_type": "code",
      "metadata": {
        "id": "IbH9-6ihYC8v"
      },
      "source": [
        "op2 = print_name2('มันนี่ ','พิทักษ์',' 623020532-3')"
      ],
      "execution_count": null,
      "outputs": []
    },
    {
      "cell_type": "code",
      "metadata": {
        "colab": {
          "base_uri": "https://localhost:8080/"
        },
        "id": "BAQxBpxiYXSg",
        "outputId": "f26e965e-05bc-4f1e-d537-f79cb481edb3"
      },
      "source": [
        "print(op2)"
      ],
      "execution_count": null,
      "outputs": [
        {
          "output_type": "stream",
          "text": [
            "ชื่อ พิทักษ์นามสกุล มันนี่  ID 623020532-3\n"
          ],
          "name": "stdout"
        }
      ]
    },
    {
      "cell_type": "markdown",
      "metadata": {
        "id": "jmloX3AgZIkG"
      },
      "source": [
        "ฟังก์ชั่นไม่จำเป็นต้องมี input\r\n"
      ]
    },
    {
      "cell_type": "code",
      "metadata": {
        "id": "ANzCBtW9ZM_a"
      },
      "source": [
        "def pi():\r\n",
        "  return 3.14159265359"
      ],
      "execution_count": null,
      "outputs": []
    },
    {
      "cell_type": "code",
      "metadata": {
        "colab": {
          "base_uri": "https://localhost:8080/"
        },
        "id": "G3n-QAqmZTSg",
        "outputId": "1dd79ad4-1db1-4f63-f417-14bf05a3b2d5"
      },
      "source": [
        "#คำนวนพื้นที่วงกลมที่มีขนาดศูนย์กลางเท่ากับ 3\r\n",
        "pi()*(1.5**2)"
      ],
      "execution_count": null,
      "outputs": [
        {
          "output_type": "execute_result",
          "data": {
            "text/plain": [
              "7.0685834705775"
            ]
          },
          "metadata": {
            "tags": []
          },
          "execution_count": 70
        }
      ]
    },
    {
      "cell_type": "code",
      "metadata": {
        "id": "PHaTXRTWZidP"
      },
      "source": [
        "def print_my_name():\r\n",
        "  print('มันนี่ พิทักษ์ 623020532-3')"
      ],
      "execution_count": null,
      "outputs": []
    },
    {
      "cell_type": "code",
      "metadata": {
        "colab": {
          "base_uri": "https://localhost:8080/"
        },
        "id": "U6EBuwrUZuux",
        "outputId": "ffc4f5d7-02de-45d5-e7bc-c0bd7d2cbe94"
      },
      "source": [
        "print_my_name()"
      ],
      "execution_count": null,
      "outputs": [
        {
          "output_type": "stream",
          "text": [
            "มันนี่ พิทักษ์ 623020532-3\n"
          ],
          "name": "stdout"
        }
      ]
    },
    {
      "cell_type": "markdown",
      "metadata": {
        "id": "gEFeZ1jGawSs"
      },
      "source": [
        "input ของ function ใน python มีสองแบบ input ที่จำเป็นต้องใส่ กับ input ที่ไม่จำเป็นต้องใส่ (มีค่า default)\r\n",
        "\r\n",
        "เราต้องเรียง input ที่จำเป็นต้องใส่ขึ้นก่อน"
      ]
    },
    {
      "cell_type": "code",
      "metadata": {
        "id": "J4i3dcKLZyZT"
      },
      "source": [
        "def print_2lines_default(name, surname, ID, grade='F'):\r\n",
        "  st = f'ชื่อ {name} นามสกุล {surname} รหัส {ID}'\r\n",
        "  print(st)\r\n",
        "  st2=f'เกรดวิชา Mutivariate >>> {grade}'\r\n",
        "  print(st2)"
      ],
      "execution_count": null,
      "outputs": []
    },
    {
      "cell_type": "code",
      "metadata": {
        "colab": {
          "base_uri": "https://localhost:8080/"
        },
        "id": "gO-pk97Nb5cx",
        "outputId": "94caed18-6cca-4445-9836-84cff86bf347"
      },
      "source": [
        "print_2lines_default('มันนี่ ',' พิทักษ์ ','623020532-3')"
      ],
      "execution_count": null,
      "outputs": [
        {
          "output_type": "stream",
          "text": [
            "ชื่อ มันนี่  นามสกุล  พิทักษ์  รหัส 623020532-3\n",
            "เกรดวิชา Mutivariate >>> F\n"
          ],
          "name": "stdout"
        }
      ]
    },
    {
      "cell_type": "code",
      "metadata": {
        "colab": {
          "base_uri": "https://localhost:8080/"
        },
        "id": "2XeM1S-ncVG0",
        "outputId": "f405983a-2e35-423e-988c-aa8999fb4576"
      },
      "source": [
        "print_2lines_default('มันนี่ ',' พิทักษ์ ','623020532-3','A')"
      ],
      "execution_count": null,
      "outputs": [
        {
          "output_type": "stream",
          "text": [
            "ชื่อ มันนี่  นามสกุล  พิทักษ์  รหัส 623020532-3\n",
            "เกรดวิชา Mutivariate >>> A\n"
          ],
          "name": "stdout"
        }
      ]
    },
    {
      "cell_type": "markdown",
      "metadata": {
        "id": "5oHwhjUfciWg"
      },
      "source": [
        "เราสามารถเรียกฟังก์ชั่นโดยใช้ชื่อตัวแปรของฟังก์ชั่นช่วยได้"
      ]
    },
    {
      "cell_type": "code",
      "metadata": {
        "colab": {
          "base_uri": "https://localhost:8080/",
          "height": 35
        },
        "id": "PcWWtm__cdrJ",
        "outputId": "00c4b0f3-cdb1-4943-c063-17d5cb0349b2"
      },
      "source": [
        "print_name2(name='มันนี่ ',surname='พิทักษ์',ID='623020532-3')"
      ],
      "execution_count": null,
      "outputs": [
        {
          "output_type": "execute_result",
          "data": {
            "application/vnd.google.colaboratory.intrinsic+json": {
              "type": "string"
            },
            "text/plain": [
              "'ชื่อ มันนี่ นามสกุล พิทักษ์ ID623020532-3'"
            ]
          },
          "metadata": {
            "tags": []
          },
          "execution_count": 76
        }
      ]
    },
    {
      "cell_type": "markdown",
      "metadata": {
        "id": "g0ycLMlGc17V"
      },
      "source": [
        "HW ให้เขียน function คำนวณจำนวนวินาทีจาก เวลาต่อไปนี้\r\n",
        "\r\n",
        "'14-15-31'\r\n",
        "\r\n",
        "'13-00-01'\r\n",
        "\r\n",
        "'05-49-44'\r\n",
        "\r\n",
        "'00-00-16'\r\n",
        "\r\n",
        "และ print ให้สวยงาม"
      ]
    },
    {
      "cell_type": "code",
      "metadata": {
        "id": "tAHaJ5neczuf"
      },
      "source": [
        "def time(money):\r\n",
        "  h =  int (money.split('-')[0])*3600\r\n",
        "  m = int (money.split('-')[1])*60\r\n",
        "  s = int (money.split('-')[2])\r\n",
        "  total = h+m+s\r\n",
        "  print('แปลงเวลาทั้งหมดได้ =' ,total, 'วินาที')\r\n"
      ],
      "execution_count": null,
      "outputs": []
    },
    {
      "cell_type": "code",
      "metadata": {
        "colab": {
          "base_uri": "https://localhost:8080/"
        },
        "id": "AWEga1j7pdd8",
        "outputId": "ed0c9e51-5bd4-4e76-e2d5-61c0a401ab26"
      },
      "source": [
        "time('14-15-31') "
      ],
      "execution_count": null,
      "outputs": [
        {
          "output_type": "stream",
          "text": [
            "แปลงเวลาทั้งหมดได้ = 51331 วินาที\n"
          ],
          "name": "stdout"
        }
      ]
    },
    {
      "cell_type": "code",
      "metadata": {
        "id": "rkeDbN2epi_B",
        "colab": {
          "base_uri": "https://localhost:8080/"
        },
        "outputId": "7095593e-fc17-4261-e613-a9b443ca62fc"
      },
      "source": [
        "time('13-00-01') "
      ],
      "execution_count": null,
      "outputs": [
        {
          "output_type": "stream",
          "text": [
            "แปลงเวลาทั้งหมดได้ = 46801 วินาที\n"
          ],
          "name": "stdout"
        }
      ]
    },
    {
      "cell_type": "code",
      "metadata": {
        "colab": {
          "base_uri": "https://localhost:8080/"
        },
        "id": "BODSN4J2rApB",
        "outputId": "5bcdb71f-699c-4e7b-c983-05ce19bc180e"
      },
      "source": [
        "time('05-49-44') "
      ],
      "execution_count": null,
      "outputs": [
        {
          "output_type": "stream",
          "text": [
            "แปลงเวลาทั้งหมดได้ = 20984 วินาที\n"
          ],
          "name": "stdout"
        }
      ]
    },
    {
      "cell_type": "code",
      "metadata": {
        "colab": {
          "base_uri": "https://localhost:8080/"
        },
        "id": "_tpfpGX0rDGE",
        "outputId": "19b504b2-5864-438e-86c6-1075f56b32e4"
      },
      "source": [
        "time('00-00-16') "
      ],
      "execution_count": null,
      "outputs": [
        {
          "output_type": "stream",
          "text": [
            "แปลงเวลาทั้งหมดได้ = 16 วินาที\n"
          ],
          "name": "stdout"
        }
      ]
    },
    {
      "cell_type": "markdown",
      "metadata": {
        "id": "wNQrnMRSQH11"
      },
      "source": [
        "Numpy -> package สำหรับจัดการกับ Array ที่เป็นตัวเลข (Matrix)\r\n",
        "\r\n",
        "์Num + py -> Numpy-Numerical + python\r\n",
        "\r\n",
        "การใช้ package\r\n",
        "1. ```import =ชื่อpackage``` #เรียกใช้ package \r\n",
        "2. ```ชื่อ package```.```ชื่อฟังก์ชัน``` เรียกใช้ function "
      ]
    },
    {
      "cell_type": "code",
      "metadata": {
        "id": "dsOCMfd-rFw6"
      },
      "source": [
        "import numpy"
      ],
      "execution_count": null,
      "outputs": []
    },
    {
      "cell_type": "markdown",
      "metadata": {
        "id": "lL7z7N3wSDe-"
      },
      "source": [
        "data structure -> array"
      ]
    },
    {
      "cell_type": "markdown",
      "metadata": {
        "id": "DPxZ17BfUEt_"
      },
      "source": [
        "สร้าง array (numpy array)"
      ]
    },
    {
      "cell_type": "code",
      "metadata": {
        "colab": {
          "base_uri": "https://localhost:8080/"
        },
        "id": "e4QPOxfmR4eD",
        "outputId": "6cc7d75b-d991-4ba4-d904-67efa1fee15f"
      },
      "source": [
        "mat_ex1 = numpy.array([[5.2,3.0,4.5],[9.1,0.1,0.3]])\r\n",
        "print(mat_ex1)"
      ],
      "execution_count": null,
      "outputs": [
        {
          "output_type": "stream",
          "text": [
            "[[5.2 3.  4.5]\n",
            " [9.1 0.1 0.3]]\n"
          ],
          "name": "stdout"
        }
      ]
    },
    {
      "cell_type": "markdown",
      "metadata": {
        "id": "-kZ-YM8gUpLL"
      },
      "source": [
        "ชี้ค่าใน numpy array"
      ]
    },
    {
      "cell_type": "code",
      "metadata": {
        "colab": {
          "base_uri": "https://localhost:8080/"
        },
        "id": "yMTWdJioUdZx",
        "outputId": "6fa20b55-fcde-4c72-a9d9-ebc4265aa2fb"
      },
      "source": [
        "mat_ex1[1,1] #[แถว,หลัก]"
      ],
      "execution_count": null,
      "outputs": [
        {
          "output_type": "execute_result",
          "data": {
            "text/plain": [
              "0.1"
            ]
          },
          "metadata": {
            "tags": []
          },
          "execution_count": 5
        }
      ]
    },
    {
      "cell_type": "markdown",
      "metadata": {
        "id": "9_RywBivVyE1"
      },
      "source": [
        "ถ้าไม่มี numpy array \r\n"
      ]
    },
    {
      "cell_type": "code",
      "metadata": {
        "colab": {
          "base_uri": "https://localhost:8080/"
        },
        "id": "bnEbrWTbVX2t",
        "outputId": "f4cc6dfb-d4d4-4f5f-d21a-942ef7ab7c03"
      },
      "source": [
        "list_ex1 = [[5.2,3.0,4.5],[9.1,0.1,0.3]]\r\n",
        "print(list_ex1)"
      ],
      "execution_count": null,
      "outputs": [
        {
          "output_type": "stream",
          "text": [
            "[[5.2, 3.0, 4.5], [9.1, 0.1, 0.3]]\n"
          ],
          "name": "stdout"
        }
      ]
    },
    {
      "cell_type": "code",
      "metadata": {
        "colab": {
          "base_uri": "https://localhost:8080/"
        },
        "id": "uH9k0Fv3WB3D",
        "outputId": "598b1814-506b-4544-9bc5-926dea9065a2"
      },
      "source": [
        "list_ex1[1][1]"
      ],
      "execution_count": null,
      "outputs": [
        {
          "output_type": "execute_result",
          "data": {
            "text/plain": [
              "0.1"
            ]
          },
          "metadata": {
            "tags": []
          },
          "execution_count": 19
        }
      ]
    },
    {
      "cell_type": "code",
      "metadata": {
        "colab": {
          "base_uri": "https://localhost:8080/"
        },
        "id": "3ctEYNIfWsPt",
        "outputId": "6ddad0f5-e9fd-48c6-9b02-ca2163d6d709"
      },
      "source": [
        "print(list_ex1) \r\n",
        "a = (list_ex1[1])\r\n",
        "print(a)\r\n",
        "print(a[1])"
      ],
      "execution_count": null,
      "outputs": [
        {
          "output_type": "stream",
          "text": [
            "[[5.2, 3.0, 4.5], [9.1, 0.1, 0.3]]\n",
            "[9.1, 0.1, 0.3]\n",
            "0.1\n"
          ],
          "name": "stdout"
        }
      ]
    },
    {
      "cell_type": "markdown",
      "metadata": {
        "id": "F03qP-hJX51V"
      },
      "source": [
        "Matrix Operations\r\n",
        "\r\n",
        "data 2 แบบ -> matrix (2D array) , scalar (ตัวเลขค่าคงที่)"
      ]
    },
    {
      "cell_type": "code",
      "metadata": {
        "colab": {
          "base_uri": "https://localhost:8080/"
        },
        "id": "TYeS3VyqXhTF",
        "outputId": "c5753e33-8111-4699-87d8-52efcd408595"
      },
      "source": [
        "mat_ex1 = numpy.array([[5.2,3.0,4.5],[9.1,0.1,0.3]])\r\n",
        "print(mat_ex1)\r\n",
        "mat_ex2 = numpy.array([[2,3.7,5.9],[91,1.5,7.3]])\r\n",
        "print(mat_ex2)"
      ],
      "execution_count": null,
      "outputs": [
        {
          "output_type": "stream",
          "text": [
            "[[5.2 3.  4.5]\n",
            " [9.1 0.1 0.3]]\n",
            "[[ 2.   3.7  5.9]\n",
            " [91.   1.5  7.3]]\n"
          ],
          "name": "stdout"
        }
      ]
    },
    {
      "cell_type": "markdown",
      "metadata": {
        "id": "UmSdFZEEY_Hg"
      },
      "source": [
        "## บวกกับลบ matrix เอาตัวเลขตำแหน่งเดียวกันมาบวกกันหรือลบกัน\r\n",
        "(หน้าตาของ matrixค้องเหมือนกัน)"
      ]
    },
    {
      "cell_type": "code",
      "metadata": {
        "colab": {
          "base_uri": "https://localhost:8080/"
        },
        "id": "XNcM3W1pYgRA",
        "outputId": "b4fa4d05-f88e-48f2-8b5d-5b3daff7a37b"
      },
      "source": [
        "mat_ex3 = mat_ex1 + mat_ex2 \r\n",
        "print(mat_ex3)\r\n",
        "mat_ex4 = mat_ex1 + mat_ex2\r\n",
        "print(mat_ex4) "
      ],
      "execution_count": null,
      "outputs": [
        {
          "output_type": "stream",
          "text": [
            "[[  7.2   6.7  10.4]\n",
            " [100.1   1.6   7.6]]\n",
            "[[  7.2   6.7  10.4]\n",
            " [100.1   1.6   7.6]]\n"
          ],
          "name": "stdout"
        }
      ]
    },
    {
      "cell_type": "markdown",
      "metadata": {
        "id": "Bz5j_CEKZ_8e"
      },
      "source": [
        "การตรวจสอบขนาดของ matrix"
      ]
    },
    {
      "cell_type": "code",
      "metadata": {
        "colab": {
          "base_uri": "https://localhost:8080/"
        },
        "id": "YjuwxVUmY6Lq",
        "outputId": "e86a5c6c-eb81-4b10-e695-c6b5eb4d8f11"
      },
      "source": [
        "mat_ex3.shape[0] #คู่อันดับ"
      ],
      "execution_count": null,
      "outputs": [
        {
          "output_type": "execute_result",
          "data": {
            "text/plain": [
              "2"
            ]
          },
          "metadata": {
            "tags": []
          },
          "execution_count": 33
        }
      ]
    },
    {
      "cell_type": "markdown",
      "metadata": {
        "id": "WX6HVJPOa7q3"
      },
      "source": [
        "## คูณ matrix"
      ]
    },
    {
      "cell_type": "code",
      "metadata": {
        "id": "bBuhJdsGbtrp"
      },
      "source": [
        "print(mat_ex1)\r\n",
        "print(mat_ex2)"
      ],
      "execution_count": null,
      "outputs": []
    },
    {
      "cell_type": "code",
      "metadata": {
        "colab": {
          "base_uri": "https://localhost:8080/"
        },
        "id": "P3e8RgwkaN0U",
        "outputId": "e7b41fed-8e0e-4970-e6fe-47cf3b57e5e5"
      },
      "source": [
        "mat_ex1 * mat_ex2"
      ],
      "execution_count": null,
      "outputs": [
        {
          "output_type": "execute_result",
          "data": {
            "text/plain": [
              "array([[1.040e+01, 1.110e+01, 2.655e+01],\n",
              "       [8.281e+02, 1.500e-01, 2.190e+00]])"
            ]
          },
          "metadata": {
            "tags": []
          },
          "execution_count": 41
        }
      ]
    },
    {
      "cell_type": "markdown",
      "metadata": {
        "id": "Fms3BKoAeuEI"
      },
      "source": [
        "## การคูณ matrix (แถวคูณหลัก)\r\n",
        "(หลักของ matrix ตัวข้างหน้า ต้องเท่ากับแถวของ matrix ตัวข้างหลัง)\r\n",
        "\r\n",
        "dot product ((AAA,x),(x,ZZZ)) = (AAA,ZZZ)"
      ]
    },
    {
      "cell_type": "code",
      "metadata": {
        "id": "mtwoEObRcje3"
      },
      "source": [
        "## numpy.dot(mat_ex1,mat_ex2) ต้องใส่ .T"
      ],
      "execution_count": null,
      "outputs": []
    },
    {
      "cell_type": "code",
      "metadata": {
        "colab": {
          "base_uri": "https://localhost:8080/"
        },
        "id": "0-vxuWCtczpG",
        "outputId": "12eea926-a7ec-4b91-bc9d-08738bab9bd7"
      },
      "source": [
        "print(mat_ex1)\r\n",
        "print(mat_ex1.shape)\r\n",
        "print(mat_ex2)\r\n",
        "print(mat_ex2.shape)"
      ],
      "execution_count": null,
      "outputs": [
        {
          "output_type": "stream",
          "text": [
            "[[5.2 3.  4.5]\n",
            " [9.1 0.1 0.3]]\n",
            "(2, 3)\n",
            "[[ 2.   3.7  5.9]\n",
            " [91.   1.5  7.3]]\n",
            "(2, 3)\n"
          ],
          "name": "stdout"
        }
      ]
    },
    {
      "cell_type": "markdown",
      "metadata": {
        "id": "vquc2fUwgEU5"
      },
      "source": [
        "# Transpose กลับแถวเป็นหลักกลับหลักเป็นแถว\r\n",
        "\r\n",
        "```matrix.T```"
      ]
    },
    {
      "cell_type": "code",
      "metadata": {
        "colab": {
          "base_uri": "https://localhost:8080/"
        },
        "id": "c0ugV54yhE0w",
        "outputId": "eab8caae-3652-40ae-bd8c-294b94a2ba8f"
      },
      "source": [
        "print(mat_ex2)\r\n",
        "print(mat_ex2.shape)"
      ],
      "execution_count": null,
      "outputs": [
        {
          "output_type": "stream",
          "text": [
            "[[ 2.   3.7  5.9]\n",
            " [91.   1.5  7.3]]\n",
            "(2, 3)\n"
          ],
          "name": "stdout"
        }
      ]
    },
    {
      "cell_type": "code",
      "metadata": {
        "colab": {
          "base_uri": "https://localhost:8080/"
        },
        "id": "RPVjgBrLhIVX",
        "outputId": "0d895def-4e80-4423-e0d3-1d0abc1009e7"
      },
      "source": [
        "print(mat_ex2.T)\r\n",
        "print(mat_ex2.T.shape)"
      ],
      "execution_count": null,
      "outputs": [
        {
          "output_type": "stream",
          "text": [
            "[[ 2.  91. ]\n",
            " [ 3.7  1.5]\n",
            " [ 5.9  7.3]]\n",
            "(3, 2)\n"
          ],
          "name": "stdout"
        }
      ]
    },
    {
      "cell_type": "code",
      "metadata": {
        "colab": {
          "base_uri": "https://localhost:8080/"
        },
        "id": "xbLdWChUgDMy",
        "outputId": "3131b27a-b7fb-4f65-91e8-07479da0fdc9"
      },
      "source": [
        "numpy.dot(mat_ex1,mat_ex2.T) #(2,3).(3,2)"
      ],
      "execution_count": null,
      "outputs": [
        {
          "output_type": "execute_result",
          "data": {
            "text/plain": [
              "array([[ 48.05, 510.55],\n",
              "       [ 20.34, 830.44]])"
            ]
          },
          "metadata": {
            "tags": []
          },
          "execution_count": 45
        }
      ]
    },
    {
      "cell_type": "code",
      "metadata": {
        "colab": {
          "base_uri": "https://localhost:8080/"
        },
        "id": "yqOqhMl9gWgg",
        "outputId": "398c0229-781c-4ed0-891a-fa4e909fa226"
      },
      "source": [
        "numpy.dot(mat_ex1.T,mat_ex2) #(2,3).(3,2)"
      ],
      "execution_count": null,
      "outputs": [
        {
          "output_type": "execute_result",
          "data": {
            "text/plain": [
              "array([[838.5 ,  32.89,  97.11],\n",
              "       [ 15.1 ,  11.25,  18.43],\n",
              "       [ 36.3 ,  17.1 ,  28.74]])"
            ]
          },
          "metadata": {
            "tags": []
          },
          "execution_count": 50
        }
      ]
    },
    {
      "cell_type": "markdown",
      "metadata": {
        "id": "6qnrWlLejM1g"
      },
      "source": [
        "HW4 อธิบายการหา Determinant และ Inverse matrix(รูปและคำอธิบาย)\r\n",
        "\r\n",
        "ดีเทอร์มิแนนต์ (Determinant) คือ ค่าของตัวเลขที่สอดคล้องกับเมทริกซ์จัตุรัส ถ้า A เป็นเมทริกซ์จัตุรัส จะเขียนแทนดีเทอร์มิแนนต์ของ A ด้วย det(A)\r\n",
        "\r\n",
        "ดีเทอร์มิแนนต์ของเมทริกซ์ขนาด 2×2\r\n",
        "![ห.jpg](data:image/jpeg;base64,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)\r\n",
        "\r\n",
        "ดีเทอร์มิแนนต์ของเทริกซ์ขนาด 3×3\r\n",
        "![หห.jpg](data:image/jpeg;base64,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)\r\n",
        "\r\n",
        "Inverse martix\r\n",
        "\r\n",
        "ห้ A เป็นเมทริกซ์มิติ n×n ถ้า B เป็น เมทริกซ์มิติ n×n และมีสมบัติว่า\r\n",
        "AB=BA=In\r\n",
        "เมื่อ In เป็นเมทริกซ์เอกลักษณ์แล้วเราเรียก B ว่าเป็นเมทริกซ์อินเวอร์สของ A และเขียน B แทนด้วย A^−1\r\n",
        "\r\n",
        "การหา Inverse ของ Matrix ขนาด 2*2\r\n",
        "\r\n",
        "![หหห.jpg](data:image/jpeg;base64,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)\r\n",
        "\r\n",
        "ในการหาอินเวอร์สของเมตริกซ์ที่มีมิติ   n x  n  (n ≥ 3) โดยทั่วไปมี 2 วิธี\r\n",
        "\r\n",
        "1. การหาอินเวอร์สโดยใช้เมตริกซ์ผูกผัน(Adjoint Matrix)\r\n",
        "\r\n",
        "สำหรับเมตริกซ์ A ที่มีขนาด n x nถ้า cijเป็นโคแฟกเตอร์ในแถวที่ I หลักที่ j ของเมตริกซ์ A โดยที่ i,j=1,2,3,…,n แล้วเมตริกซ์ผูกผันของ A เขียนแทนด้วย  adj.A  =  [Cof.A]\r\n",
        "\r\n",
        "2. การหาอินเวอร์สโดยใช้การดำเนินงานแบบแถว\r\n",
        "\r\n",
        "สำหรับเมตริกซ์ A ที่มีขนาด nxn การหาอินเวอร์สของเมตริกซ์ A สามารถทาได้โดยเติม เมตริกซ์เอกลักษณ์ขนาด nxn เข้ากับเมตริกซ์ A ซึ่งสามารถเขียนแทนได้ด้วยเมตริกซ์ [A: I] เมตริกซ์ ดังกล่าวเรียกว่าเป็นเมตริกซ์แต่งเติม (Augumented Matrix) จากนั้นจะใช้การดำเนินงานแบบแถวในการที่จะเปลี่ยนเมตริกซ์ [A: I] ให้เป็นเมตริกซ์ [I : B] ซึ่งจะได้ว่า B =A-1\r\n"
      ]
    },
    {
      "cell_type": "markdown",
      "metadata": {
        "id": "foK9e0tChZG4"
      },
      "source": [
        "~~Pandas~~\r\n"
      ]
    }
  ]
}