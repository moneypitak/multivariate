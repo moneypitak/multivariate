{
  "nbformat": 4,
  "nbformat_minor": 0,
  "metadata": {
    "colab": {
      "name": "Function_Numpy_Pandas.ipynb",
      "provenance": [],
      "authorship_tag": "ABX9TyOhpPHNErFArWHvAOaMR1ix",
      "include_colab_link": true
    },
    "kernelspec": {
      "display_name": "Python 3",
      "name": "python3"
    }
  },
  "cells": [
    {
      "cell_type": "markdown",
      "metadata": {
        "id": "view-in-github",
        "colab_type": "text"
      },
      "source": [
        "<a href=\"https://colab.research.google.com/github/moneypitak/multivariate/blob/main/Function_Numpy_Pandas.ipynb\" target=\"_parent\"><img src=\"https://colab.research.google.com/assets/colab-badge.svg\" alt=\"Open In Colab\"/></a>"
      ]
    },
    {
      "cell_type": "markdown",
      "metadata": {
        "id": "CgaQczbLSPC4"
      },
      "source": [
        "# **Function**"
      ]
    },
    {
      "cell_type": "markdown",
      "metadata": {
        "id": "jmpV1_EaeBTd"
      },
      "source": [
        "```python\r\n",
        "def function name(input) :\r\n",
        "\r\n",
        "  do_something with  Input to produce Output\r\n",
        "\r\n",
        "  return Output\r\n",
        "  ```"
      ]
    },
    {
      "cell_type": "markdown",
      "metadata": {
        "id": "g1GIBq6_TKSu"
      },
      "source": [
        "### function มีส่วนสำคัญทั้งหมด 4 ส่วน\r\n",
        "\r\n",
        "1 บอก python ว่าเราเขียนฟังก์ชั่น ชื่อะไร def function_name():(ขาดไม่ได้)\r\n",
        "\r\n",
        "2.กำหนดตัวแปรที่จะเป็น input output (ขาดได้)\r\n",
        "\r\n",
        "3.ส่วนประมวลผล do_something with input to get output (ขาดไม่ได้)\r\n",
        "\r\n",
        "4.ส่วน output return output(ขาดได้)"
      ]
    },
    {
      "cell_type": "code",
      "metadata": {
        "id": "tV5nFTesUbsc"
      },
      "source": [
        "def print_name(name,surname,ID) : \r\n",
        "  st = f'ชื่อ {name}นามสกุล {surname} ID{ID}'\r\n",
        "  return st\r\n",
        "  print('outside function')"
      ],
      "execution_count": null,
      "outputs": []
    },
    {
      "cell_type": "code",
      "metadata": {
        "colab": {
          "base_uri": "https://localhost:8080/",
          "height": 35
        },
        "id": "ywedVCozUnCu",
        "outputId": "2bd8e95a-4337-4401-b6d6-ba4f6f0f791c"
      },
      "source": [
        "print_name('มันนี่ ','พิทักษ์',' 623020532-3')"
      ],
      "execution_count": null,
      "outputs": [
        {
          "output_type": "execute_result",
          "data": {
            "application/vnd.google.colaboratory.intrinsic+json": {
              "type": "string"
            },
            "text/plain": [
              "'ชื่อ มันนี่ นามสกุล พิทักษ์ ID 623020532-3'"
            ]
          },
          "metadata": {
            "tags": []
          },
          "execution_count": 6
        }
      ]
    },
    {
      "cell_type": "code",
      "metadata": {
        "colab": {
          "base_uri": "https://localhost:8080/"
        },
        "id": "Rcf5hr8NVeJV",
        "outputId": "2c9decd4-a119-409a-f3cc-85eb1e9ad0ca"
      },
      "source": [
        "output_string = print_name('มันนี่ ','พิทักษ์',' 623020532-3')\r\n",
        "print(output_string)"
      ],
      "execution_count": null,
      "outputs": [
        {
          "output_type": "stream",
          "text": [
            "ชื่อ มันนี่ นามสกุล พิทักษ์ ID 623020532-3\n"
          ],
          "name": "stdout"
        }
      ]
    },
    {
      "cell_type": "markdown",
      "metadata": {
        "id": "j6obisG_XY6e"
      },
      "source": [
        "ฟังก์ชั่นไม่จำเป็นต้องมี output"
      ]
    },
    {
      "cell_type": "code",
      "metadata": {
        "id": "Fg-DvGn8XKJQ"
      },
      "source": [
        "def print_name2(surname,name,ID) : \r\n",
        "  st = f'ชื่อ {name}นามสกุล {surname} ID{ID}'\r\n",
        "  return st\r\n",
        "  print(st)"
      ],
      "execution_count": null,
      "outputs": []
    },
    {
      "cell_type": "code",
      "metadata": {
        "colab": {
          "base_uri": "https://localhost:8080/",
          "height": 35
        },
        "id": "7nvWxHzwXt6u",
        "outputId": "e1fc65cf-81c4-4c56-a1aa-23a7069efce5"
      },
      "source": [
        "print_name2('มันนี่ ','พิทักษ์',' 623020532-3')"
      ],
      "execution_count": null,
      "outputs": [
        {
          "output_type": "execute_result",
          "data": {
            "application/vnd.google.colaboratory.intrinsic+json": {
              "type": "string"
            },
            "text/plain": [
              "'ชื่อ พิทักษ์นามสกุล มันนี่  ID 623020532-3'"
            ]
          },
          "metadata": {
            "tags": []
          },
          "execution_count": 9
        }
      ]
    },
    {
      "cell_type": "code",
      "metadata": {
        "id": "IbH9-6ihYC8v"
      },
      "source": [
        "op2 = print_name2('มันนี่ ','พิทักษ์',' 623020532-3')"
      ],
      "execution_count": null,
      "outputs": []
    },
    {
      "cell_type": "code",
      "metadata": {
        "colab": {
          "base_uri": "https://localhost:8080/"
        },
        "id": "BAQxBpxiYXSg",
        "outputId": "926cdc90-2d80-4e95-ca87-60c30bbb1379"
      },
      "source": [
        "print(op2)"
      ],
      "execution_count": null,
      "outputs": [
        {
          "output_type": "stream",
          "text": [
            "ชื่อ พิทักษ์นามสกุล มันนี่  ID 623020532-3\n"
          ],
          "name": "stdout"
        }
      ]
    },
    {
      "cell_type": "markdown",
      "metadata": {
        "id": "jmloX3AgZIkG"
      },
      "source": [
        "ฟังก์ชั่นไม่จำเป็นต้องมี input\r\n"
      ]
    },
    {
      "cell_type": "code",
      "metadata": {
        "id": "ANzCBtW9ZM_a"
      },
      "source": [
        "def pi():\r\n",
        "  return 3.14159265359"
      ],
      "execution_count": null,
      "outputs": []
    },
    {
      "cell_type": "code",
      "metadata": {
        "colab": {
          "base_uri": "https://localhost:8080/"
        },
        "id": "G3n-QAqmZTSg",
        "outputId": "da2d7c13-e981-40ec-8abf-28bc260647c3"
      },
      "source": [
        "#คำนวนพื้นที่วงกลมที่มีขนาดศูนย์กลางเท่ากับ 3\r\n",
        "pi()*(1.5**2)"
      ],
      "execution_count": null,
      "outputs": [
        {
          "output_type": "execute_result",
          "data": {
            "text/plain": [
              "7.0685834705775"
            ]
          },
          "metadata": {
            "tags": []
          },
          "execution_count": 13
        }
      ]
    },
    {
      "cell_type": "code",
      "metadata": {
        "id": "PHaTXRTWZidP"
      },
      "source": [
        "def print_my_name():\r\n",
        "  print('มันนี่ พิทักษ์ 623020532-3')"
      ],
      "execution_count": null,
      "outputs": []
    },
    {
      "cell_type": "code",
      "metadata": {
        "colab": {
          "base_uri": "https://localhost:8080/"
        },
        "id": "U6EBuwrUZuux",
        "outputId": "8e4b97e5-d1d3-4863-a516-c523d2fe47be"
      },
      "source": [
        "print_my_name()"
      ],
      "execution_count": null,
      "outputs": [
        {
          "output_type": "stream",
          "text": [
            "มันนี่ พิทักษ์ 623020532-3\n"
          ],
          "name": "stdout"
        }
      ]
    },
    {
      "cell_type": "markdown",
      "metadata": {
        "id": "gEFeZ1jGawSs"
      },
      "source": [
        "input ของ function ใน python มีสองแบบ input ที่จำเป็นต้องใส่ กับ input ที่ไม่จำเป็นต้องใส่ (มีค่า default)\r\n",
        "\r\n",
        "เราต้องเรียง input ที่จำเป็นต้องใส่ขึ้นก่อน"
      ]
    },
    {
      "cell_type": "code",
      "metadata": {
        "id": "J4i3dcKLZyZT"
      },
      "source": [
        "def print_2lines_default(name, surname, ID, grade='F'):\r\n",
        "  st = f'ชื่อ {name} นามสกุล {surname} รหัส {ID}'\r\n",
        "  print(st)\r\n",
        "  st2=f'เกรดวิชา Mutivariate >>> {grade}'\r\n",
        "  print(st2)"
      ],
      "execution_count": null,
      "outputs": []
    },
    {
      "cell_type": "code",
      "metadata": {
        "colab": {
          "base_uri": "https://localhost:8080/"
        },
        "id": "gO-pk97Nb5cx",
        "outputId": "5ee6f55f-031e-4e45-aa31-86d6203428ae"
      },
      "source": [
        "print_2lines_default('มันนี่ ',' พิทักษ์ ','623020532-3')"
      ],
      "execution_count": null,
      "outputs": [
        {
          "output_type": "stream",
          "text": [
            "ชื่อ มันนี่  นามสกุล  พิทักษ์  รหัส 623020532-3\n",
            "เกรดวิชา Mutivariate >>> F\n"
          ],
          "name": "stdout"
        }
      ]
    },
    {
      "cell_type": "code",
      "metadata": {
        "colab": {
          "base_uri": "https://localhost:8080/"
        },
        "id": "2XeM1S-ncVG0",
        "outputId": "f84977b3-c820-4642-e278-dcf74fccf330"
      },
      "source": [
        "print_2lines_default('มันนี่ ',' พิทักษ์ ','623020532-3','A')"
      ],
      "execution_count": null,
      "outputs": [
        {
          "output_type": "stream",
          "text": [
            "ชื่อ มันนี่  นามสกุล  พิทักษ์  รหัส 623020532-3\n",
            "เกรดวิชา Mutivariate >>> A\n"
          ],
          "name": "stdout"
        }
      ]
    },
    {
      "cell_type": "markdown",
      "metadata": {
        "id": "5oHwhjUfciWg"
      },
      "source": [
        "เราสามารถเรียกฟังก์ชั่นโดยใช้ชื่อตัวแปรของฟังก์ชั่นช่วยได้"
      ]
    },
    {
      "cell_type": "code",
      "metadata": {
        "colab": {
          "base_uri": "https://localhost:8080/",
          "height": 35
        },
        "id": "PcWWtm__cdrJ",
        "outputId": "a5f5951c-03a6-4915-9028-5389eb264a59"
      },
      "source": [
        "print_name2(name='มันนี่ ',surname='พิทักษ์',ID='623020532-3')"
      ],
      "execution_count": null,
      "outputs": [
        {
          "output_type": "execute_result",
          "data": {
            "application/vnd.google.colaboratory.intrinsic+json": {
              "type": "string"
            },
            "text/plain": [
              "'ชื่อ มันนี่ นามสกุล พิทักษ์ ID623020532-3'"
            ]
          },
          "metadata": {
            "tags": []
          },
          "execution_count": 19
        }
      ]
    },
    {
      "cell_type": "markdown",
      "metadata": {
        "id": "g0ycLMlGc17V"
      },
      "source": [
        "HW ให้เขียน function คำนวณจำนวนวินาทีจาก เวลาต่อไปนี้\r\n",
        "\r\n",
        "'14-15-31'\r\n",
        "\r\n",
        "'13-00-01'\r\n",
        "\r\n",
        "'05-49-44'\r\n",
        "\r\n",
        "'00-00-16'\r\n",
        "\r\n",
        "และ print ให้สวยงาม"
      ]
    },
    {
      "cell_type": "code",
      "metadata": {
        "id": "tAHaJ5neczuf"
      },
      "source": [
        "def time(money):\r\n",
        "  h =  int (money.split('-')[0])*3600\r\n",
        "  m = int (money.split('-')[1])*60\r\n",
        "  s = int (money.split('-')[2])\r\n",
        "  total = h+m+s\r\n",
        "  print('แปลงเวลาทั้งหมดได้ =' ,total, 'วินาที')\r\n"
      ],
      "execution_count": 57,
      "outputs": []
    },
    {
      "cell_type": "code",
      "metadata": {
        "colab": {
          "base_uri": "https://localhost:8080/"
        },
        "id": "AWEga1j7pdd8",
        "outputId": "80f3f744-c21a-429d-8887-88c2c58af674"
      },
      "source": [
        "time('14-15-31') "
      ],
      "execution_count": 58,
      "outputs": [
        {
          "output_type": "stream",
          "text": [
            "แปลงเวลาทั้งหมดได้ = 51331 วินาที\n"
          ],
          "name": "stdout"
        }
      ]
    },
    {
      "cell_type": "code",
      "metadata": {
        "id": "rkeDbN2epi_B",
        "colab": {
          "base_uri": "https://localhost:8080/"
        },
        "outputId": "06296c0e-7480-4c38-9147-ea1d41c25585"
      },
      "source": [
        "time('13-00-01') "
      ],
      "execution_count": 59,
      "outputs": [
        {
          "output_type": "stream",
          "text": [
            "แปลงเวลาทั้งหมดได้ = 46801 วินาที\n"
          ],
          "name": "stdout"
        }
      ]
    },
    {
      "cell_type": "code",
      "metadata": {
        "colab": {
          "base_uri": "https://localhost:8080/"
        },
        "id": "BODSN4J2rApB",
        "outputId": "0b163b26-23ca-4a1f-c05d-c45add43cce3"
      },
      "source": [
        "time('05-49-44') "
      ],
      "execution_count": 60,
      "outputs": [
        {
          "output_type": "stream",
          "text": [
            "แปลงเวลาทั้งหมดได้ = 20984 วินาที\n"
          ],
          "name": "stdout"
        }
      ]
    },
    {
      "cell_type": "code",
      "metadata": {
        "colab": {
          "base_uri": "https://localhost:8080/"
        },
        "id": "_tpfpGX0rDGE",
        "outputId": "fef551e7-0467-4f78-d2ab-ccb8d2e31b71"
      },
      "source": [
        "time('00-00-16') "
      ],
      "execution_count": 61,
      "outputs": [
        {
          "output_type": "stream",
          "text": [
            "แปลงเวลาทั้งหมดได้ = 16 วินาที\n"
          ],
          "name": "stdout"
        }
      ]
    },
    {
      "cell_type": "code",
      "metadata": {
        "id": "dsOCMfd-rFw6"
      },
      "source": [
        ""
      ],
      "execution_count": null,
      "outputs": []
    }
  ]
}