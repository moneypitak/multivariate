{
  "nbformat": 4,
  "nbformat_minor": 0,
  "metadata": {
    "colab": {
      "name": "Function_Numpy_Pandas.ipynb",
      "provenance": [],
      "authorship_tag": "ABX9TyOgRyTz2pTwRgacAy/n5rjr",
      "include_colab_link": true
    },
    "kernelspec": {
      "display_name": "Python 3",
      "name": "python3"
    }
  },
  "cells": [
    {
      "cell_type": "markdown",
      "metadata": {
        "id": "view-in-github",
        "colab_type": "text"
      },
      "source": [
        "<a href=\"https://colab.research.google.com/github/moneypitak/multivariate/blob/main/Function_Numpy_Pandas.ipynb\" target=\"_parent\"><img src=\"https://colab.research.google.com/assets/colab-badge.svg\" alt=\"Open In Colab\"/></a>"
      ]
    },
    {
      "cell_type": "markdown",
      "metadata": {
        "id": "CgaQczbLSPC4"
      },
      "source": [
        "# **Function**"
      ]
    },
    {
      "cell_type": "markdown",
      "metadata": {
        "id": "jmpV1_EaeBTd"
      },
      "source": [
        "```python\r\n",
        "def function name(input) :\r\n",
        "\r\n",
        "  do_something with  Input to produce Output\r\n",
        "\r\n",
        "  return Output\r\n",
        "  ```"
      ]
    },
    {
      "cell_type": "markdown",
      "metadata": {
        "id": "g1GIBq6_TKSu"
      },
      "source": [
        "### function มีส่วนสำคัญทั้งหมด 4 ส่วน\r\n",
        "\r\n",
        "1 บอก python ว่าเราเขียนฟังก์ชั่น ชื่อะไร def function_name():(ขาดไม่ได้)\r\n",
        "\r\n",
        "2.กำหนดตัวแปรที่จะเป็น input output (ขาดได้)\r\n",
        "\r\n",
        "3.ส่วนประมวลผล do_something with input to get output (ขาดไม่ได้)\r\n",
        "\r\n",
        "4.ส่วน output return output(ขาดได้)"
      ]
    },
    {
      "cell_type": "code",
      "metadata": {
        "id": "tV5nFTesUbsc"
      },
      "source": [
        "def print_name(name,surname,ID) : \r\n",
        "  st = f'ชื่อ {name}นามสกุล {surname} ID{ID}'\r\n",
        "  return st\r\n",
        "  print('outside function')"
      ],
      "execution_count": null,
      "outputs": []
    },
    {
      "cell_type": "code",
      "metadata": {
        "colab": {
          "base_uri": "https://localhost:8080/",
          "height": 35
        },
        "id": "ywedVCozUnCu",
        "outputId": "940b10a9-3728-482a-98bd-a0bedc247a30"
      },
      "source": [
        "print_name('มันนี่ ','พิทักษ์',' 623020532-3')"
      ],
      "execution_count": null,
      "outputs": [
        {
          "output_type": "execute_result",
          "data": {
            "application/vnd.google.colaboratory.intrinsic+json": {
              "type": "string"
            },
            "text/plain": [
              "'ชื่อ มันนี่ นามสกุล พิทักษ์ ID 623020532-3'"
            ]
          },
          "metadata": {
            "tags": []
          },
          "execution_count": 63
        }
      ]
    },
    {
      "cell_type": "code",
      "metadata": {
        "colab": {
          "base_uri": "https://localhost:8080/"
        },
        "id": "Rcf5hr8NVeJV",
        "outputId": "eb654a49-66c2-4809-f14c-e606ef2e0a69"
      },
      "source": [
        "output_string = print_name('มันนี่ ','พิทักษ์',' 623020532-3')\r\n",
        "print(output_string)"
      ],
      "execution_count": null,
      "outputs": [
        {
          "output_type": "stream",
          "text": [
            "ชื่อ มันนี่ นามสกุล พิทักษ์ ID 623020532-3\n"
          ],
          "name": "stdout"
        }
      ]
    },
    {
      "cell_type": "markdown",
      "metadata": {
        "id": "j6obisG_XY6e"
      },
      "source": [
        "ฟังก์ชั่นไม่จำเป็นต้องมี output"
      ]
    },
    {
      "cell_type": "code",
      "metadata": {
        "id": "Fg-DvGn8XKJQ"
      },
      "source": [
        "def print_name2(surname,name,ID) : \r\n",
        "  st = f'ชื่อ {name}นามสกุล {surname} ID{ID}'\r\n",
        "  return st\r\n",
        "  print(st)"
      ],
      "execution_count": null,
      "outputs": []
    },
    {
      "cell_type": "code",
      "metadata": {
        "colab": {
          "base_uri": "https://localhost:8080/",
          "height": 35
        },
        "id": "7nvWxHzwXt6u",
        "outputId": "766b230a-64cb-4db2-e392-1fbefc2c73f3"
      },
      "source": [
        "print_name2('มันนี่ ','พิทักษ์',' 623020532-3')"
      ],
      "execution_count": null,
      "outputs": [
        {
          "output_type": "execute_result",
          "data": {
            "application/vnd.google.colaboratory.intrinsic+json": {
              "type": "string"
            },
            "text/plain": [
              "'ชื่อ พิทักษ์นามสกุล มันนี่  ID 623020532-3'"
            ]
          },
          "metadata": {
            "tags": []
          },
          "execution_count": 66
        }
      ]
    },
    {
      "cell_type": "code",
      "metadata": {
        "id": "IbH9-6ihYC8v"
      },
      "source": [
        "op2 = print_name2('มันนี่ ','พิทักษ์',' 623020532-3')"
      ],
      "execution_count": null,
      "outputs": []
    },
    {
      "cell_type": "code",
      "metadata": {
        "colab": {
          "base_uri": "https://localhost:8080/"
        },
        "id": "BAQxBpxiYXSg",
        "outputId": "f26e965e-05bc-4f1e-d537-f79cb481edb3"
      },
      "source": [
        "print(op2)"
      ],
      "execution_count": null,
      "outputs": [
        {
          "output_type": "stream",
          "text": [
            "ชื่อ พิทักษ์นามสกุล มันนี่  ID 623020532-3\n"
          ],
          "name": "stdout"
        }
      ]
    },
    {
      "cell_type": "markdown",
      "metadata": {
        "id": "jmloX3AgZIkG"
      },
      "source": [
        "ฟังก์ชั่นไม่จำเป็นต้องมี input\r\n"
      ]
    },
    {
      "cell_type": "code",
      "metadata": {
        "id": "ANzCBtW9ZM_a"
      },
      "source": [
        "def pi():\r\n",
        "  return 3.14159265359"
      ],
      "execution_count": null,
      "outputs": []
    },
    {
      "cell_type": "code",
      "metadata": {
        "colab": {
          "base_uri": "https://localhost:8080/"
        },
        "id": "G3n-QAqmZTSg",
        "outputId": "1dd79ad4-1db1-4f63-f417-14bf05a3b2d5"
      },
      "source": [
        "#คำนวนพื้นที่วงกลมที่มีขนาดศูนย์กลางเท่ากับ 3\r\n",
        "pi()*(1.5**2)"
      ],
      "execution_count": null,
      "outputs": [
        {
          "output_type": "execute_result",
          "data": {
            "text/plain": [
              "7.0685834705775"
            ]
          },
          "metadata": {
            "tags": []
          },
          "execution_count": 70
        }
      ]
    },
    {
      "cell_type": "code",
      "metadata": {
        "id": "PHaTXRTWZidP"
      },
      "source": [
        "def print_my_name():\r\n",
        "  print('มันนี่ พิทักษ์ 623020532-3')"
      ],
      "execution_count": null,
      "outputs": []
    },
    {
      "cell_type": "code",
      "metadata": {
        "colab": {
          "base_uri": "https://localhost:8080/"
        },
        "id": "U6EBuwrUZuux",
        "outputId": "ffc4f5d7-02de-45d5-e7bc-c0bd7d2cbe94"
      },
      "source": [
        "print_my_name()"
      ],
      "execution_count": null,
      "outputs": [
        {
          "output_type": "stream",
          "text": [
            "มันนี่ พิทักษ์ 623020532-3\n"
          ],
          "name": "stdout"
        }
      ]
    },
    {
      "cell_type": "markdown",
      "metadata": {
        "id": "gEFeZ1jGawSs"
      },
      "source": [
        "input ของ function ใน python มีสองแบบ input ที่จำเป็นต้องใส่ กับ input ที่ไม่จำเป็นต้องใส่ (มีค่า default)\r\n",
        "\r\n",
        "เราต้องเรียง input ที่จำเป็นต้องใส่ขึ้นก่อน"
      ]
    },
    {
      "cell_type": "code",
      "metadata": {
        "id": "J4i3dcKLZyZT"
      },
      "source": [
        "def print_2lines_default(name, surname, ID, grade='F'):\r\n",
        "  st = f'ชื่อ {name} นามสกุล {surname} รหัส {ID}'\r\n",
        "  print(st)\r\n",
        "  st2=f'เกรดวิชา Mutivariate >>> {grade}'\r\n",
        "  print(st2)"
      ],
      "execution_count": null,
      "outputs": []
    },
    {
      "cell_type": "code",
      "metadata": {
        "colab": {
          "base_uri": "https://localhost:8080/"
        },
        "id": "gO-pk97Nb5cx",
        "outputId": "94caed18-6cca-4445-9836-84cff86bf347"
      },
      "source": [
        "print_2lines_default('มันนี่ ',' พิทักษ์ ','623020532-3')"
      ],
      "execution_count": null,
      "outputs": [
        {
          "output_type": "stream",
          "text": [
            "ชื่อ มันนี่  นามสกุล  พิทักษ์  รหัส 623020532-3\n",
            "เกรดวิชา Mutivariate >>> F\n"
          ],
          "name": "stdout"
        }
      ]
    },
    {
      "cell_type": "code",
      "metadata": {
        "colab": {
          "base_uri": "https://localhost:8080/"
        },
        "id": "2XeM1S-ncVG0",
        "outputId": "f405983a-2e35-423e-988c-aa8999fb4576"
      },
      "source": [
        "print_2lines_default('มันนี่ ',' พิทักษ์ ','623020532-3','A')"
      ],
      "execution_count": null,
      "outputs": [
        {
          "output_type": "stream",
          "text": [
            "ชื่อ มันนี่  นามสกุล  พิทักษ์  รหัส 623020532-3\n",
            "เกรดวิชา Mutivariate >>> A\n"
          ],
          "name": "stdout"
        }
      ]
    },
    {
      "cell_type": "markdown",
      "metadata": {
        "id": "5oHwhjUfciWg"
      },
      "source": [
        "เราสามารถเรียกฟังก์ชั่นโดยใช้ชื่อตัวแปรของฟังก์ชั่นช่วยได้"
      ]
    },
    {
      "cell_type": "code",
      "metadata": {
        "colab": {
          "base_uri": "https://localhost:8080/",
          "height": 35
        },
        "id": "PcWWtm__cdrJ",
        "outputId": "00c4b0f3-cdb1-4943-c063-17d5cb0349b2"
      },
      "source": [
        "print_name2(name='มันนี่ ',surname='พิทักษ์',ID='623020532-3')"
      ],
      "execution_count": null,
      "outputs": [
        {
          "output_type": "execute_result",
          "data": {
            "application/vnd.google.colaboratory.intrinsic+json": {
              "type": "string"
            },
            "text/plain": [
              "'ชื่อ มันนี่ นามสกุล พิทักษ์ ID623020532-3'"
            ]
          },
          "metadata": {
            "tags": []
          },
          "execution_count": 76
        }
      ]
    },
    {
      "cell_type": "markdown",
      "metadata": {
        "id": "g0ycLMlGc17V"
      },
      "source": [
        "HW ให้เขียน function คำนวณจำนวนวินาทีจาก เวลาต่อไปนี้\r\n",
        "\r\n",
        "'14-15-31'\r\n",
        "\r\n",
        "'13-00-01'\r\n",
        "\r\n",
        "'05-49-44'\r\n",
        "\r\n",
        "'00-00-16'\r\n",
        "\r\n",
        "และ print ให้สวยงาม"
      ]
    },
    {
      "cell_type": "code",
      "metadata": {
        "id": "tAHaJ5neczuf"
      },
      "source": [
        "def time(money):\r\n",
        "  h =  int (money.split('-')[0])*3600\r\n",
        "  m = int (money.split('-')[1])*60\r\n",
        "  s = int (money.split('-')[2])\r\n",
        "  total = h+m+s\r\n",
        "  print('แปลงเวลาทั้งหมดได้ =' ,total, 'วินาที')\r\n"
      ],
      "execution_count": null,
      "outputs": []
    },
    {
      "cell_type": "code",
      "metadata": {
        "colab": {
          "base_uri": "https://localhost:8080/"
        },
        "id": "AWEga1j7pdd8",
        "outputId": "ed0c9e51-5bd4-4e76-e2d5-61c0a401ab26"
      },
      "source": [
        "time('14-15-31') "
      ],
      "execution_count": null,
      "outputs": [
        {
          "output_type": "stream",
          "text": [
            "แปลงเวลาทั้งหมดได้ = 51331 วินาที\n"
          ],
          "name": "stdout"
        }
      ]
    },
    {
      "cell_type": "code",
      "metadata": {
        "id": "rkeDbN2epi_B",
        "colab": {
          "base_uri": "https://localhost:8080/"
        },
        "outputId": "7095593e-fc17-4261-e613-a9b443ca62fc"
      },
      "source": [
        "time('13-00-01') "
      ],
      "execution_count": null,
      "outputs": [
        {
          "output_type": "stream",
          "text": [
            "แปลงเวลาทั้งหมดได้ = 46801 วินาที\n"
          ],
          "name": "stdout"
        }
      ]
    },
    {
      "cell_type": "code",
      "metadata": {
        "colab": {
          "base_uri": "https://localhost:8080/"
        },
        "id": "BODSN4J2rApB",
        "outputId": "5bcdb71f-699c-4e7b-c983-05ce19bc180e"
      },
      "source": [
        "time('05-49-44') "
      ],
      "execution_count": null,
      "outputs": [
        {
          "output_type": "stream",
          "text": [
            "แปลงเวลาทั้งหมดได้ = 20984 วินาที\n"
          ],
          "name": "stdout"
        }
      ]
    },
    {
      "cell_type": "code",
      "metadata": {
        "colab": {
          "base_uri": "https://localhost:8080/"
        },
        "id": "_tpfpGX0rDGE",
        "outputId": "19b504b2-5864-438e-86c6-1075f56b32e4"
      },
      "source": [
        "time('00-00-16') "
      ],
      "execution_count": null,
      "outputs": [
        {
          "output_type": "stream",
          "text": [
            "แปลงเวลาทั้งหมดได้ = 16 วินาที\n"
          ],
          "name": "stdout"
        }
      ]
    },
    {
      "cell_type": "markdown",
      "metadata": {
        "id": "wNQrnMRSQH11"
      },
      "source": [
        "Numpy -> package สำหรับจัดการกับ Array ที่เป็นตัวเลข (Matrix)\r\n",
        "\r\n",
        "์Num + py -> Numpy-Numerical + python\r\n",
        "\r\n",
        "การใช้ package\r\n",
        "1. ```import =ชื่อpackage``` #เรียกใช้ package \r\n",
        "2. ```ชื่อ package```.```ชื่อฟังก์ชัน``` เรียกใช้ function "
      ]
    },
    {
      "cell_type": "code",
      "metadata": {
        "id": "dsOCMfd-rFw6"
      },
      "source": [
        "import numpy"
      ],
      "execution_count": 1,
      "outputs": []
    },
    {
      "cell_type": "markdown",
      "metadata": {
        "id": "lL7z7N3wSDe-"
      },
      "source": [
        "data structure -> array"
      ]
    },
    {
      "cell_type": "markdown",
      "metadata": {
        "id": "DPxZ17BfUEt_"
      },
      "source": [
        "สร้าง array (numpy array)"
      ]
    },
    {
      "cell_type": "code",
      "metadata": {
        "colab": {
          "base_uri": "https://localhost:8080/"
        },
        "id": "e4QPOxfmR4eD",
        "outputId": "6cc7d75b-d991-4ba4-d904-67efa1fee15f"
      },
      "source": [
        "mat_ex1 = numpy.array([[5.2,3.0,4.5],[9.1,0.1,0.3]])\r\n",
        "print(mat_ex1)"
      ],
      "execution_count": 3,
      "outputs": [
        {
          "output_type": "stream",
          "text": [
            "[[5.2 3.  4.5]\n",
            " [9.1 0.1 0.3]]\n"
          ],
          "name": "stdout"
        }
      ]
    },
    {
      "cell_type": "markdown",
      "metadata": {
        "id": "-kZ-YM8gUpLL"
      },
      "source": [
        "ชี้ค่าใน numpy array"
      ]
    },
    {
      "cell_type": "code",
      "metadata": {
        "colab": {
          "base_uri": "https://localhost:8080/"
        },
        "id": "yMTWdJioUdZx",
        "outputId": "6fa20b55-fcde-4c72-a9d9-ebc4265aa2fb"
      },
      "source": [
        "mat_ex1[1,1] #[แถว,หลัก]"
      ],
      "execution_count": 5,
      "outputs": [
        {
          "output_type": "execute_result",
          "data": {
            "text/plain": [
              "0.1"
            ]
          },
          "metadata": {
            "tags": []
          },
          "execution_count": 5
        }
      ]
    },
    {
      "cell_type": "markdown",
      "metadata": {
        "id": "9_RywBivVyE1"
      },
      "source": [
        "ถ้าไม่มี numpy array \r\n"
      ]
    },
    {
      "cell_type": "code",
      "metadata": {
        "colab": {
          "base_uri": "https://localhost:8080/"
        },
        "id": "bnEbrWTbVX2t",
        "outputId": "f4cc6dfb-d4d4-4f5f-d21a-942ef7ab7c03"
      },
      "source": [
        "list_ex1 = [[5.2,3.0,4.5],[9.1,0.1,0.3]]\r\n",
        "print(list_ex1)"
      ],
      "execution_count": 30,
      "outputs": [
        {
          "output_type": "stream",
          "text": [
            "[[5.2, 3.0, 4.5], [9.1, 0.1, 0.3]]\n"
          ],
          "name": "stdout"
        }
      ]
    },
    {
      "cell_type": "code",
      "metadata": {
        "colab": {
          "base_uri": "https://localhost:8080/"
        },
        "id": "uH9k0Fv3WB3D",
        "outputId": "598b1814-506b-4544-9bc5-926dea9065a2"
      },
      "source": [
        "list_ex1[1][1]"
      ],
      "execution_count": 19,
      "outputs": [
        {
          "output_type": "execute_result",
          "data": {
            "text/plain": [
              "0.1"
            ]
          },
          "metadata": {
            "tags": []
          },
          "execution_count": 19
        }
      ]
    },
    {
      "cell_type": "code",
      "metadata": {
        "colab": {
          "base_uri": "https://localhost:8080/"
        },
        "id": "3ctEYNIfWsPt",
        "outputId": "6ddad0f5-e9fd-48c6-9b02-ca2163d6d709"
      },
      "source": [
        "print(list_ex1) \r\n",
        "a = (list_ex1[1])\r\n",
        "print(a)\r\n",
        "print(a[1])"
      ],
      "execution_count": 22,
      "outputs": [
        {
          "output_type": "stream",
          "text": [
            "[[5.2, 3.0, 4.5], [9.1, 0.1, 0.3]]\n",
            "[9.1, 0.1, 0.3]\n",
            "0.1\n"
          ],
          "name": "stdout"
        }
      ]
    },
    {
      "cell_type": "markdown",
      "metadata": {
        "id": "F03qP-hJX51V"
      },
      "source": [
        "Matrix Operations\r\n",
        "\r\n",
        "data 2 แบบ -> matrix (2D array) , scalar (ตัวเลขค่าคงที่)"
      ]
    },
    {
      "cell_type": "code",
      "metadata": {
        "colab": {
          "base_uri": "https://localhost:8080/"
        },
        "id": "TYeS3VyqXhTF",
        "outputId": "c5753e33-8111-4699-87d8-52efcd408595"
      },
      "source": [
        "mat_ex1 = numpy.array([[5.2,3.0,4.5],[9.1,0.1,0.3]])\r\n",
        "print(mat_ex1)\r\n",
        "mat_ex2 = numpy.array([[2,3.7,5.9],[91,1.5,7.3]])\r\n",
        "print(mat_ex2)"
      ],
      "execution_count": 26,
      "outputs": [
        {
          "output_type": "stream",
          "text": [
            "[[5.2 3.  4.5]\n",
            " [9.1 0.1 0.3]]\n",
            "[[ 2.   3.7  5.9]\n",
            " [91.   1.5  7.3]]\n"
          ],
          "name": "stdout"
        }
      ]
    },
    {
      "cell_type": "markdown",
      "metadata": {
        "id": "UmSdFZEEY_Hg"
      },
      "source": [
        "## บวกกับลบ matrix เอาตัวเลขตำแหน่งเดียวกันมาบวกกันหรือลบกัน\r\n",
        "(หน้าตาของ matrixค้องเหมือนกัน)"
      ]
    },
    {
      "cell_type": "code",
      "metadata": {
        "colab": {
          "base_uri": "https://localhost:8080/"
        },
        "id": "XNcM3W1pYgRA",
        "outputId": "b4fa4d05-f88e-48f2-8b5d-5b3daff7a37b"
      },
      "source": [
        "mat_ex3 = mat_ex1 + mat_ex2 \r\n",
        "print(mat_ex3)\r\n",
        "mat_ex4 = mat_ex1 + mat_ex2\r\n",
        "print(mat_ex4) "
      ],
      "execution_count": 37,
      "outputs": [
        {
          "output_type": "stream",
          "text": [
            "[[  7.2   6.7  10.4]\n",
            " [100.1   1.6   7.6]]\n",
            "[[  7.2   6.7  10.4]\n",
            " [100.1   1.6   7.6]]\n"
          ],
          "name": "stdout"
        }
      ]
    },
    {
      "cell_type": "markdown",
      "metadata": {
        "id": "Bz5j_CEKZ_8e"
      },
      "source": [
        "การตรวจสอบขนาดของ matrix"
      ]
    },
    {
      "cell_type": "code",
      "metadata": {
        "colab": {
          "base_uri": "https://localhost:8080/"
        },
        "id": "YjuwxVUmY6Lq",
        "outputId": "e86a5c6c-eb81-4b10-e695-c6b5eb4d8f11"
      },
      "source": [
        "mat_ex3.shape[0] #คู่อันดับ"
      ],
      "execution_count": 33,
      "outputs": [
        {
          "output_type": "execute_result",
          "data": {
            "text/plain": [
              "2"
            ]
          },
          "metadata": {
            "tags": []
          },
          "execution_count": 33
        }
      ]
    },
    {
      "cell_type": "markdown",
      "metadata": {
        "id": "WX6HVJPOa7q3"
      },
      "source": [
        "## คูณ matrix"
      ]
    },
    {
      "cell_type": "code",
      "metadata": {
        "id": "bBuhJdsGbtrp"
      },
      "source": [
        "print(mat_ex1)\r\n",
        "print(mat_ex2)"
      ],
      "execution_count": null,
      "outputs": []
    },
    {
      "cell_type": "code",
      "metadata": {
        "colab": {
          "base_uri": "https://localhost:8080/"
        },
        "id": "P3e8RgwkaN0U",
        "outputId": "e7b41fed-8e0e-4970-e6fe-47cf3b57e5e5"
      },
      "source": [
        "mat_ex1 * mat_ex2"
      ],
      "execution_count": 41,
      "outputs": [
        {
          "output_type": "execute_result",
          "data": {
            "text/plain": [
              "array([[1.040e+01, 1.110e+01, 2.655e+01],\n",
              "       [8.281e+02, 1.500e-01, 2.190e+00]])"
            ]
          },
          "metadata": {
            "tags": []
          },
          "execution_count": 41
        }
      ]
    },
    {
      "cell_type": "markdown",
      "metadata": {
        "id": "Fms3BKoAeuEI"
      },
      "source": [
        "## การคูณ matrix (แถวคูณหลัก)\r\n",
        "(หลักของ matrix ตัวข้างหน้า ต้องเท่ากับแถวของ matrix ตัวข้างหลัง)\r\n",
        "\r\n",
        "dot product ((AAA,x),(x,ZZZ)) = (AAA,ZZZ)"
      ]
    },
    {
      "cell_type": "code",
      "metadata": {
        "id": "mtwoEObRcje3"
      },
      "source": [
        "## numpy.dot(mat_ex1,mat_ex2) ต้องใส่ .T"
      ],
      "execution_count": 46,
      "outputs": []
    },
    {
      "cell_type": "code",
      "metadata": {
        "colab": {
          "base_uri": "https://localhost:8080/"
        },
        "id": "0-vxuWCtczpG",
        "outputId": "12eea926-a7ec-4b91-bc9d-08738bab9bd7"
      },
      "source": [
        "print(mat_ex1)\r\n",
        "print(mat_ex1.shape)\r\n",
        "print(mat_ex2)\r\n",
        "print(mat_ex2.shape)"
      ],
      "execution_count": 44,
      "outputs": [
        {
          "output_type": "stream",
          "text": [
            "[[5.2 3.  4.5]\n",
            " [9.1 0.1 0.3]]\n",
            "(2, 3)\n",
            "[[ 2.   3.7  5.9]\n",
            " [91.   1.5  7.3]]\n",
            "(2, 3)\n"
          ],
          "name": "stdout"
        }
      ]
    },
    {
      "cell_type": "markdown",
      "metadata": {
        "id": "vquc2fUwgEU5"
      },
      "source": [
        "# Transpose กลับแถวเป็นหลักกลับหลักเป็นแถว\r\n",
        "\r\n",
        "```matrix.T```"
      ]
    },
    {
      "cell_type": "code",
      "metadata": {
        "colab": {
          "base_uri": "https://localhost:8080/"
        },
        "id": "c0ugV54yhE0w",
        "outputId": "eab8caae-3652-40ae-bd8c-294b94a2ba8f"
      },
      "source": [
        "print(mat_ex2)\r\n",
        "print(mat_ex2.shape)"
      ],
      "execution_count": 47,
      "outputs": [
        {
          "output_type": "stream",
          "text": [
            "[[ 2.   3.7  5.9]\n",
            " [91.   1.5  7.3]]\n",
            "(2, 3)\n"
          ],
          "name": "stdout"
        }
      ]
    },
    {
      "cell_type": "code",
      "metadata": {
        "colab": {
          "base_uri": "https://localhost:8080/"
        },
        "id": "RPVjgBrLhIVX",
        "outputId": "0d895def-4e80-4423-e0d3-1d0abc1009e7"
      },
      "source": [
        "print(mat_ex2.T)\r\n",
        "print(mat_ex2.T.shape)"
      ],
      "execution_count": 48,
      "outputs": [
        {
          "output_type": "stream",
          "text": [
            "[[ 2.  91. ]\n",
            " [ 3.7  1.5]\n",
            " [ 5.9  7.3]]\n",
            "(3, 2)\n"
          ],
          "name": "stdout"
        }
      ]
    },
    {
      "cell_type": "code",
      "metadata": {
        "colab": {
          "base_uri": "https://localhost:8080/"
        },
        "id": "xbLdWChUgDMy",
        "outputId": "3131b27a-b7fb-4f65-91e8-07479da0fdc9"
      },
      "source": [
        "numpy.dot(mat_ex1,mat_ex2.T) #(2,3).(3,2)"
      ],
      "execution_count": 45,
      "outputs": [
        {
          "output_type": "execute_result",
          "data": {
            "text/plain": [
              "array([[ 48.05, 510.55],\n",
              "       [ 20.34, 830.44]])"
            ]
          },
          "metadata": {
            "tags": []
          },
          "execution_count": 45
        }
      ]
    },
    {
      "cell_type": "code",
      "metadata": {
        "colab": {
          "base_uri": "https://localhost:8080/"
        },
        "id": "yqOqhMl9gWgg",
        "outputId": "398c0229-781c-4ed0-891a-fa4e909fa226"
      },
      "source": [
        "numpy.dot(mat_ex1.T,mat_ex2) #(2,3).(3,2)"
      ],
      "execution_count": 50,
      "outputs": [
        {
          "output_type": "execute_result",
          "data": {
            "text/plain": [
              "array([[838.5 ,  32.89,  97.11],\n",
              "       [ 15.1 ,  11.25,  18.43],\n",
              "       [ 36.3 ,  17.1 ,  28.74]])"
            ]
          },
          "metadata": {
            "tags": []
          },
          "execution_count": 50
        }
      ]
    },
    {
      "cell_type": "markdown",
      "metadata": {
        "id": "6qnrWlLejM1g"
      },
      "source": [
        "HW4 อธิบายการหา Determinant และ Inverse matrix(รูปและคำอธิบาย)"
      ]
    },
    {
      "cell_type": "markdown",
      "metadata": {
        "id": "foK9e0tChZG4"
      },
      "source": [
        "~~Pandas~~\r\n"
      ]
    }
  ]
}