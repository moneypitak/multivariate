{
  "nbformat": 4,
  "nbformat_minor": 0,
  "metadata": {
    "colab": {
      "name": "Chapter 6 Cluster Analysis.ipynb",
      "provenance": [],
      "authorship_tag": "ABX9TyPdaOfooLbpGsq6QJY1MQ6w",
      "include_colab_link": true
    },
    "kernelspec": {
      "name": "python3",
      "display_name": "Python 3"
    },
    "language_info": {
      "name": "python"
    }
  },
  "cells": [
    {
      "cell_type": "markdown",
      "metadata": {
        "id": "view-in-github",
        "colab_type": "text"
      },
      "source": [
        "<a href=\"https://colab.research.google.com/github/moneypitak/multivariate/blob/main/Chapter_6_Cluster_Analysis.ipynb\" target=\"_parent\"><img src=\"https://colab.research.google.com/assets/colab-badge.svg\" alt=\"Open In Colab\"/></a>"
      ]
    },
    {
      "cell_type": "markdown",
      "metadata": {
        "id": "V98zuuybAfR4"
      },
      "source": [
        "\n",
        "## Cluster Analysis\n",
        "คือการที่เรามี data มาแล้วเราต้องการจะจัดกลุ่มของ data นั้นๆ เราจะแบ่งลักษณะของ data ที่เหมาะกัน ให้อยู่กลุ่มเดียวกัน\n",
        "\n",
        "เช่น การวัดระยะห่างระหว่างจุด เราก็จะนำระยะห่างนั้นมาเป็นการแบ่งกลุ่ม"
      ]
    },
    {
      "cell_type": "code",
      "metadata": {
        "id": "GvT1XHFY9_Dx"
      },
      "source": [
        "import pandas as pd\n"
      ],
      "execution_count": 1,
      "outputs": []
    },
    {
      "cell_type": "code",
      "metadata": {
        "colab": {
          "base_uri": "https://localhost:8080/",
          "height": 195
        },
        "id": "56ZHEMMK-OzO",
        "outputId": "4e294da5-ac25-4b52-f036-b546905aad2d"
      },
      "source": [
        "example_df = pd.read_csv('https://raw.github.com/pandas-dev/pandas/master/pandas/tests/io/data/csv/iris.csv')\n",
        "example_df.head()"
      ],
      "execution_count": 2,
      "outputs": [
        {
          "output_type": "execute_result",
          "data": {
            "text/html": [
              "<div>\n",
              "<style scoped>\n",
              "    .dataframe tbody tr th:only-of-type {\n",
              "        vertical-align: middle;\n",
              "    }\n",
              "\n",
              "    .dataframe tbody tr th {\n",
              "        vertical-align: top;\n",
              "    }\n",
              "\n",
              "    .dataframe thead th {\n",
              "        text-align: right;\n",
              "    }\n",
              "</style>\n",
              "<table border=\"1\" class=\"dataframe\">\n",
              "  <thead>\n",
              "    <tr style=\"text-align: right;\">\n",
              "      <th></th>\n",
              "      <th>SepalLength</th>\n",
              "      <th>SepalWidth</th>\n",
              "      <th>PetalLength</th>\n",
              "      <th>PetalWidth</th>\n",
              "      <th>Name</th>\n",
              "    </tr>\n",
              "  </thead>\n",
              "  <tbody>\n",
              "    <tr>\n",
              "      <th>0</th>\n",
              "      <td>5.1</td>\n",
              "      <td>3.5</td>\n",
              "      <td>1.4</td>\n",
              "      <td>0.2</td>\n",
              "      <td>Iris-setosa</td>\n",
              "    </tr>\n",
              "    <tr>\n",
              "      <th>1</th>\n",
              "      <td>4.9</td>\n",
              "      <td>3.0</td>\n",
              "      <td>1.4</td>\n",
              "      <td>0.2</td>\n",
              "      <td>Iris-setosa</td>\n",
              "    </tr>\n",
              "    <tr>\n",
              "      <th>2</th>\n",
              "      <td>4.7</td>\n",
              "      <td>3.2</td>\n",
              "      <td>1.3</td>\n",
              "      <td>0.2</td>\n",
              "      <td>Iris-setosa</td>\n",
              "    </tr>\n",
              "    <tr>\n",
              "      <th>3</th>\n",
              "      <td>4.6</td>\n",
              "      <td>3.1</td>\n",
              "      <td>1.5</td>\n",
              "      <td>0.2</td>\n",
              "      <td>Iris-setosa</td>\n",
              "    </tr>\n",
              "    <tr>\n",
              "      <th>4</th>\n",
              "      <td>5.0</td>\n",
              "      <td>3.6</td>\n",
              "      <td>1.4</td>\n",
              "      <td>0.2</td>\n",
              "      <td>Iris-setosa</td>\n",
              "    </tr>\n",
              "  </tbody>\n",
              "</table>\n",
              "</div>"
            ],
            "text/plain": [
              "   SepalLength  SepalWidth  PetalLength  PetalWidth         Name\n",
              "0          5.1         3.5          1.4         0.2  Iris-setosa\n",
              "1          4.9         3.0          1.4         0.2  Iris-setosa\n",
              "2          4.7         3.2          1.3         0.2  Iris-setosa\n",
              "3          4.6         3.1          1.5         0.2  Iris-setosa\n",
              "4          5.0         3.6          1.4         0.2  Iris-setosa"
            ]
          },
          "metadata": {
            "tags": []
          },
          "execution_count": 2
        }
      ]
    },
    {
      "cell_type": "code",
      "metadata": {
        "colab": {
          "base_uri": "https://localhost:8080/",
          "height": 402
        },
        "id": "GqHNfn2dAyuo",
        "outputId": "a9e3a96d-852f-49d7-cfc0-dc8a6ee2d4aa"
      },
      "source": [
        "example_df_drop = example_df.iloc[:,:-1]\n",
        "example_df_drop"
      ],
      "execution_count": 3,
      "outputs": [
        {
          "output_type": "execute_result",
          "data": {
            "text/html": [
              "<div>\n",
              "<style scoped>\n",
              "    .dataframe tbody tr th:only-of-type {\n",
              "        vertical-align: middle;\n",
              "    }\n",
              "\n",
              "    .dataframe tbody tr th {\n",
              "        vertical-align: top;\n",
              "    }\n",
              "\n",
              "    .dataframe thead th {\n",
              "        text-align: right;\n",
              "    }\n",
              "</style>\n",
              "<table border=\"1\" class=\"dataframe\">\n",
              "  <thead>\n",
              "    <tr style=\"text-align: right;\">\n",
              "      <th></th>\n",
              "      <th>SepalLength</th>\n",
              "      <th>SepalWidth</th>\n",
              "      <th>PetalLength</th>\n",
              "      <th>PetalWidth</th>\n",
              "    </tr>\n",
              "  </thead>\n",
              "  <tbody>\n",
              "    <tr>\n",
              "      <th>0</th>\n",
              "      <td>5.1</td>\n",
              "      <td>3.5</td>\n",
              "      <td>1.4</td>\n",
              "      <td>0.2</td>\n",
              "    </tr>\n",
              "    <tr>\n",
              "      <th>1</th>\n",
              "      <td>4.9</td>\n",
              "      <td>3.0</td>\n",
              "      <td>1.4</td>\n",
              "      <td>0.2</td>\n",
              "    </tr>\n",
              "    <tr>\n",
              "      <th>2</th>\n",
              "      <td>4.7</td>\n",
              "      <td>3.2</td>\n",
              "      <td>1.3</td>\n",
              "      <td>0.2</td>\n",
              "    </tr>\n",
              "    <tr>\n",
              "      <th>3</th>\n",
              "      <td>4.6</td>\n",
              "      <td>3.1</td>\n",
              "      <td>1.5</td>\n",
              "      <td>0.2</td>\n",
              "    </tr>\n",
              "    <tr>\n",
              "      <th>4</th>\n",
              "      <td>5.0</td>\n",
              "      <td>3.6</td>\n",
              "      <td>1.4</td>\n",
              "      <td>0.2</td>\n",
              "    </tr>\n",
              "    <tr>\n",
              "      <th>...</th>\n",
              "      <td>...</td>\n",
              "      <td>...</td>\n",
              "      <td>...</td>\n",
              "      <td>...</td>\n",
              "    </tr>\n",
              "    <tr>\n",
              "      <th>145</th>\n",
              "      <td>6.7</td>\n",
              "      <td>3.0</td>\n",
              "      <td>5.2</td>\n",
              "      <td>2.3</td>\n",
              "    </tr>\n",
              "    <tr>\n",
              "      <th>146</th>\n",
              "      <td>6.3</td>\n",
              "      <td>2.5</td>\n",
              "      <td>5.0</td>\n",
              "      <td>1.9</td>\n",
              "    </tr>\n",
              "    <tr>\n",
              "      <th>147</th>\n",
              "      <td>6.5</td>\n",
              "      <td>3.0</td>\n",
              "      <td>5.2</td>\n",
              "      <td>2.0</td>\n",
              "    </tr>\n",
              "    <tr>\n",
              "      <th>148</th>\n",
              "      <td>6.2</td>\n",
              "      <td>3.4</td>\n",
              "      <td>5.4</td>\n",
              "      <td>2.3</td>\n",
              "    </tr>\n",
              "    <tr>\n",
              "      <th>149</th>\n",
              "      <td>5.9</td>\n",
              "      <td>3.0</td>\n",
              "      <td>5.1</td>\n",
              "      <td>1.8</td>\n",
              "    </tr>\n",
              "  </tbody>\n",
              "</table>\n",
              "<p>150 rows × 4 columns</p>\n",
              "</div>"
            ],
            "text/plain": [
              "     SepalLength  SepalWidth  PetalLength  PetalWidth\n",
              "0            5.1         3.5          1.4         0.2\n",
              "1            4.9         3.0          1.4         0.2\n",
              "2            4.7         3.2          1.3         0.2\n",
              "3            4.6         3.1          1.5         0.2\n",
              "4            5.0         3.6          1.4         0.2\n",
              "..           ...         ...          ...         ...\n",
              "145          6.7         3.0          5.2         2.3\n",
              "146          6.3         2.5          5.0         1.9\n",
              "147          6.5         3.0          5.2         2.0\n",
              "148          6.2         3.4          5.4         2.3\n",
              "149          5.9         3.0          5.1         1.8\n",
              "\n",
              "[150 rows x 4 columns]"
            ]
          },
          "metadata": {
            "tags": []
          },
          "execution_count": 3
        }
      ]
    },
    {
      "cell_type": "markdown",
      "metadata": {
        "id": "VTRgbT2dA14t"
      },
      "source": [
        "Import"
      ]
    },
    {
      "cell_type": "code",
      "metadata": {
        "id": "Hi2T3VXJA3Af"
      },
      "source": [
        "from sklearn.cluster import KMeans"
      ],
      "execution_count": 8,
      "outputs": []
    },
    {
      "cell_type": "markdown",
      "metadata": {
        "id": "uUyXMvOfA4T0"
      },
      "source": [
        "Define"
      ]
    },
    {
      "cell_type": "code",
      "metadata": {
        "id": "cYTkxKhNA5vd"
      },
      "source": [
        "kmeans = KMeans(random_state=2021)"
      ],
      "execution_count": 15,
      "outputs": []
    },
    {
      "cell_type": "markdown",
      "metadata": {
        "id": "F_8MWwjVA7Bv"
      },
      "source": [
        "Fit-Transfrom\n",
        "\n",
        "คำนวณ"
      ]
    },
    {
      "cell_type": "code",
      "metadata": {
        "colab": {
          "base_uri": "https://localhost:8080/"
        },
        "id": "UasMKh9TA-Hk",
        "outputId": "3bf27554-6406-4cb6-9809-c865af929409"
      },
      "source": [
        "kmeans.fit(example_df_drop)"
      ],
      "execution_count": 16,
      "outputs": [
        {
          "output_type": "execute_result",
          "data": {
            "text/plain": [
              "KMeans(algorithm='auto', copy_x=True, init='k-means++', max_iter=300,\n",
              "       n_clusters=8, n_init=10, n_jobs=None, precompute_distances='auto',\n",
              "       random_state=2021, tol=0.0001, verbose=0)"
            ]
          },
          "metadata": {
            "tags": []
          },
          "execution_count": 16
        }
      ]
    },
    {
      "cell_type": "markdown",
      "metadata": {
        "id": "0SsJKoieBDue"
      },
      "source": [
        "แสดงจุดที่คำนวณได้"
      ]
    },
    {
      "cell_type": "code",
      "metadata": {
        "colab": {
          "base_uri": "https://localhost:8080/"
        },
        "id": "MICralLABBBt",
        "outputId": "67dfde44-20fe-4100-efa5-274f23ee73e5"
      },
      "source": [
        "\n",
        "kmeans.cluster_centers_"
      ],
      "execution_count": 17,
      "outputs": [
        {
          "output_type": "execute_result",
          "data": {
            "text/plain": [
              "array([[5.25555556, 3.67037037, 1.5037037 , 0.28888889],\n",
              "       [6.43      , 2.94      , 4.59      , 1.435     ],\n",
              "       [7.475     , 3.125     , 6.3       , 2.05      ],\n",
              "       [4.71304348, 3.12173913, 1.4173913 , 0.19130435],\n",
              "       [5.62083333, 2.69166667, 4.075     , 1.2625    ],\n",
              "       [6.56818182, 3.08636364, 5.53636364, 2.16363636],\n",
              "       [5.        , 2.3       , 3.275     , 1.025     ],\n",
              "       [6.02777778, 2.73333333, 5.02777778, 1.79444444]])"
            ]
          },
          "metadata": {
            "tags": []
          },
          "execution_count": 17
        }
      ]
    },
    {
      "cell_type": "code",
      "metadata": {
        "colab": {
          "base_uri": "https://localhost:8080/"
        },
        "id": "N2l58Mj9BMdF",
        "outputId": "f7e711b1-a18a-4f8a-c37c-68171463ee45"
      },
      "source": [
        "\n",
        "y = kmeans.predict(example_df_drop)\n",
        "y"
      ],
      "execution_count": 18,
      "outputs": [
        {
          "output_type": "execute_result",
          "data": {
            "text/plain": [
              "array([0, 3, 3, 3, 0, 0, 3, 0, 3, 3, 0, 3, 3, 3, 0, 0, 0, 0, 0, 0, 0, 0,\n",
              "       3, 0, 3, 3, 0, 0, 0, 3, 3, 0, 0, 0, 3, 3, 0, 3, 3, 0, 0, 3, 3, 0,\n",
              "       0, 3, 0, 3, 0, 3, 1, 1, 1, 4, 1, 4, 1, 6, 1, 4, 6, 4, 4, 1, 4, 1,\n",
              "       4, 4, 1, 4, 7, 4, 7, 1, 1, 1, 1, 1, 1, 4, 4, 4, 4, 7, 4, 1, 1, 1,\n",
              "       4, 4, 4, 1, 4, 6, 4, 4, 4, 1, 6, 4, 5, 7, 2, 5, 5, 2, 4, 2, 5, 2,\n",
              "       5, 7, 5, 7, 7, 5, 5, 2, 2, 7, 5, 7, 2, 7, 5, 2, 7, 7, 5, 2, 2, 2,\n",
              "       5, 7, 7, 2, 5, 5, 7, 5, 5, 5, 7, 5, 5, 5, 7, 5, 5, 7], dtype=int32)"
            ]
          },
          "metadata": {
            "tags": []
          },
          "execution_count": 18
        }
      ]
    },
    {
      "cell_type": "markdown",
      "metadata": {
        "id": "JXW0e4YoBkLE"
      },
      "source": [
        "## Quiz6\n",
        "\n",
        "ทำ PCA ข้อมูล example_df_drop แล้วplot scatter plot โดยใส่สีตามผลการทำ kmeans clustering แล้วนำมาเทียบ"
      ]
    },
    {
      "cell_type": "code",
      "metadata": {
        "id": "LSg0xr7iBj6e"
      },
      "source": [
        "from sklearn.decomposition import PCA\n",
        "\n",
        "pca = PCA(n_components=2)\n",
        "\n",
        "new_pca = pca.fit_transform(example_df_drop)"
      ],
      "execution_count": 23,
      "outputs": []
    },
    {
      "cell_type": "code",
      "metadata": {
        "id": "iSfSEv41Br0a"
      },
      "source": [
        ""
      ],
      "execution_count": null,
      "outputs": []
    }
  ]
}