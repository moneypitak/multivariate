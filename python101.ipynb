{
  "nbformat": 4,
  "nbformat_minor": 0,
  "metadata": {
    "colab": {
      "name": "python101.ipynb",
      "provenance": [],
      "authorship_tag": "ABX9TyOmH85yzxGtsow7gp6BiMrf",
      "include_colab_link": true
    },
    "kernelspec": {
      "name": "python3",
      "display_name": "Python 3"
    }
  },
  "cells": [
    {
      "cell_type": "markdown",
      "metadata": {
        "id": "view-in-github",
        "colab_type": "text"
      },
      "source": [
        "<a href=\"https://colab.research.google.com/github/moneypitak/multivariate/blob/main/python101.ipynb\" target=\"_parent\"><img src=\"https://colab.research.google.com/assets/colab-badge.svg\" alt=\"Open In Colab\"/></a>"
      ]
    },
    {
      "cell_type": "markdown",
      "metadata": {
        "id": "EokOzCrfIe9U"
      },
      "source": [
        "หลักการตั้งชื่อตัวแปรเบื้องต้น\r\n",
        "\r\n",
        "1.ตั้งให้สื่อ\r\n",
        "\r\n",
        "2.ภาษาอังกฤษ \r\n",
        "\r\n",
        "3.ใช้ตัวเลขได้แต่ห้ามขึ้นต้นด้วยตัวเลข \r\n",
        "\r\n",
        "4.ห้ามเว้นวรรค \r\n",
        "\r\n",
        "5.ตัวเล็กกับตัวใหญ่ไม่เหมือนกัน "
      ]
    },
    {
      "cell_type": "markdown",
      "metadata": {
        "id": "o2DsMVyvLnJS"
      },
      "source": [
        "ตัวแปร  variable\r\n"
      ]
    },
    {
      "cell_type": "code",
      "metadata": {
        "colab": {
          "base_uri": "https://localhost:8080/"
        },
        "id": "PVbtkzkkMnNI",
        "outputId": "7fd23cd6-00bb-41e3-d5f3-997af889a36f"
      },
      "source": [
        "3.14159 # hashtag หรือ sharp # คือ comment  >>> อันนี้คือ output ที่ออกหน้าจอ"
      ],
      "execution_count": 1,
      "outputs": [
        {
          "output_type": "execute_result",
          "data": {
            "text/plain": [
              "3.14159"
            ]
          },
          "metadata": {
            "tags": []
          },
          "execution_count": 1
        }
      ]
    },
    {
      "cell_type": "code",
      "metadata": {
        "id": "Jhs0hz-ZLTdl"
      },
      "source": [
        "Pi = 3.14159 #อันนี้คือการแสดงผลoutputที่เข้าไปอยู่ในตัวแปร\r\n"
      ],
      "execution_count": 3,
      "outputs": []
    },
    {
      "cell_type": "code",
      "metadata": {
        "colab": {
          "base_uri": "https://localhost:8080/"
        },
        "id": "_wMaUXe4M7dO",
        "outputId": "a828ce1d-bb6d-4e4d-fe82-c9512676b2a2"
      },
      "source": [
        "Pi"
      ],
      "execution_count": 4,
      "outputs": [
        {
          "output_type": "execute_result",
          "data": {
            "text/plain": [
              "3.14159"
            ]
          },
          "metadata": {
            "tags": []
          },
          "execution_count": 4
        }
      ]
    },
    {
      "cell_type": "markdown",
      "metadata": {
        "id": "zpIDe5a3ZOh0"
      },
      "source": [
        "#ตัวแปรมี 3 ชนิดได้แก่\r\n",
        "integer,int หรือ charหรือstring และ float\r\n"
      ]
    },
    {
      "cell_type": "markdown",
      "metadata": {
        "id": "0xqA6Bokar3M"
      },
      "source": [
        "### ตัวแปรจำนวนเต็ม(int)"
      ]
    },
    {
      "cell_type": "code",
      "metadata": {
        "colab": {
          "base_uri": "https://localhost:8080/"
        },
        "id": "miu6asFuaq1c",
        "outputId": "8985bbc6-9123-4647-894b-be8418305f64"
      },
      "source": [
        "a = 10\r\n",
        "print(a)"
      ],
      "execution_count": 5,
      "outputs": [
        {
          "output_type": "stream",
          "text": [
            "10\n"
          ],
          "name": "stdout"
        }
      ]
    },
    {
      "cell_type": "markdown",
      "metadata": {
        "id": "20tFfPdVbaGs"
      },
      "source": [
        "### ตัวแปรจำนวนจริง(float)"
      ]
    },
    {
      "cell_type": "code",
      "metadata": {
        "colab": {
          "base_uri": "https://localhost:8080/"
        },
        "id": "CiNUxqP0bfA8",
        "outputId": "56e25e2b-ca9d-456c-9ad8-03cc81d1e9ee"
      },
      "source": [
        "b = 11\r\n",
        "print(b)"
      ],
      "execution_count": 6,
      "outputs": [
        {
          "output_type": "stream",
          "text": [
            "11\n"
          ],
          "name": "stdout"
        }
      ]
    },
    {
      "cell_type": "markdown",
      "metadata": {
        "id": "e0TxaelBdlG8"
      },
      "source": [
        "### การเปลี่ยนชนิดของตัวแปร variable casting"
      ]
    },
    {
      "cell_type": "code",
      "metadata": {
        "colab": {
          "base_uri": "https://localhost:8080/"
        },
        "id": "dJ9nkN4qc2kh",
        "outputId": "4dfd2196-6182-45bd-9afa-356ab0dfeccc"
      },
      "source": [
        "a=10\r\n",
        "c=555\r\n",
        "a+int(c)"
      ],
      "execution_count": 7,
      "outputs": [
        {
          "output_type": "execute_result",
          "data": {
            "text/plain": [
              "565"
            ]
          },
          "metadata": {
            "tags": []
          },
          "execution_count": 7
        }
      ]
    },
    {
      "cell_type": "markdown",
      "metadata": {
        "id": "dey8f1nGbtbK"
      },
      "source": [
        "การเปลี่ยนชนิดของตัวแปร(char or string text)\r\n",
        "\r\n"
      ]
    },
    {
      "cell_type": "code",
      "metadata": {
        "colab": {
          "base_uri": "https://localhost:8080/"
        },
        "id": "wW4gEz6objt1",
        "outputId": "b9a82deb-3cbf-4a20-bd90-387b9e771bca"
      },
      "source": [
        "c = '999'   # เราจะใช้single quote ก็ต่อเมื่อ ' (ขีดเดียว) หรือเราจะใช้double quote ก็ต่อเมื่อ \"(2ขีดหรือดับเบิ้ล)ล้อมรอบตัวหนังสือเพื่อระบุว่าเป็น char-string\r\n",
        "print(c)"
      ],
      "execution_count": 8,
      "outputs": [
        {
          "output_type": "stream",
          "text": [
            "999\n"
          ],
          "name": "stdout"
        }
      ]
    },
    {
      "cell_type": "code",
      "metadata": {
        "colab": {
          "base_uri": "https://localhost:8080/"
        },
        "id": "AYh8LP_bceq1",
        "outputId": "b91246de-59c9-4205-c389-b456caf53985"
      },
      "source": [
        "a+b #ก็คือการนำตัว float+int= float หรือเรียกว่าจำนวนเต็ม"
      ],
      "execution_count": 9,
      "outputs": [
        {
          "output_type": "execute_result",
          "data": {
            "text/plain": [
              "21"
            ]
          },
          "metadata": {
            "tags": []
          },
          "execution_count": 9
        }
      ]
    },
    {
      "cell_type": "code",
      "metadata": {
        "colab": {
          "base_uri": "https://localhost:8080/"
        },
        "id": "uxs68uvKdSjb",
        "outputId": "fda60f35-ed34-4f64-c51c-21736dbfaf66"
      },
      "source": [
        "d = 'Money' # text\r\n",
        "print(d)"
      ],
      "execution_count": 10,
      "outputs": [
        {
          "output_type": "stream",
          "text": [
            "Money\n"
          ],
          "name": "stdout"
        }
      ]
    },
    {
      "cell_type": "markdown",
      "metadata": {
        "id": "lwKyuR-Sd067"
      },
      "source": [
        "### Operation (เครื่องหมาย +,-,*,/,%)  \r\n",
        "#### เครื่องหมาย % คือ modulo การหารเอาเศษ"
      ]
    },
    {
      "cell_type": "code",
      "metadata": {
        "colab": {
          "base_uri": "https://localhost:8080/"
        },
        "id": "I6OAf7hzd2Gy",
        "outputId": "d6265840-dd8a-49e3-a489-6eef25c47940"
      },
      "source": [
        "7%3"
      ],
      "execution_count": 11,
      "outputs": [
        {
          "output_type": "execute_result",
          "data": {
            "text/plain": [
              "1"
            ]
          },
          "metadata": {
            "tags": []
          },
          "execution_count": 11
        }
      ]
    },
    {
      "cell_type": "code",
      "metadata": {
        "colab": {
          "base_uri": "https://localhost:8080/"
        },
        "id": "mIhwbfTPePo1",
        "outputId": "634f953e-76a5-4317-fad2-5340bacdd431"
      },
      "source": [
        "a/b"
      ],
      "execution_count": 12,
      "outputs": [
        {
          "output_type": "execute_result",
          "data": {
            "text/plain": [
              "0.9090909090909091"
            ]
          },
          "metadata": {
            "tags": []
          },
          "execution_count": 12
        }
      ]
    },
    {
      "cell_type": "code",
      "metadata": {
        "colab": {
          "base_uri": "https://localhost:8080/",
          "height": 35
        },
        "id": "Dk3GGbHSeWrk",
        "outputId": "7b0b867f-01af-40df-ab8d-166f6e1ca073"
      },
      "source": [
        "a*c"
      ],
      "execution_count": 13,
      "outputs": [
        {
          "output_type": "execute_result",
          "data": {
            "application/vnd.google.colaboratory.intrinsic+json": {
              "type": "string"
            },
            "text/plain": [
              "'999999999999999999999999999999'"
            ]
          },
          "metadata": {
            "tags": []
          },
          "execution_count": 13
        }
      ]
    },
    {
      "cell_type": "code",
      "metadata": {
        "colab": {
          "base_uri": "https://localhost:8080/"
        },
        "id": "Yd33z34meXao",
        "outputId": "6b73b3d2-3284-42c2-c4b8-1a257b269e2c"
      },
      "source": [
        "a+b"
      ],
      "execution_count": 14,
      "outputs": [
        {
          "output_type": "execute_result",
          "data": {
            "text/plain": [
              "21"
            ]
          },
          "metadata": {
            "tags": []
          },
          "execution_count": 14
        }
      ]
    },
    {
      "cell_type": "markdown",
      "metadata": {
        "id": "nHj-8d5NejqS"
      },
      "source": [
        "### หลักการใช้ print และใช้ {} ใส่ code\r\n",
        "#### การเพิ่ม f ไว้หน้า 'string'\r\n",
        "#### \\n คือการตัดบรรทัด ส่วน \\n\\ คือการใช้ตัดโค้ดขึ้นบรรทัดใหม่"
      ]
    },
    {
      "cell_type": "code",
      "metadata": {
        "colab": {
          "base_uri": "https://localhost:8080/"
        },
        "id": "gDfz4qwmee66",
        "outputId": "040dd085-14e0-4c6e-af0a-5d820f08b388"
      },
      "source": [
        "print(f'% คือการหารเอาเศษ เช่น 7%3 = {7%3} \\\r\n",
        "    แต่\\n/ คือการหารปกติ เช่น 7/3 = {7/3}  \\\r\n",
        "    และ\\n// คือการหารเอาส่วน เช่น 7//3 = {7//3} \\\r\n",
        "    หรือ\\nใช้ int() เพื่อหารเอาส่วน เช่น int(7/3) = {int(7/3)}') # \\n คือการขึ้นบรรทัดใหม่ \\ ใช้ในการตัด code แต่ com จะไม่เห็"
      ],
      "execution_count": 15,
      "outputs": [
        {
          "output_type": "stream",
          "text": [
            "% คือการหารเอาเศษ เช่น 7%3 = 1     แต่\n",
            "/ คือการหารปกติ เช่น 7/3 = 2.3333333333333335      และ\n",
            "// คือการหารเอาส่วน เช่น 7//3 = 2     หรือ\n",
            "ใช้ int() เพื่อหารเอาส่วน เช่น int(7/3) = 2\n"
          ],
          "name": "stdout"
        }
      ]
    },
    {
      "cell_type": "markdown",
      "metadata": {
        "id": "ZiUKUsV1flYr"
      },
      "source": [
        "###โครงสร้างข้อมูล(DATA STRUCTURE)\r\n",
        "####ทั้งหมด 2 แบบคือ square brackets และ ลำดับที่อยู่ใน listมีความสำคัญ (ลำดับใน list เริ่มจาก 0,1,2,...)\r\n"
      ]
    },
    {
      "cell_type": "code",
      "metadata": {
        "colab": {
          "base_uri": "https://localhost:8080/"
        },
        "id": "cetXBVU4flC7",
        "outputId": "1068b27f-6ff5-448c-b733-036137a93d8e"
      },
      "source": [
        "list_a = []\r\n",
        "print(list_a)"
      ],
      "execution_count": 16,
      "outputs": [
        {
          "output_type": "stream",
          "text": [
            "[]\n"
          ],
          "name": "stdout"
        }
      ]
    },
    {
      "cell_type": "code",
      "metadata": {
        "colab": {
          "base_uri": "https://localhost:8080/"
        },
        "id": "FopqxsNigf0V",
        "outputId": "7a1b7b66-e501-43e2-fa2c-201e9a13e426"
      },
      "source": [
        "list_b = [1,'อิอิ',2,'ดีจ้า']    # เพิ่มตัวแปร ใน array\r\n",
        "print(list_b)"
      ],
      "execution_count": 17,
      "outputs": [
        {
          "output_type": "stream",
          "text": [
            "[1, 'อิอิ', 2, 'ดีจ้า']\n"
          ],
          "name": "stdout"
        }
      ]
    },
    {
      "cell_type": "code",
      "metadata": {
        "colab": {
          "base_uri": "https://localhost:8080/",
          "height": 35
        },
        "id": "QKRR4evRggYS",
        "outputId": "1b824807-d7f3-45f3-badb-1b4ba7284a7e"
      },
      "source": [
        "list_b [1]     # เลือก ตัวแปร ใน array"
      ],
      "execution_count": 18,
      "outputs": [
        {
          "output_type": "execute_result",
          "data": {
            "application/vnd.google.colaboratory.intrinsic+json": {
              "type": "string"
            },
            "text/plain": [
              "'อิอิ'"
            ]
          },
          "metadata": {
            "tags": []
          },
          "execution_count": 18
        }
      ]
    },
    {
      "cell_type": "markdown",
      "metadata": {
        "id": "y50pAzT7g6XD"
      },
      "source": [
        "###.append คือการเพิ่มสมาชิก ใน list\r\n"
      ]
    },
    {
      "cell_type": "code",
      "metadata": {
        "colab": {
          "base_uri": "https://localhost:8080/"
        },
        "id": "7ReXpPurg5aM",
        "outputId": "d791f0b0-0de3-4f1d-a4b9-fdcc54f37fc4"
      },
      "source": [
        "list_b.append('e')\r\n",
        "print(list_b)       # 0 คือ ตัวแรก  -1  คือ ตัวสุดท้าย"
      ],
      "execution_count": 19,
      "outputs": [
        {
          "output_type": "stream",
          "text": [
            "[1, 'อิอิ', 2, 'ดีจ้า', 'e']\n"
          ],
          "name": "stdout"
        }
      ]
    },
    {
      "cell_type": "markdown",
      "metadata": {
        "id": "IdWWQmwAhYFK"
      },
      "source": [
        "### String > list of characters"
      ]
    },
    {
      "cell_type": "code",
      "metadata": {
        "id": "0eHXl_WkhZr_"
      },
      "source": [
        "t = 'python is easy'   #  ตัวแปร"
      ],
      "execution_count": 20,
      "outputs": []
    },
    {
      "cell_type": "code",
      "metadata": {
        "colab": {
          "base_uri": "https://localhost:8080/",
          "height": 35
        },
        "id": "7n8rXUmfheYS",
        "outputId": "9eecea45-cb26-429d-99fe-9b970a51fc37"
      },
      "source": [
        "t[-2] # string สามารถใช้ array หาตัวอักษรได้"
      ],
      "execution_count": 21,
      "outputs": [
        {
          "output_type": "execute_result",
          "data": {
            "application/vnd.google.colaboratory.intrinsic+json": {
              "type": "string"
            },
            "text/plain": [
              "'s'"
            ]
          },
          "metadata": {
            "tags": []
          },
          "execution_count": 21
        }
      ]
    },
    {
      "cell_type": "code",
      "metadata": {
        "colab": {
          "base_uri": "https://localhost:8080/",
          "height": 35
        },
        "id": "N-4z8tfShptv",
        "outputId": "6b446abe-f13f-406d-d141-cf07bd40323d"
      },
      "source": [
        "t[9] "
      ],
      "execution_count": 22,
      "outputs": [
        {
          "output_type": "execute_result",
          "data": {
            "application/vnd.google.colaboratory.intrinsic+json": {
              "type": "string"
            },
            "text/plain": [
              "' '"
            ]
          },
          "metadata": {
            "tags": []
          },
          "execution_count": 22
        }
      ]
    },
    {
      "cell_type": "markdown",
      "metadata": {
        "id": "elu4qJZHhtIi"
      },
      "source": [
        "# จบ 5 มค 64"
      ]
    },
    {
      "cell_type": "markdown",
      "metadata": {
        "id": "2D4Y028rhhXv"
      },
      "source": [
        "#คาบ 3 11 มค 2021"
      ]
    },
    {
      "cell_type": "code",
      "metadata": {
        "colab": {
          "base_uri": "https://localhost:8080/"
        },
        "id": "ZIdJZ6U6ia4p",
        "outputId": "7eafedca-220c-4a12-bdf2-758eeae5f57e"
      },
      "source": [
        "len(t)"
      ],
      "execution_count": 24,
      "outputs": [
        {
          "output_type": "execute_result",
          "data": {
            "text/plain": [
              "14"
            ]
          },
          "metadata": {
            "tags": []
          },
          "execution_count": 24
        }
      ]
    },
    {
      "cell_type": "code",
      "metadata": {
        "colab": {
          "base_uri": "https://localhost:8080/"
        },
        "id": "Acwli5uck9SS",
        "outputId": "491fb805-0fbd-44f5-fe69-97242f3e847a"
      },
      "source": [
        "list_b"
      ],
      "execution_count": 25,
      "outputs": [
        {
          "output_type": "execute_result",
          "data": {
            "text/plain": [
              "[1, 'อิอิ', 2, 'ดีจ้า', 'e']"
            ]
          },
          "metadata": {
            "tags": []
          },
          "execution_count": 25
        }
      ]
    },
    {
      "cell_type": "code",
      "metadata": {
        "colab": {
          "base_uri": "https://localhost:8080/"
        },
        "id": "TGSZ05BSk_fL",
        "outputId": "0704f632-0e86-441a-ff67-7679bb2c8eb2"
      },
      "source": [
        "len(list_b) # len คือ คำสั่งตรวจสอบความยาวของจำนวนสมาชิก เช่น 1 อิอิ 2 ดีจ้า e มีทั้งหมด 5 ตัว พอ run ออกมาก็จะได้ 5"
      ],
      "execution_count": 27,
      "outputs": [
        {
          "output_type": "execute_result",
          "data": {
            "text/plain": [
              "5"
            ]
          },
          "metadata": {
            "tags": []
          },
          "execution_count": 27
        }
      ]
    },
    {
      "cell_type": "code",
      "metadata": {
        "colab": {
          "base_uri": "https://localhost:8080/"
        },
        "id": "_Zd7LnS7lROX",
        "outputId": "5900e3eb-57ae-47cb-8cb0-ee992401bb09"
      },
      "source": [
        "list_b.append(t)\r\n",
        "print(list_b)"
      ],
      "execution_count": 28,
      "outputs": [
        {
          "output_type": "stream",
          "text": [
            "[1, 'อิอิ', 2, 'ดีจ้า', 'e', 'python is easy']\n"
          ],
          "name": "stdout"
        }
      ]
    },
    {
      "cell_type": "markdown",
      "metadata": {
        "id": "qWmytzowltyZ"
      },
      "source": [
        "# ตัวที่อยู่ข้างใน [] เราเรียกว่า index (ตัวชี้)"
      ]
    },
    {
      "cell_type": "code",
      "metadata": {
        "colab": {
          "base_uri": "https://localhost:8080/"
        },
        "id": "6x10-_Khlagr",
        "outputId": "8919e9d0-d281-4c7d-8b34-ef8a82a990c9"
      },
      "source": [
        "print(t)\r\n",
        "print(t[3:5]) #ชี้ว่าตัดตัวที่เท่าไหร่ หน้า : คือจุดเริ่มต้นหลัง : คือจุดสิ้นสุด เช่น 3:5 หรือ\r\n",
        "print(len(t[3:5])) #เอามาแค่สมาชิก 2 ตัว"
      ],
      "execution_count": 42,
      "outputs": [
        {
          "output_type": "stream",
          "text": [
            "python is easy\n",
            "ho\n",
            "2\n"
          ],
          "name": "stdout"
        }
      ]
    },
    {
      "cell_type": "code",
      "metadata": {
        "colab": {
          "base_uri": "https://localhost:8080/",
          "height": 35
        },
        "id": "UGIB-2N7l_99",
        "outputId": "40293ea8-4fbc-4710-f9e8-9e6e9b123d4f"
      },
      "source": [
        "t[0:14:2] #ถ้าเกิดเพิ่ม : อีกตัวเวลาเราเลือกถ้าเพิ่มเราเลือกได้ว่าเพิ่มหรือกระโดด"
      ],
      "execution_count": 48,
      "outputs": [
        {
          "output_type": "execute_result",
          "data": {
            "application/vnd.google.colaboratory.intrinsic+json": {
              "type": "string"
            },
            "text/plain": [
              "'pto ses'"
            ]
          },
          "metadata": {
            "tags": []
          },
          "execution_count": 48
        }
      ]
    },
    {
      "cell_type": "code",
      "metadata": {
        "id": "b7-KQz2MoJzp"
      },
      "source": [
        "z = [1,2,3,4,5,6,7,8,9,10]"
      ],
      "execution_count": 49,
      "outputs": []
    },
    {
      "cell_type": "code",
      "metadata": {
        "colab": {
          "base_uri": "https://localhost:8080/"
        },
        "id": "n0063YO6oNVe",
        "outputId": "f63d8deb-39df-4f19-8a34-873441a45208"
      },
      "source": [
        "z[1:10:2]"
      ],
      "execution_count": 54,
      "outputs": [
        {
          "output_type": "execute_result",
          "data": {
            "text/plain": [
              "[2, 4, 6, 8, 10]"
            ]
          },
          "metadata": {
            "tags": []
          },
          "execution_count": 54
        }
      ]
    },
    {
      "cell_type": "markdown",
      "metadata": {
        "id": "SSP2NZdpoZoq"
      },
      "source": [
        "### **quiz**\r\n",
        "ให้ใช้ list slicing เลือกมาเฉพาะเลขคู่"
      ]
    },
    {
      "cell_type": "code",
      "metadata": {
        "colab": {
          "base_uri": "https://localhost:8080/"
        },
        "id": "HFq-rAXeo_ez",
        "outputId": "fcfde610-0379-40dc-d13b-6de3cd1b9ff5"
      },
      "source": [
        "z[1:10:2] #หรือใช้ print(z[1:10:2])"
      ],
      "execution_count": 52,
      "outputs": [
        {
          "output_type": "execute_result",
          "data": {
            "text/plain": [
              "[2, 4, 6, 8, 10]"
            ]
          },
          "metadata": {
            "tags": []
          },
          "execution_count": 52
        }
      ]
    },
    {
      "cell_type": "markdown",
      "metadata": {
        "id": "oGTVx67xpPpG"
      },
      "source": [
        "ถ้าเว้นว่างหน้า : หมายความว่า เริ่มตั้งแต่ตัวแรก(0)\r\n",
        "\r\n",
        "ถ้าเว้นว่างหลัง : หมายความว่า ไปจนถึงตัวสุดท้าย(len(list))"
      ]
    },
    {
      "cell_type": "code",
      "metadata": {
        "colab": {
          "base_uri": "https://localhost:8080/"
        },
        "id": "b5gfNyfQpqRN",
        "outputId": "09e95edf-1022-4660-d759-5081af984b61"
      },
      "source": [
        "print(t)\r\n",
        "print(t[:6]) # เอาตั้งแต่ 0 ถึง 6 ตัว\r\n",
        "print(t[10:]) # เอาตั้งแต่ตัวแรก ถึง ตัวสุดท้าย\r\n",
        "print(t[-4:])\r\n",
        "print(t[:])"
      ],
      "execution_count": 55,
      "outputs": [
        {
          "output_type": "stream",
          "text": [
            "python is easy\n",
            "python\n",
            "easy\n",
            "easy\n",
            "python is easy\n"
          ],
          "name": "stdout"
        }
      ]
    },
    {
      "cell_type": "code",
      "metadata": {
        "colab": {
          "base_uri": "https://localhost:8080/"
        },
        "id": "eAUOayU-p6nS",
        "outputId": "cf35e2b6-7ced-4af9-ad7c-a09730525a28"
      },
      "source": [
        "list(z[::2]) # เอาทุกตัวแต่ข้ามไป 2 ตัว ถ้าอยาก 4 ตัวก็แทน 4 ลงไป เช่น list(z[::4])"
      ],
      "execution_count": 59,
      "outputs": [
        {
          "output_type": "execute_result",
          "data": {
            "text/plain": [
              "[1, 3, 5, 7, 9]"
            ]
          },
          "metadata": {
            "tags": []
          },
          "execution_count": 59
        }
      ]
    },
    {
      "cell_type": "markdown",
      "metadata": {
        "id": "WDv7Oq0jp8jI"
      },
      "source": [
        "เราสามารถเอา list มาต่อกันได้ด้วย + "
      ]
    },
    {
      "cell_type": "code",
      "metadata": {
        "colab": {
          "base_uri": "https://localhost:8080/",
          "height": 35
        },
        "id": "z7ZJn95ir1z7",
        "outputId": "e0d268e6-ae52-4ad8-a39a-852f81fd1597"
      },
      "source": [
        "t +'??' #เช่น t + สวัสดีครับ หรือ t + Moeny"
      ],
      "execution_count": 61,
      "outputs": [
        {
          "output_type": "execute_result",
          "data": {
            "application/vnd.google.colaboratory.intrinsic+json": {
              "type": "string"
            },
            "text/plain": [
              "'python is easy??'"
            ]
          },
          "metadata": {
            "tags": []
          },
          "execution_count": 61
        }
      ]
    },
    {
      "cell_type": "code",
      "metadata": {
        "id": "pclwBzwlr5eU"
      },
      "source": [
        "# t+list_b ## ไม่สามารถเอา list ปกติมาต่อกับ string ได้ ถ้าเรา Run จะได้ error"
      ],
      "execution_count": 64,
      "outputs": []
    },
    {
      "cell_type": "code",
      "metadata": {
        "colab": {
          "base_uri": "https://localhost:8080/"
        },
        "id": "BcUpEGZ-sKJs",
        "outputId": "b2eb7282-7e01-460f-af55-327ca3969ca5"
      },
      "source": [
        "print(list_a)\r\n",
        "print(list_b)\r\n",
        "print(list_b+list_a) # list_a คือ list ว่าง ถ้าเราอยากให้ list_a ไม่ว่างเราก็เพิ่มตัวแปรในก่อนหน้าให้มี list_a[] อยู่ใน code เช่น list_a = [สวัสดีครับ,hello]"
      ],
      "execution_count": 67,
      "outputs": [
        {
          "output_type": "stream",
          "text": [
            "[]\n",
            "[1, 'อิอิ', 2, 'ดีจ้า', 'e', 'python is easy']\n",
            "[1, 'อิอิ', 2, 'ดีจ้า', 'e', 'python is easy']\n"
          ],
          "name": "stdout"
        }
      ]
    },
    {
      "cell_type": "code",
      "metadata": {
        "colab": {
          "base_uri": "https://localhost:8080/"
        },
        "id": "E0LLpFl4s7Yn",
        "outputId": "1291e086-9baf-46c1-ca95-78bb2ba54c11"
      },
      "source": [
        "list_b.append(list_a) # คือการเอาสมาชิกมารวมกัน ทำไม list_a คือ [] เพราะว่าเราเพิ่มโค้ด list_a ในบรรทัดที่16 ว่า list_a[] print(list_a)\r\n",
        "print(list_b) # "
      ],
      "execution_count": 72,
      "outputs": [
        {
          "output_type": "stream",
          "text": [
            "[1, 'อิอิ', 2, 'ดีจ้า', 'e', 'python is easy', [], []]\n"
          ],
          "name": "stdout"
        }
      ]
    },
    {
      "cell_type": "markdown",
      "metadata": {
        "id": "OEIBn-lZtuvY"
      },
      "source": [
        "การแบ่ง string ตามสัญลักษณ์ที่กำหนด -> split string"
      ]
    },
    {
      "cell_type": "code",
      "metadata": {
        "colab": {
          "base_uri": "https://localhost:8080/",
          "height": 35
        },
        "id": "kwVyrjVKt8gc",
        "outputId": "11e6c2c8-b2ba-40b9-ca53-a7718ef68fa0"
      },
      "source": [
        "t "
      ],
      "execution_count": 74,
      "outputs": [
        {
          "output_type": "execute_result",
          "data": {
            "application/vnd.google.colaboratory.intrinsic+json": {
              "type": "string"
            },
            "text/plain": [
              "'python is easy'"
            ]
          },
          "metadata": {
            "tags": []
          },
          "execution_count": 74
        }
      ]
    },
    {
      "cell_type": "code",
      "metadata": {
        "colab": {
          "base_uri": "https://localhost:8080/"
        },
        "id": "ouLImnyBtLwa",
        "outputId": "8f6c1029-97af-4b10-d7be-475cac19f62d"
      },
      "source": [
        "t.split(' ') #คำสั่ง split คือ สามารถแบ่งตัว text ได้ เราสามารถแบ่ง text ด้วย สัญลักษณ์อะไรก็ได้ split จะไปหาช่องว่างแล้วก็จะแบ่งข้อความตาม text นั้นๆ"
      ],
      "execution_count": 75,
      "outputs": [
        {
          "output_type": "execute_result",
          "data": {
            "text/plain": [
              "['python', 'is', 'easy']"
            ]
          },
          "metadata": {
            "tags": []
          },
          "execution_count": 75
        }
      ]
    },
    {
      "cell_type": "code",
      "metadata": {
        "id": "iw3tTxb9t4uw"
      },
      "source": [
        "time = '10:11:12'"
      ],
      "execution_count": 76,
      "outputs": []
    },
    {
      "cell_type": "code",
      "metadata": {
        "colab": {
          "base_uri": "https://localhost:8080/"
        },
        "id": "aRZ6206OuujC",
        "outputId": "e633321a-d9e0-4a97-dc21-8291dd5fed08"
      },
      "source": [
        "time.split(':') # t_sp = t.split"
      ],
      "execution_count": 78,
      "outputs": [
        {
          "output_type": "execute_result",
          "data": {
            "text/plain": [
              "['10', '11', '12']"
            ]
          },
          "metadata": {
            "tags": []
          },
          "execution_count": 78
        }
      ]
    },
    {
      "cell_type": "code",
      "metadata": {
        "id": "M-X-XqFIvwOR"
      },
      "source": [
        ""
      ],
      "execution_count": null,
      "outputs": []
    }
  ]
}