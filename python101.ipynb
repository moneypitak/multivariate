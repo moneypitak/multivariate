{
  "nbformat": 4,
  "nbformat_minor": 0,
  "metadata": {
    "colab": {
      "name": "python101.ipynb",
      "provenance": [],
      "authorship_tag": "ABX9TyOfeWJ415TW0pc71iUNI1Ix",
      "include_colab_link": true
    },
    "kernelspec": {
      "name": "python3",
      "display_name": "Python 3"
    }
  },
  "cells": [
    {
      "cell_type": "markdown",
      "metadata": {
        "id": "view-in-github",
        "colab_type": "text"
      },
      "source": [
        "<a href=\"https://colab.research.google.com/github/moneypitak/multivariate/blob/main/python101.ipynb\" target=\"_parent\"><img src=\"https://colab.research.google.com/assets/colab-badge.svg\" alt=\"Open In Colab\"/></a>"
      ]
    },
    {
      "cell_type": "markdown",
      "metadata": {
        "id": "EokOzCrfIe9U"
      },
      "source": [
        "หลักการตั้งชื่อตัวแปรเบื้องต้น \\\\\r\n",
        "1.ตั้งให้สื่อ \\\\\r\n",
        "2.ภาษาอังกฤษ \\\\\r\n",
        "3.ใช้ตัวเลขได้แต่ห้ามขึ้นต้นด้วยตัวเลข \\\\\r\n",
        "4.ห้ามเว้นวรรค \\\\\r\n",
        "5.ตัวเล็กกับตัวใหญ่ไม่เหมือนกัน "
      ]
    },
    {
      "cell_type": "markdown",
      "metadata": {
        "id": "o2DsMVyvLnJS"
      },
      "source": [
        "ตัวแปร  variable\r\n"
      ]
    },
    {
      "cell_type": "code",
      "metadata": {
        "colab": {
          "base_uri": "https://localhost:8080/"
        },
        "id": "PVbtkzkkMnNI",
        "outputId": "d21bb818-96c4-4da7-84e4-f958fc87abed"
      },
      "source": [
        "3.14159 # hashtag หรือ sharp # คือ comment  >>> อันนี้คือ output ที่ออกหน้าจอ"
      ],
      "execution_count": null,
      "outputs": [
        {
          "output_type": "execute_result",
          "data": {
            "text/plain": [
              "3.14159"
            ]
          },
          "metadata": {
            "tags": []
          },
          "execution_count": 1
        }
      ]
    },
    {
      "cell_type": "code",
      "metadata": {
        "id": "Jhs0hz-ZLTdl"
      },
      "source": [
        "Pi = 3.14159 #อันนี้คือการแสดงผลoutputที่เข้าไปอยู่ในตัวแปร\r\n"
      ],
      "execution_count": null,
      "outputs": []
    },
    {
      "cell_type": "code",
      "metadata": {
        "colab": {
          "base_uri": "https://localhost:8080/"
        },
        "id": "_wMaUXe4M7dO",
        "outputId": "0f0b0874-9ce0-4ccb-ae5f-53ffd3edeab6"
      },
      "source": [
        "Pi"
      ],
      "execution_count": null,
      "outputs": [
        {
          "output_type": "execute_result",
          "data": {
            "text/plain": [
              "3.14159"
            ]
          },
          "metadata": {
            "tags": []
          },
          "execution_count": 3
        }
      ]
    },
    {
      "cell_type": "markdown",
      "metadata": {
        "id": "zpIDe5a3ZOh0"
      },
      "source": [
        "#ตัวแปรมี 3 ชนิดได้แก่\r\n",
        "integer,int หรือ charหรือstring และ float\r\n"
      ]
    },
    {
      "cell_type": "markdown",
      "metadata": {
        "id": "0xqA6Bokar3M"
      },
      "source": [
        "### ตัวแปรจำนวนเต็ม(int)"
      ]
    },
    {
      "cell_type": "code",
      "metadata": {
        "colab": {
          "base_uri": "https://localhost:8080/"
        },
        "id": "miu6asFuaq1c",
        "outputId": "440e911e-97a4-411c-d292-4bc882f77abd"
      },
      "source": [
        "a = 10\r\n",
        "print(a)"
      ],
      "execution_count": 2,
      "outputs": [
        {
          "output_type": "stream",
          "text": [
            "10\n"
          ],
          "name": "stdout"
        }
      ]
    },
    {
      "cell_type": "markdown",
      "metadata": {
        "id": "20tFfPdVbaGs"
      },
      "source": [
        "### ตัวแปรจำนวนจริง(float)"
      ]
    },
    {
      "cell_type": "code",
      "metadata": {
        "colab": {
          "base_uri": "https://localhost:8080/"
        },
        "id": "CiNUxqP0bfA8",
        "outputId": "3723a503-017f-4b04-d3bc-2de8a93308a2"
      },
      "source": [
        "b = 11\r\n",
        "print(b)"
      ],
      "execution_count": 3,
      "outputs": [
        {
          "output_type": "stream",
          "text": [
            "11\n"
          ],
          "name": "stdout"
        }
      ]
    },
    {
      "cell_type": "markdown",
      "metadata": {
        "id": "e0TxaelBdlG8"
      },
      "source": [
        "### การเปลี่ยนชนิดของตัวแปร variable casting"
      ]
    },
    {
      "cell_type": "code",
      "metadata": {
        "colab": {
          "base_uri": "https://localhost:8080/"
        },
        "id": "dJ9nkN4qc2kh",
        "outputId": "a9c1d446-7f44-45e7-ba01-5dc1516c6748"
      },
      "source": [
        "a=10\r\n",
        "c=555\r\n",
        "a+int(c)"
      ],
      "execution_count": 8,
      "outputs": [
        {
          "output_type": "execute_result",
          "data": {
            "text/plain": [
              "565"
            ]
          },
          "metadata": {
            "tags": []
          },
          "execution_count": 8
        }
      ]
    },
    {
      "cell_type": "markdown",
      "metadata": {
        "id": "dey8f1nGbtbK"
      },
      "source": [
        "การเปลี่ยนชนิดของตัวแปร(char or string text)\r\n",
        "\r\n"
      ]
    },
    {
      "cell_type": "code",
      "metadata": {
        "colab": {
          "base_uri": "https://localhost:8080/"
        },
        "id": "wW4gEz6objt1",
        "outputId": "5e78eb7c-7a6a-4dad-d261-d969d0d7c005"
      },
      "source": [
        "c = '999'   # เราจะใช้single quote ก็ต่อเมื่อ ' (ขีดเดียว) หรือเราจะใช้double quote ก็ต่อเมื่อ \"(2ขีดหรือดับเบิ้ล)ล้อมรอบตัวหนังสือเพื่อระบุว่าเป็น char-string\r\n",
        "print(c)"
      ],
      "execution_count": 4,
      "outputs": [
        {
          "output_type": "stream",
          "text": [
            "999\n"
          ],
          "name": "stdout"
        }
      ]
    },
    {
      "cell_type": "code",
      "metadata": {
        "colab": {
          "base_uri": "https://localhost:8080/"
        },
        "id": "AYh8LP_bceq1",
        "outputId": "5285593e-cc06-44c9-b7a5-013d1e080ca9"
      },
      "source": [
        "a+b #ก็คือการนำตัว float+int= float หรือเรียกว่าจำนวนเต็ม"
      ],
      "execution_count": 5,
      "outputs": [
        {
          "output_type": "execute_result",
          "data": {
            "text/plain": [
              "21"
            ]
          },
          "metadata": {
            "tags": []
          },
          "execution_count": 5
        }
      ]
    },
    {
      "cell_type": "code",
      "metadata": {
        "colab": {
          "base_uri": "https://localhost:8080/"
        },
        "id": "uxs68uvKdSjb",
        "outputId": "2827d0a6-5339-4d42-982a-f86d258cdbe1"
      },
      "source": [
        "d = 'Money' # text\r\n",
        "print(d)"
      ],
      "execution_count": 9,
      "outputs": [
        {
          "output_type": "stream",
          "text": [
            "Money\n"
          ],
          "name": "stdout"
        }
      ]
    },
    {
      "cell_type": "markdown",
      "metadata": {
        "id": "lwKyuR-Sd067"
      },
      "source": [
        "### Operation (เครื่องหมาย +,-,*,/,%)  \r\n",
        "#### เครื่องหมาย % คือ modulo การหารเอาเศษ"
      ]
    },
    {
      "cell_type": "code",
      "metadata": {
        "colab": {
          "base_uri": "https://localhost:8080/"
        },
        "id": "I6OAf7hzd2Gy",
        "outputId": "9878f0ce-b5aa-41aa-974e-04a9331a9bf3"
      },
      "source": [
        "7%3"
      ],
      "execution_count": 11,
      "outputs": [
        {
          "output_type": "execute_result",
          "data": {
            "text/plain": [
              "1"
            ]
          },
          "metadata": {
            "tags": []
          },
          "execution_count": 11
        }
      ]
    },
    {
      "cell_type": "code",
      "metadata": {
        "colab": {
          "base_uri": "https://localhost:8080/"
        },
        "id": "mIhwbfTPePo1",
        "outputId": "b7f037c7-accb-4da2-8f1a-c3468772cc08"
      },
      "source": [
        "a/b"
      ],
      "execution_count": 16,
      "outputs": [
        {
          "output_type": "execute_result",
          "data": {
            "text/plain": [
              "0.9090909090909091"
            ]
          },
          "metadata": {
            "tags": []
          },
          "execution_count": 16
        }
      ]
    },
    {
      "cell_type": "code",
      "metadata": {
        "colab": {
          "base_uri": "https://localhost:8080/"
        },
        "id": "Dk3GGbHSeWrk",
        "outputId": "bb4b27fc-67d4-492b-a3fd-15aaab62628f"
      },
      "source": [
        "a*c"
      ],
      "execution_count": 15,
      "outputs": [
        {
          "output_type": "execute_result",
          "data": {
            "text/plain": [
              "5550"
            ]
          },
          "metadata": {
            "tags": []
          },
          "execution_count": 15
        }
      ]
    },
    {
      "cell_type": "code",
      "metadata": {
        "colab": {
          "base_uri": "https://localhost:8080/"
        },
        "id": "Yd33z34meXao",
        "outputId": "24ff2a7c-24cb-472e-d3db-70e9a93a5276"
      },
      "source": [
        "a+b"
      ],
      "execution_count": 17,
      "outputs": [
        {
          "output_type": "execute_result",
          "data": {
            "text/plain": [
              "21"
            ]
          },
          "metadata": {
            "tags": []
          },
          "execution_count": 17
        }
      ]
    },
    {
      "cell_type": "markdown",
      "metadata": {
        "id": "nHj-8d5NejqS"
      },
      "source": [
        "### หลักการใช้ print และใช้ {} ใส่ code\r\n",
        "#### การเพิ่ม f ไว้หน้า 'string'\r\n",
        "#### \\n คือการตัดบรรทัด ส่วน \\n\\ คือการใช้ตัดโค้ดขึ้นบรรทัดใหม่"
      ]
    },
    {
      "cell_type": "code",
      "metadata": {
        "colab": {
          "base_uri": "https://localhost:8080/"
        },
        "id": "gDfz4qwmee66",
        "outputId": "820d2c0f-b2ff-4275-aa7e-cbb03e48bd61"
      },
      "source": [
        "print(f'% คือการหารเอาเศษ เช่น 7%3 = {7%3} \\\r\n",
        "    แต่\\n/ คือการหารปกติ เช่น 7/3 = {7/3}  \\\r\n",
        "    และ\\n// คือการหารเอาส่วน เช่น 7//3 = {7//3} \\\r\n",
        "    หรือ\\nใช้ int() เพื่อหารเอาส่วน เช่น int(7/3) = {int(7/3)}') # \\n คือการขึ้นบรรทัดใหม่ \\ ใช้ในการตัด code แต่ com จะไม่เห็"
      ],
      "execution_count": 18,
      "outputs": [
        {
          "output_type": "stream",
          "text": [
            "% คือการหารเอาเศษ เช่น 7%3 = 1     แต่\n",
            "/ คือการหารปกติ เช่น 7/3 = 2.3333333333333335      และ\n",
            "// คือการหารเอาส่วน เช่น 7//3 = 2     หรือ\n",
            "ใช้ int() เพื่อหารเอาส่วน เช่น int(7/3) = 2\n"
          ],
          "name": "stdout"
        }
      ]
    },
    {
      "cell_type": "markdown",
      "metadata": {
        "id": "ZiUKUsV1flYr"
      },
      "source": [
        "###โครงสร้างข้อมูล(DATA STRUCTURE)\r\n",
        "####ทั้งหมด 2 แบบคือ square brackets และ ลำดับที่อยู่ใน listมีความสำคัญ (ลำดับใน list เริ่มจาก 0,1,2,...)\r\n"
      ]
    },
    {
      "cell_type": "code",
      "metadata": {
        "colab": {
          "base_uri": "https://localhost:8080/"
        },
        "id": "cetXBVU4flC7",
        "outputId": "df05a915-a1ba-4d3a-a558-c2e34fe636d5"
      },
      "source": [
        "list_a = []\r\n",
        "print(list_a)"
      ],
      "execution_count": 19,
      "outputs": [
        {
          "output_type": "stream",
          "text": [
            "[]\n"
          ],
          "name": "stdout"
        }
      ]
    },
    {
      "cell_type": "code",
      "metadata": {
        "colab": {
          "base_uri": "https://localhost:8080/"
        },
        "id": "FopqxsNigf0V",
        "outputId": "f41b8a16-a78e-4c4a-e135-82f551582272"
      },
      "source": [
        "list_b = [1,'อิอิ',2,'ดีจ้า']    # เพิ่มตัวแปร ใน array\r\n",
        "print(list_b)"
      ],
      "execution_count": 22,
      "outputs": [
        {
          "output_type": "stream",
          "text": [
            "[1, 'อิอิ', 2, 'ดีจ้า']\n"
          ],
          "name": "stdout"
        }
      ]
    },
    {
      "cell_type": "code",
      "metadata": {
        "colab": {
          "base_uri": "https://localhost:8080/",
          "height": 35
        },
        "id": "QKRR4evRggYS",
        "outputId": "ae3464ea-ae44-4128-e674-b7093912f226"
      },
      "source": [
        "list_b [1]     # เลือก ตัวแปร ใน array"
      ],
      "execution_count": 23,
      "outputs": [
        {
          "output_type": "execute_result",
          "data": {
            "application/vnd.google.colaboratory.intrinsic+json": {
              "type": "string"
            },
            "text/plain": [
              "'อิอิ'"
            ]
          },
          "metadata": {
            "tags": []
          },
          "execution_count": 23
        }
      ]
    },
    {
      "cell_type": "markdown",
      "metadata": {
        "id": "y50pAzT7g6XD"
      },
      "source": [
        "###.append คือการเพิ่มสมาชิก ใน list\r\n"
      ]
    },
    {
      "cell_type": "code",
      "metadata": {
        "colab": {
          "base_uri": "https://localhost:8080/"
        },
        "id": "7ReXpPurg5aM",
        "outputId": "e15fb948-4973-4aa4-b950-c2df48f53139"
      },
      "source": [
        "list_b.append('e')\r\n",
        "print(list_b)       # 0 คือ ตัวแรก  -1  คือ ตัวสุดท้าย"
      ],
      "execution_count": 25,
      "outputs": [
        {
          "output_type": "stream",
          "text": [
            "[1, 'อิอิ', 2, 'ดีจ้า', 'p', 'e']\n"
          ],
          "name": "stdout"
        }
      ]
    },
    {
      "cell_type": "markdown",
      "metadata": {
        "id": "IdWWQmwAhYFK"
      },
      "source": [
        "### String > list of characters"
      ]
    },
    {
      "cell_type": "code",
      "metadata": {
        "id": "0eHXl_WkhZr_"
      },
      "source": [
        "t = 'python is easy'   #  ตัวแปร"
      ],
      "execution_count": 29,
      "outputs": []
    },
    {
      "cell_type": "code",
      "metadata": {
        "colab": {
          "base_uri": "https://localhost:8080/",
          "height": 35
        },
        "id": "7n8rXUmfheYS",
        "outputId": "3121feee-870b-489a-dba8-8171644d3353"
      },
      "source": [
        "t[-2] # string สามารถใช้ array หาตัวอักษรได้"
      ],
      "execution_count": 31,
      "outputs": [
        {
          "output_type": "execute_result",
          "data": {
            "application/vnd.google.colaboratory.intrinsic+json": {
              "type": "string"
            },
            "text/plain": [
              "'s'"
            ]
          },
          "metadata": {
            "tags": []
          },
          "execution_count": 31
        }
      ]
    },
    {
      "cell_type": "code",
      "metadata": {
        "colab": {
          "base_uri": "https://localhost:8080/",
          "height": 35
        },
        "id": "N-4z8tfShptv",
        "outputId": "dc4da49d-3c20-4650-d092-61bf7e0a6ea3"
      },
      "source": [
        "t[9] "
      ],
      "execution_count": 32,
      "outputs": [
        {
          "output_type": "execute_result",
          "data": {
            "application/vnd.google.colaboratory.intrinsic+json": {
              "type": "string"
            },
            "text/plain": [
              "' '"
            ]
          },
          "metadata": {
            "tags": []
          },
          "execution_count": 32
        }
      ]
    },
    {
      "cell_type": "markdown",
      "metadata": {
        "id": "elu4qJZHhtIi"
      },
      "source": [
        "# จบ 5 มค 64"
      ]
    }
  ]
}