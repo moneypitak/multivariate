{
  "nbformat": 4,
  "nbformat_minor": 0,
  "metadata": {
    "colab": {
      "name": "python101.ipynb",
      "provenance": [],
      "authorship_tag": "ABX9TyORJNEF7DTXgjl+6kf4es5k",
      "include_colab_link": true
    },
    "kernelspec": {
      "name": "python3",
      "display_name": "Python 3"
    }
  },
  "cells": [
    {
      "cell_type": "markdown",
      "metadata": {
        "id": "view-in-github",
        "colab_type": "text"
      },
      "source": [
        "<a href=\"https://colab.research.google.com/github/moneypitak/multivariate/blob/main/python101.ipynb\" target=\"_parent\"><img src=\"https://colab.research.google.com/assets/colab-badge.svg\" alt=\"Open In Colab\"/></a>"
      ]
    },
    {
      "cell_type": "markdown",
      "metadata": {
        "id": "EokOzCrfIe9U"
      },
      "source": [
        "หลักการตั้งชื่อตัวแปรเบื้องต้น\r\n",
        "\r\n",
        "1.ตั้งให้สื่อ\r\n",
        "\r\n",
        "2.ภาษาอังกฤษ \r\n",
        "\r\n",
        "3.ใช้ตัวเลขได้แต่ห้ามขึ้นต้นด้วยตัวเลข \r\n",
        "\r\n",
        "4.ห้ามเว้นวรรค \r\n",
        "\r\n",
        "5.ตัวเล็กกับตัวใหญ่ไม่เหมือนกัน "
      ]
    },
    {
      "cell_type": "markdown",
      "metadata": {
        "id": "o2DsMVyvLnJS"
      },
      "source": [
        "ตัวแปร  variable\r\n"
      ]
    },
    {
      "cell_type": "code",
      "metadata": {
        "colab": {
          "base_uri": "https://localhost:8080/"
        },
        "id": "PVbtkzkkMnNI",
        "outputId": "e85a0033-cc4a-4408-e051-96aa88ca618c"
      },
      "source": [
        "3.14159 # hashtag หรือ sharp # คือ comment  >>> อันนี้คือ output ที่ออกหน้าจอ"
      ],
      "execution_count": 43,
      "outputs": [
        {
          "output_type": "execute_result",
          "data": {
            "text/plain": [
              "3.14159"
            ]
          },
          "metadata": {
            "tags": []
          },
          "execution_count": 43
        }
      ]
    },
    {
      "cell_type": "code",
      "metadata": {
        "id": "Jhs0hz-ZLTdl"
      },
      "source": [
        "Pi = 3.14159 #อันนี้คือการแสดงผลoutputที่เข้าไปอยู่ในตัวแปร\r\n"
      ],
      "execution_count": 44,
      "outputs": []
    },
    {
      "cell_type": "code",
      "metadata": {
        "colab": {
          "base_uri": "https://localhost:8080/"
        },
        "id": "_wMaUXe4M7dO",
        "outputId": "718946af-a67b-4d9d-c9df-2769ee728754"
      },
      "source": [
        "Pi"
      ],
      "execution_count": 45,
      "outputs": [
        {
          "output_type": "execute_result",
          "data": {
            "text/plain": [
              "3.14159"
            ]
          },
          "metadata": {
            "tags": []
          },
          "execution_count": 45
        }
      ]
    },
    {
      "cell_type": "markdown",
      "metadata": {
        "id": "zpIDe5a3ZOh0"
      },
      "source": [
        "#ตัวแปรมี 3 ชนิดได้แก่\r\n",
        "integer,int หรือ charหรือstring และ float\r\n"
      ]
    },
    {
      "cell_type": "markdown",
      "metadata": {
        "id": "0xqA6Bokar3M"
      },
      "source": [
        "### ตัวแปรจำนวนเต็ม(int)"
      ]
    },
    {
      "cell_type": "code",
      "metadata": {
        "colab": {
          "base_uri": "https://localhost:8080/"
        },
        "id": "miu6asFuaq1c",
        "outputId": "02230b45-2ca4-46b5-965c-f909384ccb7b"
      },
      "source": [
        "a = 10\r\n",
        "print(a)"
      ],
      "execution_count": 46,
      "outputs": [
        {
          "output_type": "stream",
          "text": [
            "10\n"
          ],
          "name": "stdout"
        }
      ]
    },
    {
      "cell_type": "markdown",
      "metadata": {
        "id": "20tFfPdVbaGs"
      },
      "source": [
        "### ตัวแปรจำนวนจริง(float)"
      ]
    },
    {
      "cell_type": "code",
      "metadata": {
        "colab": {
          "base_uri": "https://localhost:8080/"
        },
        "id": "CiNUxqP0bfA8",
        "outputId": "04f325da-5f27-4a4c-80d7-3b230668a6eb"
      },
      "source": [
        "b = 11\r\n",
        "print(b)"
      ],
      "execution_count": 47,
      "outputs": [
        {
          "output_type": "stream",
          "text": [
            "11\n"
          ],
          "name": "stdout"
        }
      ]
    },
    {
      "cell_type": "markdown",
      "metadata": {
        "id": "e0TxaelBdlG8"
      },
      "source": [
        "### การเปลี่ยนชนิดของตัวแปร variable casting"
      ]
    },
    {
      "cell_type": "code",
      "metadata": {
        "colab": {
          "base_uri": "https://localhost:8080/"
        },
        "id": "dJ9nkN4qc2kh",
        "outputId": "d4c0a095-16cc-4a04-d6d3-78e3b205149e"
      },
      "source": [
        "a=10\r\n",
        "c=555\r\n",
        "a+int(c)"
      ],
      "execution_count": 48,
      "outputs": [
        {
          "output_type": "execute_result",
          "data": {
            "text/plain": [
              "565"
            ]
          },
          "metadata": {
            "tags": []
          },
          "execution_count": 48
        }
      ]
    },
    {
      "cell_type": "markdown",
      "metadata": {
        "id": "dey8f1nGbtbK"
      },
      "source": [
        "การเปลี่ยนชนิดของตัวแปร(char or string text)\r\n",
        "\r\n"
      ]
    },
    {
      "cell_type": "code",
      "metadata": {
        "colab": {
          "base_uri": "https://localhost:8080/"
        },
        "id": "wW4gEz6objt1",
        "outputId": "458035c1-81d7-46ed-b683-7535b9b8b05c"
      },
      "source": [
        "c = '999'   # เราจะใช้single quote ก็ต่อเมื่อ ' (ขีดเดียว) หรือเราจะใช้double quote ก็ต่อเมื่อ \"(2ขีดหรือดับเบิ้ล)ล้อมรอบตัวหนังสือเพื่อระบุว่าเป็น char-string\r\n",
        "print(c)"
      ],
      "execution_count": 49,
      "outputs": [
        {
          "output_type": "stream",
          "text": [
            "999\n"
          ],
          "name": "stdout"
        }
      ]
    },
    {
      "cell_type": "code",
      "metadata": {
        "colab": {
          "base_uri": "https://localhost:8080/"
        },
        "id": "AYh8LP_bceq1",
        "outputId": "8a887401-945a-4905-82ef-cdc4d3f19865"
      },
      "source": [
        "a+b #ก็คือการนำตัว float+int= float หรือเรียกว่าจำนวนเต็ม"
      ],
      "execution_count": 50,
      "outputs": [
        {
          "output_type": "execute_result",
          "data": {
            "text/plain": [
              "21"
            ]
          },
          "metadata": {
            "tags": []
          },
          "execution_count": 50
        }
      ]
    },
    {
      "cell_type": "code",
      "metadata": {
        "colab": {
          "base_uri": "https://localhost:8080/"
        },
        "id": "uxs68uvKdSjb",
        "outputId": "6ccfcec0-9c50-4b6e-f7c1-8d590a8aa1ac"
      },
      "source": [
        "d = 'Money' # text\r\n",
        "print(d)"
      ],
      "execution_count": 51,
      "outputs": [
        {
          "output_type": "stream",
          "text": [
            "Money\n"
          ],
          "name": "stdout"
        }
      ]
    },
    {
      "cell_type": "markdown",
      "metadata": {
        "id": "lwKyuR-Sd067"
      },
      "source": [
        "### Operation (เครื่องหมาย +,-,*,/,%)  \r\n",
        "#### เครื่องหมาย % คือ modulo การหารเอาเศษ"
      ]
    },
    {
      "cell_type": "code",
      "metadata": {
        "colab": {
          "base_uri": "https://localhost:8080/"
        },
        "id": "I6OAf7hzd2Gy",
        "outputId": "41a8a3d7-2ff5-497f-bbfd-2f65a8dbeb0e"
      },
      "source": [
        "7%3"
      ],
      "execution_count": 52,
      "outputs": [
        {
          "output_type": "execute_result",
          "data": {
            "text/plain": [
              "1"
            ]
          },
          "metadata": {
            "tags": []
          },
          "execution_count": 52
        }
      ]
    },
    {
      "cell_type": "code",
      "metadata": {
        "colab": {
          "base_uri": "https://localhost:8080/"
        },
        "id": "mIhwbfTPePo1",
        "outputId": "e93d579c-2e4d-466f-b047-d369e934749e"
      },
      "source": [
        "a/b"
      ],
      "execution_count": 53,
      "outputs": [
        {
          "output_type": "execute_result",
          "data": {
            "text/plain": [
              "0.9090909090909091"
            ]
          },
          "metadata": {
            "tags": []
          },
          "execution_count": 53
        }
      ]
    },
    {
      "cell_type": "code",
      "metadata": {
        "colab": {
          "base_uri": "https://localhost:8080/",
          "height": 0
        },
        "id": "Dk3GGbHSeWrk",
        "outputId": "6efb3de8-7aa7-4b06-c716-a5c8b8be9a89"
      },
      "source": [
        "a*c"
      ],
      "execution_count": 54,
      "outputs": [
        {
          "output_type": "execute_result",
          "data": {
            "application/vnd.google.colaboratory.intrinsic+json": {
              "type": "string"
            },
            "text/plain": [
              "'999999999999999999999999999999'"
            ]
          },
          "metadata": {
            "tags": []
          },
          "execution_count": 54
        }
      ]
    },
    {
      "cell_type": "code",
      "metadata": {
        "colab": {
          "base_uri": "https://localhost:8080/"
        },
        "id": "Yd33z34meXao",
        "outputId": "1cd96bb1-5c7a-4b53-f762-96d0d7e8d13d"
      },
      "source": [
        "a+b"
      ],
      "execution_count": 55,
      "outputs": [
        {
          "output_type": "execute_result",
          "data": {
            "text/plain": [
              "21"
            ]
          },
          "metadata": {
            "tags": []
          },
          "execution_count": 55
        }
      ]
    },
    {
      "cell_type": "markdown",
      "metadata": {
        "id": "nHj-8d5NejqS"
      },
      "source": [
        "### หลักการใช้ print และใช้ {} ใส่ code\r\n",
        "#### การเพิ่ม f ไว้หน้า 'string'\r\n",
        "#### \\n คือการตัดบรรทัด ส่วน \\n\\ คือการใช้ตัดโค้ดขึ้นบรรทัดใหม่"
      ]
    },
    {
      "cell_type": "code",
      "metadata": {
        "colab": {
          "base_uri": "https://localhost:8080/"
        },
        "id": "gDfz4qwmee66",
        "outputId": "a0e9dce7-fa66-479d-b1b5-df045476c8d0"
      },
      "source": [
        "print(f'% คือการหารเอาเศษ เช่น 7%3 = {7%3} \\\r\n",
        "    แต่\\n/ คือการหารปกติ เช่น 7/3 = {7/3}  \\\r\n",
        "    และ\\n// คือการหารเอาส่วน เช่น 7//3 = {7//3} \\\r\n",
        "    หรือ\\nใช้ int() เพื่อหารเอาส่วน เช่น int(7/3) = {int(7/3)}') # \\n คือการขึ้นบรรทัดใหม่ \\ ใช้ในการตัด code แต่ com จะไม่เห็"
      ],
      "execution_count": 56,
      "outputs": [
        {
          "output_type": "stream",
          "text": [
            "% คือการหารเอาเศษ เช่น 7%3 = 1     แต่\n",
            "/ คือการหารปกติ เช่น 7/3 = 2.3333333333333335      และ\n",
            "// คือการหารเอาส่วน เช่น 7//3 = 2     หรือ\n",
            "ใช้ int() เพื่อหารเอาส่วน เช่น int(7/3) = 2\n"
          ],
          "name": "stdout"
        }
      ]
    },
    {
      "cell_type": "markdown",
      "metadata": {
        "id": "ZiUKUsV1flYr"
      },
      "source": [
        "###โครงสร้างข้อมูล(DATA STRUCTURE)\r\n",
        "####ทั้งหมด 2 แบบคือ square brackets และ ลำดับที่อยู่ใน listมีความสำคัญ (ลำดับใน list เริ่มจาก 0,1,2,...)\r\n"
      ]
    },
    {
      "cell_type": "code",
      "metadata": {
        "colab": {
          "base_uri": "https://localhost:8080/"
        },
        "id": "cetXBVU4flC7",
        "outputId": "c13063ec-ab0c-4367-f069-d4ebc26107ca"
      },
      "source": [
        "list_a = []\r\n",
        "print(list_a)"
      ],
      "execution_count": 57,
      "outputs": [
        {
          "output_type": "stream",
          "text": [
            "[]\n"
          ],
          "name": "stdout"
        }
      ]
    },
    {
      "cell_type": "code",
      "metadata": {
        "colab": {
          "base_uri": "https://localhost:8080/"
        },
        "id": "FopqxsNigf0V",
        "outputId": "852fa9a4-355f-44a4-a30f-56052d0f2ccd"
      },
      "source": [
        "list_b = [1,'อิอิ',2,'ดีจ้า']    # เพิ่มตัวแปร ใน array\r\n",
        "print(list_b)"
      ],
      "execution_count": 58,
      "outputs": [
        {
          "output_type": "stream",
          "text": [
            "[1, 'อิอิ', 2, 'ดีจ้า']\n"
          ],
          "name": "stdout"
        }
      ]
    },
    {
      "cell_type": "code",
      "metadata": {
        "colab": {
          "base_uri": "https://localhost:8080/",
          "height": 0
        },
        "id": "QKRR4evRggYS",
        "outputId": "ca36b685-4202-45a8-9a6d-c83a0ae5dda7"
      },
      "source": [
        "list_b [1]     # เลือก ตัวแปร ใน array"
      ],
      "execution_count": 59,
      "outputs": [
        {
          "output_type": "execute_result",
          "data": {
            "application/vnd.google.colaboratory.intrinsic+json": {
              "type": "string"
            },
            "text/plain": [
              "'อิอิ'"
            ]
          },
          "metadata": {
            "tags": []
          },
          "execution_count": 59
        }
      ]
    },
    {
      "cell_type": "markdown",
      "metadata": {
        "id": "y50pAzT7g6XD"
      },
      "source": [
        "###.append คือการเพิ่มสมาชิก ใน list\r\n"
      ]
    },
    {
      "cell_type": "code",
      "metadata": {
        "colab": {
          "base_uri": "https://localhost:8080/"
        },
        "id": "7ReXpPurg5aM",
        "outputId": "8e4a7901-97ad-4b1b-ca6e-28fd2313c8aa"
      },
      "source": [
        "list_b.append('e')\r\n",
        "print(list_b)       # 0 คือ ตัวแรก  -1  คือ ตัวสุดท้าย"
      ],
      "execution_count": 60,
      "outputs": [
        {
          "output_type": "stream",
          "text": [
            "[1, 'อิอิ', 2, 'ดีจ้า', 'e']\n"
          ],
          "name": "stdout"
        }
      ]
    },
    {
      "cell_type": "markdown",
      "metadata": {
        "id": "IdWWQmwAhYFK"
      },
      "source": [
        "### String > list of characters"
      ]
    },
    {
      "cell_type": "code",
      "metadata": {
        "id": "0eHXl_WkhZr_"
      },
      "source": [
        "t = 'python is easy'   #  ตัวแปร"
      ],
      "execution_count": 61,
      "outputs": []
    },
    {
      "cell_type": "code",
      "metadata": {
        "colab": {
          "base_uri": "https://localhost:8080/",
          "height": 0
        },
        "id": "7n8rXUmfheYS",
        "outputId": "590cde19-d5f6-4968-a0e7-efc29b340e1d"
      },
      "source": [
        "t[-2] # string สามารถใช้ array หาตัวอักษรได้"
      ],
      "execution_count": 62,
      "outputs": [
        {
          "output_type": "execute_result",
          "data": {
            "application/vnd.google.colaboratory.intrinsic+json": {
              "type": "string"
            },
            "text/plain": [
              "'s'"
            ]
          },
          "metadata": {
            "tags": []
          },
          "execution_count": 62
        }
      ]
    },
    {
      "cell_type": "code",
      "metadata": {
        "colab": {
          "base_uri": "https://localhost:8080/",
          "height": 0
        },
        "id": "N-4z8tfShptv",
        "outputId": "9156f8fe-70b4-406a-c089-a9843c20f49b"
      },
      "source": [
        "t[9] "
      ],
      "execution_count": 63,
      "outputs": [
        {
          "output_type": "execute_result",
          "data": {
            "application/vnd.google.colaboratory.intrinsic+json": {
              "type": "string"
            },
            "text/plain": [
              "' '"
            ]
          },
          "metadata": {
            "tags": []
          },
          "execution_count": 63
        }
      ]
    },
    {
      "cell_type": "markdown",
      "metadata": {
        "id": "elu4qJZHhtIi"
      },
      "source": [
        "# จบ 5 มค 64"
      ]
    },
    {
      "cell_type": "markdown",
      "metadata": {
        "id": "2D4Y028rhhXv"
      },
      "source": [
        "#คาบ 3 11 มค 2021"
      ]
    },
    {
      "cell_type": "code",
      "metadata": {
        "colab": {
          "base_uri": "https://localhost:8080/"
        },
        "id": "ZIdJZ6U6ia4p",
        "outputId": "51a190ae-80e3-42db-891f-28039affd83d"
      },
      "source": [
        "len(t)"
      ],
      "execution_count": 64,
      "outputs": [
        {
          "output_type": "execute_result",
          "data": {
            "text/plain": [
              "14"
            ]
          },
          "metadata": {
            "tags": []
          },
          "execution_count": 64
        }
      ]
    },
    {
      "cell_type": "code",
      "metadata": {
        "colab": {
          "base_uri": "https://localhost:8080/"
        },
        "id": "Acwli5uck9SS",
        "outputId": "f4f0581d-e691-40ae-c944-f989405576e7"
      },
      "source": [
        "list_b"
      ],
      "execution_count": 65,
      "outputs": [
        {
          "output_type": "execute_result",
          "data": {
            "text/plain": [
              "[1, 'อิอิ', 2, 'ดีจ้า', 'e']"
            ]
          },
          "metadata": {
            "tags": []
          },
          "execution_count": 65
        }
      ]
    },
    {
      "cell_type": "code",
      "metadata": {
        "colab": {
          "base_uri": "https://localhost:8080/"
        },
        "id": "TGSZ05BSk_fL",
        "outputId": "b2002220-a773-400a-a167-daffc9baee99"
      },
      "source": [
        "len(list_b) # len คือ คำสั่งตรวจสอบความยาวของจำนวนสมาชิก เช่น 1 อิอิ 2 ดีจ้า e มีทั้งหมด 5 ตัว พอ run ออกมาก็จะได้ 5"
      ],
      "execution_count": 66,
      "outputs": [
        {
          "output_type": "execute_result",
          "data": {
            "text/plain": [
              "5"
            ]
          },
          "metadata": {
            "tags": []
          },
          "execution_count": 66
        }
      ]
    },
    {
      "cell_type": "code",
      "metadata": {
        "colab": {
          "base_uri": "https://localhost:8080/"
        },
        "id": "_Zd7LnS7lROX",
        "outputId": "3dcb20ab-bc76-41f8-dfc9-a1984d017502"
      },
      "source": [
        "list_b.append(t)\r\n",
        "print(list_b)"
      ],
      "execution_count": 67,
      "outputs": [
        {
          "output_type": "stream",
          "text": [
            "[1, 'อิอิ', 2, 'ดีจ้า', 'e', 'python is easy']\n"
          ],
          "name": "stdout"
        }
      ]
    },
    {
      "cell_type": "markdown",
      "metadata": {
        "id": "qWmytzowltyZ"
      },
      "source": [
        "# ตัวที่อยู่ข้างใน [] เราเรียกว่า index (ตัวชี้)"
      ]
    },
    {
      "cell_type": "code",
      "metadata": {
        "colab": {
          "base_uri": "https://localhost:8080/"
        },
        "id": "6x10-_Khlagr",
        "outputId": "e01600a2-20da-4b93-9d56-43edd8baf836"
      },
      "source": [
        "print(t)\r\n",
        "print(t[3:5]) #ชี้ว่าตัดตัวที่เท่าไหร่ หน้า : คือจุดเริ่มต้นหลัง : คือจุดสิ้นสุด เช่น 3:5 หรือ\r\n",
        "print(len(t[3:5])) #เอามาแค่สมาชิก 2 ตัว"
      ],
      "execution_count": 68,
      "outputs": [
        {
          "output_type": "stream",
          "text": [
            "python is easy\n",
            "ho\n",
            "2\n"
          ],
          "name": "stdout"
        }
      ]
    },
    {
      "cell_type": "code",
      "metadata": {
        "colab": {
          "base_uri": "https://localhost:8080/",
          "height": 35
        },
        "id": "UGIB-2N7l_99",
        "outputId": "b0c0f5dc-3d0c-47e5-ed37-4e4a7604bd08"
      },
      "source": [
        "t[0:14:2] #ถ้าเกิดเพิ่ม : อีกตัวเวลาเราเลือกถ้าเพิ่มเราเลือกได้ว่าเพิ่มหรือกระโดด"
      ],
      "execution_count": 69,
      "outputs": [
        {
          "output_type": "execute_result",
          "data": {
            "application/vnd.google.colaboratory.intrinsic+json": {
              "type": "string"
            },
            "text/plain": [
              "'pto ses'"
            ]
          },
          "metadata": {
            "tags": []
          },
          "execution_count": 69
        }
      ]
    },
    {
      "cell_type": "code",
      "metadata": {
        "id": "b7-KQz2MoJzp"
      },
      "source": [
        "z = [1,2,3,4,5,6,7,8,9,10]"
      ],
      "execution_count": 70,
      "outputs": []
    },
    {
      "cell_type": "code",
      "metadata": {
        "colab": {
          "base_uri": "https://localhost:8080/"
        },
        "id": "n0063YO6oNVe",
        "outputId": "ccfa4ffb-d621-40e2-8666-3674229ab195"
      },
      "source": [
        "z[1:10:2]"
      ],
      "execution_count": 71,
      "outputs": [
        {
          "output_type": "execute_result",
          "data": {
            "text/plain": [
              "[2, 4, 6, 8, 10]"
            ]
          },
          "metadata": {
            "tags": []
          },
          "execution_count": 71
        }
      ]
    },
    {
      "cell_type": "markdown",
      "metadata": {
        "id": "SSP2NZdpoZoq"
      },
      "source": [
        "### **quiz**\r\n",
        "ให้ใช้ list slicing เลือกมาเฉพาะเลขคู่"
      ]
    },
    {
      "cell_type": "code",
      "metadata": {
        "colab": {
          "base_uri": "https://localhost:8080/"
        },
        "id": "HFq-rAXeo_ez",
        "outputId": "f0aa0653-2837-4d63-e653-81cbd1741aa7"
      },
      "source": [
        "z[1:10:2] #หรือใช้ print(z[1:10:2])"
      ],
      "execution_count": 72,
      "outputs": [
        {
          "output_type": "execute_result",
          "data": {
            "text/plain": [
              "[2, 4, 6, 8, 10]"
            ]
          },
          "metadata": {
            "tags": []
          },
          "execution_count": 72
        }
      ]
    },
    {
      "cell_type": "markdown",
      "metadata": {
        "id": "oGTVx67xpPpG"
      },
      "source": [
        "ถ้าเว้นว่างหน้า : หมายความว่า เริ่มตั้งแต่ตัวแรก(0)\r\n",
        "\r\n",
        "ถ้าเว้นว่างหลัง : หมายความว่า ไปจนถึงตัวสุดท้าย(len(list))"
      ]
    },
    {
      "cell_type": "code",
      "metadata": {
        "colab": {
          "base_uri": "https://localhost:8080/"
        },
        "id": "b5gfNyfQpqRN",
        "outputId": "78210caf-a3a7-48fc-9377-42a25246f2cb"
      },
      "source": [
        "print(t)\r\n",
        "print(t[:6]) # เอาตั้งแต่ 0 ถึง 6 ตัว\r\n",
        "print(t[10:]) # เอาตั้งแต่ตัวแรก ถึง ตัวสุดท้าย\r\n",
        "print(t[-4:])\r\n",
        "print(t[:])"
      ],
      "execution_count": 73,
      "outputs": [
        {
          "output_type": "stream",
          "text": [
            "python is easy\n",
            "python\n",
            "easy\n",
            "easy\n",
            "python is easy\n"
          ],
          "name": "stdout"
        }
      ]
    },
    {
      "cell_type": "code",
      "metadata": {
        "colab": {
          "base_uri": "https://localhost:8080/"
        },
        "id": "eAUOayU-p6nS",
        "outputId": "50c99dec-fe0e-4cbd-9927-0393451448e6"
      },
      "source": [
        "list(z[::2]) # เอาทุกตัวแต่ข้ามไป 2 ตัว ถ้าอยาก 4 ตัวก็แทน 4 ลงไป เช่น list(z[::4])"
      ],
      "execution_count": 74,
      "outputs": [
        {
          "output_type": "execute_result",
          "data": {
            "text/plain": [
              "[1, 3, 5, 7, 9]"
            ]
          },
          "metadata": {
            "tags": []
          },
          "execution_count": 74
        }
      ]
    },
    {
      "cell_type": "markdown",
      "metadata": {
        "id": "WDv7Oq0jp8jI"
      },
      "source": [
        "เราสามารถเอา list มาต่อกันได้ด้วย + "
      ]
    },
    {
      "cell_type": "code",
      "metadata": {
        "colab": {
          "base_uri": "https://localhost:8080/",
          "height": 35
        },
        "id": "z7ZJn95ir1z7",
        "outputId": "a6beb6c8-2577-4193-eaf6-252c094519ef"
      },
      "source": [
        "t +'??' #เช่น t + สวัสดีครับ หรือ t + Moeny"
      ],
      "execution_count": 75,
      "outputs": [
        {
          "output_type": "execute_result",
          "data": {
            "application/vnd.google.colaboratory.intrinsic+json": {
              "type": "string"
            },
            "text/plain": [
              "'python is easy??'"
            ]
          },
          "metadata": {
            "tags": []
          },
          "execution_count": 75
        }
      ]
    },
    {
      "cell_type": "code",
      "metadata": {
        "id": "pclwBzwlr5eU"
      },
      "source": [
        "# t+list_b ## ไม่สามารถเอา list ปกติมาต่อกับ string ได้ ถ้าเรา Run จะได้ error"
      ],
      "execution_count": 76,
      "outputs": []
    },
    {
      "cell_type": "code",
      "metadata": {
        "colab": {
          "base_uri": "https://localhost:8080/"
        },
        "id": "BcUpEGZ-sKJs",
        "outputId": "97ec07d1-9e5d-4ae1-e245-37e29ccb6a60"
      },
      "source": [
        "print(list_a)\r\n",
        "print(list_b)\r\n",
        "print(list_b+list_a) # list_a คือ list ว่าง ถ้าเราอยากให้ list_a ไม่ว่างเราก็เพิ่มตัวแปรในก่อนหน้าให้มี list_a[] อยู่ใน code เช่น list_a = [สวัสดีครับ,hello]"
      ],
      "execution_count": 77,
      "outputs": [
        {
          "output_type": "stream",
          "text": [
            "[]\n",
            "[1, 'อิอิ', 2, 'ดีจ้า', 'e', 'python is easy']\n",
            "[1, 'อิอิ', 2, 'ดีจ้า', 'e', 'python is easy']\n"
          ],
          "name": "stdout"
        }
      ]
    },
    {
      "cell_type": "code",
      "metadata": {
        "colab": {
          "base_uri": "https://localhost:8080/"
        },
        "id": "E0LLpFl4s7Yn",
        "outputId": "2e6a02b1-0262-4109-eae5-a9dc2bdc90b7"
      },
      "source": [
        "list_b.append(list_a) # คือการเอาสมาชิกมารวมกัน ทำไม list_a คือ [] เพราะว่าเราเพิ่มโค้ด list_a ในบรรทัดที่16 ว่า list_a[] print(list_a)\r\n",
        "print(list_b) # "
      ],
      "execution_count": 78,
      "outputs": [
        {
          "output_type": "stream",
          "text": [
            "[1, 'อิอิ', 2, 'ดีจ้า', 'e', 'python is easy', []]\n"
          ],
          "name": "stdout"
        }
      ]
    },
    {
      "cell_type": "markdown",
      "metadata": {
        "id": "OEIBn-lZtuvY"
      },
      "source": [
        "การแบ่ง string ตามสัญลักษณ์ที่กำหนด -> split string"
      ]
    },
    {
      "cell_type": "code",
      "metadata": {
        "colab": {
          "base_uri": "https://localhost:8080/",
          "height": 35
        },
        "id": "kwVyrjVKt8gc",
        "outputId": "f60e237b-5a6c-4cd3-e163-71c6bbe2f9c1"
      },
      "source": [
        "t "
      ],
      "execution_count": 79,
      "outputs": [
        {
          "output_type": "execute_result",
          "data": {
            "application/vnd.google.colaboratory.intrinsic+json": {
              "type": "string"
            },
            "text/plain": [
              "'python is easy'"
            ]
          },
          "metadata": {
            "tags": []
          },
          "execution_count": 79
        }
      ]
    },
    {
      "cell_type": "code",
      "metadata": {
        "colab": {
          "base_uri": "https://localhost:8080/"
        },
        "id": "ouLImnyBtLwa",
        "outputId": "63eb6b37-37f0-41bf-f19b-f65ff1f62c90"
      },
      "source": [
        "t.split(' ') #คำสั่ง split คือ สามารถแบ่งตัว text ได้ เราสามารถแบ่ง text ด้วย สัญลักษณ์อะไรก็ได้ split จะไปหาช่องว่างแล้วก็จะแบ่งข้อความตาม text นั้นๆ"
      ],
      "execution_count": 80,
      "outputs": [
        {
          "output_type": "execute_result",
          "data": {
            "text/plain": [
              "['python', 'is', 'easy']"
            ]
          },
          "metadata": {
            "tags": []
          },
          "execution_count": 80
        }
      ]
    },
    {
      "cell_type": "code",
      "metadata": {
        "id": "iw3tTxb9t4uw"
      },
      "source": [
        "time = '10:11:12'"
      ],
      "execution_count": 81,
      "outputs": []
    },
    {
      "cell_type": "code",
      "metadata": {
        "colab": {
          "base_uri": "https://localhost:8080/"
        },
        "id": "aRZ6206OuujC",
        "outputId": "9e425f03-15d3-45ce-cf00-60fa4688fe2c"
      },
      "source": [
        "time.split(':') # t_sp = t.split"
      ],
      "execution_count": 82,
      "outputs": [
        {
          "output_type": "execute_result",
          "data": {
            "text/plain": [
              "['10', '11', '12']"
            ]
          },
          "metadata": {
            "tags": []
          },
          "execution_count": 82
        }
      ]
    },
    {
      "cell_type": "code",
      "metadata": {
        "colab": {
          "base_uri": "https://localhost:8080/"
        },
        "id": "M-X-XqFIvwOR",
        "outputId": "9df4c29a-e4f9-4fbc-c5ab-37a5004d458d"
      },
      "source": [
        "t_sp = time.split(' ')\r\n",
        "print(t_sp)"
      ],
      "execution_count": 83,
      "outputs": [
        {
          "output_type": "stream",
          "text": [
            "['10:11:12']\n"
          ],
          "name": "stdout"
        }
      ]
    },
    {
      "cell_type": "code",
      "metadata": {
        "colab": {
          "base_uri": "https://localhost:8080/"
        },
        "id": "xtjtB4ntyHwo",
        "outputId": "06aef107-4ee6-4d04-bb97-be319455df23"
      },
      "source": [
        "## วิธีรวมกลับ\r\n",
        "print(':'.join(t_sp))"
      ],
      "execution_count": 84,
      "outputs": [
        {
          "output_type": "stream",
          "text": [
            "10:11:12\n"
          ],
          "name": "stdout"
        }
      ]
    },
    {
      "cell_type": "markdown",
      "metadata": {
        "id": "GfvBoFzTyh5o"
      },
      "source": [
        "**HW คำนวนเวลาเป็นวินาทีของเวลาต่อไปนี้โดยใช้คำสั่ง split()ช่วย(printออกมาให้สวยงาม)**\r\n",
        "\r\n",
        "12:30:15\r\n",
        "\r\n",
        "13:41:07\r\n",
        "\r\n",
        "12:53:15\r\n",
        "\r\n",
        "00:59:25\r\n",
        "\r\n",
        "11:11:11\r\n",
        "\r\n",
        "16:06:09\r\n",
        "\r\n",
        "21:12:30\r\n",
        "\r\n",
        "10:06:15\r\n",
        "\r\n",
        "ตัวอย่าง > 00:01:10 = 70 วินาที"
      ]
    },
    {
      "cell_type": "code",
      "metadata": {
        "id": "SVxKnEkUyw8r",
        "colab": {
          "base_uri": "https://localhost:8080/"
        },
        "outputId": "c7e0a2e0-e37e-4f2c-f3ca-8a0a142358e1"
      },
      "source": [
        "q1 = '12:30:15'\r\n",
        "q1.split(':')\r\n",
        "list_q1 = [12,30,15]\r\n",
        "h = list_q1[0]*3600\r\n",
        "m = list_q1[1]*60\r\n",
        "s = list_q1[2]\r\n",
        "total1 = h+m+s # แปลงเวลาทั้งหมดเป็นวินาที\r\n",
        "print(total1)"
      ],
      "execution_count": 85,
      "outputs": [
        {
          "output_type": "stream",
          "text": [
            "45015\n"
          ],
          "name": "stdout"
        }
      ]
    },
    {
      "cell_type": "code",
      "metadata": {
        "colab": {
          "base_uri": "https://localhost:8080/"
        },
        "id": "6UxldkCTeNbx",
        "outputId": "0457c847-7861-41f6-ad3d-97f71c153d6d"
      },
      "source": [
        "q2 = '13:41:07'\r\n",
        "q2.split(':')\r\n",
        "list_q2 = [13,41,7]\r\n",
        "h = list_q2[0]*3600\r\n",
        "m = list_q2[1]*60\r\n",
        "s = list_q2[2]\r\n",
        "total2 = h+m+s # แปลงเวลาทั้งหมดเป็นวินาที\r\n",
        "print(total2)"
      ],
      "execution_count": 86,
      "outputs": [
        {
          "output_type": "stream",
          "text": [
            "49267\n"
          ],
          "name": "stdout"
        }
      ]
    },
    {
      "cell_type": "code",
      "metadata": {
        "colab": {
          "base_uri": "https://localhost:8080/"
        },
        "id": "sYNbcRqberJh",
        "outputId": "f9f2af3c-4eb9-41f6-dc1f-959cb93259a9"
      },
      "source": [
        "q3 = '12:53:15'\r\n",
        "q3.split(':')\r\n",
        "list_q3 = [13,41,7]\r\n",
        "h = list_q3[0]*3600\r\n",
        "m = list_q3[1]*60\r\n",
        "s = list_q3[2]\r\n",
        "total3 = h+m+s # แปลงเวลาทั้งหมดเป็นวินาที\r\n",
        "print(total3)"
      ],
      "execution_count": 87,
      "outputs": [
        {
          "output_type": "stream",
          "text": [
            "49267\n"
          ],
          "name": "stdout"
        }
      ]
    },
    {
      "cell_type": "code",
      "metadata": {
        "colab": {
          "base_uri": "https://localhost:8080/"
        },
        "id": "2WgyFtcWfDwh",
        "outputId": "c0f55809-e384-4c83-c7c4-f34ff0790c24"
      },
      "source": [
        "q4 = '00:59:25'\r\n",
        "q4.split(':')\r\n",
        "list_q4 = [00,59,25]\r\n",
        "h = list_q4[0]*3600\r\n",
        "m = list_q4[1]*60\r\n",
        "s = list_q4[2]\r\n",
        "total4 = h+m+s # แปลงเวลาทั้งหมดเป็นวินาที\r\n",
        "print(total4)"
      ],
      "execution_count": 88,
      "outputs": [
        {
          "output_type": "stream",
          "text": [
            "3565\n"
          ],
          "name": "stdout"
        }
      ]
    },
    {
      "cell_type": "code",
      "metadata": {
        "colab": {
          "base_uri": "https://localhost:8080/"
        },
        "id": "G-jYQ2LifqBr",
        "outputId": "161657a2-9b24-4533-9599-4b0b7decf00f"
      },
      "source": [
        "q5 = '11:11:11'\r\n",
        "q5.split(':')\r\n",
        "list_q5 = [11,11,11]\r\n",
        "h = list_q5[0]*3600\r\n",
        "m = list_q5[1]*60\r\n",
        "s = list_q5[2]\r\n",
        "total5 = h+m+s # แปลงเวลาทั้งหมดเป็นวินาที\r\n",
        "print(total5)"
      ],
      "execution_count": 89,
      "outputs": [
        {
          "output_type": "stream",
          "text": [
            "40271\n"
          ],
          "name": "stdout"
        }
      ]
    },
    {
      "cell_type": "code",
      "metadata": {
        "colab": {
          "base_uri": "https://localhost:8080/"
        },
        "id": "XkaN5UxIgU2J",
        "outputId": "47a11304-dc7b-49e9-bb71-ebd13cd3707c"
      },
      "source": [
        "q6 = '16:06:09'\r\n",
        "q6.split(':')\r\n",
        "list_q6 = [16,6,9]\r\n",
        "h = list_q6[0]*3600\r\n",
        "m = list_q6[1]*60\r\n",
        "s = list_q6[2]\r\n",
        "total6 = h+m+s # แปลงเวลาทั้งหมดเป็นวินาที\r\n",
        "print(total6)"
      ],
      "execution_count": 94,
      "outputs": [
        {
          "output_type": "stream",
          "text": [
            "57969\n"
          ],
          "name": "stdout"
        }
      ]
    },
    {
      "cell_type": "code",
      "metadata": {
        "colab": {
          "base_uri": "https://localhost:8080/"
        },
        "id": "ymg5HJeGgdFu",
        "outputId": "766b7988-42f4-4855-fe59-e7190b9c38da"
      },
      "source": [
        "q7 = '21:12:30'\r\n",
        "q7.split(':')\r\n",
        "list_q7 = [21,12,30]\r\n",
        "h = list_q7[0]*3600\r\n",
        "m = list_q7[1]*60\r\n",
        "s = list_q7[2]\r\n",
        "total7 = h+m+s # แปลงเวลาทั้งหมดเป็นวินาที\r\n",
        "print(total7)"
      ],
      "execution_count": 91,
      "outputs": [
        {
          "output_type": "stream",
          "text": [
            "76350\n"
          ],
          "name": "stdout"
        }
      ]
    },
    {
      "cell_type": "code",
      "metadata": {
        "colab": {
          "base_uri": "https://localhost:8080/"
        },
        "id": "s7xxfKnNgqnY",
        "outputId": "3596b4be-bb0f-4d64-8f74-d571d260a738"
      },
      "source": [
        "q8 = '10:06:15'\r\n",
        "q8.split(':')\r\n",
        "list_q8 = [10,6,30]\r\n",
        "h = list_q8[0]*3600\r\n",
        "m = list_q8[1]*60\r\n",
        "s = list_q8[2]\r\n",
        "total8 = h+m+s # แปลงเวลาทั้งหมดเป็นวินาที\r\n",
        "print(total8)"
      ],
      "execution_count": 92,
      "outputs": [
        {
          "output_type": "stream",
          "text": [
            "36390\n"
          ],
          "name": "stdout"
        }
      ]
    }
  ]
}